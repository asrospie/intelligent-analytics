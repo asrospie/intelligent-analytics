{
 "cells": [
  {
   "cell_type": "code",
   "execution_count": 1,
   "id": "f3c92c60-39c4-4179-8325-efc490a22f10",
   "metadata": {},
   "outputs": [],
   "source": [
    "from sklearn.preprocessing import OneHotEncoder\n",
    "from sklearn.model_selection import LeaveOneOut\n",
    "from sklearn.metrics import mean_squared_error, mean_absolute_error, r2_score\n",
    "from sklearn.model_selection import RandomizedSearchCV, cross_val_score, KFold\n",
    "from sklearn.preprocessing import MinMaxScaler\n",
    "from sklearn import model_selection\n",
    "from sklearn import metrics\n",
    "from skopt import dump, load\n",
    "from skopt.plots import plot_convergence\n",
    "from scipy.stats import reciprocal\n",
    "import skopt\n",
    "from skopt import gp_minimize\n",
    "import numpy as np\n",
    "import pandas as pd\n",
    "from sklearn import metrics\n",
    "import datetime\n",
    "import re\n",
    "import os\n",
    "import time\n",
    "import seaborn as sns\n",
    "import matplotlib.pyplot as plt\n",
    "from sklearn.svm import SVR"
   ]
  },
  {
   "cell_type": "markdown",
   "id": "c2679973-2908-4245-b8f3-d0548a4225d9",
   "metadata": {},
   "source": [
    "# Load Data from Sources"
   ]
  },
  {
   "cell_type": "code",
   "execution_count": 2,
   "id": "467f1976-39a4-4831-87d5-a6716edfa848",
   "metadata": {},
   "outputs": [],
   "source": [
    "df = pd.read_excel('mlb_team_batting_wp.xlsx')"
   ]
  },
  {
   "cell_type": "code",
   "execution_count": 3,
   "id": "b3d00366-7162-4891-a18d-958a958146e7",
   "metadata": {},
   "outputs": [
    {
     "data": {
      "text/plain": [
       "Index(['Season', 'Team', 'AB', 'PA', 'H', '1B', '2B', '3B', 'HR', 'R', 'RBI',\n",
       "       'BB', 'IBB', 'SO', 'HBP', 'SF', 'SH', 'SB', 'CS', 'AVG', 'W', 'L',\n",
       "       'win_per'],\n",
       "      dtype='object')"
      ]
     },
     "execution_count": 3,
     "metadata": {},
     "output_type": "execute_result"
    }
   ],
   "source": [
    "df.columns"
   ]
  },
  {
   "cell_type": "code",
   "execution_count": 4,
   "id": "2b89bb63-12da-4cae-b81d-35c435457aea",
   "metadata": {},
   "outputs": [
    {
     "data": {
      "text/plain": [
       "(1468, 23)"
      ]
     },
     "execution_count": 4,
     "metadata": {},
     "output_type": "execute_result"
    }
   ],
   "source": [
    "df.shape"
   ]
  },
  {
   "cell_type": "markdown",
   "id": "91760efc-9be6-4d15-ac00-6eb2d035e62e",
   "metadata": {},
   "source": [
    "# Data Pre-Processing\n",
    "\n",
    "The target for this model will be predicting winning percentage using offensive statistics provided by pybaseball. The following pre-processings must be done:\n",
    "- Remove wins and loss column, this is part of the prediction\n",
    "- Remove the average column, batting average is an aggregate statistic and I want to focus on continous values\n",
    "- Removing hits (H) as it is the sum of the different types of hits\n",
    "- Remove runs category, I want to focus on other statistics as Runs is known to be an indicator of wins\n",
    "- Remove RBI for the same reason"
   ]
  },
  {
   "cell_type": "code",
   "execution_count": 5,
   "id": "57370956-1a9f-4805-9ceb-dbe698a49bf2",
   "metadata": {},
   "outputs": [
    {
     "data": {
      "text/plain": [
       "Index(['PA', '1B', '2B', '3B', 'HR', 'BB', 'IBB', 'SO', 'HBP', 'SF', 'SH',\n",
       "       'SB', 'CS', 'win_per'],\n",
       "      dtype='object')"
      ]
     },
     "execution_count": 5,
     "metadata": {},
     "output_type": "execute_result"
    }
   ],
   "source": [
    "mlb_df = df.drop(labels=['Season', 'Team', 'H', 'R', 'RBI', 'AVG', 'W', 'L', 'AB'], axis=1)\n",
    "mlb_df.columns"
   ]
  },
  {
   "cell_type": "code",
   "execution_count": 6,
   "id": "d105b889-bffd-4d44-9ea6-0e7c5a586da8",
   "metadata": {},
   "outputs": [
    {
     "data": {
      "text/plain": [
       "(1468, 14)"
      ]
     },
     "execution_count": 6,
     "metadata": {},
     "output_type": "execute_result"
    }
   ],
   "source": [
    "mlb_df.shape"
   ]
  },
  {
   "cell_type": "markdown",
   "id": "16a25941-a3b4-42d5-a897-ef55aadbee3a",
   "metadata": {},
   "source": [
    "### Normalizing Input Vector\n",
    "\n",
    "Since the values range widely, apply a scaler function to the input vector. Output vector can remain the same as it will always be a value between 0 and 1"
   ]
  },
  {
   "cell_type": "code",
   "execution_count": 7,
   "id": "ed142972-020e-4ebc-8b74-6a1629d935be",
   "metadata": {},
   "outputs": [],
   "source": [
    "x = mlb_df[['PA', '1B', '2B', '3B', 'HR', 'BB', 'IBB', 'SO', 'HBP', 'SF', 'SH', 'SB', 'CS']].to_numpy()\n",
    "y = mlb_df[['win_per']].to_numpy()"
   ]
  },
  {
   "cell_type": "code",
   "execution_count": 8,
   "id": "2f92cac1-c7c2-4c63-888a-45ca512d247b",
   "metadata": {},
   "outputs": [],
   "source": [
    "y = np.array([ x[0] for x in y ])"
   ]
  },
  {
   "cell_type": "code",
   "execution_count": 9,
   "id": "7d0eb357-1311-47d7-a441-e68656dedccf",
   "metadata": {},
   "outputs": [],
   "source": [
    "x_scaler = MinMaxScaler().fit(x)\n",
    "x_scaled = x_scaler.transform(x)"
   ]
  },
  {
   "cell_type": "code",
   "execution_count": 10,
   "id": "1c45c7d0-5ef9-46f6-b54a-3f0d73c1d341",
   "metadata": {},
   "outputs": [],
   "source": [
    "# Split last 25% of data for test data\n",
    "split_val = int(x.shape[0] * .75)\n",
    "x_train_full, x_test = x_scaled[:split_val], x_scaled[split_val:]\n",
    "y_train_full, y_test = y[:split_val], y[split_val:]"
   ]
  },
  {
   "cell_type": "markdown",
   "id": "ee5e7444-ea05-4880-bc61-61b795419f84",
   "metadata": {},
   "source": [
    "# Simple Model Build"
   ]
  },
  {
   "cell_type": "code",
   "execution_count": 11,
   "id": "f378a1a3-421d-43b2-9479-5644a4ee69ea",
   "metadata": {},
   "outputs": [
    {
     "data": {
      "text/plain": [
       "SVR()"
      ]
     },
     "execution_count": 11,
     "metadata": {},
     "output_type": "execute_result"
    }
   ],
   "source": [
    "sm_model = SVR()\n",
    "sm_model.fit(x_train_full, y_train_full)"
   ]
  },
  {
   "cell_type": "code",
   "execution_count": 12,
   "id": "ed1f9ab2-bbc3-4e65-b8f4-b83590cf77dd",
   "metadata": {},
   "outputs": [
    {
     "data": {
      "text/plain": [
       "0.00610034536038286"
      ]
     },
     "execution_count": 12,
     "metadata": {},
     "output_type": "execute_result"
    }
   ],
   "source": [
    "sm_predicted = sm_model.predict(x_test)\n",
    "mean_squared_error(sm_predicted, y_test)"
   ]
  },
  {
   "cell_type": "markdown",
   "id": "5f2dc3cb-8608-471a-a78c-96ed8411032e",
   "metadata": {
    "tags": []
   },
   "source": [
    "# Impact of Initialization\n",
    "\n",
    "In this section I will explore the effects of Kernel Functions, C values, and degree on the SVM's completetion time and average MSE"
   ]
  },
  {
   "cell_type": "markdown",
   "id": "fc99bded-563f-43f5-945c-6efda66c67ae",
   "metadata": {
    "tags": []
   },
   "source": [
    "## Testing Kernels"
   ]
  },
  {
   "cell_type": "code",
   "execution_count": 13,
   "id": "f34ba1dc-6d07-49c3-992e-29f50d9de84c",
   "metadata": {
    "jupyter": {
     "source_hidden": true
    },
    "tags": []
   },
   "outputs": [],
   "source": [
    "def run_kernel_test():\n",
    "    kernels = ['linear', 'rbf', 'poly', 'sigmoid']\n",
    "    test_results = []\n",
    "    for k in kernels:\n",
    "        test_mse = []\n",
    "        test_time = []\n",
    "        cv = KFold(10)\n",
    "        for tr_i, ts_i in cv.split(x_scaled, y):\n",
    "            x_tr, x_val = x_scaled[tr_i], x_scaled[ts_i]\n",
    "            y_tr, y_val = y[tr_i], y[ts_i]\n",
    "            test_model = SVR(kernel=k)\n",
    "            start = time.time()\n",
    "            test_model.fit(x_tr, y_tr)\n",
    "            end = time.time()\n",
    "            \n",
    "            test_mse.append(mean_squared_error(y_val, test_model.predict(x_val)))\n",
    "            test_time.append(end - start)\n",
    "            \n",
    "        avg_test_mse, avg_test_time = np.mean(test_mse), np.mean(test_time)\n",
    "        test_results.append(([k for x in range(10)], test_mse, test_time))\n",
    "        print(f'{k} :: {avg_test_mse} {avg_test_time}')\n",
    "    return test_results"
   ]
  },
  {
   "cell_type": "code",
   "execution_count": 14,
   "id": "4f9dfaf8-ded0-4042-ab52-f189be145ed3",
   "metadata": {
    "jupyter": {
     "source_hidden": true
    },
    "tags": []
   },
   "outputs": [
    {
     "name": "stdout",
     "output_type": "stream",
     "text": [
      "linear :: 0.0033159228179048886 0.02235279083251953\n",
      "rbf :: 0.003677012960655205 0.0234804630279541\n",
      "poly :: 0.004053150057685783 0.21232619285583496\n",
      "sigmoid :: 28.93512836554708 0.10972888469696045\n"
     ]
    }
   ],
   "source": [
    "kernel_test_results = run_kernel_test()"
   ]
  },
  {
   "cell_type": "markdown",
   "id": "f8be0223-3f7f-405d-94df-cd73935c2d0c",
   "metadata": {
    "tags": []
   },
   "source": [
    "### Build Graphs for this Section"
   ]
  },
  {
   "cell_type": "code",
   "execution_count": 15,
   "id": "69d95879-e123-474c-84a3-d711e8f85cd4",
   "metadata": {
    "jupyter": {
     "source_hidden": true
    },
    "tags": []
   },
   "outputs": [],
   "source": [
    "temp = [ list(zip(x[0], x[1], x[2])) for x in kernel_test_results ]\n",
    "init_test_data = []\n",
    "for i in temp:\n",
    "    for j in i:\n",
    "        init_test_data.append(j)\n",
    "init_test_df = pd.DataFrame(data=init_test_data, columns=['kernel', 'mse', 'time'])"
   ]
  },
  {
   "cell_type": "code",
   "execution_count": 16,
   "id": "15cb2e63-2834-4d8f-9d29-2d09e9ae0963",
   "metadata": {
    "jupyter": {
     "source_hidden": true
    },
    "tags": []
   },
   "outputs": [],
   "source": [
    "sns.set(rc={'figure.figsize':(20,10)}, font_scale=1.5)"
   ]
  },
  {
   "cell_type": "code",
   "execution_count": 17,
   "id": "6faa0d9c-47a6-4f02-9ff0-af83aa114ab6",
   "metadata": {
    "tags": []
   },
   "outputs": [],
   "source": [
    "# kernel_mse_plot = sns.boxplot(x='kernel', y='mse', data=init_test_df)\n",
    "# kernel_mse_plot.set(ylim=(0, 10), title='Effects on MSE from Kernel')\n",
    "# kernel_mse_plot.figure.savefig('svm/mlb/graphs/mlbwp_kernel_mse.png')"
   ]
  },
  {
   "cell_type": "code",
   "execution_count": 18,
   "id": "c5ab8bd1-574f-4262-8cfc-b21f253b4473",
   "metadata": {
    "jupyter": {
     "source_hidden": true
    },
    "tags": []
   },
   "outputs": [],
   "source": [
    "# kernel_time_plot = sns.boxplot(x='kernel', y='time', data=init_test_df)\n",
    "# kernel_time_plot.set(title='Effects on Time from Kernel')\n",
    "# kernel_time_plot.figure.savefig('svm/mlb/graphs/mlbwp_kernel_time.png')"
   ]
  },
  {
   "cell_type": "markdown",
   "id": "21985822-300f-406c-851c-9aae52a64e96",
   "metadata": {
    "tags": []
   },
   "source": [
    "## Testing C"
   ]
  },
  {
   "cell_type": "code",
   "execution_count": 19,
   "id": "c10da29c-5f0c-4ac9-8b41-6073d9aa0c4d",
   "metadata": {
    "tags": []
   },
   "outputs": [],
   "source": [
    "def run_c_test():\n",
    "    cs = [.1, 1, 10, 100, 1000]\n",
    "    test_results = []\n",
    "    for c in cs:\n",
    "        test_mse = []\n",
    "        test_time = []\n",
    "        cv = KFold(10)\n",
    "        for tr_i, ts_i in cv.split(x_scaled, y):\n",
    "            x_tr, x_val = x_scaled[tr_i], x_scaled[ts_i]\n",
    "            y_tr, y_val = y[tr_i], y[ts_i]\n",
    "            test_model = SVR(C=c)\n",
    "            start = time.time()\n",
    "            test_model.fit(x_tr, y_tr)\n",
    "            end = time.time()\n",
    "            \n",
    "            test_mse.append(mean_squared_error(y_val, test_model.predict(x_val)))\n",
    "            test_time.append(end - start)\n",
    "            \n",
    "        avg_test_mse, avg_test_time = np.mean(test_mse), np.mean(test_time)\n",
    "        test_results.append(([c for x in range(10)], test_mse, test_time))\n",
    "        print(f'{c} :: {avg_test_mse} {avg_test_time}')\n",
    "    return test_results"
   ]
  },
  {
   "cell_type": "code",
   "execution_count": 20,
   "id": "6c959cee-652b-455f-bd72-c031031559da",
   "metadata": {
    "jupyter": {
     "source_hidden": true
    },
    "tags": []
   },
   "outputs": [
    {
     "name": "stdout",
     "output_type": "stream",
     "text": [
      "0.1 :: 0.003540294156939587 0.008766555786132812\n",
      "1 :: 0.003677012960655205 0.02438836097717285\n",
      "10 :: 0.0037668170050264667 0.033754277229309085\n",
      "100 :: 0.0037668170050264667 0.030246424674987792\n",
      "1000 :: 0.0037668170050264667 0.02921881675720215\n"
     ]
    }
   ],
   "source": [
    "c_test_results = run_c_test()"
   ]
  },
  {
   "cell_type": "markdown",
   "id": "caed29ab-0ae1-403b-a7b7-38aaefeff5fb",
   "metadata": {
    "tags": []
   },
   "source": [
    "### Building Graphs"
   ]
  },
  {
   "cell_type": "code",
   "execution_count": 21,
   "id": "82e10ce2-be98-476f-b6b1-424d8a5e4f72",
   "metadata": {
    "jupyter": {
     "source_hidden": true
    },
    "tags": []
   },
   "outputs": [],
   "source": [
    "temp = [ list(zip(x[0], x[1], x[2])) for x in c_test_results ]\n",
    "init_test_data = []\n",
    "for i in temp:\n",
    "    for j in i:\n",
    "        init_test_data.append(j)\n",
    "init_test_df = pd.DataFrame(data=init_test_data, columns=['c', 'mse', 'time'])"
   ]
  },
  {
   "cell_type": "code",
   "execution_count": 22,
   "id": "f9f8031d-93e8-468a-a677-b49ac10b0895",
   "metadata": {
    "jupyter": {
     "source_hidden": true
    },
    "tags": []
   },
   "outputs": [],
   "source": [
    "# c_mse_plot = sns.boxplot(x='c', y='mse', data=init_test_df)\n",
    "# c_mse_plot.set(title='Effects on MSE from C')\n",
    "# c_mse_plot.figure.savefig('svm/mlb/graphs/mlbwp_c_mse.png')"
   ]
  },
  {
   "cell_type": "code",
   "execution_count": 23,
   "id": "989df972-0baf-4790-b859-a8a806b8e2bc",
   "metadata": {
    "jupyter": {
     "source_hidden": true
    },
    "tags": []
   },
   "outputs": [],
   "source": [
    "# c_mse_plot = sns.boxplot(x='c', y='time', data=init_test_df)\n",
    "# c_mse_plot.set(title='Effects on Time from C')\n",
    "# c_mse_plot.figure.savefig('svm/mlb/graphs/mlbwp_c_time.png')"
   ]
  },
  {
   "cell_type": "markdown",
   "id": "37a3b860-3b83-4f55-87a0-26f45f29c4e6",
   "metadata": {
    "tags": []
   },
   "source": [
    "## Testing Degree"
   ]
  },
  {
   "cell_type": "code",
   "execution_count": 24,
   "id": "c5056bef-23eb-4834-9976-f64c9e769f19",
   "metadata": {
    "jupyter": {
     "source_hidden": true
    },
    "tags": []
   },
   "outputs": [],
   "source": [
    "def run_degree_test():\n",
    "    cs = [2, 3, 4, 5, 6]\n",
    "    test_results = []\n",
    "    for c in cs:\n",
    "        test_mse = []\n",
    "        test_time = []\n",
    "        cv = KFold(10)\n",
    "        for tr_i, ts_i in cv.split(x_scaled, y):\n",
    "            x_tr, x_val = x_scaled[tr_i], x_scaled[ts_i]\n",
    "            y_tr, y_val = y[tr_i], y[ts_i]\n",
    "            test_model = SVR(degree=c, kernel='poly')\n",
    "            start = time.time()\n",
    "            test_model.fit(x_tr, y_tr)\n",
    "            end = time.time()\n",
    "            \n",
    "            test_mse.append(mean_squared_error(y_val, test_model.predict(x_val)))\n",
    "            test_time.append(end - start)\n",
    "            \n",
    "        avg_test_mse, avg_test_time = np.mean(test_mse), np.mean(test_time)\n",
    "        test_results.append(([c for x in range(10)], test_mse, test_time))\n",
    "        print(f'{c} :: {avg_test_mse} {avg_test_time}')\n",
    "    return test_results"
   ]
  },
  {
   "cell_type": "code",
   "execution_count": 25,
   "id": "d3465c0c-4456-45f8-80eb-ec49f0884eb0",
   "metadata": {
    "jupyter": {
     "source_hidden": true
    },
    "tags": []
   },
   "outputs": [
    {
     "name": "stdout",
     "output_type": "stream",
     "text": [
      "2 :: 0.0036975953827316685 0.046243691444396974\n",
      "3 :: 0.004053150057685783 0.2315058946609497\n",
      "4 :: 0.004818479539093097 0.580135989189148\n",
      "5 :: 0.00729087257206183 0.9646996021270752\n",
      "6 :: 0.016018781834581365 2.256681489944458\n"
     ]
    }
   ],
   "source": [
    "degree_test_results = run_degree_test()"
   ]
  },
  {
   "cell_type": "code",
   "execution_count": 26,
   "id": "4d387b54-2ddb-4414-b9e3-960118c639e6",
   "metadata": {
    "jupyter": {
     "source_hidden": true
    },
    "tags": []
   },
   "outputs": [],
   "source": [
    "temp = [ list(zip(x[0], x[1], x[2])) for x in degree_test_results ]\n",
    "init_test_data = []\n",
    "for i in temp:\n",
    "    for j in i:\n",
    "        init_test_data.append(j)\n",
    "init_test_df = pd.DataFrame(data=init_test_data, columns=['degree', 'mse', 'time'])"
   ]
  },
  {
   "cell_type": "code",
   "execution_count": 27,
   "id": "a7cb9b78-0b31-4092-b93d-a1374f9a6c85",
   "metadata": {
    "jupyter": {
     "source_hidden": true
    },
    "tags": []
   },
   "outputs": [],
   "source": [
    "# deg_mse_plot = sns.boxplot(x='degree', y='mse', data=init_test_df)\n",
    "# deg_mse_plot.set(title='Effects on MSE from Degree of Polynomial')\n",
    "# deg_mse_plot.figure.savefig('svm/mlb/graphs/mlbwp_deg_mse.png')"
   ]
  },
  {
   "cell_type": "code",
   "execution_count": 28,
   "id": "e5704376-b624-4bb3-bdba-7c17b8b7b341",
   "metadata": {
    "jupyter": {
     "source_hidden": true
    },
    "tags": []
   },
   "outputs": [],
   "source": [
    "# deg_mse_plot = sns.boxplot(x='degree', y='time', data=init_test_df)\n",
    "# deg_mse_plot.set(title='Effects on Time from Degree of Polynomial')\n",
    "# deg_mse_plot.figure.savefig('svm/mlb/graphs/mlbwp_c_time.png')"
   ]
  },
  {
   "cell_type": "markdown",
   "id": "b5bf37a0-0610-4edd-aba5-ef92abbbabf1",
   "metadata": {},
   "source": [
    "# Hyper-Parameter Tuning"
   ]
  },
  {
   "cell_type": "code",
   "execution_count": 29,
   "id": "d971cf81-c441-474e-9e98-3e2cd5c77249",
   "metadata": {},
   "outputs": [],
   "source": [
    "SPACE = [\n",
    "    skopt.space.Categorical(['rbf', 'sigmoid', 'poly'], name='kernel'),\n",
    "    skopt.space.Categorical([2, 3, 4], name='degree'),\n",
    "    skopt.space.Real(1e-1, 1e3, prior='log-uniform', name='C'),\n",
    "    skopt.space.Real(1e-2, 4, prior='log-uniform', name='epsilon')\n",
    "]"
   ]
  },
  {
   "cell_type": "code",
   "execution_count": 30,
   "id": "9efe649a-a1e5-4d0b-9764-9b5ec9a2c6d2",
   "metadata": {},
   "outputs": [],
   "source": [
    "@skopt.utils.use_named_args(SPACE)\n",
    "def objective(**params):\n",
    "    mse_scores = []\n",
    "    \n",
    "    cv = KFold(10)\n",
    "    for train_idx, val_idx in cv.split(x_train_full, y_train_full):\n",
    "        x_tr, x_val, = x_train_full[train_idx], x_train_full[val_idx]\n",
    "        y_tr, y_val = y_train_full[train_idx], y_train_full[val_idx]\n",
    "        \n",
    "        model = SVR(\n",
    "            kernel=params['kernel'],\n",
    "            degree=params['degree'], # only used with poly kernel\n",
    "            C=params['C'],\n",
    "            epsilon=params['epsilon']\n",
    "        )\n",
    "        \n",
    "        model.fit(x_tr, y_tr)\n",
    "        trial_score = mean_squared_error(y_val, model.predict(x_val))\n",
    "        mse_scores.append(trial_score)\n",
    "    print(f'Avg Validation MSE: {np.mean(mse_scores)}')\n",
    "    return np.mean(mse_scores)"
   ]
  },
  {
   "cell_type": "code",
   "execution_count": 31,
   "id": "b8433c57-0147-4c2b-90d4-80eaae3b072d",
   "metadata": {},
   "outputs": [
    {
     "name": "stdout",
     "output_type": "stream",
     "text": [
      "Avg Validation MSE: 0.005081940974610974\n",
      "Avg Validation MSE: 0.00308702515384754\n",
      "Avg Validation MSE: 0.004426034772564615\n",
      "Avg Validation MSE: 0.005081940974610976\n",
      "Avg Validation MSE: 0.005081940974610974\n",
      "Avg Validation MSE: 0.0050819409746109745\n",
      "Avg Validation MSE: 0.0050819409746109745\n",
      "Avg Validation MSE: 0.0050819409746109745\n",
      "Avg Validation MSE: 0.0028442915715427\n",
      "Avg Validation MSE: 0.0036914173294945738\n"
     ]
    }
   ],
   "source": [
    "opt_results = gp_minimize(objective, SPACE, n_calls=10, random_state=0)"
   ]
  },
  {
   "cell_type": "code",
   "execution_count": 32,
   "id": "020503fd-7405-4114-842c-d717b8abbb89",
   "metadata": {},
   "outputs": [],
   "source": [
    "dump(opt_results, 'tuning/opt_results.pkl')"
   ]
  },
  {
   "cell_type": "code",
   "execution_count": 33,
   "id": "581690a9-64f4-4bab-a3f0-d4f799c10d97",
   "metadata": {},
   "outputs": [],
   "source": [
    "opt_loaded = load('tuning/opt_results.pkl')"
   ]
  },
  {
   "cell_type": "code",
   "execution_count": 34,
   "id": "66cb10ee-8bb1-45e9-8730-3e896dba4866",
   "metadata": {},
   "outputs": [
    {
     "name": "stdout",
     "output_type": "stream",
     "text": [
      "\n",
      "    Best Avg. Val MSE: 0.0028\n",
      "    Best Parameters:\n",
      "    - Kernel: poly\n",
      "    - Degree: 2\n",
      "    - C: 1.9795388574374426\n",
      "    - Epsilon: 0.02451675480274238\n",
      "    \n",
      "\n"
     ]
    }
   ],
   "source": [
    "print(f\"\"\"\n",
    "    Best Avg. Val MSE: {opt_loaded.fun:.4f}\n",
    "    Best Parameters:\n",
    "    - Kernel: {opt_loaded.x[0]}\n",
    "    - Degree: {opt_loaded.x[1]}\n",
    "    - C: {opt_loaded.x[2]}\n",
    "    - Epsilon: {opt_loaded.x[3]}\n",
    "    \n",
    "\"\"\")"
   ]
  },
  {
   "cell_type": "code",
   "execution_count": 35,
   "id": "95a6d176-f483-45c0-a101-59f0e844b51b",
   "metadata": {},
   "outputs": [
    {
     "data": {
      "text/plain": [
       "<AxesSubplot:title={'center':'Convergence plot'}, xlabel='Number of calls $n$', ylabel='$\\\\min f(x)$ after $n$ calls'>"
      ]
     },
     "execution_count": 35,
     "metadata": {},
     "output_type": "execute_result"
    },
    {
     "data": {
      "image/png": "[encoded data removed]",
      "text/plain": [
       "<Figure size 1440x720 with 1 Axes>"
      ]
     },
     "metadata": {},
     "output_type": "display_data"
    }
   ],
   "source": [
    "plot_convergence(opt_loaded)"
   ]
  },
  {
   "cell_type": "markdown",
   "id": "ebfc205e-073e-494b-8cf4-e666443923ab",
   "metadata": {},
   "source": [
    "# Model Performance & Evaluation"
   ]
  },
  {
   "cell_type": "code",
   "execution_count": 36,
   "id": "7d918b2a-df4f-4752-b077-40ad8c76780e",
   "metadata": {},
   "outputs": [
    {
     "data": {
      "text/plain": [
       "['poly', 2, 1.9795388574374426, 0.02451675480274238]"
      ]
     },
     "execution_count": 36,
     "metadata": {},
     "output_type": "execute_result"
    }
   ],
   "source": [
    "opt_loaded.x"
   ]
  },
  {
   "cell_type": "code",
   "execution_count": 37,
   "id": "ef5dc9b6-7ea1-4ebf-970c-910d8a1f3428",
   "metadata": {},
   "outputs": [],
   "source": [
    "regressor = SVR(\n",
    "    kernel='poly',\n",
    "    degree=2,\n",
    "    C=1.9795388574374426,\n",
    "    epsilon=0.02451675480274238\n",
    ")"
   ]
  },
  {
   "cell_type": "code",
   "execution_count": 38,
   "id": "170c2e48-fc56-45fc-a592-91909e67d648",
   "metadata": {},
   "outputs": [
    {
     "data": {
      "text/plain": [
       "SVR(C=1.9795388574374426, degree=2, epsilon=0.02451675480274238, kernel='poly')"
      ]
     },
     "execution_count": 38,
     "metadata": {},
     "output_type": "execute_result"
    }
   ],
   "source": [
    "regressor.fit(x_train_full, y_train_full)"
   ]
  },
  {
   "cell_type": "code",
   "execution_count": 39,
   "id": "7729d828-cc85-48f0-bb23-d07170d8a3b5",
   "metadata": {},
   "outputs": [],
   "source": [
    "predictions = regressor.predict(x_test)"
   ]
  },
  {
   "cell_type": "code",
   "execution_count": 40,
   "id": "94fc7a09-04c1-4187-9a88-d51667601dc2",
   "metadata": {},
   "outputs": [
    {
     "data": {
      "text/plain": [
       "0.012592974637280058"
      ]
     },
     "execution_count": 40,
     "metadata": {},
     "output_type": "execute_result"
    }
   ],
   "source": [
    "mean_squared_error(predictions, y_test)"
   ]
  },
  {
   "cell_type": "code",
   "execution_count": 41,
   "id": "4e8f834d-9575-4bed-a040-8cd0a06c8818",
   "metadata": {},
   "outputs": [
    {
     "data": {
      "text/plain": [
       "-2.2822445218539342"
      ]
     },
     "execution_count": 41,
     "metadata": {},
     "output_type": "execute_result"
    }
   ],
   "source": [
    "r2_score(predictions, y_test)"
   ]
  },
  {
   "cell_type": "code",
   "execution_count": 42,
   "id": "fef80ed3-5a5e-4cef-9392-99de24d48fc6",
   "metadata": {},
   "outputs": [
    {
     "data": {
      "text/plain": [
       "[Text(0.5, 0, 'Actual Value'),\n",
       " Text(0, 0.5, 'Predicted Value'),\n",
       " Text(0.5, 1.0, 'Actual vs Predicted')]"
      ]
     },
     "execution_count": 42,
     "metadata": {},
     "output_type": "execute_result"
    },
    {
     "data": {
      "image/png": "[encoded data removed]",
      "text/plain": [
       "<Figure size 1440x720 with 1 Axes>"
      ]
     },
     "metadata": {},
     "output_type": "display_data"
    }
   ],
   "source": [
    "ax = sns.scatterplot(x=y_test, y=predictions)\n",
    "ax.set(xlabel='Actual Value', ylabel='Predicted Value', title='Actual vs Predicted')"
   ]
  },
  {
   "cell_type": "code",
   "execution_count": 43,
   "id": "3f09f7c6-0f3b-4766-b34c-b6ad9665d78c",
   "metadata": {},
   "outputs": [],
   "source": [
    "errors = y_test - predictions"
   ]
  },
  {
   "cell_type": "code",
   "execution_count": 44,
   "id": "8e52f6ca-fd3f-47c6-8946-973516ecc57d",
   "metadata": {},
   "outputs": [
    {
     "data": {
      "text/plain": [
       "[Text(0.5, 0, 'Error'), Text(0.5, 1.0, 'Binned Error Counts')]"
      ]
     },
     "execution_count": 44,
     "metadata": {},
     "output_type": "execute_result"
    },
    {
     "data": {
      "image/png": "[encoded data removed]",
      "text/plain": [
       "<Figure size 1440x720 with 1 Axes>"
      ]
     },
     "metadata": {},
     "output_type": "display_data"
    }
   ],
   "source": [
    "ax = sns.histplot(data=errors, bins=10)\n",
    "ax.set(xlabel='Error', title='Binned Error Counts')"
   ]
  },
  {
   "cell_type": "code",
   "execution_count": null,
   "id": "9b2d0be6-9731-4997-ae9d-1f593b1623ff",
   "metadata": {},
   "outputs": [],
   "source": []
  }
 ],
 "metadata": {
  "kernelspec": {
   "display_name": "Python 3 (ipykernel)",
   "language": "python",
   "name": "python3"
  },
  "language_info": {
   "codemirror_mode": {
    "name": "ipython",
    "version": 3
   },
   "file_extension": ".py",
   "mimetype": "text/x-python",
   "name": "python",
   "nbconvert_exporter": "python",
   "pygments_lexer": "ipython3",
   "version": "3.7.11"
  }
 },
 "nbformat": 4,
 "nbformat_minor": 5
}
