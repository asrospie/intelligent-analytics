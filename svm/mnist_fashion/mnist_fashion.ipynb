{
 "cells": [
  {
   "cell_type": "code",
   "execution_count": 1,
   "id": "f3c92c60-39c4-4179-8325-efc490a22f10",
   "metadata": {},
   "outputs": [],
   "source": [
    "from sklearn.preprocessing import OneHotEncoder\n",
    "from sklearn.model_selection import LeaveOneOut\n",
    "from sklearn.metrics import accuracy_score\n",
    "from sklearn.model_selection import RandomizedSearchCV, cross_val_score, KFold\n",
    "from sklearn.preprocessing import MinMaxScaler, MaxAbsScaler\n",
    "from sklearn import model_selection\n",
    "from sklearn import metrics\n",
    "from skopt import dump, load\n",
    "from skopt.plots import plot_convergence\n",
    "from scipy.stats import reciprocal\n",
    "import skopt\n",
    "from skopt import gp_minimize\n",
    "import numpy as np\n",
    "import pandas as pd\n",
    "from sklearn import metrics\n",
    "import datetime\n",
    "import re\n",
    "import os\n",
    "import time\n",
    "import seaborn as sns\n",
    "import matplotlib.pyplot as plt\n",
    "from sklearn.svm import SVC\n",
    "from sklearn.multioutput import MultiOutputClassifier\n",
    "from tensorflow import keras"
   ]
  },
  {
   "cell_type": "markdown",
   "id": "c2679973-2908-4245-b8f3-d0548a4225d9",
   "metadata": {},
   "source": [
    "# Load Data from Sources"
   ]
  },
  {
   "cell_type": "code",
   "execution_count": 2,
   "id": "467f1976-39a4-4831-87d5-a6716edfa848",
   "metadata": {},
   "outputs": [],
   "source": [
    "fashion_mnist = keras.datasets.fashion_mnist\n",
    "(x_train_full, y_train_full), (x_test, y_test) = fashion_mnist.load_data()"
   ]
  },
  {
   "cell_type": "code",
   "execution_count": 3,
   "id": "b3d00366-7162-4891-a18d-958a958146e7",
   "metadata": {},
   "outputs": [
    {
     "name": "stdout",
     "output_type": "stream",
     "text": [
      "Train Shape: (60000, 28, 28) (60000,)\n",
      "Test Shape: (10000, 28, 28) (10000,)\n"
     ]
    }
   ],
   "source": [
    "print(f'Train Shape: {x_train_full.shape} {y_train_full.shape}')\n",
    "print(f'Test Shape: {x_test.shape} {y_test.shape}')"
   ]
  },
  {
   "cell_type": "markdown",
   "id": "554acdd4-58b0-43e9-9cbf-c539d9d89928",
   "metadata": {},
   "source": [
    "# Data Pre-Processing"
   ]
  },
  {
   "cell_type": "code",
   "execution_count": 4,
   "id": "123ed6cd-a004-4dd4-b301-7e6d96ed77fd",
   "metadata": {},
   "outputs": [
    {
     "name": "stdout",
     "output_type": "stream",
     "text": [
      "(60000, 784) (10000, 784)\n"
     ]
    }
   ],
   "source": [
    "x_train_full = x_train_full / 255.0\n",
    "x_test = x_test / 255.0\n",
    "temp = []\n",
    "for i in x_train_full:\n",
    "    temp.append(i.flatten())\n",
    "x_train_full = np.array(temp)\n",
    "temp = []\n",
    "for i in x_test:\n",
    "    temp.append(i.flatten())\n",
    "x_test = np.array(temp)\n",
    "del temp\n",
    "# x_test = np.array([ val.flatten() for val in x_test ])\n",
    "print(f'{x_train_full.shape} {x_test.shape}')"
   ]
  },
  {
   "cell_type": "markdown",
   "id": "ee5e7444-ea05-4880-bc61-61b795419f84",
   "metadata": {},
   "source": [
    "# Simple Model Build"
   ]
  },
  {
   "cell_type": "code",
   "execution_count": 23,
   "id": "f378a1a3-421d-43b2-9479-5644a4ee69ea",
   "metadata": {},
   "outputs": [
    {
     "data": {
      "text/plain": [
       "SVC()"
      ]
     },
     "execution_count": 23,
     "metadata": {},
     "output_type": "execute_result"
    }
   ],
   "source": [
    "sm_model = SVC()\n",
    "sm_model.fit(x_train_full, y_train_full)"
   ]
  },
  {
   "cell_type": "code",
   "execution_count": 24,
   "id": "ed1f9ab2-bbc3-4e65-b8f4-b83590cf77dd",
   "metadata": {},
   "outputs": [
    {
     "data": {
      "text/plain": [
       "0.8828"
      ]
     },
     "execution_count": 24,
     "metadata": {},
     "output_type": "execute_result"
    }
   ],
   "source": [
    "sm_predicted = sm_model.predict(x_test)\n",
    "accuracy_score(sm_predicted, y_test)"
   ]
  },
  {
   "cell_type": "markdown",
   "id": "b5bf37a0-0610-4edd-aba5-ef92abbbabf1",
   "metadata": {},
   "source": [
    "# Hyper-Parameter Tuning"
   ]
  },
  {
   "cell_type": "code",
   "execution_count": 6,
   "id": "d971cf81-c441-474e-9e98-3e2cd5c77249",
   "metadata": {},
   "outputs": [],
   "source": [
    "SPACE = [\n",
    "    skopt.space.Categorical(['rbf', 'sigmoid', 'poly'], name='kernel'),\n",
    "    skopt.space.Categorical([2, 3, 4], name='degree'),\n",
    "    skopt.space.Real(1e-1, 1e3, prior='log-uniform', name='C')\n",
    "]"
   ]
  },
  {
   "cell_type": "code",
   "execution_count": 7,
   "id": "9efe649a-a1e5-4d0b-9764-9b5ec9a2c6d2",
   "metadata": {},
   "outputs": [],
   "source": [
    "@skopt.utils.use_named_args(SPACE)\n",
    "def objective(**params):\n",
    "    mse_scores = []\n",
    "    \n",
    "    cv = KFold(5)\n",
    "    for train_idx, val_idx in cv.split(x_train_full, y_train_full):\n",
    "        x_tr, x_val, = x_train_full[train_idx], x_train_full[val_idx]\n",
    "        y_tr, y_val = y_train_full[train_idx], y_train_full[val_idx]\n",
    "        \n",
    "        model = SVC(\n",
    "            kernel=params['kernel'],\n",
    "            degree=params['degree'], # only used with poly kernel\n",
    "            C=params['C']\n",
    "        )\n",
    "        \n",
    "        model.fit(x_tr, y_tr)\n",
    "        trial_score = accuracy_score(y_val, model.predict(x_val))\n",
    "        mse_scores.append(trial_score)\n",
    "    print(f'Avg Validation MSE: {np.mean(mse_scores)}')\n",
    "    return -np.mean(mse_scores)"
   ]
  },
  {
   "cell_type": "code",
   "execution_count": 8,
   "id": "b8433c57-0147-4c2b-90d4-80eaae3b072d",
   "metadata": {},
   "outputs": [
    {
     "name": "stdout",
     "output_type": "stream",
     "text": [
      "Avg Validation MSE: 0.8699833333333334\n",
      "Avg Validation MSE: 0.8785833333333333\n",
      "Avg Validation MSE: 0.9036666666666665\n",
      "Avg Validation MSE: 0.8993666666666668\n",
      "Avg Validation MSE: 0.8983833333333333\n",
      "Avg Validation MSE: 0.9019\n",
      "Avg Validation MSE: 0.8518166666666666\n",
      "Avg Validation MSE: 0.8819166666666666\n",
      "Avg Validation MSE: 0.8869\n",
      "Avg Validation MSE: 0.4197\n"
     ]
    }
   ],
   "source": [
    "opt_results = gp_minimize(objective, SPACE, n_calls=10, random_state=2)"
   ]
  },
  {
   "cell_type": "code",
   "execution_count": 9,
   "id": "020503fd-7405-4114-842c-d717b8abbb89",
   "metadata": {},
   "outputs": [],
   "source": [
    "dump(opt_results, 'tuning/opt_results.pkl')"
   ]
  },
  {
   "cell_type": "code",
   "execution_count": 10,
   "id": "581690a9-64f4-4bab-a3f0-d4f799c10d97",
   "metadata": {},
   "outputs": [],
   "source": [
    "opt_loaded = load('tuning/opt_results.pkl')"
   ]
  },
  {
   "cell_type": "code",
   "execution_count": 13,
   "id": "66cb10ee-8bb1-45e9-8730-3e896dba4866",
   "metadata": {},
   "outputs": [
    {
     "name": "stdout",
     "output_type": "stream",
     "text": [
      "\n",
      "    Best Avg. Val MSE: -0.9037\n",
      "    Best Parameters:\n",
      "    - Kernel: rbf\n",
      "    - Degree: 2\n",
      "    - C: 8.72375857854421\n",
      "\n"
     ]
    }
   ],
   "source": [
    "print(f\"\"\"\n",
    "    Best Avg. Val MSE: {opt_loaded.fun:.4f}\n",
    "    Best Parameters:\n",
    "    - Kernel: {opt_loaded.x[0]}\n",
    "    - Degree: {opt_loaded.x[1]}\n",
    "    - C: {opt_loaded.x[2]}\n",
    "\"\"\")"
   ]
  },
  {
   "cell_type": "code",
   "execution_count": 14,
   "id": "95a6d176-f483-45c0-a101-59f0e844b51b",
   "metadata": {},
   "outputs": [
    {
     "data": {
      "text/plain": [
       "<AxesSubplot:title={'center':'Convergence plot'}, xlabel='Number of calls $n$', ylabel='$\\\\min f(x)$ after $n$ calls'>"
      ]
     },
     "execution_count": 14,
     "metadata": {},
     "output_type": "execute_result"
    },
    {
     "data": {
      "image/png": "[encoded data removed]",
      "text/plain": [
       "<Figure size 432x288 with 1 Axes>"
      ]
     },
     "metadata": {
      "needs_background": "light"
     },
     "output_type": "display_data"
    }
   ],
   "source": [
    "plot_convergence(opt_loaded)"
   ]
  },
  {
   "cell_type": "markdown",
   "id": "ebfc205e-073e-494b-8cf4-e666443923ab",
   "metadata": {},
   "source": [
    "# Model Performance & Evaluation"
   ]
  },
  {
   "cell_type": "code",
   "execution_count": 15,
   "id": "7d918b2a-df4f-4752-b077-40ad8c76780e",
   "metadata": {},
   "outputs": [
    {
     "data": {
      "text/plain": [
       "['rbf', 2, 8.72375857854421]"
      ]
     },
     "execution_count": 15,
     "metadata": {},
     "output_type": "execute_result"
    }
   ],
   "source": [
    "opt_loaded.x"
   ]
  },
  {
   "cell_type": "code",
   "execution_count": 16,
   "id": "ef5dc9b6-7ea1-4ebf-970c-910d8a1f3428",
   "metadata": {},
   "outputs": [],
   "source": [
    "clf = SVC(\n",
    "    kernel='rbf',\n",
    "    C=8.72375857854421\n",
    ")"
   ]
  },
  {
   "cell_type": "code",
   "execution_count": 17,
   "id": "170c2e48-fc56-45fc-a592-91909e67d648",
   "metadata": {},
   "outputs": [
    {
     "data": {
      "text/plain": [
       "SVC(C=8.72375857854421)"
      ]
     },
     "execution_count": 17,
     "metadata": {},
     "output_type": "execute_result"
    }
   ],
   "source": [
    "clf.fit(x_train_full, y_train_full)"
   ]
  },
  {
   "cell_type": "code",
   "execution_count": 18,
   "id": "7729d828-cc85-48f0-bb23-d07170d8a3b5",
   "metadata": {},
   "outputs": [],
   "source": [
    "predictions = clf.predict(x_test)"
   ]
  },
  {
   "cell_type": "code",
   "execution_count": 20,
   "id": "94fc7a09-04c1-4187-9a88-d51667601dc2",
   "metadata": {},
   "outputs": [
    {
     "data": {
      "text/plain": [
       "0.8998"
      ]
     },
     "execution_count": 20,
     "metadata": {},
     "output_type": "execute_result"
    }
   ],
   "source": [
    "accuracy_score(predictions, y_test)"
   ]
  },
  {
   "cell_type": "code",
   "execution_count": 21,
   "id": "a7784390-cc74-40ab-92c6-f716089add9c",
   "metadata": {},
   "outputs": [
    {
     "data": {
      "text/plain": [
       "[Text(0.5, 1.0, 'Fashion MNIST Confusion Matrix'),\n",
       " Text(0.5, 69.0, 'Predicted Values'),\n",
       " Text(69.0, 0.5, 'Actual Labels')]"
      ]
     },
     "execution_count": 21,
     "metadata": {},
     "output_type": "execute_result"
    },
    {
     "data": {
      "image/png": "[encoded data removed]",
      "text/plain": [
       "<Figure size 720x720 with 2 Axes>"
      ]
     },
     "metadata": {
      "needs_background": "light"
     },
     "output_type": "display_data"
    }
   ],
   "source": [
    "cm = metrics.confusion_matrix(y_test, predictions)\n",
    "plt.figure(figsize=(10,10))\n",
    "hm = sns.heatmap(cm, annot=True, fmt='d')\n",
    "hm.set(title='Fashion MNIST Confusion Matrix', xlabel='Predicted Values', ylabel='Actual Labels')"
   ]
  },
  {
   "cell_type": "code",
   "execution_count": 22,
   "id": "2f9e7ba4-e0aa-44ad-a5ca-48483248258f",
   "metadata": {},
   "outputs": [
    {
     "name": "stdout",
     "output_type": "stream",
     "text": [
      "              precision    recall  f1-score   support\n",
      "\n",
      "           0       0.83      0.86      0.85      1000\n",
      "           1       0.99      0.97      0.98      1000\n",
      "           2       0.81      0.84      0.83      1000\n",
      "           3       0.90      0.90      0.90      1000\n",
      "           4       0.83      0.83      0.83      1000\n",
      "           5       0.97      0.97      0.97      1000\n",
      "           6       0.75      0.72      0.73      1000\n",
      "           7       0.95      0.96      0.96      1000\n",
      "           8       0.98      0.98      0.98      1000\n",
      "           9       0.97      0.96      0.97      1000\n",
      "\n",
      "    accuracy                           0.90     10000\n",
      "   macro avg       0.90      0.90      0.90     10000\n",
      "weighted avg       0.90      0.90      0.90     10000\n",
      "\n"
     ]
    }
   ],
   "source": [
    "print(metrics.classification_report(y_test, predictions))"
   ]
  },
  {
   "cell_type": "code",
   "execution_count": null,
   "id": "c14b9b5d-8c79-40b6-bb66-48118673a9e0",
   "metadata": {},
   "outputs": [],
   "source": []
  }
 ],
 "metadata": {
  "kernelspec": {
   "display_name": "Python 3 (ipykernel)",
   "language": "python",
   "name": "python3"
  },
  "language_info": {
   "codemirror_mode": {
    "name": "ipython",
    "version": 3
   },
   "file_extension": ".py",
   "mimetype": "text/x-python",
   "name": "python",
   "nbconvert_exporter": "python",
   "pygments_lexer": "ipython3",
   "version": "3.7.11"
  }
 },
 "nbformat": 4,
 "nbformat_minor": 5
}
