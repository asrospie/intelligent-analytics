{
 "cells": [
  {
   "cell_type": "code",
   "execution_count": 2,
   "id": "f3c92c60-39c4-4179-8325-efc490a22f10",
   "metadata": {},
   "outputs": [],
   "source": [
    "from sklearn.preprocessing import OneHotEncoder\n",
    "from sklearn.model_selection import LeaveOneOut\n",
    "from sklearn.metrics import mean_squared_error, mean_absolute_error, r2_score\n",
    "from sklearn.model_selection import RandomizedSearchCV, cross_val_score, KFold\n",
    "from sklearn.preprocessing import MinMaxScaler, MaxAbsScaler\n",
    "from sklearn import model_selection\n",
    "from sklearn import metrics\n",
    "from skopt import dump, load\n",
    "from skopt.plots import plot_convergence\n",
    "from scipy.stats import reciprocal\n",
    "import skopt\n",
    "from skopt import gp_minimize\n",
    "import numpy as np\n",
    "import pandas as pd\n",
    "from sklearn import metrics\n",
    "import datetime\n",
    "import re\n",
    "import os\n",
    "import time\n",
    "import seaborn as sns\n",
    "import matplotlib.pyplot as plt\n",
    "from sklearn.svm import SVR\n",
    "from sklearn.multioutput import MultiOutputRegressor"
   ]
  },
  {
   "cell_type": "markdown",
   "id": "c2679973-2908-4245-b8f3-d0548a4225d9",
   "metadata": {},
   "source": [
    "# Load Data from Sources"
   ]
  },
  {
   "cell_type": "code",
   "execution_count": 3,
   "id": "467f1976-39a4-4831-87d5-a6716edfa848",
   "metadata": {},
   "outputs": [],
   "source": [
    "df = pd.read_excel('./etching.xlsx')"
   ]
  },
  {
   "cell_type": "code",
   "execution_count": 4,
   "id": "b3d00366-7162-4891-a18d-958a958146e7",
   "metadata": {},
   "outputs": [
    {
     "data": {
      "text/plain": [
       "Index(['Pressure', 'RF Power', 'Electrode Gap', 'CCL_4 Flow', 'HE Flow',\n",
       "       'O2 Flow', 'Etch Rate -Rp A/min', 'Etch Uniformity',\n",
       "       'Oxide Selectivity - Sox', 'Photoresist Selectivity - Sph'],\n",
       "      dtype='object')"
      ]
     },
     "execution_count": 4,
     "metadata": {},
     "output_type": "execute_result"
    }
   ],
   "source": [
    "df.columns"
   ]
  },
  {
   "cell_type": "code",
   "execution_count": 5,
   "id": "2b89bb63-12da-4cae-b81d-35c435457aea",
   "metadata": {},
   "outputs": [
    {
     "data": {
      "text/plain": [
       "(53, 10)"
      ]
     },
     "execution_count": 5,
     "metadata": {},
     "output_type": "execute_result"
    }
   ],
   "source": [
    "df.shape"
   ]
  },
  {
   "cell_type": "markdown",
   "id": "554acdd4-58b0-43e9-9cbf-c539d9d89928",
   "metadata": {},
   "source": [
    "# Data Pre-Processing"
   ]
  },
  {
   "cell_type": "code",
   "execution_count": 11,
   "id": "34e11e6b-6bca-4abf-95a9-d8e51c1a677d",
   "metadata": {},
   "outputs": [],
   "source": [
    "x_full_df = df[['Pressure', 'RF Power', 'Electrode Gap', 'CCL_4 Flow', 'HE Flow', 'O2 Flow']].astype(float)\n",
    "y_full_df = df[['Etch Rate -Rp A/min', 'Etch Uniformity', 'Oxide Selectivity - Sox', 'Photoresist Selectivity - Sph']].astype(float)"
   ]
  },
  {
   "cell_type": "code",
   "execution_count": 12,
   "id": "1643a968-cbf4-41d6-b115-f6f717cc2711",
   "metadata": {},
   "outputs": [],
   "source": [
    "x = x_full_df.to_numpy()\n",
    "y = y_full_df.to_numpy()"
   ]
  },
  {
   "cell_type": "code",
   "execution_count": 13,
   "id": "a53d5061-cf11-4858-90f0-9d95a295faa3",
   "metadata": {},
   "outputs": [],
   "source": [
    "x_scaler = MaxAbsScaler().fit(x)\n",
    "y_scaler = MaxAbsScaler().fit(y)\n",
    "x_full = x_scaler.transform(x)\n",
    "y_full = y_scaler.transform(y)"
   ]
  },
  {
   "cell_type": "code",
   "execution_count": 14,
   "id": "2f92cac1-c7c2-4c63-888a-45ca512d247b",
   "metadata": {},
   "outputs": [],
   "source": [
    "y = np.array([ x[0] for x in y ])"
   ]
  },
  {
   "cell_type": "code",
   "execution_count": 15,
   "id": "7d0eb357-1311-47d7-a441-e68656dedccf",
   "metadata": {},
   "outputs": [],
   "source": [
    "x_scaler = MinMaxScaler().fit(x)\n",
    "x_scaled = x_scaler.transform(x)"
   ]
  },
  {
   "cell_type": "code",
   "execution_count": 16,
   "id": "1c45c7d0-5ef9-46f6-b54a-3f0d73c1d341",
   "metadata": {},
   "outputs": [],
   "source": [
    "# Split last 25% of data for test data\n",
    "split_val = int(x.shape[0] * .75)\n",
    "x_train_full, x_test = x_scaled[:split_val], x_scaled[split_val:]\n",
    "y_train_full, y_test = y[:split_val], y[split_val:]"
   ]
  },
  {
   "cell_type": "markdown",
   "id": "ee5e7444-ea05-4880-bc61-61b795419f84",
   "metadata": {},
   "source": [
    "# Simple Model Build"
   ]
  },
  {
   "cell_type": "code",
   "execution_count": 17,
   "id": "f378a1a3-421d-43b2-9479-5644a4ee69ea",
   "metadata": {},
   "outputs": [
    {
     "data": {
      "text/plain": [
       "MultiOutputRegressor(estimator=SVR())"
      ]
     },
     "execution_count": 17,
     "metadata": {},
     "output_type": "execute_result"
    }
   ],
   "source": [
    "sm_model = MultiOutputRegressor(SVR())\n",
    "sm_model.fit(x_full, y_full)"
   ]
  },
  {
   "cell_type": "code",
   "execution_count": 18,
   "id": "ed1f9ab2-bbc3-4e65-b8f4-b83590cf77dd",
   "metadata": {},
   "outputs": [
    {
     "data": {
      "text/plain": [
       "0.005909292119461543"
      ]
     },
     "execution_count": 18,
     "metadata": {},
     "output_type": "execute_result"
    }
   ],
   "source": [
    "sm_predicted = sm_model.predict(x_full)\n",
    "mean_squared_error(sm_predicted, y_full)"
   ]
  },
  {
   "cell_type": "markdown",
   "id": "5f2dc3cb-8608-471a-a78c-96ed8411032e",
   "metadata": {
    "tags": []
   },
   "source": [
    "# Impact of Initialization\n",
    "\n",
    "In this section I will explore the effects of Kernel Functions, C values, and degree on the SVM's completetion time and average MSE"
   ]
  },
  {
   "cell_type": "markdown",
   "id": "fc99bded-563f-43f5-945c-6efda66c67ae",
   "metadata": {
    "tags": []
   },
   "source": [
    "## Testing Kernels"
   ]
  },
  {
   "cell_type": "code",
   "execution_count": 19,
   "id": "f34ba1dc-6d07-49c3-992e-29f50d9de84c",
   "metadata": {
    "tags": []
   },
   "outputs": [],
   "source": [
    "def run_kernel_test():\n",
    "    kernels = ['linear', 'rbf', 'poly', 'sigmoid']\n",
    "    test_results = []\n",
    "    for k in kernels:\n",
    "        test_mse = []\n",
    "        test_time = []\n",
    "        cv = KFold(25)\n",
    "        for tr_i, ts_i in cv.split(x_full, y_full):\n",
    "            x_tr, x_val = x_full[tr_i], x_full[ts_i]\n",
    "            y_tr, y_val = y_full[tr_i], y_full[ts_i]\n",
    "            test_model = MultiOutputRegressor(SVR(kernel=k))\n",
    "            start = time.time()\n",
    "            test_model.fit(x_tr, y_tr)\n",
    "            end = time.time()\n",
    "            \n",
    "            test_mse.append(mean_squared_error(y_val, test_model.predict(x_val)))\n",
    "            test_time.append(end - start)\n",
    "            \n",
    "        avg_test_mse, avg_test_time = np.mean(test_mse), np.mean(test_time)\n",
    "        test_results.append(([k for x in range(10)], test_mse, test_time))\n",
    "        print(f'{k} :: {avg_test_mse} {avg_test_time}')\n",
    "    return test_results"
   ]
  },
  {
   "cell_type": "code",
   "execution_count": 20,
   "id": "4f9dfaf8-ded0-4042-ab52-f189be145ed3",
   "metadata": {
    "tags": []
   },
   "outputs": [
    {
     "name": "stdout",
     "output_type": "stream",
     "text": [
      "linear :: 0.01599058216029009 0.002945547103881836\n",
      "rbf :: 0.016830243394539833 0.0028387737274169923\n",
      "poly :: 0.026219541837740987 0.04647672653198242\n",
      "sigmoid :: 0.02388111392163951 0.0024567317962646486\n"
     ]
    }
   ],
   "source": [
    "kernel_test_results = run_kernel_test()"
   ]
  },
  {
   "cell_type": "markdown",
   "id": "f8be0223-3f7f-405d-94df-cd73935c2d0c",
   "metadata": {
    "tags": []
   },
   "source": [
    "### Build Graphs for this Section"
   ]
  },
  {
   "cell_type": "code",
   "execution_count": 21,
   "id": "69d95879-e123-474c-84a3-d711e8f85cd4",
   "metadata": {
    "tags": []
   },
   "outputs": [],
   "source": [
    "temp = [ list(zip(x[0], x[1], x[2])) for x in kernel_test_results ]\n",
    "init_test_data = []\n",
    "for i in temp:\n",
    "    for j in i:\n",
    "        init_test_data.append(j)\n",
    "init_test_df = pd.DataFrame(data=init_test_data, columns=['kernel', 'mse', 'time'])"
   ]
  },
  {
   "cell_type": "code",
   "execution_count": 22,
   "id": "15cb2e63-2834-4d8f-9d29-2d09e9ae0963",
   "metadata": {
    "tags": []
   },
   "outputs": [],
   "source": [
    "sns.set(rc={'figure.figsize':(20,10)}, font_scale=1.5)"
   ]
  },
  {
   "cell_type": "code",
   "execution_count": 27,
   "id": "6faa0d9c-47a6-4f02-9ff0-af83aa114ab6",
   "metadata": {
    "tags": []
   },
   "outputs": [],
   "source": [
    "# kernel_mse_plot = sns.boxplot(x='kernel', y='mse', data=init_test_df)\n",
    "# kernel_mse_plot.set(title='Effects on MSE from Kernel')\n",
    "# kernel_mse_plot.figure.savefig('graphs/rie_kernel_mse.png')"
   ]
  },
  {
   "cell_type": "code",
   "execution_count": 30,
   "id": "c5ab8bd1-574f-4262-8cfc-b21f253b4473",
   "metadata": {
    "tags": []
   },
   "outputs": [],
   "source": [
    "# kernel_time_plot = sns.boxplot(x='kernel', y='time', data=init_test_df)\n",
    "# kernel_time_plot.set(title='Effects on Time from Kernel')\n",
    "# kernel_time_plot.figure.savefig('graphs/rie_kernel_time.png')"
   ]
  },
  {
   "cell_type": "markdown",
   "id": "21985822-300f-406c-851c-9aae52a64e96",
   "metadata": {
    "tags": []
   },
   "source": [
    "## Testing C"
   ]
  },
  {
   "cell_type": "code",
   "execution_count": 23,
   "id": "c10da29c-5f0c-4ac9-8b41-6073d9aa0c4d",
   "metadata": {
    "tags": []
   },
   "outputs": [],
   "source": [
    "def run_c_test():\n",
    "    cs = [.1, 1, 10, 100, 1000]\n",
    "    test_results = []\n",
    "    for c in cs:\n",
    "        test_mse = []\n",
    "        test_time = []\n",
    "        cv = KFold(25)\n",
    "        for tr_i, ts_i in cv.split(x_full, y_full):\n",
    "            x_tr, x_val = x_full[tr_i], x_full[ts_i]\n",
    "            y_tr, y_val = y_full[tr_i], y_full[ts_i]\n",
    "            test_model = MultiOutputRegressor(SVR(C=c))\n",
    "            start = time.time()\n",
    "            test_model.fit(x_tr, y_tr)\n",
    "            end = time.time()\n",
    "            \n",
    "            test_mse.append(mean_squared_error(y_val, test_model.predict(x_val)))\n",
    "            test_time.append(end - start)\n",
    "            \n",
    "        avg_test_mse, avg_test_time = np.mean(test_mse), np.mean(test_time)\n",
    "        test_results.append(([c for x in range(10)], test_mse, test_time))\n",
    "        print(f'{c} :: {avg_test_mse} {avg_test_time}')\n",
    "    return test_results"
   ]
  },
  {
   "cell_type": "code",
   "execution_count": 24,
   "id": "6c959cee-652b-455f-bd72-c031031559da",
   "metadata": {
    "tags": []
   },
   "outputs": [
    {
     "name": "stdout",
     "output_type": "stream",
     "text": [
      "0.1 :: 0.016398763117512868 0.0030710506439208985\n",
      "1 :: 0.016830243394539833 0.0026800155639648436\n",
      "10 :: 0.018694532951027937 0.002679758071899414\n",
      "100 :: 0.0186931817360974 0.0028707408905029297\n",
      "1000 :: 0.018693922644202533 0.003558511734008789\n"
     ]
    }
   ],
   "source": [
    "c_test_results = run_c_test()"
   ]
  },
  {
   "cell_type": "markdown",
   "id": "caed29ab-0ae1-403b-a7b7-38aaefeff5fb",
   "metadata": {
    "tags": []
   },
   "source": [
    "### Building Graphs"
   ]
  },
  {
   "cell_type": "code",
   "execution_count": 25,
   "id": "82e10ce2-be98-476f-b6b1-424d8a5e4f72",
   "metadata": {
    "tags": []
   },
   "outputs": [],
   "source": [
    "temp = [ list(zip(x[0], x[1], x[2])) for x in c_test_results ]\n",
    "init_test_data = []\n",
    "for i in temp:\n",
    "    for j in i:\n",
    "        init_test_data.append(j)\n",
    "init_test_df = pd.DataFrame(data=init_test_data, columns=['c', 'mse', 'time'])"
   ]
  },
  {
   "cell_type": "code",
   "execution_count": 41,
   "id": "f9f8031d-93e8-468a-a677-b49ac10b0895",
   "metadata": {
    "tags": []
   },
   "outputs": [],
   "source": [
    "# c_mse_plot = sns.boxplot(x='c', y='mse', data=init_test_df)\n",
    "# c_mse_plot.set(title='Effects on MSE from C')\n",
    "# c_mse_plot.figure.savefig('graphs/rie_c_mse.png')"
   ]
  },
  {
   "cell_type": "code",
   "execution_count": 27,
   "id": "989df972-0baf-4790-b859-a8a806b8e2bc",
   "metadata": {
    "tags": []
   },
   "outputs": [],
   "source": [
    "# c_mse_plot = sns.boxplot(x='c', y='time', data=init_test_df)\n",
    "# c_mse_plot.set(title='Effects on Time from C')\n",
    "# c_mse_plot.figure.savefig('graphs/rie_c_time.png')"
   ]
  },
  {
   "cell_type": "markdown",
   "id": "37a3b860-3b83-4f55-87a0-26f45f29c4e6",
   "metadata": {
    "tags": []
   },
   "source": [
    "## Testing Degree"
   ]
  },
  {
   "cell_type": "code",
   "execution_count": 28,
   "id": "c5056bef-23eb-4834-9976-f64c9e769f19",
   "metadata": {
    "tags": []
   },
   "outputs": [],
   "source": [
    "def run_degree_test():\n",
    "    cs = [2, 3, 4, 5, 6]\n",
    "    test_results = []\n",
    "    for c in cs:\n",
    "        test_mse = []\n",
    "        test_time = []\n",
    "        cv = KFold(10)\n",
    "        for tr_i, ts_i in cv.split(x_full, y_full):\n",
    "            x_tr, x_val = x_full[tr_i], x_full[ts_i]\n",
    "            y_tr, y_val = y_full[tr_i], y_full[ts_i]\n",
    "            test_model = MultiOutputRegressor(SVR(degree=c, kernel='poly'))\n",
    "            start = time.time()\n",
    "            test_model.fit(x_tr, y_tr)\n",
    "            end = time.time()\n",
    "            \n",
    "            test_mse.append(mean_squared_error(y_val, test_model.predict(x_val)))\n",
    "            test_time.append(end - start)\n",
    "            \n",
    "        avg_test_mse, avg_test_time = np.mean(test_mse), np.mean(test_time)\n",
    "        test_results.append(([c for x in range(10)], test_mse, test_time))\n",
    "        print(f'{c} :: {avg_test_mse} {avg_test_time}')\n",
    "    return test_results"
   ]
  },
  {
   "cell_type": "code",
   "execution_count": 29,
   "id": "d3465c0c-4456-45f8-80eb-ec49f0884eb0",
   "metadata": {
    "tags": []
   },
   "outputs": [
    {
     "name": "stdout",
     "output_type": "stream",
     "text": [
      "2 :: 0.014199499078812567 0.00905160903930664\n",
      "3 :: 0.03156561620680872 0.04340729713439941\n",
      "4 :: 0.058051884923513083 0.22323141098022461\n",
      "5 :: 0.05837193439190027 0.10412049293518066\n",
      "6 :: 0.06237992044822125 0.06386365890502929\n"
     ]
    }
   ],
   "source": [
    "degree_test_results = run_degree_test()"
   ]
  },
  {
   "cell_type": "code",
   "execution_count": 30,
   "id": "4d387b54-2ddb-4414-b9e3-960118c639e6",
   "metadata": {
    "tags": []
   },
   "outputs": [],
   "source": [
    "temp = [ list(zip(x[0], x[1], x[2])) for x in degree_test_results ]\n",
    "init_test_data = []\n",
    "for i in temp:\n",
    "    for j in i:\n",
    "        init_test_data.append(j)\n",
    "init_test_df = pd.DataFrame(data=init_test_data, columns=['degree', 'mse', 'time'])"
   ]
  },
  {
   "cell_type": "code",
   "execution_count": 31,
   "id": "a7cb9b78-0b31-4092-b93d-a1374f9a6c85",
   "metadata": {
    "tags": []
   },
   "outputs": [],
   "source": [
    "# deg_mse_plot = sns.boxplot(x='degree', y='mse', data=init_test_df)\n",
    "# deg_mse_plot.set(title='Effects on MSE from Degree of Polynomial')\n",
    "# deg_mse_plot.figure.savefig('graphs/rie_deg_mse.png')"
   ]
  },
  {
   "cell_type": "code",
   "execution_count": 34,
   "id": "e5704376-b624-4bb3-bdba-7c17b8b7b341",
   "metadata": {
    "tags": []
   },
   "outputs": [],
   "source": [
    "# deg_mse_plot = sns.boxplot(x='degree', y='time', data=init_test_df)\n",
    "# deg_mse_plot.set(title='Effects on Time from Degree of Polynomial')\n",
    "# deg_mse_plot.figure.savefig('graphs/rie_deg_time.png')"
   ]
  },
  {
   "cell_type": "markdown",
   "id": "b5bf37a0-0610-4edd-aba5-ef92abbbabf1",
   "metadata": {},
   "source": [
    "# Hyper-Parameter Tuning"
   ]
  },
  {
   "cell_type": "code",
   "execution_count": 53,
   "id": "d971cf81-c441-474e-9e98-3e2cd5c77249",
   "metadata": {},
   "outputs": [],
   "source": [
    "SPACE = [\n",
    "    skopt.space.Categorical(['rbf', 'sigmoid', 'poly'], name='kernel'),\n",
    "    skopt.space.Categorical([2, 3, 4], name='degree'),\n",
    "    skopt.space.Real(1e-1, 1e3, prior='log-uniform', name='C'),\n",
    "    skopt.space.Real(1e-2, 4, prior='log-uniform', name='epsilon')\n",
    "]"
   ]
  },
  {
   "cell_type": "code",
   "execution_count": 56,
   "id": "9efe649a-a1e5-4d0b-9764-9b5ec9a2c6d2",
   "metadata": {},
   "outputs": [],
   "source": [
    "@skopt.utils.use_named_args(SPACE)\n",
    "def objective(**params):\n",
    "    mse_scores = []\n",
    "    \n",
    "    cv = LeaveOneOut()\n",
    "    for train_idx, val_idx in cv.split(x_full, y_full):\n",
    "        x_tr, x_val, = x_full[train_idx], x_full[val_idx]\n",
    "        y_tr, y_val = y_full[train_idx], y_full[val_idx]\n",
    "        \n",
    "        model = MultiOutputRegressor(SVR(\n",
    "            kernel=params['kernel'],\n",
    "            degree=params['degree'], # only used with poly kernel\n",
    "            C=params['C'],\n",
    "            epsilon=params['epsilon']\n",
    "        ))\n",
    "        \n",
    "        model.fit(x_tr, y_tr)\n",
    "        trial_score = mean_squared_error(y_val, model.predict(x_val))\n",
    "        mse_scores.append(trial_score)\n",
    "    print(f'Avg Validation MSE: {np.mean(mse_scores)}')\n",
    "    return np.mean(mse_scores)"
   ]
  },
  {
   "cell_type": "code",
   "execution_count": 63,
   "id": "b8433c57-0147-4c2b-90d4-80eaae3b072d",
   "metadata": {},
   "outputs": [
    {
     "name": "stdout",
     "output_type": "stream",
     "text": [
      "Avg Validation MSE: 0.020797176476729812\n",
      "Avg Validation MSE: 0.021068441828763863\n",
      "Avg Validation MSE: 0.05316612402883089\n",
      "Avg Validation MSE: 0.019548004517721266\n",
      "Avg Validation MSE: 0.05316612402883089\n",
      "Avg Validation MSE: 0.013665698125326737\n",
      "Avg Validation MSE: 0.05316612402883089\n",
      "Avg Validation MSE: 0.02169298861835189\n",
      "Avg Validation MSE: 0.04445293096694469\n",
      "Avg Validation MSE: 0.05316612402883089\n"
     ]
    }
   ],
   "source": [
    "opt_results = gp_minimize(objective, SPACE, n_calls=10, random_state=2)"
   ]
  },
  {
   "cell_type": "code",
   "execution_count": 64,
   "id": "020503fd-7405-4114-842c-d717b8abbb89",
   "metadata": {},
   "outputs": [],
   "source": [
    "dump(opt_results, 'tuning/opt_results.pkl')"
   ]
  },
  {
   "cell_type": "code",
   "execution_count": 65,
   "id": "581690a9-64f4-4bab-a3f0-d4f799c10d97",
   "metadata": {},
   "outputs": [],
   "source": [
    "opt_loaded = load('tuning/opt_results.pkl')"
   ]
  },
  {
   "cell_type": "code",
   "execution_count": 66,
   "id": "66cb10ee-8bb1-45e9-8730-3e896dba4866",
   "metadata": {},
   "outputs": [
    {
     "name": "stdout",
     "output_type": "stream",
     "text": [
      "\n",
      "    Best Avg. Val MSE: 0.0137\n",
      "    Best Parameters:\n",
      "    - Kernel: rbf\n",
      "    - Degree: 3\n",
      "    - C: 0.2915904327209439\n",
      "    - Epsilon: 0.029707400715588302\n",
      "    \n",
      "\n"
     ]
    }
   ],
   "source": [
    "print(f\"\"\"\n",
    "    Best Avg. Val MSE: {opt_loaded.fun:.4f}\n",
    "    Best Parameters:\n",
    "    - Kernel: {opt_loaded.x[0]}\n",
    "    - Degree: {opt_loaded.x[1]}\n",
    "    - C: {opt_loaded.x[2]}\n",
    "    - Epsilon: {opt_loaded.x[3]}\n",
    "    \n",
    "\"\"\")"
   ]
  },
  {
   "cell_type": "code",
   "execution_count": 67,
   "id": "95a6d176-f483-45c0-a101-59f0e844b51b",
   "metadata": {},
   "outputs": [
    {
     "data": {
      "text/plain": [
       "<AxesSubplot:title={'center':'Convergence plot'}, xlabel='Number of calls $n$', ylabel='$\\\\min f(x)$ after $n$ calls'>"
      ]
     },
     "execution_count": 67,
     "metadata": {},
     "output_type": "execute_result"
    },
    {
     "data": {
      "image/png": "[encoded data removed]",
      "text/plain": [
       "<Figure size 1440x720 with 1 Axes>"
      ]
     },
     "metadata": {},
     "output_type": "display_data"
    }
   ],
   "source": [
    "plot_convergence(opt_loaded)"
   ]
  },
  {
   "cell_type": "markdown",
   "id": "ebfc205e-073e-494b-8cf4-e666443923ab",
   "metadata": {},
   "source": [
    "# Model Performance & Evaluation"
   ]
  },
  {
   "cell_type": "code",
   "execution_count": 68,
   "id": "7d918b2a-df4f-4752-b077-40ad8c76780e",
   "metadata": {},
   "outputs": [
    {
     "data": {
      "text/plain": [
       "['rbf', 3, 0.2915904327209439, 0.029707400715588302]"
      ]
     },
     "execution_count": 68,
     "metadata": {},
     "output_type": "execute_result"
    }
   ],
   "source": [
    "opt_loaded.x"
   ]
  },
  {
   "cell_type": "code",
   "execution_count": 69,
   "id": "ef5dc9b6-7ea1-4ebf-970c-910d8a1f3428",
   "metadata": {},
   "outputs": [],
   "source": [
    "regressor = MultiOutputRegressor(SVR(\n",
    "    kernel='poly',\n",
    "    degree=2,\n",
    "    C=1.9795388574374426,\n",
    "    epsilon=0.02451675480274238\n",
    "))"
   ]
  },
  {
   "cell_type": "code",
   "execution_count": 70,
   "id": "170c2e48-fc56-45fc-a592-91909e67d648",
   "metadata": {},
   "outputs": [
    {
     "data": {
      "text/plain": [
       "MultiOutputRegressor(estimator=SVR(C=1.9795388574374426, degree=2,\n",
       "                                   epsilon=0.02451675480274238, kernel='poly'))"
      ]
     },
     "execution_count": 70,
     "metadata": {},
     "output_type": "execute_result"
    }
   ],
   "source": [
    "regressor.fit(x_full, y_full)"
   ]
  },
  {
   "cell_type": "code",
   "execution_count": 72,
   "id": "7729d828-cc85-48f0-bb23-d07170d8a3b5",
   "metadata": {},
   "outputs": [],
   "source": [
    "predictions = regressor.predict(x_full)"
   ]
  },
  {
   "cell_type": "code",
   "execution_count": 73,
   "id": "94fc7a09-04c1-4187-9a88-d51667601dc2",
   "metadata": {},
   "outputs": [
    {
     "data": {
      "text/plain": [
       "0.006225448163869978"
      ]
     },
     "execution_count": 73,
     "metadata": {},
     "output_type": "execute_result"
    }
   ],
   "source": [
    "mean_squared_error(predictions, y_full)"
   ]
  },
  {
   "cell_type": "code",
   "execution_count": 75,
   "id": "4e8f834d-9575-4bed-a040-8cd0a06c8818",
   "metadata": {},
   "outputs": [
    {
     "data": {
      "text/plain": [
       "0.7688026534721795"
      ]
     },
     "execution_count": 75,
     "metadata": {},
     "output_type": "execute_result"
    }
   ],
   "source": [
    "r2_score(y_full, predictions)"
   ]
  },
  {
   "cell_type": "code",
   "execution_count": 77,
   "id": "3f09f7c6-0f3b-4766-b34c-b6ad9665d78c",
   "metadata": {},
   "outputs": [],
   "source": [
    "errors = y_full - predictions"
   ]
  },
  {
   "cell_type": "code",
   "execution_count": 78,
   "id": "8e52f6ca-fd3f-47c6-8946-973516ecc57d",
   "metadata": {},
   "outputs": [
    {
     "data": {
      "text/plain": [
       "[Text(0.5, 0, 'Error'), Text(0.5, 1.0, 'Binned Error Counts')]"
      ]
     },
     "execution_count": 78,
     "metadata": {},
     "output_type": "execute_result"
    },
    {
     "data": {
      "image/png": "[encoded data removed]",
      "text/plain": [
       "<Figure size 1440x720 with 1 Axes>"
      ]
     },
     "metadata": {},
     "output_type": "display_data"
    }
   ],
   "source": [
    "ax = sns.histplot(data=errors, bins=10)\n",
    "ax.set(xlabel='Error', title='Binned Error Counts')"
   ]
  },
  {
   "cell_type": "code",
   "execution_count": 80,
   "id": "9b2d0be6-9731-4997-ae9d-1f593b1623ff",
   "metadata": {},
   "outputs": [],
   "source": [
    "y_test_etch_rate = [ x[0] for x in y_full ] \n",
    "predictions_etch_rate = np.array([ x[0] for x in predictions ])\n",
    "y_test_etch_uni = [ x[1] for x in y_full ] \n",
    "predictions_etch_uni = np.array([ x[1] for x in predictions ])\n",
    "y_test_ox_sel = [ x[2] for x in y_full ] \n",
    "predictions_ox_sel = np.array([ x[2] for x in predictions ])\n",
    "y_test_pho_sel = [ x[3] for x in y_full ] \n",
    "predictions_pho_sel = np.array([ x[3] for x in predictions ])"
   ]
  },
  {
   "cell_type": "markdown",
   "id": "94c08a71-a3e5-444f-b750-2a4df6d50325",
   "metadata": {},
   "source": [
    "## $R^2$ Scores"
   ]
  },
  {
   "cell_type": "code",
   "execution_count": 81,
   "id": "f62844ea-d6d7-484b-808e-9694efab1381",
   "metadata": {},
   "outputs": [
    {
     "name": "stdout",
     "output_type": "stream",
     "text": [
      "\n",
      "    Etch Rate: 0.8512406545469282\n",
      "    Etch Uni.: 0.5379127123979552\n",
      "    Ox. Sel. : 0.8568530995242718\n",
      "    Photo Sel: 0.8292041474195624\n",
      "\n"
     ]
    }
   ],
   "source": [
    "print(f'''\n",
    "    Etch Rate: {r2_score(y_test_etch_rate, predictions_etch_rate)}\n",
    "    Etch Uni.: {r2_score(y_test_etch_uni, predictions_etch_uni)}\n",
    "    Ox. Sel. : {r2_score(y_test_ox_sel, predictions_ox_sel)}\n",
    "    Photo Sel: {r2_score(y_test_pho_sel, predictions_pho_sel)}\n",
    "''')"
   ]
  },
  {
   "cell_type": "code",
   "execution_count": 87,
   "id": "221301de-1e0d-481a-8cbc-98750079fc36",
   "metadata": {},
   "outputs": [],
   "source": [
    "sns.set(rc={'figure.figsize':(10,7)}, font_scale=1.5)"
   ]
  },
  {
   "cell_type": "code",
   "execution_count": 90,
   "id": "f538ab11-3e67-419b-a5a5-e0c8779bedd0",
   "metadata": {},
   "outputs": [
    {
     "data": {
      "text/plain": [
       "[Text(0.5, 0, 'Actual Value'),\n",
       " Text(0, 0.5, 'Predicted Value'),\n",
       " Text(0.5, 1.0, 'Etch Rate')]"
      ]
     },
     "execution_count": 90,
     "metadata": {},
     "output_type": "execute_result"
    },
    {
     "data": {
      "image/png": "[encoded data removed]",
      "text/plain": [
       "<Figure size 720x504 with 1 Axes>"
      ]
     },
     "metadata": {},
     "output_type": "display_data"
    }
   ],
   "source": [
    "ax = sns.scatterplot(x=y_test_etch_rate, y=predictions_etch_rate)\n",
    "ax.set(xlabel='Actual Value', ylabel='Predicted Value', title='Etch Rate')\n",
    "# plt.savefig('graphs/rie_ap_etch_rate.png')"
   ]
  },
  {
   "cell_type": "code",
   "execution_count": 93,
   "id": "c7be896f-7007-49c8-812a-24dae4c3f262",
   "metadata": {},
   "outputs": [
    {
     "data": {
      "text/plain": [
       "[Text(0.5, 0, 'Actual Value'),\n",
       " Text(0, 0.5, 'Predicted Value'),\n",
       " Text(0.5, 1.0, 'Etch Uniformity')]"
      ]
     },
     "execution_count": 93,
     "metadata": {},
     "output_type": "execute_result"
    },
    {
     "data": {
      "image/png": "[encoded data removed]",
      "text/plain": [
       "<Figure size 720x504 with 1 Axes>"
      ]
     },
     "metadata": {},
     "output_type": "display_data"
    }
   ],
   "source": [
    "ax = sns.scatterplot(x=y_test_etch_uni, y=predictions_etch_uni)\n",
    "ax.set(xlabel='Actual Value', ylabel='Predicted Value', title='Etch Uniformity')\n",
    "# plt.savefig('rie_ap_etch_uni.png')"
   ]
  },
  {
   "cell_type": "code",
   "execution_count": 96,
   "id": "a8f8bc43-820f-451e-ba67-426fec16be8f",
   "metadata": {},
   "outputs": [
    {
     "data": {
      "text/plain": [
       "[Text(0.5, 0, 'Actual Value'),\n",
       " Text(0, 0.5, 'Predicted Value'),\n",
       " Text(0.5, 1.0, 'Oxide Selectivity')]"
      ]
     },
     "execution_count": 96,
     "metadata": {},
     "output_type": "execute_result"
    },
    {
     "data": {
      "image/png": "[encoded data removed]",
      "text/plain": [
       "<Figure size 720x504 with 1 Axes>"
      ]
     },
     "metadata": {},
     "output_type": "display_data"
    }
   ],
   "source": [
    "ax = sns.scatterplot(x=y_test_ox_sel, y=predictions_ox_sel)\n",
    "ax.set(xlabel='Actual Value', ylabel='Predicted Value', title='Oxide Selectivity')\n",
    "# plt.savefig('rie_ap_ox_sel.png')"
   ]
  },
  {
   "cell_type": "code",
   "execution_count": 99,
   "id": "48fe3fac-985d-4327-b8ee-f4facba7c90d",
   "metadata": {},
   "outputs": [
    {
     "data": {
      "text/plain": [
       "[Text(0.5, 0, 'Actual Value'),\n",
       " Text(0, 0.5, 'Predicted Value'),\n",
       " Text(0.5, 1.0, 'Photoresist Selectivity')]"
      ]
     },
     "execution_count": 99,
     "metadata": {},
     "output_type": "execute_result"
    },
    {
     "data": {
      "image/png": "[encoded data removed]",
      "text/plain": [
       "<Figure size 720x504 with 1 Axes>"
      ]
     },
     "metadata": {},
     "output_type": "display_data"
    }
   ],
   "source": [
    "ax = sns.scatterplot(x=y_test_pho_sel, y=predictions_pho_sel)\n",
    "ax.set(xlabel='Actual Value', ylabel='Predicted Value', title='Photoresist Selectivity')\n",
    "# plt.savefig('rie_ap_photo_sel.png')"
   ]
  },
  {
   "cell_type": "code",
   "execution_count": null,
   "id": "a7784390-cc74-40ab-92c6-f716089add9c",
   "metadata": {},
   "outputs": [],
   "source": []
  }
 ],
 "metadata": {
  "kernelspec": {
   "display_name": "Python 3 (ipykernel)",
   "language": "python",
   "name": "python3"
  },
  "language_info": {
   "codemirror_mode": {
    "name": "ipython",
    "version": 3
   },
   "file_extension": ".py",
   "mimetype": "text/x-python",
   "name": "python",
   "nbconvert_exporter": "python",
   "pygments_lexer": "ipython3",
   "version": "3.7.11"
  }
 },
 "nbformat": 4,
 "nbformat_minor": 5
}
