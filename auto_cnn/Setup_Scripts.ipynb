{
 "cells": [
  {
   "cell_type": "code",
   "execution_count": 93,
   "id": "eca51da2-4b5f-4f94-a5cb-8ffcb1892ade",
   "metadata": {},
   "outputs": [],
   "source": [
    "from tensorflow import keras\n",
    "from sklearn.metrics import accuracy_score, classification_report\n",
    "import pandas as pd\n",
    "import numpy as np\n",
    "import skopt\n",
    "from sklearn.model_selection import KFold\n",
    "import pickle\n",
    "import matplotlib.pyplot as plt\n",
    "from skopt.plots import plot_convergence"
   ]
  },
  {
   "cell_type": "code",
   "execution_count": 2,
   "id": "bac4f0d2-d0e7-4962-846e-bab695ed2a6e",
   "metadata": {},
   "outputs": [],
   "source": [
    "train = pd.read_csv('./fashion-mnist_train.csv').to_numpy()\n",
    "test = pd.read_csv('./fashion-mnist_test.csv').to_numpy()"
   ]
  },
  {
   "cell_type": "code",
   "execution_count": 3,
   "id": "ce86a8d6-c6f9-4f1d-90fa-ddb6c7cbb597",
   "metadata": {},
   "outputs": [],
   "source": [
    "N_CLASSES = 10"
   ]
  },
  {
   "cell_type": "code",
   "execution_count": 4,
   "id": "0513f38e-d6cd-4ef6-959e-d3cfc94a479e",
   "metadata": {},
   "outputs": [],
   "source": [
    "x_train = train[:,1:] / 255.0\n",
    "y_train = train[:,0]\n",
    "x_test = test[:,1:] / 255.0\n",
    "y_test = test[:,0]"
   ]
  },
  {
   "cell_type": "code",
   "execution_count": 5,
   "id": "37cc4d09-f5a0-4c4f-8430-b2cd21dd1d9f",
   "metadata": {},
   "outputs": [],
   "source": [
    "# Preprocess data for cnn\n",
    "x_train_cnn = x_train.reshape(x_train.shape[0], 28, 28, 1)\n",
    "x_test_cnn = x_test.reshape(x_test.shape[0], 28, 28, 1)"
   ]
  },
  {
   "cell_type": "code",
   "execution_count": 58,
   "id": "c4ea4c8c-bc1b-46be-901f-e97f3554800e",
   "metadata": {},
   "outputs": [],
   "source": [
    "def build_cnn(n_units=[500], n_hidden_layers=1, learning_rate=1e-3, activation='relu', dropout=0.0, optimizer='adam', n_filters=32, kernel_size=3, pool_size=3):\n",
    "    model = keras.models.Sequential()\n",
    "    \n",
    "    # Add convolutional layer\n",
    "    model.add(keras.layers.Conv2D(\n",
    "        filters=n_filters,\n",
    "        kernel_size=(kernel_size, kernel_size),\n",
    "        activation=activation,\n",
    "        name='convolutional_layer'\n",
    "    ))\n",
    "    # Add max pooling layer\n",
    "    model.add(keras.layers.MaxPooling2D(\n",
    "        pool_size=(pool_size, pool_size),\n",
    "        name='max_pooling_layer'\n",
    "    ))\n",
    "    \n",
    "    # Add fully connected layer\n",
    "    for i in range(n_hidden_layers):\n",
    "        model.add(keras.layers.Dense(units=n_units[i], activation=activation, name=f'hidden_layer_{i}'))\n",
    "        \n",
    "    model.add(keras.layers.Flatten())\n",
    "    \n",
    "    # Output layer\n",
    "    model.add(keras.layers.Dense(units=N_CLASSES, activation='softmax', name='output_layer'))\n",
    "    \n",
    "    opt = None\n",
    "    if optimizer == 'adam':\n",
    "        opt = keras.optimizers.Adam(learning_rate=learning_rate)\n",
    "    else:\n",
    "        opt = keras.optimizers.SGD(learning_rate=learning_rate)\n",
    "    \n",
    "    model.compile(\n",
    "        loss='sparse_categorical_crossentropy',\n",
    "        optimizer=opt,\n",
    "        metrics=['accuracy']\n",
    "    )\n",
    "    \n",
    "    return model"
   ]
  },
  {
   "cell_type": "code",
   "execution_count": 59,
   "id": "708f748c-7a65-4fc9-9bdb-8205c53ea3e9",
   "metadata": {},
   "outputs": [],
   "source": [
    "SPACE = [\n",
    "    skopt.space.Integer(100, 700, name='n_units_one'),\n",
    "    skopt.space.Integer(50, 500, name='n_units_two'),\n",
    "    skopt.space.Real(1e-4, .1, prior='log-uniform', name='learning_rate'),\n",
    "    skopt.space.Categorical(['relu', 'selu', 'tanh'], name='activation'),\n",
    "    skopt.space.Real(0.0, .5, name='dropout_rate'),\n",
    "    skopt.space.Categorical(['adam', 'sgd'], name='optimizer'),\n",
    "    skopt.space.Integer(8, 56, name='n_filters'),\n",
    "    skopt.space.Integer(1, 5, name='kernel_size'),\n",
    "    skopt.space.Integer(1, 5, name='pool_size')\n",
    "]"
   ]
  },
  {
   "cell_type": "code",
   "execution_count": 73,
   "id": "cbc91609-a075-4773-9cba-1388885dbfa3",
   "metadata": {},
   "outputs": [],
   "source": [
    "N_CALLS = 10"
   ]
  },
  {
   "cell_type": "code",
   "execution_count": 74,
   "id": "8ab41eae-1b73-4555-9115-b45e33987edf",
   "metadata": {},
   "outputs": [],
   "source": [
    "model_calls = [ i for i in range(N_CALLS) ]\n",
    "model_dict = {}"
   ]
  },
  {
   "cell_type": "code",
   "execution_count": 75,
   "id": "63b72648-ffca-4014-9b88-8ae74b95d02a",
   "metadata": {},
   "outputs": [],
   "source": [
    "EARLY_STOPPING = keras.callbacks.EarlyStopping(monitor='val_accuracy', patience=5)"
   ]
  },
  {
   "cell_type": "code",
   "execution_count": 116,
   "id": "17490558-2837-4206-8f4a-a38ff88db223",
   "metadata": {},
   "outputs": [],
   "source": [
    "@skopt.utils.use_named_args(SPACE)\n",
    "def objective(**params):\n",
    "    model_num = model_calls.pop(0)\n",
    "    \n",
    "    cv = KFold(5)\n",
    "    \n",
    "    path = f'./test_models/cnn_checkpoint_{model_num}.h5'\n",
    "    checkpoint = keras.callbacks.ModelCheckpoint(\n",
    "        monitor='val_loss',\n",
    "        filepath=path,\n",
    "        verbose=0,\n",
    "        save_weights_only=True,\n",
    "        save_best_only=True\n",
    "    )\n",
    "    scores = []\n",
    "    for tr_idx, vl_idx in cv.split(x_train_cnn, y_train):\n",
    "        x_tr, x_vl = x_train_cnn[tr_idx], x_train_cnn[vl_idx]\n",
    "        y_tr, y_vl = y_train[tr_idx], y_train[vl_idx]\n",
    "        \n",
    "        ts_model = build_cnn(\n",
    "            n_units=[params['n_units_one'], params['n_units_two']],\n",
    "            n_hidden_layers=2,\n",
    "            learning_rate=params['learning_rate'],\n",
    "            activation=params['activation'],\n",
    "            dropout=params['dropout_rate'],\n",
    "            optimizer=params['optimizer'],\n",
    "            n_filters=params['n_filters'],\n",
    "            kernel_size=params['kernel_size'],\n",
    "            pool_size=params['pool_size']\n",
    "        )\n",
    "        \n",
    "        ts_model.fit(x_tr, y_tr, validation_data=(x_vl, y_vl), callbacks=[EARLY_STOPPING, checkpoint], epochs=30, verbose=0)\n",
    "        \n",
    "        ts_predictions = ts_model.predict(x_vl)\n",
    "        class_predictions = [ np.argmax(x) for x in ts_predictions ]\n",
    "        score = accuracy_score(class_predictions, y_vl)\n",
    "        scores.append(score)\n",
    "        \n",
    "    print(f'--------------------------------------------------')\n",
    "    print(f'Run #{model_num}')\n",
    "    print(f'Avg. Val. Acc. :: {np.mean(scores)}')\n",
    "    \n",
    "    model_dict[model_num] = {\n",
    "        'n_units': [params['n_units_one'], params['n_units_two']],\n",
    "        'learning_rate': params['learning_rate'],\n",
    "        'activation': params['activation'],\n",
    "        'dropout': params['dropout_rate'],\n",
    "        'optimizer': params['optimizer'],\n",
    "        'n_filters': params['n_filters'],\n",
    "        'kernel_size': params['kernel_size'],\n",
    "        'pool_size': params['pool_size'],\n",
    "        'path': path,\n",
    "        'avg_score': np.mean(score)\n",
    "    }\n",
    "    \n",
    "    return -np.mean(scores)"
   ]
  },
  {
   "cell_type": "code",
   "execution_count": 77,
   "id": "5164829f-cfd2-4e01-a74a-9cb0c7d6bc9a",
   "metadata": {
    "tags": []
   },
   "outputs": [
    {
     "name": "stdout",
     "output_type": "stream",
     "text": [
      "938/938 [==============================] - 73s 78ms/step - loss: 296.4224 - accuracy: 0.7123 - val_loss: 375.7972 - val_accuracy: 0.6520\n",
      "938/938 [==============================] - 73s 77ms/step - loss: 292.0711 - accuracy: 0.7154 - val_loss: 620.3167 - val_accuracy: 0.7238\n",
      "--------------------------------------------------\n",
      "Run #0\n",
      "Avg. Val. Acc. :: 0.6879333333333333\n",
      "938/938 [==============================] - 15s 15ms/step - loss: 0.5486 - accuracy: 0.8037 - val_loss: 0.4908 - val_accuracy: 0.8195\n",
      "938/938 [==============================] - 15s 15ms/step - loss: 0.5511 - accuracy: 0.8048 - val_loss: 0.4653 - val_accuracy: 0.8354\n",
      "--------------------------------------------------\n",
      "Run #1\n",
      "Avg. Val. Acc. :: 0.82745\n",
      "938/938 [==============================] - 19s 20ms/step - loss: 1.2029 - accuracy: 0.6428 - val_loss: 0.7328 - val_accuracy: 0.7330\n",
      "938/938 [==============================] - 24s 23ms/step - loss: 1.2196 - accuracy: 0.6450 - val_loss: 0.7333 - val_accuracy: 0.7541\n",
      "--------------------------------------------------\n",
      "Run #2\n",
      "Avg. Val. Acc. :: 0.7435499999999999\n",
      "938/938 [==============================] - 41s 44ms/step - loss: 0.4623 - accuracy: 0.8333 - val_loss: 0.3812 - val_accuracy: 0.8647\n",
      "938/938 [==============================] - 43s 45ms/step - loss: 0.4551 - accuracy: 0.8369 - val_loss: 0.3467 - val_accuracy: 0.8765\n",
      "--------------------------------------------------\n",
      "Run #3\n",
      "Avg. Val. Acc. :: 0.8706\n",
      "938/938 [==============================] - 10s 11ms/step - loss: 0.5253 - accuracy: 0.8113 - val_loss: 0.4306 - val_accuracy: 0.8488\n",
      "938/938 [==============================] - 9s 9ms/step - loss: 0.5368 - accuracy: 0.8030 - val_loss: 0.3974 - val_accuracy: 0.8607\n",
      "--------------------------------------------------\n",
      "Run #4\n",
      "Avg. Val. Acc. :: 0.85475\n",
      "938/938 [==============================] - 11s 12ms/step - loss: 1.7258 - accuracy: 0.7905 - val_loss: 0.5225 - val_accuracy: 0.8405\n",
      "938/938 [==============================] - 12s 12ms/step - loss: 2.0684 - accuracy: 0.7839 - val_loss: 0.5274 - val_accuracy: 0.8343\n",
      "--------------------------------------------------\n",
      "Run #5\n",
      "Avg. Val. Acc. :: 0.8373833333333334\n",
      "938/938 [==============================] - 64s 68ms/step - loss: 0.6666 - accuracy: 0.7668 - val_loss: 0.4925 - val_accuracy: 0.8231\n",
      "938/938 [==============================] - 60s 63ms/step - loss: 0.6577 - accuracy: 0.7674 - val_loss: 0.5476 - val_accuracy: 0.8023\n",
      "--------------------------------------------------\n",
      "Run #6\n",
      "Avg. Val. Acc. :: 0.8126833333333333\n",
      "938/938 [==============================] - 36s 38ms/step - loss: 1.0618 - accuracy: 0.6412 - val_loss: 0.7100 - val_accuracy: 0.7443\n",
      "938/938 [==============================] - 35s 37ms/step - loss: 1.0414 - accuracy: 0.6477 - val_loss: 0.7713 - val_accuracy: 0.7489\n",
      "--------------------------------------------------\n",
      "Run #7\n",
      "Avg. Val. Acc. :: 0.7466333333333333\n",
      "938/938 [==============================] - 10s 10ms/step - loss: 0.6886 - accuracy: 0.7638 - val_loss: 0.5120 - val_accuracy: 0.8168\n",
      "938/938 [==============================] - 10s 10ms/step - loss: 0.6994 - accuracy: 0.7556 - val_loss: 0.5169 - val_accuracy: 0.8075\n",
      "--------------------------------------------------\n",
      "Run #8\n",
      "Avg. Val. Acc. :: 0.8121666666666667\n",
      "938/938 [==============================] - 68s 72ms/step - loss: 0.9039 - accuracy: 0.7140 - val_loss: 0.5661 - val_accuracy: 0.8007\n",
      "938/938 [==============================] - 76s 81ms/step - loss: 0.9103 - accuracy: 0.7111 - val_loss: 0.6069 - val_accuracy: 0.7777\n",
      "--------------------------------------------------\n",
      "Run #9\n",
      "Avg. Val. Acc. :: 0.7891999999999999\n"
     ]
    }
   ],
   "source": [
    "# Run optimization\n",
    "opt_results = skopt.gp_minimize(objective, SPACE, n_calls=N_CALLS, random_state=0)\n",
    "skopt.dump(opt_results, './tuning/cnn_opt_results.pkl')"
   ]
  },
  {
   "cell_type": "code",
   "execution_count": 78,
   "id": "03362ca1-58da-46dc-b599-d41fedf3e71e",
   "metadata": {},
   "outputs": [],
   "source": [
    "opt_loaded = skopt.load('./tuning/cnn_opt_results.pkl')"
   ]
  },
  {
   "cell_type": "code",
   "execution_count": 101,
   "id": "ab52cc7a-aaaf-4cfe-ab1a-7cb7c58ee749",
   "metadata": {},
   "outputs": [],
   "source": [
    "with open('./tuning/cnn_model_dict.pickle', 'wb') as handle:\n",
    "    pickle.dump(model_dict, handle, protocol=pickle.HIGHEST_PROTOCOL)"
   ]
  },
  {
   "cell_type": "code",
   "execution_count": 102,
   "id": "baf8ddc4-65da-45db-9d29-282f56e0aa12",
   "metadata": {},
   "outputs": [],
   "source": [
    "with open('./tuning/cnn_model_dict.pickle', 'rb') as handle:\n",
    "    model_dict = pickle.load(handle)"
   ]
  },
  {
   "cell_type": "code",
   "execution_count": 103,
   "id": "b104d489-789b-4bcd-9471-3867ab125079",
   "metadata": {},
   "outputs": [],
   "source": [
    "# Find best values\n",
    "avg_scores = [ (i, val['avg_score']) for i, val in model_dict.items() ]\n",
    "max_val = 0\n",
    "max_idx = 0\n",
    "for i in avg_scores:\n",
    "    if i[1] > max_val:\n",
    "        max_val = i[1]\n",
    "        max_idx = i[0]"
   ]
  },
  {
   "cell_type": "code",
   "execution_count": 104,
   "id": "6f0e3213-672f-4e79-bb86-102f05919fe4",
   "metadata": {},
   "outputs": [],
   "source": [
    "bp = model_dict[max_idx]"
   ]
  },
  {
   "cell_type": "code",
   "execution_count": 105,
   "id": "543bf16a-4140-49a7-b8fa-93f25436c836",
   "metadata": {},
   "outputs": [
    {
     "name": "stdout",
     "output_type": "stream",
     "text": [
      "{'n_units': [555, 98], 'learning_rate': 0.002635125223136194, 'activation': 'relu', 'dropout': 0.3684590885644791, 'optimizer': 'adam', 'n_filters': 14, 'kernel_size': 2, 'pool_size': 2, 'avg_score': 0.87, 'path': './test_models/cnn_checkpoint_3.h5'}\n"
     ]
    }
   ],
   "source": [
    "print(bp)"
   ]
  },
  {
   "cell_type": "code",
   "execution_count": 106,
   "id": "de9e5752-e6ce-4fcd-9e16-98318806b1bb",
   "metadata": {},
   "outputs": [
    {
     "data": {
      "text/plain": [
       "<Figure size 432x288 with 0 Axes>"
      ]
     },
     "metadata": {},
     "output_type": "display_data"
    }
   ],
   "source": [
    "ax = plot_convergence(opt_loaded)\n",
    "plt.savefig('./plots/cnn_one_layer_convergence.png')\n",
    "plt.clf()"
   ]
  },
  {
   "cell_type": "code",
   "execution_count": 111,
   "id": "e67e8d8b-5893-45fe-9a65-293b0e06a623",
   "metadata": {},
   "outputs": [
    {
     "name": "stdout",
     "output_type": "stream",
     "text": [
      "1875/1875 [==============================] - 60s 32ms/step - loss: 0.3985 - accuracy: 0.8576\n"
     ]
    },
    {
     "name": "stderr",
     "output_type": "stream",
     "text": [
      "2022-04-26 00:43:33.160895: W tensorflow/python/util/util.cc:368] Sets are not currently considered sequences, but this may change in the future, so consider avoiding using them.\n"
     ]
    },
    {
     "name": "stdout",
     "output_type": "stream",
     "text": [
      "INFO:tensorflow:Assets written to: ./models/cnn_one_layer/assets\n"
     ]
    }
   ],
   "source": [
    "final_model = build_cnn(\n",
    "    n_units=[bp['n_units'][0], bp['n_units'][1]],\n",
    "    n_hidden_layers=2,\n",
    "    learning_rate=bp['learning_rate'],\n",
    "    activation=bp['activation'],\n",
    "    dropout=bp['dropout'],\n",
    "    optimizer=bp['optimizer'],\n",
    "    n_filters=bp['n_filters'],\n",
    "    kernel_size=bp['kernel_size'],\n",
    "    pool_size=bp['pool_size']\n",
    ")\n",
    "final_model.fit(x_train_cnn, y_train, epochs=1)\n",
    "final_model.load_weights(bp['path'])\n",
    "final_model.save('./models/cnn_one_layer/')"
   ]
  },
  {
   "cell_type": "code",
   "execution_count": 113,
   "id": "add0736b-0eea-458e-92a0-7f64e94d808a",
   "metadata": {},
   "outputs": [
    {
     "name": "stdout",
     "output_type": "stream",
     "text": [
      "              precision    recall  f1-score   support\n",
      "\n",
      "           0       0.82      0.81      0.82      1000\n",
      "           1       0.98      0.97      0.97      1000\n",
      "           2       0.75      0.88      0.81      1000\n",
      "           3       0.88      0.91      0.89      1000\n",
      "           4       0.80      0.84      0.82      1000\n",
      "           5       0.96      0.96      0.96      1000\n",
      "           6       0.75      0.53      0.62      1000\n",
      "           7       0.95      0.93      0.94      1000\n",
      "           8       0.93      0.98      0.96      1000\n",
      "           9       0.94      0.97      0.96      1000\n",
      "\n",
      "    accuracy                           0.88     10000\n",
      "   macro avg       0.88      0.88      0.88     10000\n",
      "weighted avg       0.88      0.88      0.88     10000\n",
      "\n"
     ]
    }
   ],
   "source": [
    "final_model_predictions = final_model.predict(x_test_cnn)\n",
    "class_predictions = [ np.argmax(x) for x in final_model_predictions ]\n",
    "print(classification_report(y_test, class_predictions))"
   ]
  },
  {
   "cell_type": "code",
   "execution_count": 115,
   "id": "4a01fbe2-23ad-44d4-9b1d-27dc3f9147b8",
   "metadata": {},
   "outputs": [
    {
     "data": {
      "image/png": "[encoded data removed]",
      "text/plain": [
       "<Figure size 432x288 with 2 Axes>"
      ]
     },
     "metadata": {
      "needs_background": "light"
     },
     "output_type": "display_data"
    }
   ],
   "source": [
    "from sklearn.metrics import confusion_matrix\n",
    "import seaborn as sns\n",
    "cm = confusion_matrix(y_test, class_predictions)\n",
    "ax = sns.heatmap(cm.T, square=True, annot=True, fmt='d')\n",
    "ax.set(title='CNN w/ 1 Conv Layer & 1 Max Pool Layer', xlabel='Predicted', ylabel='True')\n",
    "plt.savefig('./plots/cnn_one_layer_cm.png')"
   ]
  },
  {
   "cell_type": "code",
   "execution_count": null,
   "id": "3ca7a542-59a9-40bd-922c-43979bfda849",
   "metadata": {},
   "outputs": [],
   "source": []
  }
 ],
 "metadata": {
  "kernelspec": {
   "display_name": "Python 3 (ipykernel)",
   "language": "python",
   "name": "python3"
  },
  "language_info": {
   "codemirror_mode": {
    "name": "ipython",
    "version": 3
   },
   "file_extension": ".py",
   "mimetype": "text/x-python",
   "name": "python",
   "nbconvert_exporter": "python",
   "pygments_lexer": "ipython3",
   "version": "3.8.10"
  }
 },
 "nbformat": 4,
 "nbformat_minor": 5
}
