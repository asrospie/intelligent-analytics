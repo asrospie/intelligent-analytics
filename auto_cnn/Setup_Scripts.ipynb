{
 "cells": [
  {
   "cell_type": "code",
   "execution_count": 6,
   "id": "eca51da2-4b5f-4f94-a5cb-8ffcb1892ade",
   "metadata": {},
   "outputs": [],
   "source": [
    "from tensorflow import keras\n",
    "from sklearn.metrics import accuracy_score, mean_squared_error, classification_report, confusion_matrix\n",
    "import matplotlib.pyplot as plt\n",
    "import seaborn as sns\n",
    "from sklearn.model_selection import KFold\n",
    "from tensorflow.keras.datasets import fashion_mnist\n",
    "import numpy as np\n",
    "import pickle\n",
    "import skopt"
   ]
  },
  {
   "cell_type": "code",
   "execution_count": 2,
   "id": "bac4f0d2-d0e7-4962-846e-bab695ed2a6e",
   "metadata": {},
   "outputs": [],
   "source": [
    "(x_train, y_train), (x_test, y_test) = fashion_mnist.load_data()"
   ]
  },
  {
   "cell_type": "code",
   "execution_count": 3,
   "id": "ce86a8d6-c6f9-4f1d-90fa-ddb6c7cbb597",
   "metadata": {},
   "outputs": [],
   "source": [
    "N_CLASSES = 10"
   ]
  },
  {
   "cell_type": "code",
   "execution_count": 4,
   "id": "0513f38e-d6cd-4ef6-959e-d3cfc94a479e",
   "metadata": {},
   "outputs": [],
   "source": [
    "x_train = x_train / 255.0\n",
    "x_test = x_test / 255.0"
   ]
  },
  {
   "cell_type": "code",
   "execution_count": 15,
   "id": "37cc4d09-f5a0-4c4f-8430-b2cd21dd1d9f",
   "metadata": {},
   "outputs": [],
   "source": [
    "# Preprocess data for cnn\n",
    "x_train = x_train.reshape((len(x_train), np.prod(x_train.shape[1:])))\n",
    "x_test = x_test.reshape((len(x_test), np.prod(x_test.shape[1:])))"
   ]
  },
  {
   "cell_type": "code",
   "execution_count": 21,
   "id": "f52988cd",
   "metadata": {},
   "outputs": [],
   "source": [
    "def build_model(n_units=[50], n_layers=1, activation='relu', optimizer='adam', learning_rate=1e-3, ae_layers=1):\n",
    "    layer_map = { 1: 'one', 2: 'two', 3: 'three', 4: 'four' }\n",
    "    ae_loaded = keras.models.load_model(f'./models/ae_{layer_map[ae_layers]}_layers/')\n",
    "\n",
    "    # Freeze all AE layer weights\n",
    "    for l in ae_loaded.layers:\n",
    "        l.trainable = False\n",
    "\n",
    "    # Transfer only the encoder layers\n",
    "    model = keras.models.Sequential(ae_loaded.layers[:-ae_layers])\n",
    "\n",
    "    # Add new layers\n",
    "    for i in range(n_layers):\n",
    "        model.add(keras.layers.Dense(\n",
    "            units=n_units[i],\n",
    "            activation=activation,\n",
    "            name=f'hidden_layer_{i}'\n",
    "        ))\n",
    "\n",
    "    # output layer\n",
    "    model.add(keras.layers.Dense(10, activation='softmax', name='output_layer'))\n",
    "\n",
    "    opt = None\n",
    "    if optimizer == 'adam':\n",
    "        opt = keras.optimizers.Adam(learning_rate=learning_rate)\n",
    "    else:\n",
    "        opt = keras.optimizers.SGD(learning_rate=learning_rate)\n",
    "\n",
    "    model.compile(\n",
    "        optimizer=opt,\n",
    "        loss='sparse_categorical_crossentropy',\n",
    "        metrics=['accuracy']\n",
    "    )\n",
    "\n",
    "    return model"
   ]
  },
  {
   "cell_type": "code",
   "execution_count": null,
   "id": "a0bb7e68",
   "metadata": {},
   "outputs": [],
   "source": [
    "for i in range(10000):\n",
    "    print('\\r')"
   ]
  }
 ],
 "metadata": {
  "kernelspec": {
   "display_name": "Python 3 (ipykernel)",
   "language": "python",
   "name": "python3"
  },
  "language_info": {
   "codemirror_mode": {
    "name": "ipython",
    "version": 3
   },
   "file_extension": ".py",
   "mimetype": "text/x-python",
   "name": "python",
   "nbconvert_exporter": "python",
   "pygments_lexer": "ipython3",
   "version": "3.8.9"
  }
 },
 "nbformat": 4,
 "nbformat_minor": 5
}
