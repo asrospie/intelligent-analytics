{
 "cells": [
  {
   "cell_type": "code",
   "execution_count": 1,
   "id": "356117fb-8f00-4f66-bdf6-cdf33742302b",
   "metadata": {
    "collapsed": true,
    "jupyter": {
     "outputs_hidden": true
    },
    "tags": []
   },
   "outputs": [
    {
     "name": "stdout",
     "output_type": "stream",
     "text": [
      "Requirement already satisfied: pybaseball in /Users/alecrospierski/opt/anaconda3/envs/tensors-are-fun/lib/python3.7/site-packages (2.2.1)\n",
      "Requirement already satisfied: pyarrow>=1.0.1 in /Users/alecrospierski/opt/anaconda3/envs/tensors-are-fun/lib/python3.7/site-packages (from pybaseball) (7.0.0)\n",
      "Requirement already satisfied: pandas>=1.0.3 in /Users/alecrospierski/opt/anaconda3/envs/tensors-are-fun/lib/python3.7/site-packages (from pybaseball) (1.3.5)\n",
      "Requirement already satisfied: pygithub>=1.51 in /Users/alecrospierski/opt/anaconda3/envs/tensors-are-fun/lib/python3.7/site-packages (from pybaseball) (1.55)\n",
      "Requirement already satisfied: lxml>=4.2.1 in /Users/alecrospierski/opt/anaconda3/envs/tensors-are-fun/lib/python3.7/site-packages (from pybaseball) (4.8.0)\n",
      "Requirement already satisfied: numpy>=1.13.0 in /Users/alecrospierski/opt/anaconda3/envs/tensors-are-fun/lib/python3.7/site-packages (from pybaseball) (1.21.2)\n",
      "Requirement already satisfied: tqdm>=4.50.0 in /Users/alecrospierski/opt/anaconda3/envs/tensors-are-fun/lib/python3.7/site-packages (from pybaseball) (4.62.3)\n",
      "Requirement already satisfied: scipy>=1.4.0 in /Users/alecrospierski/opt/anaconda3/envs/tensors-are-fun/lib/python3.7/site-packages (from pybaseball) (1.7.3)\n",
      "Requirement already satisfied: requests>=2.18.1 in /Users/alecrospierski/opt/anaconda3/envs/tensors-are-fun/lib/python3.7/site-packages (from pybaseball) (2.27.1)\n",
      "Requirement already satisfied: matplotlib>=2.0.0 in /Users/alecrospierski/opt/anaconda3/envs/tensors-are-fun/lib/python3.7/site-packages (from pybaseball) (3.5.0)\n",
      "Requirement already satisfied: attrs>=20.3.0 in /Users/alecrospierski/opt/anaconda3/envs/tensors-are-fun/lib/python3.7/site-packages (from pybaseball) (21.4.0)\n",
      "Requirement already satisfied: beautifulsoup4>=4.4.0 in /Users/alecrospierski/opt/anaconda3/envs/tensors-are-fun/lib/python3.7/site-packages (from pybaseball) (4.10.0)\n",
      "Requirement already satisfied: soupsieve>1.2 in /Users/alecrospierski/opt/anaconda3/envs/tensors-are-fun/lib/python3.7/site-packages (from beautifulsoup4>=4.4.0->pybaseball) (2.3.1)\n",
      "Requirement already satisfied: pillow>=6.2.0 in /Users/alecrospierski/opt/anaconda3/envs/tensors-are-fun/lib/python3.7/site-packages (from matplotlib>=2.0.0->pybaseball) (8.4.0)\n",
      "Requirement already satisfied: pyparsing>=2.2.1 in /Users/alecrospierski/opt/anaconda3/envs/tensors-are-fun/lib/python3.7/site-packages (from matplotlib>=2.0.0->pybaseball) (3.0.4)\n",
      "Requirement already satisfied: python-dateutil>=2.7 in /Users/alecrospierski/opt/anaconda3/envs/tensors-are-fun/lib/python3.7/site-packages (from matplotlib>=2.0.0->pybaseball) (2.8.2)\n",
      "Requirement already satisfied: fonttools>=4.22.0 in /Users/alecrospierski/opt/anaconda3/envs/tensors-are-fun/lib/python3.7/site-packages (from matplotlib>=2.0.0->pybaseball) (4.25.0)\n",
      "Requirement already satisfied: cycler>=0.10 in /Users/alecrospierski/opt/anaconda3/envs/tensors-are-fun/lib/python3.7/site-packages (from matplotlib>=2.0.0->pybaseball) (0.11.0)\n",
      "Requirement already satisfied: packaging>=20.0 in /Users/alecrospierski/opt/anaconda3/envs/tensors-are-fun/lib/python3.7/site-packages (from matplotlib>=2.0.0->pybaseball) (21.3)\n",
      "Requirement already satisfied: kiwisolver>=1.0.1 in /Users/alecrospierski/opt/anaconda3/envs/tensors-are-fun/lib/python3.7/site-packages (from matplotlib>=2.0.0->pybaseball) (1.3.2)\n",
      "Requirement already satisfied: pytz>=2017.3 in /Users/alecrospierski/opt/anaconda3/envs/tensors-are-fun/lib/python3.7/site-packages (from pandas>=1.0.3->pybaseball) (2021.3)\n",
      "Requirement already satisfied: pyjwt>=2.0 in /Users/alecrospierski/opt/anaconda3/envs/tensors-are-fun/lib/python3.7/site-packages (from pygithub>=1.51->pybaseball) (2.3.0)\n",
      "Requirement already satisfied: pynacl>=1.4.0 in /Users/alecrospierski/opt/anaconda3/envs/tensors-are-fun/lib/python3.7/site-packages (from pygithub>=1.51->pybaseball) (1.5.0)\n",
      "Requirement already satisfied: deprecated in /Users/alecrospierski/opt/anaconda3/envs/tensors-are-fun/lib/python3.7/site-packages (from pygithub>=1.51->pybaseball) (1.2.13)\n",
      "Requirement already satisfied: cffi>=1.4.1 in /Users/alecrospierski/opt/anaconda3/envs/tensors-are-fun/lib/python3.7/site-packages (from pynacl>=1.4.0->pygithub>=1.51->pybaseball) (1.15.0)\n",
      "Requirement already satisfied: pycparser in /Users/alecrospierski/opt/anaconda3/envs/tensors-are-fun/lib/python3.7/site-packages (from cffi>=1.4.1->pynacl>=1.4.0->pygithub>=1.51->pybaseball) (2.21)\n",
      "Requirement already satisfied: six>=1.5 in /Users/alecrospierski/opt/anaconda3/envs/tensors-are-fun/lib/python3.7/site-packages (from python-dateutil>=2.7->matplotlib>=2.0.0->pybaseball) (1.16.0)\n",
      "Requirement already satisfied: urllib3<1.27,>=1.21.1 in /Users/alecrospierski/opt/anaconda3/envs/tensors-are-fun/lib/python3.7/site-packages (from requests>=2.18.1->pybaseball) (1.26.8)\n",
      "Requirement already satisfied: idna<4,>=2.5 in /Users/alecrospierski/opt/anaconda3/envs/tensors-are-fun/lib/python3.7/site-packages (from requests>=2.18.1->pybaseball) (3.3)\n",
      "Requirement already satisfied: charset-normalizer~=2.0.0 in /Users/alecrospierski/opt/anaconda3/envs/tensors-are-fun/lib/python3.7/site-packages (from requests>=2.18.1->pybaseball) (2.0.4)\n",
      "Requirement already satisfied: certifi>=2017.4.17 in /Users/alecrospierski/opt/anaconda3/envs/tensors-are-fun/lib/python3.7/site-packages (from requests>=2.18.1->pybaseball) (2021.10.8)\n",
      "Requirement already satisfied: wrapt<2,>=1.10 in /Users/alecrospierski/opt/anaconda3/envs/tensors-are-fun/lib/python3.7/site-packages (from deprecated->pygithub>=1.51->pybaseball) (1.13.3)\n"
     ]
    }
   ],
   "source": [
    "!pip install pybaseball"
   ]
  },
  {
   "cell_type": "code",
   "execution_count": 138,
   "id": "d201f1de-7bff-4f17-bbe7-1fac7a3eeac2",
   "metadata": {},
   "outputs": [],
   "source": [
    "from pybaseball import team_batting, standings\n",
    "import pandas as pd\n",
    "import numpy as np"
   ]
  },
  {
   "cell_type": "code",
   "execution_count": 139,
   "id": "49581a5f-0dd4-4a7b-81b2-0b80cc865301",
   "metadata": {},
   "outputs": [],
   "source": [
    "team_name_mapper = {\n",
    "    'Baltimore Orioles': 'BAL',\n",
    "    'Detroit Tigers': 'DET',\n",
    "    'Boston Red Sox': 'BOS',\n",
    "    'Anaheim Angels': 'ANA',\n",
    "    'Arizona Diamondbacks': 'ARI',\n",
    "    'Atlanta Braves': 'ATL',\n",
    "    'California Angels': 'CAL',\n",
    "    'Chicago Cubs': 'CHC',\n",
    "    'Chicago White Sox': 'CHW',\n",
    "    'Cincinnati Reds': 'CIN',\n",
    "    'Cleveland Indians': 'CLE',\n",
    "    'Colorado Rockies': 'COL',\n",
    "    'Houston Astros': 'HOU',\n",
    "    'Kansas City Royals': 'KCR',\n",
    "    'Los Angeles Angels': 'LAA',\n",
    "    'Los Angeles Dodgers': 'LAD',\n",
    "    'Miami Marlins': 'MIA',\n",
    "    'Milwaukee Brewers': 'MIL',\n",
    "    'Minnesota Twins': 'MIN',\n",
    "    'Montreal Expos': 'MON',\n",
    "    'New York Giants': 'NYG',\n",
    "    'New York Mets': 'NYM',\n",
    "    'New York Yankees': 'NYY',\n",
    "    'Oakland Athletics': 'OAK',\n",
    "    'Philadelphia Athletics': 'PHA',\n",
    "    'Philadelphia Phillies': 'PHI',\n",
    "    'Pittsburgh Pirates': 'PIT',\n",
    "    'San Diego Padres': 'SDP',\n",
    "    'Seattle Mariners': 'SEA',\n",
    "    'Seattle Pilots': 'SEA',\n",
    "    'St. Louis Browns': 'SLB',\n",
    "    'St. Louis Cardinals': 'STL',\n",
    "    'Tampa Bay Devil Rays': 'TBD',\n",
    "    'Tampa Bay Rays': 'TBR',\n",
    "    'Texas Rangers': 'TEX',\n",
    "    'Toronto Blue Jays': 'TOR',\n",
    "    'Washington Senators': 'WAS',\n",
    "    'Washington Nationals': 'WSN',\n",
    "    'San Francisco Giants': 'SFG',\n",
    "    'Florida Marlins': 'FLA',\n",
    "    'Los Angeles Angels of Anaheim': 'LAA'\n",
    "}"
   ]
  },
  {
   "cell_type": "code",
   "execution_count": 140,
   "id": "0f7c1fd7-057d-456b-ae02-684c82b8293a",
   "metadata": {},
   "outputs": [],
   "source": [
    "def build_team_wins_losses():\n",
    "    season_years = np.arange(1969, 2022)\n",
    "    season_dfs = []\n",
    "    for yr in season_years:\n",
    "        data = standings(yr)\n",
    "        concat_data = pd.concat(data)\n",
    "\n",
    "        concat_data['Season'] = yr\n",
    "        concat_data['Team'] = concat_data['Tm'].map(lambda x: team_name_mapper[x])\n",
    "        \n",
    "        season_dfs.append(concat_data)\n",
    "        \n",
    "    return pd.concat(season_dfs).reset_index(drop=True)"
   ]
  },
  {
   "cell_type": "code",
   "execution_count": 141,
   "id": "8dfa1d68-5942-4aaa-af83-4c465a397f3a",
   "metadata": {},
   "outputs": [],
   "source": [
    "team_batting = pd.read_excel('mlb_team_batting.xlsx')"
   ]
  },
  {
   "cell_type": "code",
   "execution_count": 142,
   "id": "f9f93724-9262-4547-9597-1043563d8323",
   "metadata": {},
   "outputs": [],
   "source": [
    "standings = build_team_wins_losses()"
   ]
  },
  {
   "cell_type": "code",
   "execution_count": 143,
   "id": "c68ad7d3-c37c-4834-8003-160335ed83c5",
   "metadata": {},
   "outputs": [],
   "source": [
    "team_batting = team_batting.drop(labels=['Age', 'team_id', 'G'], axis=1)"
   ]
  },
  {
   "cell_type": "code",
   "execution_count": 144,
   "id": "ba47ad9b-ef1f-493d-b306-2af456fd0873",
   "metadata": {},
   "outputs": [],
   "source": [
    "standings = standings.rename(columns={'W-L%': 'win_per'}).drop(labels=['Tm', 'GB'], axis=1)"
   ]
  },
  {
   "cell_type": "code",
   "execution_count": 145,
   "id": "c7cbb67c-1107-4ea0-bad5-fdb19d3ce469",
   "metadata": {},
   "outputs": [
    {
     "name": "stdout",
     "output_type": "stream",
     "text": [
      "TB (1468, 20)\n",
      "ST (1468, 5)\n"
     ]
    }
   ],
   "source": [
    "print(f'TB {team_batting.shape}')\n",
    "print(f'ST {standings.shape}')"
   ]
  },
  {
   "cell_type": "code",
   "execution_count": 146,
   "id": "7abf698b-7f82-40ae-a0b2-62959c34f2d6",
   "metadata": {},
   "outputs": [],
   "source": [
    "df = team_batting.merge(standings, on=['Season', 'Team'])"
   ]
  },
  {
   "cell_type": "code",
   "execution_count": 147,
   "id": "d3c90cb8-0c67-4be4-a0b5-cbea63d0865d",
   "metadata": {},
   "outputs": [
    {
     "data": {
      "text/html": [
       "<div>\n",
       "<style scoped>\n",
       "    .dataframe tbody tr th:only-of-type {\n",
       "        vertical-align: middle;\n",
       "    }\n",
       "\n",
       "    .dataframe tbody tr th {\n",
       "        vertical-align: top;\n",
       "    }\n",
       "\n",
       "    .dataframe thead th {\n",
       "        text-align: right;\n",
       "    }\n",
       "</style>\n",
       "<table border=\"1\" class=\"dataframe\">\n",
       "  <thead>\n",
       "    <tr style=\"text-align: right;\">\n",
       "      <th></th>\n",
       "      <th>Season</th>\n",
       "      <th>Team</th>\n",
       "      <th>AB</th>\n",
       "      <th>PA</th>\n",
       "      <th>H</th>\n",
       "      <th>1B</th>\n",
       "      <th>2B</th>\n",
       "      <th>3B</th>\n",
       "      <th>HR</th>\n",
       "      <th>R</th>\n",
       "      <th>RBI</th>\n",
       "      <th>BB</th>\n",
       "      <th>IBB</th>\n",
       "      <th>SO</th>\n",
       "      <th>HBP</th>\n",
       "      <th>SF</th>\n",
       "      <th>SH</th>\n",
       "      <th>SB</th>\n",
       "      <th>CS</th>\n",
       "      <th>AVG</th>\n",
       "      <th>W</th>\n",
       "      <th>L</th>\n",
       "      <th>win_per</th>\n",
       "    </tr>\n",
       "  </thead>\n",
       "  <tbody>\n",
       "    <tr>\n",
       "      <th>0</th>\n",
       "      <td>1969</td>\n",
       "      <td>BAL</td>\n",
       "      <td>5518</td>\n",
       "      <td>6328</td>\n",
       "      <td>1465</td>\n",
       "      <td>1027</td>\n",
       "      <td>234</td>\n",
       "      <td>29</td>\n",
       "      <td>175</td>\n",
       "      <td>779</td>\n",
       "      <td>722</td>\n",
       "      <td>634</td>\n",
       "      <td>62</td>\n",
       "      <td>806</td>\n",
       "      <td>43</td>\n",
       "      <td>59</td>\n",
       "      <td>74</td>\n",
       "      <td>82</td>\n",
       "      <td>45</td>\n",
       "      <td>0.265</td>\n",
       "      <td>109</td>\n",
       "      <td>53</td>\n",
       "      <td>.673</td>\n",
       "    </tr>\n",
       "    <tr>\n",
       "      <th>1</th>\n",
       "      <td>1969</td>\n",
       "      <td>CIN</td>\n",
       "      <td>5634</td>\n",
       "      <td>6301</td>\n",
       "      <td>1558</td>\n",
       "      <td>1121</td>\n",
       "      <td>224</td>\n",
       "      <td>42</td>\n",
       "      <td>171</td>\n",
       "      <td>798</td>\n",
       "      <td>750</td>\n",
       "      <td>474</td>\n",
       "      <td>63</td>\n",
       "      <td>1042</td>\n",
       "      <td>46</td>\n",
       "      <td>47</td>\n",
       "      <td>100</td>\n",
       "      <td>79</td>\n",
       "      <td>56</td>\n",
       "      <td>0.277</td>\n",
       "      <td>89</td>\n",
       "      <td>73</td>\n",
       "      <td>.549</td>\n",
       "    </tr>\n",
       "    <tr>\n",
       "      <th>2</th>\n",
       "      <td>1969</td>\n",
       "      <td>MIN</td>\n",
       "      <td>5677</td>\n",
       "      <td>6424</td>\n",
       "      <td>1520</td>\n",
       "      <td>1079</td>\n",
       "      <td>246</td>\n",
       "      <td>32</td>\n",
       "      <td>163</td>\n",
       "      <td>790</td>\n",
       "      <td>733</td>\n",
       "      <td>599</td>\n",
       "      <td>78</td>\n",
       "      <td>906</td>\n",
       "      <td>43</td>\n",
       "      <td>40</td>\n",
       "      <td>65</td>\n",
       "      <td>115</td>\n",
       "      <td>70</td>\n",
       "      <td>0.268</td>\n",
       "      <td>97</td>\n",
       "      <td>65</td>\n",
       "      <td>.599</td>\n",
       "    </tr>\n",
       "    <tr>\n",
       "      <th>3</th>\n",
       "      <td>1969</td>\n",
       "      <td>BOS</td>\n",
       "      <td>5494</td>\n",
       "      <td>6294</td>\n",
       "      <td>1381</td>\n",
       "      <td>913</td>\n",
       "      <td>234</td>\n",
       "      <td>37</td>\n",
       "      <td>197</td>\n",
       "      <td>743</td>\n",
       "      <td>701</td>\n",
       "      <td>658</td>\n",
       "      <td>61</td>\n",
       "      <td>923</td>\n",
       "      <td>32</td>\n",
       "      <td>43</td>\n",
       "      <td>67</td>\n",
       "      <td>41</td>\n",
       "      <td>47</td>\n",
       "      <td>0.251</td>\n",
       "      <td>87</td>\n",
       "      <td>75</td>\n",
       "      <td>.537</td>\n",
       "    </tr>\n",
       "    <tr>\n",
       "      <th>4</th>\n",
       "      <td>1969</td>\n",
       "      <td>PIT</td>\n",
       "      <td>5626</td>\n",
       "      <td>6235</td>\n",
       "      <td>1557</td>\n",
       "      <td>1166</td>\n",
       "      <td>220</td>\n",
       "      <td>52</td>\n",
       "      <td>119</td>\n",
       "      <td>725</td>\n",
       "      <td>651</td>\n",
       "      <td>454</td>\n",
       "      <td>86</td>\n",
       "      <td>944</td>\n",
       "      <td>46</td>\n",
       "      <td>36</td>\n",
       "      <td>73</td>\n",
       "      <td>74</td>\n",
       "      <td>34</td>\n",
       "      <td>0.277</td>\n",
       "      <td>88</td>\n",
       "      <td>74</td>\n",
       "      <td>.543</td>\n",
       "    </tr>\n",
       "  </tbody>\n",
       "</table>\n",
       "</div>"
      ],
      "text/plain": [
       "   Season Team    AB    PA     H    1B  ...   SB  CS    AVG    W   L  win_per\n",
       "0    1969  BAL  5518  6328  1465  1027  ...   82  45  0.265  109  53     .673\n",
       "1    1969  CIN  5634  6301  1558  1121  ...   79  56  0.277   89  73     .549\n",
       "2    1969  MIN  5677  6424  1520  1079  ...  115  70  0.268   97  65     .599\n",
       "3    1969  BOS  5494  6294  1381   913  ...   41  47  0.251   87  75     .537\n",
       "4    1969  PIT  5626  6235  1557  1166  ...   74  34  0.277   88  74     .543\n",
       "\n",
       "[5 rows x 23 columns]"
      ]
     },
     "execution_count": 147,
     "metadata": {},
     "output_type": "execute_result"
    }
   ],
   "source": [
    "df.head()"
   ]
  },
  {
   "cell_type": "code",
   "execution_count": 148,
   "id": "106ad9e7-1110-428a-8243-436c555dc5e9",
   "metadata": {},
   "outputs": [
    {
     "data": {
      "text/plain": [
       "Season     0\n",
       "Team       0\n",
       "AB         0\n",
       "PA         0\n",
       "H          0\n",
       "1B         0\n",
       "2B         0\n",
       "3B         0\n",
       "HR         0\n",
       "R          0\n",
       "RBI        0\n",
       "BB         0\n",
       "IBB        0\n",
       "SO         0\n",
       "HBP        0\n",
       "SF         0\n",
       "SH         0\n",
       "SB         0\n",
       "CS         0\n",
       "AVG        0\n",
       "W          0\n",
       "L          0\n",
       "win_per    0\n",
       "dtype: int64"
      ]
     },
     "execution_count": 148,
     "metadata": {},
     "output_type": "execute_result"
    }
   ],
   "source": [
    "df.isna().sum()"
   ]
  },
  {
   "cell_type": "code",
   "execution_count": 149,
   "id": "b51a6c03-f974-49fd-9ccb-f25f9ccd0bcb",
   "metadata": {},
   "outputs": [
    {
     "data": {
      "text/plain": [
       "(1468, 23)"
      ]
     },
     "execution_count": 149,
     "metadata": {},
     "output_type": "execute_result"
    }
   ],
   "source": [
    "df.shape"
   ]
  },
  {
   "cell_type": "code",
   "execution_count": 151,
   "id": "92b9e3ed-5d3a-4775-9008-0ce21e19d2e9",
   "metadata": {},
   "outputs": [],
   "source": [
    "df.to_excel('mlb_team_batting_wp.xlsx', index=False)"
   ]
  },
  {
   "cell_type": "code",
   "execution_count": null,
   "id": "039bc13f-3a9d-4429-9921-441d1530ba8a",
   "metadata": {},
   "outputs": [],
   "source": []
  }
 ],
 "metadata": {
  "kernelspec": {
   "display_name": "Python 3 (ipykernel)",
   "language": "python",
   "name": "python3"
  },
  "language_info": {
   "codemirror_mode": {
    "name": "ipython",
    "version": 3
   },
   "file_extension": ".py",
   "mimetype": "text/x-python",
   "name": "python",
   "nbconvert_exporter": "python",
   "pygments_lexer": "ipython3",
   "version": "3.7.11"
  }
 },
 "nbformat": 4,
 "nbformat_minor": 5
}
