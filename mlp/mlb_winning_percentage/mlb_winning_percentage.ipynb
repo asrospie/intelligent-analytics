{
 "cells": [
  {
   "cell_type": "code",
   "execution_count": 17,
   "id": "f132d55b-f0db-42cf-b711-6adf80532b61",
   "metadata": {},
   "outputs": [],
   "source": [
    "import tensorflow as tf\n",
    "from tensorflow import keras\n",
    "from sklearn.preprocessing import OneHotEncoder\n",
    "from sklearn.model_selection import LeaveOneOut\n",
    "from sklearn.metrics import mean_squared_error, mean_absolute_error\n",
    "from sklearn.model_selection import RandomizedSearchCV, cross_val_score, KFold\n",
    "from sklearn.preprocessing import MinMaxScaler\n",
    "from sklearn import model_selection\n",
    "from sklearn import metrics\n",
    "from skopt import dump, load\n",
    "from scipy.stats import reciprocal\n",
    "import skopt\n",
    "import numpy as np\n",
    "import pandas as pd\n",
    "import keras_tuner as kt\n",
    "from sklearn import metrics\n",
    "import datetime\n",
    "import re\n",
    "import os\n",
    "import seaborn as sns\n",
    "import matplotlib.pyplot as plt"
   ]
  },
  {
   "cell_type": "markdown",
   "id": "3193a666-e957-411a-a82e-38b053be9514",
   "metadata": {},
   "source": [
    "# Load Data from Sources"
   ]
  },
  {
   "cell_type": "code",
   "execution_count": 3,
   "id": "f5111775-b268-46dc-8b28-0d9a2b56f236",
   "metadata": {},
   "outputs": [],
   "source": [
    "df = pd.read_excel('mlb_team_batting_wp.xlsx')"
   ]
  },
  {
   "cell_type": "code",
   "execution_count": 4,
   "id": "c2b5dfaa-8115-464e-8297-4711891e839f",
   "metadata": {},
   "outputs": [
    {
     "data": {
      "text/plain": [
       "Index(['Season', 'Team', 'AB', 'PA', 'H', '1B', '2B', '3B', 'HR', 'R', 'RBI',\n",
       "       'BB', 'IBB', 'SO', 'HBP', 'SF', 'SH', 'SB', 'CS', 'AVG', 'W', 'L',\n",
       "       'win_per'],\n",
       "      dtype='object')"
      ]
     },
     "execution_count": 4,
     "metadata": {},
     "output_type": "execute_result"
    }
   ],
   "source": [
    "df.columns"
   ]
  },
  {
   "cell_type": "code",
   "execution_count": 5,
   "id": "0839cb9f-65ab-4949-8a99-049a22861017",
   "metadata": {},
   "outputs": [
    {
     "data": {
      "text/plain": [
       "(1468, 23)"
      ]
     },
     "execution_count": 5,
     "metadata": {},
     "output_type": "execute_result"
    }
   ],
   "source": [
    "df.shape"
   ]
  },
  {
   "cell_type": "markdown",
   "id": "21c9eefa-8030-4856-8355-953da08ddfc5",
   "metadata": {},
   "source": [
    "# Data Pre-Processing"
   ]
  },
  {
   "cell_type": "markdown",
   "id": "a194220a-5544-47cd-a7c4-224b597e8055",
   "metadata": {},
   "source": [
    "The target for this model will be predicting winning percentage using offensive statistics provided by pybaseball. The following pre-processings must be done:\n",
    "- Remove wins and loss column, this is part of the prediction\n",
    "- Remove the average column, batting average is an aggregate statistic and I want to focus on continous values\n",
    "- Removing hits (H) as it is the sum of the different types of hits\n",
    "- Remove runs category, I want to focus on other statistics as Runs is known to be an indicator of wins\n",
    "- Remove RBI for the same reason"
   ]
  },
  {
   "cell_type": "code",
   "execution_count": 6,
   "id": "78dd6f6c-e869-4569-bbda-1b16e0c186b5",
   "metadata": {},
   "outputs": [
    {
     "data": {
      "text/plain": [
       "Index(['PA', '1B', '2B', '3B', 'HR', 'BB', 'IBB', 'SO', 'HBP', 'SF', 'SH',\n",
       "       'SB', 'CS', 'win_per'],\n",
       "      dtype='object')"
      ]
     },
     "execution_count": 6,
     "metadata": {},
     "output_type": "execute_result"
    }
   ],
   "source": [
    "mlb_df = df.drop(labels=['Season', 'Team', 'H', 'R', 'RBI', 'AVG', 'W', 'L', 'AB'], axis=1)\n",
    "mlb_df.columns"
   ]
  },
  {
   "cell_type": "code",
   "execution_count": 7,
   "id": "eeff5a05-5c1a-4d7f-b7a2-017f14d3839e",
   "metadata": {},
   "outputs": [
    {
     "data": {
      "text/plain": [
       "(1468, 14)"
      ]
     },
     "execution_count": 7,
     "metadata": {},
     "output_type": "execute_result"
    }
   ],
   "source": [
    "mlb_df.shape"
   ]
  },
  {
   "cell_type": "markdown",
   "id": "d7bbdd75-4bb9-4a52-9c1f-304da11a53b3",
   "metadata": {},
   "source": [
    "### Normalizing Input Vector\n",
    "\n",
    "Since the values range widely, apply a scaler function to the input vector. Output vector can remain the same as it will always be a value between 0 and 1"
   ]
  },
  {
   "cell_type": "code",
   "execution_count": 8,
   "id": "130df534-fa36-43ad-825a-45ca91e3069e",
   "metadata": {},
   "outputs": [],
   "source": [
    "x = mlb_df[['PA', '1B', '2B', '3B', 'HR', 'BB', 'IBB', 'SO', 'HBP', 'SF', 'SH', 'SB', 'CS']].to_numpy()\n",
    "y = mlb_df[['win_per']].to_numpy()"
   ]
  },
  {
   "cell_type": "code",
   "execution_count": 9,
   "id": "10e2d010-b396-4e20-bd6e-a0ce9c1f81f9",
   "metadata": {},
   "outputs": [],
   "source": [
    "x_scaler = MinMaxScaler().fit(x)\n",
    "x_scaled = x_scaler.transform(x)"
   ]
  },
  {
   "cell_type": "code",
   "execution_count": 10,
   "id": "af700d0a-fa9e-46eb-a09b-657eece46045",
   "metadata": {},
   "outputs": [],
   "source": [
    "# Split last 25% of data for test data\n",
    "split_val = int(x.shape[0] * .75)\n",
    "x_train_full, x_test = x_scaled[:split_val], x_scaled[split_val:]\n",
    "y_train_full, y_test = y[:split_val], y[split_val:]"
   ]
  },
  {
   "cell_type": "markdown",
   "id": "af6f80a3-3aae-4359-a2e3-5d8357528961",
   "metadata": {},
   "source": [
    "# Simple Model Build"
   ]
  },
  {
   "cell_type": "code",
   "execution_count": 19,
   "id": "4630bf88-0070-455f-9b1e-c4c427244aa6",
   "metadata": {},
   "outputs": [],
   "source": [
    "def build_simple_model():\n",
    "    model = keras.models.Sequential()\n",
    "    \n",
    "    model.add(keras.layers.InputLayer(input_shape=(13,), name='input'))\n",
    "    \n",
    "    model.add(keras.layers.Dense(units=8, activation='relu', name='hidden'))\n",
    "    \n",
    "    model.add(keras.layers.Dense(units=1, name='output'))\n",
    "    \n",
    "    model.compile(\n",
    "        loss='mean_absolute_error',\n",
    "        optimizer='sgd',\n",
    "        metrics=['mean_squared_error', 'mean_absolute_error']\n",
    "    )\n",
    "    \n",
    "    return model"
   ]
  },
  {
   "cell_type": "code",
   "execution_count": 20,
   "id": "b24fe860-0de8-4f86-a538-5b729344924b",
   "metadata": {},
   "outputs": [
    {
     "data": {
      "text/plain": [
       "<tensorflow.python.keras.callbacks.History at 0x7fe11f7dfe10>"
      ]
     },
     "execution_count": 20,
     "metadata": {},
     "output_type": "execute_result"
    }
   ],
   "source": [
    "sm_model = build_simple_model()\n",
    "sm_model.fit(x_train_full, y_train_full, epochs=30, verbose=0)"
   ]
  },
  {
   "cell_type": "code",
   "execution_count": 21,
   "id": "375a6770-f11d-4f82-9ff9-012ef8946653",
   "metadata": {},
   "outputs": [
    {
     "data": {
      "text/plain": [
       "0.06247961965178924"
      ]
     },
     "execution_count": 21,
     "metadata": {},
     "output_type": "execute_result"
    }
   ],
   "source": [
    "predicted = sm_model.predict(x_test)\n",
    "mean_absolute_error(predicted, y_test)"
   ]
  },
  {
   "cell_type": "markdown",
   "id": "1be16622-4d27-4cd0-a2db-58e6ec3c7e1e",
   "metadata": {},
   "source": [
    "# Impact of Initialization\n",
    "\n",
    "Look for the differences in the simple model using different starting values for synaptic weights."
   ]
  },
  {
   "cell_type": "markdown",
   "id": "b2714d4c-933c-4c69-9075-2ae586db18f1",
   "metadata": {},
   "source": [
    "# Impact of Learning Algorithm\n",
    "\n",
    "Impact of learning algorithm on training time, MSE, and complexity."
   ]
  },
  {
   "cell_type": "markdown",
   "id": "be4be91b-a190-4930-aa0b-2c4d2aa0162f",
   "metadata": {},
   "source": [
    "# Hyper-Parameter Tuning using SKOPT\n",
    "\n",
    "Hyper-Parameter Tuning for the following values:\n",
    "- Number of layers\n",
    "- Number of neurons in each layer\n",
    "- Learning algorithm (?)\n",
    "- Learning rate\n",
    "- Dropout rate\n",
    "- L1, L2, L1_L2 regularization"
   ]
  },
  {
   "cell_type": "markdown",
   "id": "55c19dc7-adad-4f18-ba82-b70882e38423",
   "metadata": {},
   "source": [
    "# Model Performance & Evaluation\n",
    "\n",
    "Evaluate the $R^2$, MSE, MAE, and other metrics for the final tuned model"
   ]
  },
  {
   "cell_type": "code",
   "execution_count": null,
   "id": "5b1d8ec7-9bce-4ac8-91d2-9ddb2e26da4a",
   "metadata": {},
   "outputs": [],
   "source": []
  }
 ],
 "metadata": {
  "kernelspec": {
   "display_name": "Python 3 (ipykernel)",
   "language": "python",
   "name": "python3"
  },
  "language_info": {
   "codemirror_mode": {
    "name": "ipython",
    "version": 3
   },
   "file_extension": ".py",
   "mimetype": "text/x-python",
   "name": "python",
   "nbconvert_exporter": "python",
   "pygments_lexer": "ipython3",
   "version": "3.7.11"
  }
 },
 "nbformat": 4,
 "nbformat_minor": 5
}
