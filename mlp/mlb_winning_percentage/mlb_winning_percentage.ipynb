{
 "cells": [
  {
   "cell_type": "code",
   "execution_count": 92,
   "id": "f132d55b-f0db-42cf-b711-6adf80532b61",
   "metadata": {},
   "outputs": [],
   "source": [
    "import tensorflow as tf\n",
    "from tensorflow import keras\n",
    "from sklearn.preprocessing import OneHotEncoder\n",
    "from sklearn.model_selection import LeaveOneOut\n",
    "from sklearn.metrics import mean_squared_error, mean_absolute_error, r2_score\n",
    "from sklearn.model_selection import RandomizedSearchCV, cross_val_score, KFold\n",
    "from sklearn.preprocessing import MinMaxScaler\n",
    "from sklearn import model_selection\n",
    "from sklearn import metrics\n",
    "from skopt import dump, load\n",
    "from skopt.plots import plot_convergence\n",
    "from scipy.stats import reciprocal\n",
    "import skopt\n",
    "from skopt import gp_minimize\n",
    "import numpy as np\n",
    "import pandas as pd\n",
    "import keras_tuner as kt\n",
    "from sklearn import metrics\n",
    "import datetime\n",
    "import re\n",
    "import os\n",
    "import time\n",
    "import seaborn as sns\n",
    "import matplotlib.pyplot as plt"
   ]
  },
  {
   "cell_type": "markdown",
   "id": "169f74ee-ee0a-49c9-9494-dba82b9aec28",
   "metadata": {},
   "source": [
    "# Reusable Constants"
   ]
  },
  {
   "cell_type": "code",
   "execution_count": 2,
   "id": "c1b1c3ac-b893-4e54-9860-de239fef2ac7",
   "metadata": {},
   "outputs": [],
   "source": [
    "CALLBACKS = [keras.callbacks.EarlyStopping(patience=5, monitor='val_mean_squared_error', restore_best_weights=True)]"
   ]
  },
  {
   "cell_type": "markdown",
   "id": "3193a666-e957-411a-a82e-38b053be9514",
   "metadata": {},
   "source": [
    "# Load Data from Sources"
   ]
  },
  {
   "cell_type": "code",
   "execution_count": 3,
   "id": "f5111775-b268-46dc-8b28-0d9a2b56f236",
   "metadata": {},
   "outputs": [],
   "source": [
    "df = pd.read_excel('mlb_team_batting_wp.xlsx')"
   ]
  },
  {
   "cell_type": "code",
   "execution_count": 4,
   "id": "c2b5dfaa-8115-464e-8297-4711891e839f",
   "metadata": {},
   "outputs": [
    {
     "data": {
      "text/plain": [
       "Index(['Season', 'Team', 'AB', 'PA', 'H', '1B', '2B', '3B', 'HR', 'R', 'RBI',\n",
       "       'BB', 'IBB', 'SO', 'HBP', 'SF', 'SH', 'SB', 'CS', 'AVG', 'W', 'L',\n",
       "       'win_per'],\n",
       "      dtype='object')"
      ]
     },
     "execution_count": 4,
     "metadata": {},
     "output_type": "execute_result"
    }
   ],
   "source": [
    "df.columns"
   ]
  },
  {
   "cell_type": "code",
   "execution_count": 5,
   "id": "0839cb9f-65ab-4949-8a99-049a22861017",
   "metadata": {},
   "outputs": [
    {
     "data": {
      "text/plain": [
       "(1468, 23)"
      ]
     },
     "execution_count": 5,
     "metadata": {},
     "output_type": "execute_result"
    }
   ],
   "source": [
    "df.shape"
   ]
  },
  {
   "cell_type": "markdown",
   "id": "21c9eefa-8030-4856-8355-953da08ddfc5",
   "metadata": {},
   "source": [
    "# Data Pre-Processing"
   ]
  },
  {
   "cell_type": "markdown",
   "id": "a194220a-5544-47cd-a7c4-224b597e8055",
   "metadata": {},
   "source": [
    "The target for this model will be predicting winning percentage using offensive statistics provided by pybaseball. The following pre-processings must be done:\n",
    "- Remove wins and loss column, this is part of the prediction\n",
    "- Remove the average column, batting average is an aggregate statistic and I want to focus on continous values\n",
    "- Removing hits (H) as it is the sum of the different types of hits\n",
    "- Remove runs category, I want to focus on other statistics as Runs is known to be an indicator of wins\n",
    "- Remove RBI for the same reason"
   ]
  },
  {
   "cell_type": "code",
   "execution_count": 8,
   "id": "78dd6f6c-e869-4569-bbda-1b16e0c186b5",
   "metadata": {},
   "outputs": [
    {
     "data": {
      "text/plain": [
       "Index(['PA', '1B', '2B', '3B', 'HR', 'BB', 'IBB', 'SO', 'HBP', 'SF', 'SH',\n",
       "       'SB', 'CS', 'win_per'],\n",
       "      dtype='object')"
      ]
     },
     "execution_count": 8,
     "metadata": {},
     "output_type": "execute_result"
    }
   ],
   "source": [
    "mlb_df = df.drop(labels=['Season', 'Team', 'H', 'R', 'RBI', 'AVG', 'W', 'L', 'AB'], axis=1)\n",
    "mlb_df.columns"
   ]
  },
  {
   "cell_type": "code",
   "execution_count": 9,
   "id": "eeff5a05-5c1a-4d7f-b7a2-017f14d3839e",
   "metadata": {},
   "outputs": [
    {
     "data": {
      "text/plain": [
       "(1468, 14)"
      ]
     },
     "execution_count": 9,
     "metadata": {},
     "output_type": "execute_result"
    }
   ],
   "source": [
    "mlb_df.shape"
   ]
  },
  {
   "cell_type": "markdown",
   "id": "d7bbdd75-4bb9-4a52-9c1f-304da11a53b3",
   "metadata": {},
   "source": [
    "### Normalizing Input Vector\n",
    "\n",
    "Since the values range widely, apply a scaler function to the input vector. Output vector can remain the same as it will always be a value between 0 and 1"
   ]
  },
  {
   "cell_type": "code",
   "execution_count": 10,
   "id": "130df534-fa36-43ad-825a-45ca91e3069e",
   "metadata": {},
   "outputs": [],
   "source": [
    "x = mlb_df[['PA', '1B', '2B', '3B', 'HR', 'BB', 'IBB', 'SO', 'HBP', 'SF', 'SH', 'SB', 'CS']].to_numpy()\n",
    "y = mlb_df[['win_per']].to_numpy()"
   ]
  },
  {
   "cell_type": "code",
   "execution_count": 11,
   "id": "10e2d010-b396-4e20-bd6e-a0ce9c1f81f9",
   "metadata": {},
   "outputs": [],
   "source": [
    "x_scaler = MinMaxScaler().fit(x)\n",
    "x_scaled = x_scaler.transform(x)"
   ]
  },
  {
   "cell_type": "code",
   "execution_count": 12,
   "id": "af700d0a-fa9e-46eb-a09b-657eece46045",
   "metadata": {},
   "outputs": [],
   "source": [
    "# Split last 25% of data for test data\n",
    "split_val = int(x.shape[0] * .75)\n",
    "x_train_full, x_test = x_scaled[:split_val], x_scaled[split_val:]\n",
    "y_train_full, y_test = y[:split_val], y[split_val:]"
   ]
  },
  {
   "cell_type": "markdown",
   "id": "af6f80a3-3aae-4359-a2e3-5d8357528961",
   "metadata": {},
   "source": [
    "# Simple Model Build"
   ]
  },
  {
   "cell_type": "code",
   "execution_count": 114,
   "id": "4630bf88-0070-455f-9b1e-c4c427244aa6",
   "metadata": {},
   "outputs": [],
   "source": [
    "def build_simple_model():\n",
    "    model = keras.models.Sequential()\n",
    "    \n",
    "    model.add(keras.layers.InputLayer(input_shape=(13,), name='input'))\n",
    "    \n",
    "    model.add(keras.layers.Dense(units=8, activation='relu', name='hidden'))\n",
    "    \n",
    "    model.add(keras.layers.Dense(units=1, activation='sigmoid', name='output'))\n",
    "    \n",
    "    model.compile(\n",
    "        loss='mean_squared_error',\n",
    "        optimizer='sgd',\n",
    "        metrics=['mean_squared_error', 'mean_absolute_error']\n",
    "    )\n",
    "    \n",
    "    return model"
   ]
  },
  {
   "cell_type": "code",
   "execution_count": 115,
   "id": "b24fe860-0de8-4f86-a538-5b729344924b",
   "metadata": {},
   "outputs": [
    {
     "data": {
      "text/plain": [
       "<tensorflow.python.keras.callbacks.History at 0x7fb107f46290>"
      ]
     },
     "execution_count": 115,
     "metadata": {},
     "output_type": "execute_result"
    }
   ],
   "source": [
    "sm_model = build_simple_model()\n",
    "sm_model.fit(x_train_full, y_train_full, epochs=30, verbose=0)\n",
    "# sm_model.save('models/simple_mlbwp')"
   ]
  },
  {
   "cell_type": "code",
   "execution_count": 116,
   "id": "375a6770-f11d-4f82-9ff9-012ef8946653",
   "metadata": {},
   "outputs": [
    {
     "data": {
      "text/plain": [
       "0.005739080729872591"
      ]
     },
     "execution_count": 116,
     "metadata": {},
     "output_type": "execute_result"
    }
   ],
   "source": [
    "predicted = sm_model.predict(x_test)\n",
    "mean_squared_error(predicted, y_test)"
   ]
  },
  {
   "cell_type": "markdown",
   "id": "1be16622-4d27-4cd0-a2db-58e6ec3c7e1e",
   "metadata": {},
   "source": [
    "# Impact of Initialization\n",
    "\n",
    "Look for the differences in the simple model using different starting values for synaptic weights."
   ]
  },
  {
   "cell_type": "code",
   "execution_count": 27,
   "id": "de1401ba-d8ae-4815-b368-dfe9095bd3a4",
   "metadata": {},
   "outputs": [],
   "source": [
    "def build_model_init_test(weights, bias):\n",
    "    model = keras.models.Sequential()\n",
    "    model.add(keras.layers.InputLayer(input_shape=(13,), name='input'))\n",
    "    \n",
    "    model.add(keras.layers.Dense(\n",
    "        units=8, \n",
    "        activation='relu',\n",
    "        kernel_initializer=weights,\n",
    "        bias_initializer=bias,\n",
    "        name='hidden'))\n",
    "    \n",
    "    model.add(keras.layers.Dense(units=1, activation='sigmoid', name='output'))\n",
    "    \n",
    "    model.compile(\n",
    "        loss='mean_squared_error',\n",
    "        optimizer='sgd',\n",
    "        metrics=['mean_squared_error', 'mean_absolute_error']\n",
    "    )\n",
    "    \n",
    "    return model"
   ]
  },
  {
   "cell_type": "code",
   "execution_count": 50,
   "id": "32c06623-2727-41b5-847a-68cc1490f9f8",
   "metadata": {},
   "outputs": [],
   "source": [
    "# Testing different kernal and bias initializers\n",
    "# Bias and kernal weights will be tested together\n",
    "# Test for speed, result, and epoch count for each\n",
    "def run_init_test():\n",
    "    initializers = ['zeros', 'ones', 'random_normal', 'random_uniform', 'truncated_normal', 'glorot_normal']\n",
    "    init_test_results = []\n",
    "    for i in initializers:\n",
    "        # Perform each test 5 times to get an average of the testing results\n",
    "        test_mse = []\n",
    "        test_time = []\n",
    "        test_epoch = []\n",
    "        for j in range(10):\n",
    "            test_model = build_model_init_test(i, i)\n",
    "            start = time.time()\n",
    "            test_history = test_model.fit(x_train_full, y_train_full, validation_split=.2, epochs=30, callbacks=CALLBACKS, verbose=0)\n",
    "            end = time.time()\n",
    "            test_mse.append(mean_squared_error(y_test, test_model.predict(x_test)))\n",
    "            test_time.append(end - start)\n",
    "            test_epoch.append(len(test_history.history['loss']))\n",
    "        avg_test_mse, avg_test_time, avg_test_epoch = np.mean(test_mse), np.mean(test_time), np.mean(test_epoch)\n",
    "        init_test_results.append(([ i for x in range(10) ], test_mse, test_time, test_epoch))\n",
    "        print(f'{i} :: {avg_test_mse} {avg_test_time} {avg_test_epoch}')\n",
    "    return init_test_results"
   ]
  },
  {
   "cell_type": "code",
   "execution_count": 51,
   "id": "32353af2-1dbf-4d8f-87d2-98f13c33ceaa",
   "metadata": {},
   "outputs": [
    {
     "name": "stdout",
     "output_type": "stream",
     "text": [
      "zeros :: 0.00578389838825659 1.0610269784927369 6.0\n",
      "ones :: 0.0800828511420871 1.5185487985610961 12.7\n",
      "random_normal :: 0.0057635681200177615 2.578262138366699 27.6\n",
      "random_uniform :: 0.005750116628861741 2.676836133003235 30.0\n",
      "truncated_normal :: 0.005711211723181963 2.371379041671753 28.0\n",
      "glorot_normal :: 0.006775198705471455 2.4475701093673705 28.3\n"
     ]
    }
   ],
   "source": [
    "init_test_results = run_init_test()"
   ]
  },
  {
   "cell_type": "markdown",
   "id": "43e2aadb-6614-4088-8343-3c7390472056",
   "metadata": {},
   "source": [
    "### Build graphs for this section"
   ]
  },
  {
   "cell_type": "code",
   "execution_count": 95,
   "id": "0581da92-17fc-42f5-842e-10f7d32fd8d6",
   "metadata": {},
   "outputs": [],
   "source": [
    "temp = [ list(zip(x[0], x[1], x[2], x[3])) for x in init_test_results ]\n",
    "init_test_data = []\n",
    "for i in temp:\n",
    "    for j in i:\n",
    "        init_test_data.append(j)\n",
    "init_test_df = pd.DataFrame(data=init_test_data, columns=['initializer', 'mse', 'time', 'epochs'])"
   ]
  },
  {
   "cell_type": "code",
   "execution_count": 90,
   "id": "cc476550-4c97-4b45-81ed-c848da1c8b3b",
   "metadata": {},
   "outputs": [],
   "source": [
    "sns.set(rc={'figure.figsize':(20,10)}, font_scale=1.5)\n",
    "# sns.boxplot(x='initializer', y='mse', data=init_test_df).figure.savefig('mlbwp_init_mse.png')"
   ]
  },
  {
   "cell_type": "code",
   "execution_count": 92,
   "id": "44992423-b7eb-4878-9a5f-53333f6234e4",
   "metadata": {},
   "outputs": [],
   "source": [
    "#sns.boxplot(x='initializer', y='time', data=init_test_df).figure.savefig('mlbwp_init_time.png')"
   ]
  },
  {
   "cell_type": "code",
   "execution_count": 94,
   "id": "2d407ef2-eb9d-401f-a6e2-07f7a79b2f4f",
   "metadata": {},
   "outputs": [],
   "source": [
    "#sns.boxplot(x='initializer', y='epochs', data=init_test_df).figure.savefig('mlbwp_init_epochs.png')"
   ]
  },
  {
   "cell_type": "markdown",
   "id": "b2714d4c-933c-4c69-9075-2ae586db18f1",
   "metadata": {},
   "source": [
    "# Impact of Learning Algorithm\n",
    "\n",
    "Impact of learning algorithm on training time, MSE, and complexity."
   ]
  },
  {
   "cell_type": "code",
   "execution_count": 96,
   "id": "b972594f-6063-4879-acf4-cfb2f352d6ab",
   "metadata": {},
   "outputs": [],
   "source": [
    "def build_model_learn_test(opt):\n",
    "    model = keras.models.Sequential()\n",
    "    model.add(keras.layers.InputLayer(input_shape=(13,), name='input'))\n",
    "    \n",
    "    model.add(keras.layers.Dense(\n",
    "        units=8, \n",
    "        activation='relu',\n",
    "        name='hidden'))\n",
    "    \n",
    "    model.add(keras.layers.Dense(units=1, activation='sigmoid', name='output'))\n",
    "    \n",
    "    model.compile(\n",
    "        loss='mean_squared_error',\n",
    "        optimizer=opt,\n",
    "        metrics=['mean_squared_error', 'mean_absolute_error']\n",
    "    )\n",
    "    \n",
    "    return model"
   ]
  },
  {
   "cell_type": "code",
   "execution_count": 110,
   "id": "79d86233-8e19-4662-ba7f-d4dbada93e59",
   "metadata": {},
   "outputs": [],
   "source": [
    "def run_learn_test():\n",
    "    opts = ['sgd', 'adam', 'rmsprop']\n",
    "    learn_test_results = []\n",
    "    for i in opts:\n",
    "        # Perform each test 5 times to get an average of the testing results\n",
    "        test_mse = []\n",
    "        test_time = []\n",
    "        test_epoch = []\n",
    "        for j in range(10):\n",
    "            test_model = build_model_learn_test(i)\n",
    "            start = time.time()\n",
    "            test_history = test_model.fit(x_train_full, y_train_full, validation_split=.2, epochs=30, callbacks=CALLBACKS, verbose=0)\n",
    "            end = time.time()\n",
    "            test_mse.append(mean_squared_error(y_test, test_model.predict(x_test)))\n",
    "            test_time.append(end - start)\n",
    "            test_epoch.append(len(test_history.history['loss']))\n",
    "        avg_test_mse, avg_test_time, avg_test_epoch = np.mean(test_mse), np.mean(test_time), np.mean(test_epoch)\n",
    "        learn_test_results.append(([ i for x in range(10) ], test_mse, test_time, test_epoch))\n",
    "        print(f'{i} :: {avg_test_mse} {avg_test_time} {avg_test_epoch}')\n",
    "    return learn_test_results"
   ]
  },
  {
   "cell_type": "code",
   "execution_count": 111,
   "id": "ba7bc8b9-48f8-421a-8a2c-af80d61686f1",
   "metadata": {},
   "outputs": [
    {
     "name": "stdout",
     "output_type": "stream",
     "text": [
      "sgd :: 0.006789618754675077 2.497562885284424 25.9\n",
      "adam :: 0.005015887293620576 2.784060025215149 30.0\n",
      "rmsprop :: 0.005260801052864236 2.932689332962036 28.1\n"
     ]
    }
   ],
   "source": [
    "learn_test_results = run_learn_test()"
   ]
  },
  {
   "cell_type": "markdown",
   "id": "eabab7b5-5c75-4193-8ecd-9f5f2aedab47",
   "metadata": {},
   "source": [
    "# Build graphs for this section"
   ]
  },
  {
   "cell_type": "code",
   "execution_count": 112,
   "id": "8523975c-24f7-48fb-9736-020bca76b805",
   "metadata": {},
   "outputs": [],
   "source": [
    "temp = [ list(zip(x[0], x[1], x[2], x[3])) for x in learn_test_results ]\n",
    "learn_test_data = []\n",
    "for i in temp:\n",
    "    for j in i:\n",
    "        learn_test_data.append(j)\n",
    "learn_test_df = pd.DataFrame(data=learn_test_data, columns=['learn_alg', 'mse', 'time', 'epochs'])"
   ]
  },
  {
   "cell_type": "code",
   "execution_count": 117,
   "id": "2b6334e9-5438-47b3-8ee8-8e0fac525f4e",
   "metadata": {},
   "outputs": [],
   "source": [
    "sns.set(rc={'figure.figsize':(8,8)}, font_scale=1.5)\n",
    "# sns.boxplot(x='learn_alg', y='mse', data=learn_test_df).figure.savefig('mlbwp_learn_mse.png')"
   ]
  },
  {
   "cell_type": "code",
   "execution_count": 121,
   "id": "f2943a83-239b-4925-8604-d12ffe50c888",
   "metadata": {},
   "outputs": [],
   "source": [
    "# sns.boxplot(x='learn_alg', y='time', data=learn_test_df).figure.savefig('mlbwp_learn_time.png')"
   ]
  },
  {
   "cell_type": "code",
   "execution_count": 123,
   "id": "9323cb80-0719-434e-9e53-5b8c5a31323c",
   "metadata": {},
   "outputs": [],
   "source": [
    "# sns.boxplot(x='learn_alg', y='epochs', data=learn_test_df).figure.savefig('mlbwp_learn_epochs.png')"
   ]
  },
  {
   "cell_type": "markdown",
   "id": "be4be91b-a190-4930-aa0b-2c4d2aa0162f",
   "metadata": {},
   "source": [
    "# Hyper-Parameter Tuning using SKOPT\n",
    "\n",
    "Hyper-Parameter Tuning for the following values:\n",
    "- Number of layers\n",
    "- Number of neurons in each layer\n",
    "- Learning algorithm (?)\n",
    "- Learning rate\n",
    "- Dropout rate\n",
    "- L1, L2, L1_L2 regularization"
   ]
  },
  {
   "cell_type": "code",
   "execution_count": 128,
   "id": "f9feb130-7f54-4e43-9fb5-a9feac4a6bf1",
   "metadata": {},
   "outputs": [],
   "source": [
    "def build_model(n_units=[10], n_layers=1, activation='relu', output_activation=None, learning_rate=1e-3, dropout_rate=0, optimizer='adam'):\n",
    "    model = keras.models.Sequential()\n",
    "    \n",
    "    # input layer\n",
    "    model.add(keras.layers.InputLayer(input_shape=(13,), name='input_layer'))\n",
    "    \n",
    "    # hidden layers\n",
    "    for i in range(n_layers):\n",
    "        model.add(keras.layers.Dense(\n",
    "            units=n_units[i], \n",
    "            activation=activation, \n",
    "            name=f'hidden_layer_{i}')\n",
    "        )\n",
    "    # model.add(keras.layers.Dropout(rate=dropout_rate))\n",
    "        \n",
    "    # output layer\n",
    "    model.add(keras.layers.Dense(1, activation=output_activation, name='output_layer'))\n",
    "    \n",
    "    model.compile(\n",
    "        loss='mean_squared_error',\n",
    "        optimizer=optimizer,\n",
    "        learning_rate=learning_rate,\n",
    "        metrics=['mean_squared_error']\n",
    "    )\n",
    "    \n",
    "    return model"
   ]
  },
  {
   "cell_type": "code",
   "execution_count": 129,
   "id": "dec01e05-5d52-4bc2-b2ba-4dfac5e336d5",
   "metadata": {},
   "outputs": [],
   "source": [
    "SPACE_ONE_LAYER = [\n",
    "    skopt.space.Integer(2, 12, name='n_units_one'),\n",
    "    skopt.space.Real(0.0, .5, name='dropout_rate'),\n",
    "    skopt.space.Categorical(['relu', 'sigmoid', 'tanh', 'selu'], name='activation'),\n",
    "    skopt.space.Categorical(['sigmoid', None], name='output_activation'),\n",
    "    skopt.space.Real(1e-4, .1, prior='log-uniform', name='learning_rate'),\n",
    "    skopt.space.Categorical(['adam', 'sgd'], name='optimizer')\n",
    "]\n",
    "SPACE_TWO_LAYER = [\n",
    "    skopt.space.Integer(7, 12, name='n_units_one'),\n",
    "    skopt.space.Integer(2, 6, name='n_units_two'),\n",
    "    skopt.space.Real(0.0, .5, name='dropout_rate'),\n",
    "    skopt.space.Categorical(['relu', 'sigmoid', 'tanh', 'selu'], name='activation'),\n",
    "    skopt.space.Categorical(['sigmoid', None], name='output_activation'),\n",
    "    skopt.space.Real(1e-4, .1, prior='log-uniform', name='learning_rate'),\n",
    "    skopt.space.Categorical(['adam', 'sgd'], name='optimizer')\n",
    "]\n",
    "SPACE_THREE_LAYER = [\n",
    "    skopt.space.Integer(9, 12, name='n_units_one'),\n",
    "    skopt.space.Integer(5, 8, name='n_units_two'),\n",
    "    skopt.space.Integer(2, 4, name='n_units_three'),\n",
    "    skopt.space.Real(0.0, .5, name='dropout_rate'),\n",
    "    skopt.space.Categorical(['relu', 'sigmoid', 'tanh', 'selu'], name='activation'),\n",
    "    skopt.space.Categorical(['sigmoid', None], name='output_activation'),\n",
    "    skopt.space.Real(1e-4, .1, prior='log-uniform', name='learning_rate'),\n",
    "    skopt.space.Categorical(['adam', 'sgd'], name='optimizer')\n",
    "]"
   ]
  },
  {
   "cell_type": "markdown",
   "id": "597b4743-4cb3-4618-bff8-00e28effd9d0",
   "metadata": {},
   "source": [
    "### One Hidden Layer"
   ]
  },
  {
   "cell_type": "code",
   "execution_count": 130,
   "id": "5279bc9f-2d06-4905-b0b9-fabd2cb54133",
   "metadata": {},
   "outputs": [],
   "source": [
    "@skopt.utils.use_named_args(SPACE_ONE_LAYER)\n",
    "def objective_one_layer(**params):\n",
    "    print('-----------------------------------------------------------------------------------')\n",
    "    print('Testing Parameters: ')\n",
    "    print('Layer One Units: {} '.format(params['n_units_one']))\n",
    "    print('Learning Rate: {}'.format(params['learning_rate']))\n",
    "    print('Activation: {}'.format(params['activation']))\n",
    "    print('Output Activation: {}'.format(params['output_activation']))\n",
    "    print('Dropout rate: {}'.format(params['dropout_rate']))\n",
    "    print('Optimizer: {}'.format(params['optimizer']))\n",
    "    \n",
    "    valid_mse_scores = []\n",
    "    cv = KFold(10)\n",
    "    for train_idx, test_idx in cv.split(x_train_full):\n",
    "        # Get train valid splits\n",
    "        x_train, x_valid = x_train_full[train_idx], x_train_full[test_idx]\n",
    "        y_train, y_valid = y_train_full[train_idx], y_train_full[test_idx]\n",
    "        \n",
    "        # fit model\n",
    "        model = build_model(\n",
    "            n_units=[params['n_units_one']],\n",
    "            n_layers=1,\n",
    "            learning_rate=params['learning_rate'],\n",
    "            activation=params['activation'],\n",
    "            output_activation=params['output_activation'],\n",
    "            dropout_rate=params['dropout_rate'],\n",
    "            optimizer=params['optimizer']\n",
    "        )\n",
    "        model.fit(x_train, y_train, epochs=30, validation_data=(x_valid, y_valid), callbacks=CALLBACKS, verbose=0)\n",
    "        trial_score = model.evaluate(x_valid, y_valid, verbose=0)[1]\n",
    "        print(f'Validation MSE: {trial_score}')\n",
    "        valid_mse_scores.append(trial_score)\n",
    "    print(f'Avg Validation MSE: {np.mean(valid_mse_scores)}')\n",
    "    return np.mean(valid_mse_scores)"
   ]
  },
  {
   "cell_type": "code",
   "execution_count": 131,
   "id": "aeb11736-c7c1-4603-9e00-78e29533e0ed",
   "metadata": {
    "collapsed": true,
    "jupyter": {
     "outputs_hidden": true
    },
    "tags": []
   },
   "outputs": [
    {
     "name": "stdout",
     "output_type": "stream",
     "text": [
      "-----------------------------------------------------------------------------------\n",
      "Testing Parameters: \n",
      "Layer One Units: 8 \n",
      "Learning Rate: 0.0074249082318150125\n",
      "Activation: tanh\n",
      "Output Activation: None\n",
      "Dropout rate: 0.4221328742905088\n",
      "Optimizer: adam\n",
      "Validation MSE: 0.003442114219069481\n",
      "Validation MSE: 0.010151306167244911\n",
      "Validation MSE: 0.008787104859948158\n",
      "Validation MSE: 0.002197104040533304\n",
      "Validation MSE: 0.006877346429973841\n",
      "Validation MSE: 0.0047784061171114445\n",
      "Validation MSE: 0.011257587000727654\n",
      "Validation MSE: 0.0038920221850275993\n",
      "Validation MSE: 0.003547850763425231\n",
      "Validation MSE: 0.007345340680330992\n",
      "Avg Validation MSE: 0.006227618083357811\n",
      "-----------------------------------------------------------------------------------\n",
      "Testing Parameters: \n",
      "Layer One Units: 5 \n",
      "Learning Rate: 0.027321603619774242\n",
      "Activation: selu\n",
      "Output Activation: sigmoid\n",
      "Dropout rate: 0.028356488658721597\n",
      "Optimizer: adam\n",
      "Validation MSE: 0.01599281281232834\n",
      "Validation MSE: 0.004212862811982632\n",
      "Validation MSE: 0.005990195088088512\n",
      "Validation MSE: 0.0023587041068822145\n",
      "Validation MSE: 0.003216405166313052\n",
      "Validation MSE: 0.002794584259390831\n",
      "Validation MSE: 0.0034662620164453983\n",
      "Validation MSE: 0.00356310629285872\n",
      "Validation MSE: 0.004373821429908276\n",
      "Validation MSE: 0.0032165474258363247\n",
      "Avg Validation MSE: 0.0049185301177203655\n",
      "-----------------------------------------------------------------------------------\n",
      "Testing Parameters: \n",
      "Layer One Units: 6 \n",
      "Learning Rate: 0.0012726958252506754\n",
      "Activation: selu\n",
      "Output Activation: None\n",
      "Dropout rate: 0.4180393817686889\n",
      "Optimizer: sgd\n",
      "Validation MSE: 0.009322002530097961\n",
      "Validation MSE: 0.005805578548461199\n",
      "Validation MSE: 0.01438797079026699\n",
      "Validation MSE: 0.010225076228380203\n",
      "Validation MSE: 0.006813640706241131\n",
      "Validation MSE: 0.006582567933946848\n",
      "Validation MSE: 0.012664216570556164\n",
      "Validation MSE: 0.010974735952913761\n",
      "Validation MSE: 0.0052106548100709915\n",
      "Validation MSE: 0.009480907581746578\n",
      "Avg Validation MSE: 0.009146735072135925\n",
      "-----------------------------------------------------------------------------------\n",
      "Testing Parameters: \n",
      "Layer One Units: 3 \n",
      "Learning Rate: 0.0036427757654632427\n",
      "Activation: selu\n",
      "Output Activation: None\n",
      "Dropout rate: 0.4350436291792183\n",
      "Optimizer: sgd\n",
      "Validation MSE: 0.024780573323369026\n",
      "Validation MSE: 0.009387070313096046\n",
      "Validation MSE: 0.014160320162773132\n",
      "Validation MSE: 0.008291627280414104\n",
      "Validation MSE: 0.008105943910777569\n",
      "Validation MSE: 0.008321988396346569\n",
      "Validation MSE: 0.009531841613352299\n",
      "Validation MSE: 0.012482240796089172\n",
      "Validation MSE: 0.009580327197909355\n",
      "Validation MSE: 0.007971675135195255\n",
      "Avg Validation MSE: 0.011261360719799995\n",
      "-----------------------------------------------------------------------------------\n",
      "Testing Parameters: \n",
      "Layer One Units: 9 \n",
      "Learning Rate: 0.00020783697921338129\n",
      "Activation: sigmoid\n",
      "Output Activation: None\n",
      "Dropout rate: 0.2910098960375536\n",
      "Optimizer: adam\n",
      "Validation MSE: 0.0051888939924538136\n",
      "Validation MSE: 0.00509883277118206\n",
      "Validation MSE: 0.008431155234575272\n",
      "Validation MSE: 0.0038948887959122658\n",
      "Validation MSE: 0.003424830501899123\n",
      "Validation MSE: 0.004632258787751198\n",
      "Validation MSE: 0.0034593057353049517\n",
      "Validation MSE: 0.004083782900124788\n",
      "Validation MSE: 0.00423795310780406\n",
      "Validation MSE: 0.005962149240076542\n",
      "Avg Validation MSE: 0.004841404967010021\n",
      "-----------------------------------------------------------------------------------\n",
      "Testing Parameters: \n",
      "Layer One Units: 4 \n",
      "Learning Rate: 0.0009384756816024658\n",
      "Activation: selu\n",
      "Output Activation: sigmoid\n",
      "Dropout rate: 0.3684590885644791\n",
      "Optimizer: adam\n",
      "Validation MSE: 0.005340788047760725\n",
      "Validation MSE: 0.004926100838929415\n",
      "Validation MSE: 0.0049794078804552555\n",
      "Validation MSE: 0.0034423144534230232\n",
      "Validation MSE: 0.003939313348382711\n",
      "Validation MSE: 0.0029331534169614315\n",
      "Validation MSE: 0.004499543458223343\n",
      "Validation MSE: 0.0035377019084990025\n",
      "Validation MSE: 0.004700240213423967\n",
      "Validation MSE: 0.0032606131862848997\n",
      "Avg Validation MSE: 0.0041559175588190556\n",
      "-----------------------------------------------------------------------------------\n",
      "Testing Parameters: \n",
      "Layer One Units: 4 \n",
      "Learning Rate: 0.006905424378423519\n",
      "Activation: tanh\n",
      "Output Activation: sigmoid\n",
      "Dropout rate: 0.19324449056293103\n",
      "Optimizer: sgd\n",
      "Validation MSE: 0.009848389774560928\n",
      "Validation MSE: 0.004672626033425331\n",
      "Validation MSE: 0.005743570160120726\n",
      "Validation MSE: 0.006231877952814102\n",
      "Validation MSE: 0.006035816855728626\n",
      "Validation MSE: 0.004395744297653437\n",
      "Validation MSE: 0.004862755537033081\n",
      "Validation MSE: 0.005210705101490021\n",
      "Validation MSE: 0.009293166920542717\n",
      "Validation MSE: 0.00458918372169137\n",
      "Avg Validation MSE: 0.006088384427130222\n",
      "-----------------------------------------------------------------------------------\n",
      "Testing Parameters: \n",
      "Layer One Units: 3 \n",
      "Learning Rate: 0.0011870158031597254\n",
      "Activation: sigmoid\n",
      "Output Activation: sigmoid\n",
      "Dropout rate: 0.4849045338733745\n",
      "Optimizer: sgd\n",
      "Validation MSE: 0.006389752496033907\n",
      "Validation MSE: 0.005553644150495529\n",
      "Validation MSE: 0.00584497069939971\n",
      "Validation MSE: 0.00418491754680872\n",
      "Validation MSE: 0.00543602230027318\n",
      "Validation MSE: 0.00523737445473671\n",
      "Validation MSE: 0.004541270900517702\n",
      "Validation MSE: 0.005988926161080599\n",
      "Validation MSE: 0.007540443912148476\n",
      "Validation MSE: 0.006712119095027447\n",
      "Avg Validation MSE: 0.005742943845689297\n",
      "-----------------------------------------------------------------------------------\n",
      "Testing Parameters: \n",
      "Layer One Units: 8 \n",
      "Learning Rate: 0.07530916041188203\n",
      "Activation: relu\n",
      "Output Activation: None\n",
      "Dropout rate: 0.16252361450417627\n",
      "Optimizer: sgd\n",
      "Validation MSE: 0.00596267357468605\n",
      "Validation MSE: 0.005885475315153599\n",
      "Validation MSE: 0.022131888195872307\n",
      "Validation MSE: 0.0036726456601172686\n",
      "Validation MSE: 0.0038732190150767565\n",
      "Validation MSE: 0.007521096616983414\n",
      "Validation MSE: 0.005391672719269991\n",
      "Validation MSE: 0.004503097850829363\n",
      "Validation MSE: 0.010114870965480804\n",
      "Validation MSE: 0.0037176613695919514\n",
      "Avg Validation MSE: 0.007277430035173893\n",
      "-----------------------------------------------------------------------------------\n",
      "Testing Parameters: \n",
      "Layer One Units: 8 \n",
      "Learning Rate: 0.0026551710662699856\n",
      "Activation: sigmoid\n",
      "Output Activation: sigmoid\n",
      "Dropout rate: 0.4976497838389439\n",
      "Optimizer: sgd\n",
      "Validation MSE: 0.005691198632121086\n",
      "Validation MSE: 0.005859892815351486\n",
      "Validation MSE: 0.00615424569696188\n",
      "Validation MSE: 0.004622709937393665\n",
      "Validation MSE: 0.0038413333240896463\n",
      "Validation MSE: 0.004300639498978853\n",
      "Validation MSE: 0.00457940436899662\n",
      "Validation MSE: 0.005388771183788776\n",
      "Validation MSE: 0.006009762175381184\n",
      "Validation MSE: 0.0043550701811909676\n",
      "Avg Validation MSE: 0.005080302711576223\n",
      "-----------------------------------------------------------------------------------\n",
      "Testing Parameters: \n",
      "Layer One Units: 12 \n",
      "Learning Rate: 0.0001\n",
      "Activation: relu\n",
      "Output Activation: None\n",
      "Dropout rate: 0.14947020132451977\n",
      "Optimizer: adam\n",
      "Validation MSE: 0.004580813925713301\n",
      "Validation MSE: 0.003378811292350292\n",
      "Validation MSE: 0.012640425004065037\n",
      "Validation MSE: 0.0019969111308455467\n",
      "Validation MSE: 0.002899455837905407\n",
      "Validation MSE: 0.00447520287707448\n",
      "Validation MSE: 0.004868557211011648\n",
      "Validation MSE: 0.004605607595294714\n",
      "Validation MSE: 0.0035433394368737936\n",
      "Validation MSE: 0.003386171767488122\n",
      "Avg Validation MSE: 0.004637529607862234\n",
      "-----------------------------------------------------------------------------------\n",
      "Testing Parameters: \n",
      "Layer One Units: 11 \n",
      "Learning Rate: 0.0001\n",
      "Activation: tanh\n",
      "Output Activation: sigmoid\n",
      "Dropout rate: 0.4041340464695242\n",
      "Optimizer: adam\n",
      "Validation MSE: 0.0034795370884239674\n",
      "Validation MSE: 0.003045981749892235\n",
      "Validation MSE: 0.0031780500430613756\n",
      "Validation MSE: 0.0024932578671723604\n",
      "Validation MSE: 0.003023941069841385\n",
      "Validation MSE: 0.0025861135218292475\n",
      "Validation MSE: 0.0030790173914283514\n",
      "Validation MSE: 0.003051498904824257\n",
      "Validation MSE: 0.004036612808704376\n",
      "Validation MSE: 0.0026115423534065485\n",
      "Avg Validation MSE: 0.003058555070310831\n",
      "-----------------------------------------------------------------------------------\n",
      "Testing Parameters: \n",
      "Layer One Units: 12 \n",
      "Learning Rate: 0.1\n",
      "Activation: relu\n",
      "Output Activation: sigmoid\n",
      "Dropout rate: 0.2436065350351299\n",
      "Optimizer: adam\n",
      "Validation MSE: 0.0037737556267529726\n",
      "Validation MSE: 0.0030988571234047413\n",
      "Validation MSE: 0.003455620026215911\n",
      "Validation MSE: 0.0028335265815258026\n",
      "Validation MSE: 0.003003169782459736\n",
      "Validation MSE: 0.0028451625257730484\n",
      "Validation MSE: 0.0035261695738881826\n",
      "Validation MSE: 0.00300133996643126\n",
      "Validation MSE: 0.00446942076086998\n",
      "Validation MSE: 0.0027630000840872526\n",
      "Avg Validation MSE: 0.0032770023681223392\n",
      "-----------------------------------------------------------------------------------\n",
      "Testing Parameters: \n",
      "Layer One Units: 12 \n",
      "Learning Rate: 0.00010656482195338809\n",
      "Activation: sigmoid\n",
      "Output Activation: sigmoid\n",
      "Dropout rate: 0.2022774997885538\n",
      "Optimizer: sgd\n",
      "Validation MSE: 0.005360252223908901\n",
      "Validation MSE: 0.005384416785091162\n",
      "Validation MSE: 0.005857255309820175\n",
      "Validation MSE: 0.0041808164678514\n",
      "Validation MSE: 0.004080166108906269\n",
      "Validation MSE: 0.004234536085277796\n",
      "Validation MSE: 0.004262264352291822\n",
      "Validation MSE: 0.005209486931562424\n",
      "Validation MSE: 0.006547612138092518\n",
      "Validation MSE: 0.0038115859497338533\n",
      "Avg Validation MSE: 0.0048928395844995975\n",
      "-----------------------------------------------------------------------------------\n",
      "Testing Parameters: \n",
      "Layer One Units: 12 \n",
      "Learning Rate: 0.010826529829850202\n",
      "Activation: sigmoid\n",
      "Output Activation: None\n",
      "Dropout rate: 0.4947505814857254\n",
      "Optimizer: sgd\n",
      "Validation MSE: 0.00805117841809988\n",
      "Validation MSE: 0.007351376581937075\n",
      "Validation MSE: 0.005777687765657902\n",
      "Validation MSE: 0.005397184286266565\n",
      "Validation MSE: 0.004528404213488102\n",
      "Validation MSE: 0.005444697570055723\n",
      "Validation MSE: 0.0042616864666342735\n",
      "Validation MSE: 0.005339510273188353\n",
      "Validation MSE: 0.006000848021358252\n",
      "Validation MSE: 0.003941163886338472\n",
      "Avg Validation MSE: 0.005609373562037945\n",
      "-----------------------------------------------------------------------------------\n",
      "Testing Parameters: \n",
      "Layer One Units: 2 \n",
      "Learning Rate: 0.026410535893134475\n",
      "Activation: tanh\n",
      "Output Activation: None\n",
      "Dropout rate: 0.0033715248400562068\n",
      "Optimizer: adam\n",
      "Validation MSE: 0.003767270827665925\n",
      "Validation MSE: 0.00894118845462799\n",
      "Validation MSE: 0.008806567639112473\n",
      "Validation MSE: 0.01150608528405428\n",
      "Validation MSE: 0.005783931817859411\n",
      "Validation MSE: 0.012710816226899624\n",
      "Validation MSE: 0.013704527169466019\n",
      "Validation MSE: 0.006187028251588345\n",
      "Validation MSE: 0.03167172893881798\n",
      "Validation MSE: 0.014602860435843468\n",
      "Avg Validation MSE: 0.011768200434744358\n",
      "-----------------------------------------------------------------------------------\n",
      "Testing Parameters: \n",
      "Layer One Units: 8 \n",
      "Learning Rate: 0.0001\n",
      "Activation: relu\n",
      "Output Activation: sigmoid\n",
      "Dropout rate: 0.3875337619608522\n",
      "Optimizer: adam\n",
      "Validation MSE: 0.003519807243719697\n",
      "Validation MSE: 0.0032215528190135956\n",
      "Validation MSE: 0.0037307110615074635\n",
      "Validation MSE: 0.0041167824529111385\n",
      "Validation MSE: 0.0032837605103850365\n",
      "Validation MSE: 0.0035761611070483923\n",
      "Validation MSE: 0.0030942894518375397\n",
      "Validation MSE: 0.005225784610956907\n",
      "Validation MSE: 0.0038293858524411917\n",
      "Validation MSE: 0.004084468819200993\n",
      "Avg Validation MSE: 0.003768270369619131\n",
      "-----------------------------------------------------------------------------------\n",
      "Testing Parameters: \n",
      "Layer One Units: 2 \n",
      "Learning Rate: 0.0014760560937417558\n",
      "Activation: tanh\n",
      "Output Activation: sigmoid\n",
      "Dropout rate: 0.002726880996827719\n",
      "Optimizer: adam\n",
      "Validation MSE: 0.004866661038249731\n",
      "Validation MSE: 0.005074613727629185\n",
      "Validation MSE: 0.004478549584746361\n",
      "Validation MSE: 0.0031439452432096004\n",
      "Validation MSE: 0.0034989567939192057\n",
      "Validation MSE: 0.0038924687542021275\n",
      "Validation MSE: 0.0036149886436760426\n",
      "Validation MSE: 0.004723395220935345\n",
      "Validation MSE: 0.003623210359364748\n",
      "Validation MSE: 0.0034531394485384226\n",
      "Avg Validation MSE: 0.004036993253976107\n",
      "-----------------------------------------------------------------------------------\n",
      "Testing Parameters: \n",
      "Layer One Units: 12 \n",
      "Learning Rate: 0.09877404120932595\n",
      "Activation: tanh\n",
      "Output Activation: None\n",
      "Dropout rate: 0.18032837724114556\n",
      "Optimizer: adam\n",
      "Validation MSE: 0.003568898420780897\n",
      "Validation MSE: 0.004058356396853924\n",
      "Validation MSE: 0.0043656849302351475\n",
      "Validation MSE: 0.0029949250165373087\n",
      "Validation MSE: 0.003103038761764765\n",
      "Validation MSE: 0.0032894739415496588\n",
      "Validation MSE: 0.0038861555512994528\n",
      "Validation MSE: 0.0044448296539485455\n",
      "Validation MSE: 0.004005625378340483\n",
      "Validation MSE: 0.02531939558684826\n",
      "Avg Validation MSE: 0.00590363796800375\n",
      "-----------------------------------------------------------------------------------\n",
      "Testing Parameters: \n",
      "Layer One Units: 9 \n",
      "Learning Rate: 0.09372415039860556\n",
      "Activation: tanh\n",
      "Output Activation: sigmoid\n",
      "Dropout rate: 0.21060436547783107\n",
      "Optimizer: adam\n",
      "Validation MSE: 0.003984416835010052\n",
      "Validation MSE: 0.0035241206642240286\n",
      "Validation MSE: 0.0036244322545826435\n",
      "Validation MSE: 0.00233147363178432\n",
      "Validation MSE: 0.0031003416515886784\n",
      "Validation MSE: 0.002666408894583583\n",
      "Validation MSE: 0.0028795870020985603\n",
      "Validation MSE: 0.003851255401968956\n",
      "Validation MSE: 0.0032049959991127253\n",
      "Validation MSE: 0.002766486257314682\n",
      "Avg Validation MSE: 0.003193351672962308\n"
     ]
    }
   ],
   "source": [
    "one_opt_results = gp_minimize(objective_one_layer, SPACE_ONE_LAYER, n_calls=20, random_state=0)"
   ]
  },
  {
   "cell_type": "code",
   "execution_count": 135,
   "id": "9d1e0b80-3a2d-4753-baf4-2d672e9efbd6",
   "metadata": {},
   "outputs": [],
   "source": [
    "dump(one_opt_results, 'tuning/one_opt_results.pkl')"
   ]
  },
  {
   "cell_type": "code",
   "execution_count": 136,
   "id": "950c865c-fb39-4343-8886-9ecac772754a",
   "metadata": {},
   "outputs": [],
   "source": [
    "one_opt_loaded = load('tuning/one_opt_results.pkl')"
   ]
  },
  {
   "cell_type": "code",
   "execution_count": 137,
   "id": "b53b6e45-0b33-4f1d-81a9-71baccb06f23",
   "metadata": {},
   "outputs": [
    {
     "name": "stdout",
     "output_type": "stream",
     "text": [
      "\n",
      "    Best Avg. Val Acc: 0.0031\n",
      "    Best Parameters:\n",
      "    - Dense Layer 1: 11\n",
      "    - Dropout Rate: 0.4041340464695242\n",
      "    - Activation: tanh\n",
      "    - Out. Act.: sigmoid\n",
      "    - Learning Rate: 0.0001\n",
      "    - Optimizer: adam\n",
      "    \n",
      "\n"
     ]
    }
   ],
   "source": [
    "print(f\"\"\"\n",
    "    Best Avg. Val Acc: {one_opt_loaded.fun:.4f}\n",
    "    Best Parameters:\n",
    "    - Dense Layer 1: {one_opt_loaded.x[0]}\n",
    "    - Dropout Rate: {one_opt_loaded.x[1]}\n",
    "    - Activation: {one_opt_loaded.x[2]}\n",
    "    - Out. Act.: {one_opt_loaded.x[3]}\n",
    "    - Learning Rate: {one_opt_loaded.x[4]}\n",
    "    - Optimizer: {one_opt_loaded.x[5]}\n",
    "    \n",
    "\"\"\")"
   ]
  },
  {
   "cell_type": "markdown",
   "id": "fc01d886-8309-4292-9325-3f81da183340",
   "metadata": {},
   "source": [
    "### Two Hidden Layers"
   ]
  },
  {
   "cell_type": "code",
   "execution_count": 67,
   "id": "23af1394-36de-4a28-a3a3-5ad50c6d1c64",
   "metadata": {},
   "outputs": [],
   "source": [
    "@skopt.utils.use_named_args(SPACE_TWO_LAYER)\n",
    "def objective_two_layer(**params):\n",
    "    print('-----------------------------------------------------------------------------------')\n",
    "    print('Testing Parameters: ')\n",
    "    print('Layer One Units: {}'.format(params['n_units_one']))\n",
    "    print('Layer Two Units: {}'.format(params['n_units_two']))\n",
    "    print('Learning Rate: {}'.format(params['learning_rate']))\n",
    "    print('Activation: {}'.format(params['activation']))\n",
    "    print('Output Activation: {}'.format(params['output_activation']))\n",
    "    print('Dropout rate: {}'.format(params['dropout_rate']))\n",
    "    print('Optimizer: {}'.format(params['optimizer']))\n",
    "    \n",
    "    valid_mse_scores = []\n",
    "    cv = KFold(10)\n",
    "    for train_idx, test_idx in cv.split(x_train_full):\n",
    "        # Get train valid splits\n",
    "        x_train, x_valid = x_train_full[train_idx], x_train_full[test_idx]\n",
    "        y_train, y_valid = y_train_full[train_idx], y_train_full[test_idx]\n",
    "        \n",
    "        # fit model\n",
    "        model = build_model(\n",
    "            n_units=[params['n_units_one'], params['n_units_two']],\n",
    "            n_layers=2,\n",
    "            learning_rate=params['learning_rate'],\n",
    "            activation=params['activation'],\n",
    "            output_activation=params['output_activation'],\n",
    "            dropout_rate=params['dropout_rate'],\n",
    "            optimizer=params['optimizer']\n",
    "        )\n",
    "        model.fit(x_train, y_train, epochs=30, validation_data=(x_valid, y_valid), callbacks=CALLBACKS, verbose=0)\n",
    "        trial_score = model.evaluate(x_valid, y_valid, verbose=0)[1]\n",
    "        print(f'Validation MSE: {trial_score}')\n",
    "        valid_mse_scores.append(trial_score)\n",
    "    print(f'Avg Validation MSE: {np.mean(valid_mse_scores)}')\n",
    "    return np.mean(valid_mse_scores)"
   ]
  },
  {
   "cell_type": "code",
   "execution_count": 68,
   "id": "116220c7-4470-4f82-862b-823417303365",
   "metadata": {
    "collapsed": true,
    "jupyter": {
     "outputs_hidden": true
    },
    "tags": []
   },
   "outputs": [
    {
     "name": "stdout",
     "output_type": "stream",
     "text": [
      "-----------------------------------------------------------------------------------\n",
      "Testing Parameters: \n",
      "Layer One Units: 10\n",
      "Layer Two Units: 5\n",
      "Learning Rate: 0.0014228041454890754\n",
      "Activation: tanh\n",
      "Output Activation: None\n",
      "Dropout rate: 0.4289728088113785\n",
      "Optimizer: adam\n",
      "Validation MSE: 0.005845449864864349\n",
      "Validation MSE: 0.002855911385267973\n",
      "Validation MSE: 0.0050294664688408375\n",
      "Validation MSE: 0.0026043024845421314\n",
      "Validation MSE: 0.003148365532979369\n",
      "Validation MSE: 0.0032148081809282303\n",
      "Validation MSE: 0.0030757631175220013\n",
      "Validation MSE: 0.0032674053218215704\n",
      "Validation MSE: 0.0050209639593958855\n",
      "Validation MSE: 0.005044758319854736\n",
      "Avg Validation MSE: 0.00391071941703558\n",
      "-----------------------------------------------------------------------------------\n",
      "Testing Parameters: \n",
      "Layer One Units: 7\n",
      "Layer Two Units: 3\n",
      "Learning Rate: 0.0015078369731868298\n",
      "Activation: sigmoid\n",
      "Output Activation: sigmoid\n",
      "Dropout rate: 0.238832558660675\n",
      "Optimizer: sgd\n",
      "Validation MSE: 0.005527784116566181\n",
      "Validation MSE: 0.0050800396129488945\n",
      "Validation MSE: 0.005364223849028349\n",
      "Validation MSE: 0.00455929571762681\n",
      "Validation MSE: 0.005986238829791546\n",
      "Validation MSE: 0.004493940621614456\n",
      "Validation MSE: 0.006035679019987583\n",
      "Validation MSE: 0.006702760234475136\n",
      "Validation MSE: 0.006243337877094746\n",
      "Validation MSE: 0.00412537157535553\n",
      "Avg Validation MSE: 0.005411867052316666\n",
      "-----------------------------------------------------------------------------------\n",
      "Testing Parameters: \n",
      "Layer One Units: 9\n",
      "Layer Two Units: 5\n",
      "Learning Rate: 0.040762590410962536\n",
      "Activation: tanh\n",
      "Output Activation: sigmoid\n",
      "Dropout rate: 0.184120769920274\n",
      "Optimizer: adam\n",
      "Validation MSE: 0.00322174746543169\n",
      "Validation MSE: 0.00296362885273993\n",
      "Validation MSE: 0.003969379235059023\n",
      "Validation MSE: 0.0030037376563996077\n",
      "Validation MSE: 0.0032172456849366426\n",
      "Validation MSE: 0.003062293166294694\n",
      "Validation MSE: 0.0028506109956651926\n",
      "Validation MSE: 0.0033960146829485893\n",
      "Validation MSE: 0.003168927039951086\n",
      "Validation MSE: 0.0026757826562970877\n",
      "Avg Validation MSE: 0.0031529366970062256\n",
      "-----------------------------------------------------------------------------------\n",
      "Testing Parameters: \n",
      "Layer One Units: 11\n",
      "Layer Two Units: 4\n",
      "Learning Rate: 0.004093734644841746\n",
      "Activation: sigmoid\n",
      "Output Activation: None\n",
      "Dropout rate: 0.3394397650594802\n",
      "Optimizer: sgd\n",
      "Validation MSE: 0.005830132868140936\n",
      "Validation MSE: 0.005285507533699274\n",
      "Validation MSE: 0.005869656335562468\n",
      "Validation MSE: 0.00397395808249712\n",
      "Validation MSE: 0.0038610645569860935\n",
      "Validation MSE: 0.004711451940238476\n",
      "Validation MSE: 0.004168783780187368\n",
      "Validation MSE: 0.005777223501354456\n",
      "Validation MSE: 0.006227872800081968\n",
      "Validation MSE: 0.0037067802622914314\n",
      "Avg Validation MSE: 0.004941243212670088\n",
      "-----------------------------------------------------------------------------------\n",
      "Testing Parameters: \n",
      "Layer One Units: 8\n",
      "Layer Two Units: 4\n",
      "Learning Rate: 0.0002544805063401325\n",
      "Activation: sigmoid\n",
      "Output Activation: sigmoid\n",
      "Dropout rate: 0.09316617166338\n",
      "Optimizer: adam\n",
      "Validation MSE: 0.005017133429646492\n",
      "Validation MSE: 0.0054556536488235\n",
      "Validation MSE: 0.005349893122911453\n",
      "Validation MSE: 0.003906605765223503\n",
      "Validation MSE: 0.0037048556841909885\n",
      "Validation MSE: 0.004209287464618683\n",
      "Validation MSE: 0.004351810086518526\n",
      "Validation MSE: 0.005576492752879858\n",
      "Validation MSE: 0.006133003160357475\n",
      "Validation MSE: 0.003970354329794645\n",
      "Avg Validation MSE: 0.004767508711665869\n",
      "-----------------------------------------------------------------------------------\n",
      "Testing Parameters: \n",
      "Layer One Units: 8\n",
      "Layer Two Units: 3\n",
      "Learning Rate: 0.006905424378423519\n",
      "Activation: tanh\n",
      "Output Activation: sigmoid\n",
      "Dropout rate: 0.19324449056293103\n",
      "Optimizer: sgd\n",
      "Validation MSE: 0.007430301979184151\n",
      "Validation MSE: 0.00859001837670803\n",
      "Validation MSE: 0.005889448337256908\n",
      "Validation MSE: 0.00543765677139163\n",
      "Validation MSE: 0.003926832228899002\n",
      "Validation MSE: 0.005746050272136927\n",
      "Validation MSE: 0.005956095643341541\n",
      "Validation MSE: 0.004542576149106026\n",
      "Validation MSE: 0.0067648147232830524\n",
      "Validation MSE: 0.004285745322704315\n",
      "Avg Validation MSE: 0.005856953561306\n",
      "-----------------------------------------------------------------------------------\n",
      "Testing Parameters: \n",
      "Layer One Units: 7\n",
      "Layer Two Units: 6\n",
      "Learning Rate: 0.017867279190412585\n",
      "Activation: selu\n",
      "Output Activation: sigmoid\n",
      "Dropout rate: 0.3265700178989689\n",
      "Optimizer: sgd\n",
      "Validation MSE: 0.008154332637786865\n",
      "Validation MSE: 0.005896868649870157\n",
      "Validation MSE: 0.004631238058209419\n",
      "Validation MSE: 0.0055983238853514194\n",
      "Validation MSE: 0.0043300436809659\n",
      "Validation MSE: 0.005765324924141169\n",
      "Validation MSE: 0.005548723042011261\n",
      "Validation MSE: 0.005939418449997902\n",
      "Validation MSE: 0.009541220963001251\n",
      "Validation MSE: 0.00424236012622714\n",
      "Avg Validation MSE: 0.005964785348623991\n",
      "-----------------------------------------------------------------------------------\n",
      "Testing Parameters: \n",
      "Layer One Units: 9\n",
      "Layer Two Units: 2\n",
      "Learning Rate: 0.00803852970218814\n",
      "Activation: tanh\n",
      "Output Activation: None\n",
      "Dropout rate: 0.3171370289786676\n",
      "Optimizer: sgd\n",
      "Validation MSE: 0.0043004765175282955\n",
      "Validation MSE: 0.006330268457531929\n",
      "Validation MSE: 0.0061617037281394005\n",
      "Validation MSE: 0.005492148455232382\n",
      "Validation MSE: 0.004267326556146145\n",
      "Validation MSE: 0.0044799442403018475\n",
      "Validation MSE: 0.006346593610942364\n",
      "Validation MSE: 0.006492555141448975\n",
      "Validation MSE: 0.00675838440656662\n",
      "Validation MSE: 0.007332869339734316\n",
      "Avg Validation MSE: 0.0057962266728281975\n",
      "-----------------------------------------------------------------------------------\n",
      "Testing Parameters: \n",
      "Layer One Units: 10\n",
      "Layer Two Units: 4\n",
      "Learning Rate: 0.010574430003444458\n",
      "Activation: sigmoid\n",
      "Output Activation: sigmoid\n",
      "Dropout rate: 0.2373487511442065\n",
      "Optimizer: adam\n",
      "Validation MSE: 0.005002280697226524\n",
      "Validation MSE: 0.0050849332474172115\n",
      "Validation MSE: 0.005031312815845013\n",
      "Validation MSE: 0.0038241466972976923\n",
      "Validation MSE: 0.0038227641489356756\n",
      "Validation MSE: 0.003939127549529076\n",
      "Validation MSE: 0.0043296003714203835\n",
      "Validation MSE: 0.005071384832262993\n",
      "Validation MSE: 0.005903381854295731\n",
      "Validation MSE: 0.0035070814192295074\n",
      "Avg Validation MSE: 0.004551601596176624\n",
      "-----------------------------------------------------------------------------------\n",
      "Testing Parameters: \n",
      "Layer One Units: 11\n",
      "Layer Two Units: 6\n",
      "Learning Rate: 0.010494914202428944\n",
      "Activation: relu\n",
      "Output Activation: None\n",
      "Dropout rate: 0.3312634334750222\n",
      "Optimizer: sgd\n",
      "Validation MSE: 0.0049619837664067745\n",
      "Validation MSE: 0.004428384359925985\n",
      "Validation MSE: 0.0056126913987100124\n",
      "Validation MSE: 0.0032133962959051132\n",
      "Validation MSE: 0.00341559830121696\n",
      "Validation MSE: 0.008039283566176891\n",
      "Validation MSE: 0.004335653968155384\n",
      "Validation MSE: 0.005286018829792738\n",
      "Validation MSE: 0.004514381755143404\n",
      "Validation MSE: 0.00609299773350358\n",
      "Avg Validation MSE: 0.0049900393933057785\n",
      "-----------------------------------------------------------------------------------\n",
      "Testing Parameters: \n",
      "Layer One Units: 12\n",
      "Layer Two Units: 3\n",
      "Learning Rate: 0.1\n",
      "Activation: tanh\n",
      "Output Activation: None\n",
      "Dropout rate: 0.46642440798668566\n",
      "Optimizer: adam\n",
      "Validation MSE: 0.004909035749733448\n",
      "Validation MSE: 0.0030002924613654613\n",
      "Validation MSE: 0.011691502295434475\n",
      "Validation MSE: 0.0023465401027351618\n",
      "Validation MSE: 0.0032187981996685266\n",
      "Validation MSE: 0.0042076450772583485\n",
      "Validation MSE: 0.004080910235643387\n",
      "Validation MSE: 0.00527555774897337\n",
      "Validation MSE: 0.003930376376956701\n",
      "Validation MSE: 0.00336661608889699\n",
      "Avg Validation MSE: 0.004602727014571428\n",
      "-----------------------------------------------------------------------------------\n",
      "Testing Parameters: \n",
      "Layer One Units: 9\n",
      "Layer Two Units: 3\n",
      "Learning Rate: 0.030435711319447053\n",
      "Activation: tanh\n",
      "Output Activation: sigmoid\n",
      "Dropout rate: 0.32122378214284936\n",
      "Optimizer: adam\n",
      "Validation MSE: 0.0035209222696721554\n",
      "Validation MSE: 0.002623888198286295\n",
      "Validation MSE: 0.003640047973021865\n",
      "Validation MSE: 0.002386482898145914\n",
      "Validation MSE: 0.00283393869176507\n",
      "Validation MSE: 0.0028686467558145523\n",
      "Validation MSE: 0.003234729403629899\n",
      "Validation MSE: 0.0038671703077852726\n",
      "Validation MSE: 0.003979954868555069\n",
      "Validation MSE: 0.0027129771187901497\n",
      "Avg Validation MSE: 0.003166876034811139\n",
      "-----------------------------------------------------------------------------------\n",
      "Testing Parameters: \n",
      "Layer One Units: 7\n",
      "Layer Two Units: 3\n",
      "Learning Rate: 0.1\n",
      "Activation: tanh\n",
      "Output Activation: sigmoid\n",
      "Dropout rate: 0.08125201924009887\n",
      "Optimizer: adam\n",
      "Validation MSE: 0.003600994823500514\n",
      "Validation MSE: 0.004248396493494511\n",
      "Validation MSE: 0.00319539662450552\n",
      "Validation MSE: 0.002468494465574622\n",
      "Validation MSE: 0.003525862703099847\n",
      "Validation MSE: 0.003650653874501586\n",
      "Validation MSE: 0.003311873646453023\n",
      "Validation MSE: 0.0029624898452311754\n",
      "Validation MSE: 0.004016517661511898\n",
      "Validation MSE: 0.0028640187811106443\n",
      "Avg Validation MSE: 0.003384469775483012\n",
      "-----------------------------------------------------------------------------------\n",
      "Testing Parameters: \n",
      "Layer One Units: 8\n",
      "Layer Two Units: 4\n",
      "Learning Rate: 0.1\n",
      "Activation: tanh\n",
      "Output Activation: None\n",
      "Dropout rate: 0.012920293339850982\n",
      "Optimizer: adam\n",
      "Validation MSE: 0.004420384299010038\n",
      "Validation MSE: 0.006331855431199074\n",
      "Validation MSE: 0.004960894584655762\n",
      "Validation MSE: 0.002908561611548066\n",
      "Validation MSE: 0.002547446172684431\n",
      "Validation MSE: 0.003399196080863476\n",
      "Validation MSE: 0.0038715414702892303\n",
      "Validation MSE: 0.004169582389295101\n",
      "Validation MSE: 0.004116472788155079\n",
      "Validation MSE: 0.00280239200219512\n",
      "Avg Validation MSE: 0.00395283242687583\n",
      "-----------------------------------------------------------------------------------\n",
      "Testing Parameters: \n",
      "Layer One Units: 8\n",
      "Layer Two Units: 5\n",
      "Learning Rate: 0.016144931248872868\n",
      "Activation: selu\n",
      "Output Activation: sigmoid\n",
      "Dropout rate: 0.0999847724151118\n",
      "Optimizer: adam\n",
      "Validation MSE: 0.003674410516396165\n",
      "Validation MSE: 0.0025561978109180927\n",
      "Validation MSE: 0.004544103052467108\n",
      "Validation MSE: 0.002733142813667655\n",
      "Validation MSE: 0.0030113132670521736\n",
      "Validation MSE: 0.0032516762148588896\n",
      "Validation MSE: 0.0034657930955290794\n",
      "Validation MSE: 0.0035992295015603304\n",
      "Validation MSE: 0.0035651791840791702\n",
      "Validation MSE: 0.0027260633651167154\n",
      "Avg Validation MSE: 0.003312711138278246\n",
      "-----------------------------------------------------------------------------------\n",
      "Testing Parameters: \n",
      "Layer One Units: 12\n",
      "Layer Two Units: 2\n",
      "Learning Rate: 0.00010146263832467082\n",
      "Activation: selu\n",
      "Output Activation: None\n",
      "Dropout rate: 0.06319268201342622\n",
      "Optimizer: sgd\n",
      "Validation MSE: 0.008576914668083191\n",
      "Validation MSE: 0.004709507338702679\n",
      "Validation MSE: 0.014086391776800156\n",
      "Validation MSE: 0.004840486217290163\n",
      "Validation MSE: 0.004065435379743576\n",
      "Validation MSE: 0.007638193666934967\n",
      "Validation MSE: 0.005864952225238085\n",
      "Validation MSE: 0.007297353353351355\n",
      "Validation MSE: 0.006289666518568993\n",
      "Validation MSE: 0.004833846352994442\n",
      "Avg Validation MSE: 0.006820274982601404\n",
      "-----------------------------------------------------------------------------------\n",
      "Testing Parameters: \n",
      "Layer One Units: 12\n",
      "Layer Two Units: 3\n",
      "Learning Rate: 0.09787132988601617\n",
      "Activation: sigmoid\n",
      "Output Activation: sigmoid\n",
      "Dropout rate: 0.22988277295274384\n",
      "Optimizer: sgd\n",
      "Validation MSE: 0.005570067558437586\n",
      "Validation MSE: 0.005401831120252609\n",
      "Validation MSE: 0.006501158233731985\n",
      "Validation MSE: 0.004196521360427141\n",
      "Validation MSE: 0.003820486133918166\n",
      "Validation MSE: 0.004613774362951517\n",
      "Validation MSE: 0.005721682216972113\n",
      "Validation MSE: 0.005984610412269831\n",
      "Validation MSE: 0.0061184619553387165\n",
      "Validation MSE: 0.004093690775334835\n",
      "Avg Validation MSE: 0.005202228669077158\n",
      "-----------------------------------------------------------------------------------\n",
      "Testing Parameters: \n",
      "Layer One Units: 7\n",
      "Layer Two Units: 3\n",
      "Learning Rate: 0.03479994697760751\n",
      "Activation: relu\n",
      "Output Activation: sigmoid\n",
      "Dropout rate: 0.17303635921390428\n",
      "Optimizer: adam\n",
      "Validation MSE: 0.004320855718106031\n",
      "Validation MSE: 0.0032195548992604017\n",
      "Validation MSE: 0.0035965838469564915\n",
      "Validation MSE: 0.0027204451616853476\n",
      "Validation MSE: 0.00284571829251945\n",
      "Validation MSE: 0.0035771899856626987\n",
      "Validation MSE: 0.0031203317921608686\n",
      "Validation MSE: 0.004212961066514254\n",
      "Validation MSE: 0.006179775111377239\n",
      "Validation MSE: 0.0027641127817332745\n",
      "Avg Validation MSE: 0.0036557528655976057\n",
      "-----------------------------------------------------------------------------------\n",
      "Testing Parameters: \n",
      "Layer One Units: 12\n",
      "Layer Two Units: 2\n",
      "Learning Rate: 0.00010301448526394888\n",
      "Activation: selu\n",
      "Output Activation: sigmoid\n",
      "Dropout rate: 0.18681001746960121\n",
      "Optimizer: adam\n",
      "Validation MSE: 0.005653592757880688\n",
      "Validation MSE: 0.0034371442161500454\n",
      "Validation MSE: 0.004665752872824669\n",
      "Validation MSE: 0.0025561447255313396\n",
      "Validation MSE: 0.003186091547831893\n",
      "Validation MSE: 0.00278811389580369\n",
      "Validation MSE: 0.0031403100583702326\n",
      "Validation MSE: 0.0035032175946980715\n",
      "Validation MSE: 0.0032882497180253267\n",
      "Validation MSE: 0.002540669171139598\n",
      "Avg Validation MSE: 0.0034759286791086197\n",
      "-----------------------------------------------------------------------------------\n",
      "Testing Parameters: \n",
      "Layer One Units: 7\n",
      "Layer Two Units: 3\n",
      "Learning Rate: 0.0002858431270718297\n",
      "Activation: selu\n",
      "Output Activation: sigmoid\n",
      "Dropout rate: 0.4959971993259009\n",
      "Optimizer: adam\n",
      "Validation MSE: 0.003956727217882872\n",
      "Validation MSE: 0.0030552728567272425\n",
      "Validation MSE: 0.0035833027213811874\n",
      "Validation MSE: 0.0024323121178895235\n",
      "Validation MSE: 0.0029960372485220432\n",
      "Validation MSE: 0.0035542123951017857\n",
      "Validation MSE: 0.0029959282837808132\n",
      "Validation MSE: 0.00564792612567544\n",
      "Validation MSE: 0.003203579457476735\n",
      "Validation MSE: 0.0027066480834037066\n",
      "Avg Validation MSE: 0.0034131943248212337\n"
     ]
    }
   ],
   "source": [
    "two_opt_results = gp_minimize(objective_two_layer, SPACE_TWO_LAYER, n_calls=20, random_state=0)"
   ]
  },
  {
   "cell_type": "code",
   "execution_count": 69,
   "id": "7a6177b3-d285-4d7b-87f7-bd47b640d3aa",
   "metadata": {},
   "outputs": [],
   "source": [
    "dump(two_opt_results, 'tuning/two_opt_results.pkl')"
   ]
  },
  {
   "cell_type": "code",
   "execution_count": 70,
   "id": "2104d5f5-2598-4546-8aee-1e887075d606",
   "metadata": {},
   "outputs": [],
   "source": [
    "two_opt_loaded = load('tuning/two_opt_results.pkl')"
   ]
  },
  {
   "cell_type": "code",
   "execution_count": 71,
   "id": "c8e9bc2f-32cf-418d-b36f-7311be66f8a7",
   "metadata": {},
   "outputs": [
    {
     "name": "stdout",
     "output_type": "stream",
     "text": [
      "\n",
      "    Best Avg. Val Acc: 0.0032\n",
      "    Best Parameters:\n",
      "    - Dense Layer 1: 9\n",
      "    - Dense Layer 2: 5\n",
      "    - Dropout Rate: 0.184120769920274\n",
      "    - Activation: tanh\n",
      "    - Out. Act.: sigmoid\n",
      "    - Learning Rate: 0.040762590410962536\n",
      "    - Optimizer: adam\n",
      "    \n",
      "\n"
     ]
    }
   ],
   "source": [
    "print(f\"\"\"\n",
    "    Best Avg. Val Acc: {two_opt_loaded.fun:.4f}\n",
    "    Best Parameters:\n",
    "    - Dense Layer 1: {two_opt_loaded.x[0]}\n",
    "    - Dense Layer 2: {two_opt_loaded.x[1]}\n",
    "    - Dropout Rate: {two_opt_loaded.x[2]}\n",
    "    - Activation: {two_opt_loaded.x[3]}\n",
    "    - Out. Act.: {two_opt_loaded.x[4]}\n",
    "    - Learning Rate: {two_opt_loaded.x[5]}\n",
    "    - Optimizer: {two_opt_loaded.x[6]}\n",
    "    \n",
    "\"\"\")"
   ]
  },
  {
   "cell_type": "markdown",
   "id": "b97c87d3-7443-42ed-9a88-09ee73aeea27",
   "metadata": {},
   "source": [
    "### Three Hidden Layers"
   ]
  },
  {
   "cell_type": "code",
   "execution_count": 72,
   "id": "79173b2c-d045-4aa9-9148-12a3ed599958",
   "metadata": {},
   "outputs": [],
   "source": [
    "@skopt.utils.use_named_args(SPACE_THREE_LAYER)\n",
    "def objective_three_layer(**params):\n",
    "    print('-----------------------------------------------------------------------------------')\n",
    "    print('Testing Parameters: ')\n",
    "    print('Layer One Units: {}'.format(params['n_units_one']))\n",
    "    print('Layer Two Units: {}'.format(params['n_units_two']))\n",
    "    print('Layer Three Units: {}'.format(params['n_units_three']))\n",
    "    print('Learning Rate: {}'.format(params['learning_rate']))\n",
    "    print('Activation: {}'.format(params['activation']))\n",
    "    print('Output Activation: {}'.format(params['output_activation']))\n",
    "    print('Dropout rate: {}'.format(params['dropout_rate']))\n",
    "    print('Optimizer: {}'.format(params['optimizer']))\n",
    "    \n",
    "    valid_mse_scores = []\n",
    "    cv = KFold(10)\n",
    "    for train_idx, test_idx in cv.split(x_train_full):\n",
    "        # Get train valid splits\n",
    "        x_train, x_valid = x_train_full[train_idx], x_train_full[test_idx]\n",
    "        y_train, y_valid = y_train_full[train_idx], y_train_full[test_idx]\n",
    "        \n",
    "        # fit model\n",
    "        model = build_model(\n",
    "            n_units=[params['n_units_one'], params['n_units_two'], params['n_units_three']],\n",
    "            n_layers=3,\n",
    "            learning_rate=params['learning_rate'],\n",
    "            activation=params['activation'],\n",
    "            output_activation=params['output_activation'],\n",
    "            dropout_rate=params['dropout_rate'],\n",
    "            optimizer=params['optimizer']\n",
    "        )\n",
    "        model.fit(x_train, y_train, epochs=30, validation_data=(x_valid, y_valid), callbacks=CALLBACKS, verbose=0)\n",
    "        trial_score = model.evaluate(x_valid, y_valid, verbose=0)[1]\n",
    "        print(f'Validation MSE: {trial_score}')\n",
    "        valid_mse_scores.append(trial_score)\n",
    "    print(f'Avg Validation MSE: {np.mean(valid_mse_scores)}')\n",
    "    return np.mean(valid_mse_scores)"
   ]
  },
  {
   "cell_type": "code",
   "execution_count": 73,
   "id": "dbd803a3-8498-4350-8aaa-f655f48e56d4",
   "metadata": {
    "collapsed": true,
    "jupyter": {
     "outputs_hidden": true
    },
    "tags": []
   },
   "outputs": [
    {
     "name": "stdout",
     "output_type": "stream",
     "text": [
      "-----------------------------------------------------------------------------------\n",
      "Testing Parameters: \n",
      "Layer One Units: 11\n",
      "Layer Two Units: 8\n",
      "Layer Three Units: 4\n",
      "Learning Rate: 0.0007809150983452719\n",
      "Activation: sigmoid\n",
      "Output Activation: sigmoid\n",
      "Dropout rate: 0.4236258693920628\n",
      "Optimizer: adam\n",
      "Validation MSE: 0.005537304561585188\n",
      "Validation MSE: 0.005303580779582262\n",
      "Validation MSE: 0.005333334673196077\n",
      "Validation MSE: 0.004193591419607401\n",
      "Validation MSE: 0.003820290556177497\n",
      "Validation MSE: 0.003951543476432562\n",
      "Validation MSE: 0.0042624399065971375\n",
      "Validation MSE: 0.0058128624223172665\n",
      "Validation MSE: 0.0061601134948432446\n",
      "Validation MSE: 0.003724690992385149\n",
      "Avg Validation MSE: 0.004809975158423185\n",
      "-----------------------------------------------------------------------------------\n",
      "Testing Parameters: \n",
      "Layer One Units: 10\n",
      "Layer Two Units: 6\n",
      "Layer Three Units: 4\n",
      "Learning Rate: 0.001028462547983764\n",
      "Activation: selu\n",
      "Output Activation: None\n",
      "Dropout rate: 0.23998858618752872\n",
      "Optimizer: sgd\n",
      "Validation MSE: 0.006105827633291483\n",
      "Validation MSE: 0.00408256147056818\n",
      "Validation MSE: 0.007194227073341608\n",
      "Validation MSE: 0.00437188521027565\n",
      "Validation MSE: 0.005298983305692673\n",
      "Validation MSE: 0.004207790829241276\n",
      "Validation MSE: 0.0041150678880512714\n",
      "Validation MSE: 0.006765414960682392\n",
      "Validation MSE: 0.007188943214714527\n",
      "Validation MSE: 0.00635543605312705\n",
      "Avg Validation MSE: 0.005568613298237324\n",
      "-----------------------------------------------------------------------------------\n",
      "Testing Parameters: \n",
      "Layer One Units: 10\n",
      "Layer Two Units: 8\n",
      "Layer Three Units: 2\n",
      "Learning Rate: 0.0036427757654632427\n",
      "Activation: selu\n",
      "Output Activation: None\n",
      "Dropout rate: 0.4350436291792183\n",
      "Optimizer: sgd\n",
      "Validation MSE: 0.006734238937497139\n",
      "Validation MSE: 0.003920574206858873\n",
      "Validation MSE: 0.008161019533872604\n",
      "Validation MSE: 0.0038133778143674135\n",
      "Validation MSE: 0.004312288947403431\n",
      "Validation MSE: 0.00768771767616272\n",
      "Validation MSE: 0.005012604407966137\n",
      "Validation MSE: 0.003904180135577917\n",
      "Validation MSE: 0.006189611274749041\n",
      "Validation MSE: 0.0043439362198114395\n",
      "Avg Validation MSE: 0.005407954566180706\n",
      "-----------------------------------------------------------------------------------\n",
      "Testing Parameters: \n",
      "Layer One Units: 11\n",
      "Layer Two Units: 7\n",
      "Layer Three Units: 3\n",
      "Learning Rate: 0.0003622405211455964\n",
      "Activation: relu\n",
      "Output Activation: sigmoid\n",
      "Dropout rate: 0.3793078121611787\n",
      "Optimizer: sgd\n",
      "Validation MSE: 0.00556701747700572\n",
      "Validation MSE: 0.005387851968407631\n",
      "Validation MSE: 0.005236327648162842\n",
      "Validation MSE: 0.004410547204315662\n",
      "Validation MSE: 0.0037210898008197546\n",
      "Validation MSE: 0.004679510835558176\n",
      "Validation MSE: 0.004435212817043066\n",
      "Validation MSE: 0.00586206279695034\n",
      "Validation MSE: 0.006398966535925865\n",
      "Validation MSE: 0.004048595670610666\n",
      "Avg Validation MSE: 0.004974718671292067\n",
      "-----------------------------------------------------------------------------------\n",
      "Testing Parameters: \n",
      "Layer One Units: 10\n",
      "Layer Two Units: 5\n",
      "Layer Three Units: 3\n",
      "Learning Rate: 0.051026458440329624\n",
      "Activation: selu\n",
      "Output Activation: sigmoid\n",
      "Dropout rate: 0.0748374335918416\n",
      "Optimizer: adam\n",
      "Validation MSE: 0.0034139789640903473\n",
      "Validation MSE: 0.0026214963290840387\n",
      "Validation MSE: 0.004568508360534906\n",
      "Validation MSE: 0.0024201544001698494\n",
      "Validation MSE: 0.0026091206818819046\n",
      "Validation MSE: 0.0031418290454894304\n",
      "Validation MSE: 0.003406723029911518\n",
      "Validation MSE: 0.0031942338682711124\n",
      "Validation MSE: 0.0032233092933893204\n",
      "Validation MSE: 0.00269867992028594\n",
      "Avg Validation MSE: 0.003129803342744708\n",
      "-----------------------------------------------------------------------------------\n",
      "Testing Parameters: \n",
      "Layer One Units: 11\n",
      "Layer Two Units: 8\n",
      "Layer Three Units: 2\n",
      "Learning Rate: 0.0011870158031597254\n",
      "Activation: sigmoid\n",
      "Output Activation: sigmoid\n",
      "Dropout rate: 0.4849045338733745\n",
      "Optimizer: sgd\n",
      "Validation MSE: 0.005638484377413988\n",
      "Validation MSE: 0.0064859334379434586\n",
      "Validation MSE: 0.00654134014621377\n",
      "Validation MSE: 0.004226531367748976\n",
      "Validation MSE: 0.0038516498170793056\n",
      "Validation MSE: 0.004655890166759491\n",
      "Validation MSE: 0.004794739186763763\n",
      "Validation MSE: 0.0068423571065068245\n",
      "Validation MSE: 0.006356641184538603\n",
      "Validation MSE: 0.005606666672974825\n",
      "Avg Validation MSE: 0.005500023253262043\n",
      "-----------------------------------------------------------------------------------\n",
      "Testing Parameters: \n",
      "Layer One Units: 11\n",
      "Layer Two Units: 6\n",
      "Layer Three Units: 2\n",
      "Learning Rate: 0.00803852970218814\n",
      "Activation: tanh\n",
      "Output Activation: None\n",
      "Dropout rate: 0.3171370289786676\n",
      "Optimizer: sgd\n",
      "Validation MSE: 0.005530849099159241\n",
      "Validation MSE: 0.005946952849626541\n",
      "Validation MSE: 0.00798359140753746\n",
      "Validation MSE: 0.004934719298034906\n",
      "Validation MSE: 0.0039641158655285835\n",
      "Validation MSE: 0.0051146321929991245\n",
      "Validation MSE: 0.0041565499268472195\n",
      "Validation MSE: 0.007694288156926632\n",
      "Validation MSE: 0.005261516198515892\n",
      "Validation MSE: 0.006131723988801241\n",
      "Avg Validation MSE: 0.005671893712133169\n",
      "-----------------------------------------------------------------------------------\n",
      "Testing Parameters: \n",
      "Layer One Units: 11\n",
      "Layer Two Units: 6\n",
      "Layer Three Units: 3\n",
      "Learning Rate: 0.000894551248554516\n",
      "Activation: selu\n",
      "Output Activation: None\n",
      "Dropout rate: 0.31175505056593417\n",
      "Optimizer: sgd\n",
      "Validation MSE: 0.007348157931119204\n",
      "Validation MSE: 0.00389360124245286\n",
      "Validation MSE: 0.007116682827472687\n",
      "Validation MSE: 0.0051075490191578865\n",
      "Validation MSE: 0.004731236957013607\n",
      "Validation MSE: 0.0037940286565572023\n",
      "Validation MSE: 0.006140830460935831\n",
      "Validation MSE: 0.005099043715745211\n",
      "Validation MSE: 0.011615639552474022\n",
      "Validation MSE: 0.0031871625687927008\n",
      "Avg Validation MSE: 0.005803393200039864\n",
      "-----------------------------------------------------------------------------------\n",
      "Testing Parameters: \n",
      "Layer One Units: 12\n",
      "Layer Two Units: 7\n",
      "Layer Three Units: 2\n",
      "Learning Rate: 0.043110237360563824\n",
      "Activation: sigmoid\n",
      "Output Activation: None\n",
      "Dropout rate: 0.3114230477733348\n",
      "Optimizer: sgd\n",
      "Validation MSE: 0.005597327835857868\n",
      "Validation MSE: 0.005498870741575956\n",
      "Validation MSE: 0.005296546034514904\n",
      "Validation MSE: 0.0042871576733887196\n",
      "Validation MSE: 0.0038787792436778545\n",
      "Validation MSE: 0.004329416435211897\n",
      "Validation MSE: 0.004278814420104027\n",
      "Validation MSE: 0.005749070551246405\n",
      "Validation MSE: 0.0061109475791454315\n",
      "Validation MSE: 0.004129074979573488\n",
      "Avg Validation MSE: 0.0049156006425619125\n",
      "-----------------------------------------------------------------------------------\n",
      "Testing Parameters: \n",
      "Layer One Units: 9\n",
      "Layer Two Units: 6\n",
      "Layer Three Units: 2\n",
      "Learning Rate: 0.00277128118039439\n",
      "Activation: tanh\n",
      "Output Activation: sigmoid\n",
      "Dropout rate: 0.22085546062442274\n",
      "Optimizer: sgd\n",
      "Validation MSE: 0.007039992604404688\n",
      "Validation MSE: 0.007258962839841843\n",
      "Validation MSE: 0.0059796106070280075\n",
      "Validation MSE: 0.005674092564731836\n",
      "Validation MSE: 0.004277453292161226\n",
      "Validation MSE: 0.004770096857100725\n",
      "Validation MSE: 0.004049583338201046\n",
      "Validation MSE: 0.0057521541602909565\n",
      "Validation MSE: 0.006544977892190218\n",
      "Validation MSE: 0.004107135348021984\n",
      "Avg Validation MSE: 0.005545405671000481\n",
      "-----------------------------------------------------------------------------------\n",
      "Testing Parameters: \n",
      "Layer One Units: 9\n",
      "Layer Two Units: 5\n",
      "Layer Three Units: 2\n",
      "Learning Rate: 0.1\n",
      "Activation: tanh\n",
      "Output Activation: None\n",
      "Dropout rate: 0.39501561787968265\n",
      "Optimizer: adam\n",
      "Validation MSE: 0.005072975065559149\n",
      "Validation MSE: 0.0025864518247544765\n",
      "Validation MSE: 0.004579361528158188\n",
      "Validation MSE: 0.0028122311923652887\n",
      "Validation MSE: 0.0037898484151810408\n",
      "Validation MSE: 0.00421439204365015\n",
      "Validation MSE: 0.004090955946594477\n",
      "Validation MSE: 0.0053537930361926556\n",
      "Validation MSE: 0.003899152623489499\n",
      "Validation MSE: 0.003982885740697384\n",
      "Avg Validation MSE: 0.004038204904645681\n",
      "-----------------------------------------------------------------------------------\n",
      "Testing Parameters: \n",
      "Layer One Units: 9\n",
      "Layer Two Units: 6\n",
      "Layer Three Units: 4\n",
      "Learning Rate: 0.1\n",
      "Activation: relu\n",
      "Output Activation: None\n",
      "Dropout rate: 0.11651609761598\n",
      "Optimizer: adam\n",
      "Validation MSE: 0.006468582432717085\n",
      "Validation MSE: 0.0037542034406214952\n",
      "Validation MSE: 0.005740251392126083\n",
      "Validation MSE: 0.0043211583979427814\n",
      "Validation MSE: 0.0032356493175029755\n",
      "Validation MSE: 0.005762247834354639\n",
      "Validation MSE: 0.004858074244111776\n",
      "Validation MSE: 0.0062745679169893265\n",
      "Validation MSE: 0.003961554262787104\n",
      "Validation MSE: 0.0032112335320562124\n",
      "Avg Validation MSE: 0.004758752416819334\n",
      "-----------------------------------------------------------------------------------\n",
      "Testing Parameters: \n",
      "Layer One Units: 10\n",
      "Layer Two Units: 7\n",
      "Layer Three Units: 2\n",
      "Learning Rate: 0.00010564588215066119\n",
      "Activation: relu\n",
      "Output Activation: None\n",
      "Dropout rate: 0.4408412023698026\n",
      "Optimizer: adam\n",
      "Validation MSE: 0.004182412754744291\n",
      "Validation MSE: 0.003965634852647781\n",
      "Validation MSE: 0.006077871657907963\n",
      "Validation MSE: 0.0029577137902379036\n",
      "Validation MSE: 0.00364382890984416\n",
      "Validation MSE: 0.0032045424450188875\n",
      "Validation MSE: 0.003299349918961525\n",
      "Validation MSE: 0.006266751792281866\n",
      "Validation MSE: 0.004118103999644518\n",
      "Validation MSE: 0.004651905503123999\n",
      "Avg Validation MSE: 0.004236811771988869\n",
      "-----------------------------------------------------------------------------------\n",
      "Testing Parameters: \n",
      "Layer One Units: 10\n",
      "Layer Two Units: 5\n",
      "Layer Three Units: 3\n",
      "Learning Rate: 0.0008302392066696794\n",
      "Activation: relu\n",
      "Output Activation: None\n",
      "Dropout rate: 0.0004570844415701659\n",
      "Optimizer: sgd\n",
      "Validation MSE: 0.005693687126040459\n",
      "Validation MSE: 0.0054690116085112095\n",
      "Validation MSE: 0.005527785047888756\n",
      "Validation MSE: 0.004432667512446642\n",
      "Validation MSE: 0.004457231145352125\n",
      "Validation MSE: 0.0043599302880465984\n",
      "Validation MSE: 0.004614812787622213\n",
      "Validation MSE: 0.005786712281405926\n",
      "Validation MSE: 0.006382385268807411\n",
      "Validation MSE: 0.00401430344209075\n",
      "Avg Validation MSE: 0.005073852371424437\n",
      "-----------------------------------------------------------------------------------\n",
      "Testing Parameters: \n",
      "Layer One Units: 12\n",
      "Layer Two Units: 5\n",
      "Layer Three Units: 3\n",
      "Learning Rate: 0.0006567838171370824\n",
      "Activation: sigmoid\n",
      "Output Activation: sigmoid\n",
      "Dropout rate: 0.49864988731123117\n",
      "Optimizer: sgd\n",
      "Validation MSE: 0.0057144733145833015\n",
      "Validation MSE: 0.006491435691714287\n",
      "Validation MSE: 0.005407834425568581\n",
      "Validation MSE: 0.0043901242315769196\n",
      "Validation MSE: 0.0038808139506727457\n",
      "Validation MSE: 0.004368199501186609\n",
      "Validation MSE: 0.004538853652775288\n",
      "Validation MSE: 0.007536459714174271\n",
      "Validation MSE: 0.006382833234965801\n",
      "Validation MSE: 0.005982635077089071\n",
      "Avg Validation MSE: 0.005469365976750851\n",
      "-----------------------------------------------------------------------------------\n",
      "Testing Parameters: \n",
      "Layer One Units: 10\n",
      "Layer Two Units: 7\n",
      "Layer Three Units: 4\n",
      "Learning Rate: 0.009528116278798106\n",
      "Activation: relu\n",
      "Output Activation: sigmoid\n",
      "Dropout rate: 0.20195063341812497\n",
      "Optimizer: adam\n",
      "Validation MSE: 0.0035980015527457\n",
      "Validation MSE: 0.005082726012915373\n",
      "Validation MSE: 0.0035605377051979303\n",
      "Validation MSE: 0.002237459644675255\n",
      "Validation MSE: 0.003049026243388653\n",
      "Validation MSE: 0.002632796298712492\n",
      "Validation MSE: 0.0032314874697476625\n",
      "Validation MSE: 0.002939731115475297\n",
      "Validation MSE: 0.0030606682412326336\n",
      "Validation MSE: 0.0024952508974820375\n",
      "Avg Validation MSE: 0.0031887684017419815\n",
      "-----------------------------------------------------------------------------------\n",
      "Testing Parameters: \n",
      "Layer One Units: 9\n",
      "Layer Two Units: 8\n",
      "Layer Three Units: 4\n",
      "Learning Rate: 0.07024842813648856\n",
      "Activation: relu\n",
      "Output Activation: sigmoid\n",
      "Dropout rate: 0.5\n",
      "Optimizer: adam\n",
      "Validation MSE: 0.0045331306755542755\n",
      "Validation MSE: 0.002698657801374793\n",
      "Validation MSE: 0.00529321376234293\n",
      "Validation MSE: 0.0023818458430469036\n",
      "Validation MSE: 0.0033826446160674095\n",
      "Validation MSE: 0.0027825080323964357\n",
      "Validation MSE: 0.003025045385584235\n",
      "Validation MSE: 0.0028060083277523518\n",
      "Validation MSE: 0.0035895840264856815\n",
      "Validation MSE: 0.0027966422494500875\n",
      "Avg Validation MSE: 0.0033289280254393816\n",
      "-----------------------------------------------------------------------------------\n",
      "Testing Parameters: \n",
      "Layer One Units: 9\n",
      "Layer Two Units: 7\n",
      "Layer Three Units: 2\n",
      "Learning Rate: 0.09912601717837004\n",
      "Activation: relu\n",
      "Output Activation: sigmoid\n",
      "Dropout rate: 0.2731591520231847\n",
      "Optimizer: sgd\n",
      "Validation MSE: 0.005698227323591709\n",
      "Validation MSE: 0.005582445301115513\n",
      "Validation MSE: 0.005036164075136185\n",
      "Validation MSE: 0.004419589415192604\n",
      "Validation MSE: 0.004192166496068239\n",
      "Validation MSE: 0.00457545043900609\n",
      "Validation MSE: 0.004122792277485132\n",
      "Validation MSE: 0.005577706266194582\n",
      "Validation MSE: 0.005769023671746254\n",
      "Validation MSE: 0.00394285237416625\n",
      "Avg Validation MSE: 0.004891641903668642\n",
      "-----------------------------------------------------------------------------------\n",
      "Testing Parameters: \n",
      "Layer One Units: 12\n",
      "Layer Two Units: 6\n",
      "Layer Three Units: 2\n",
      "Learning Rate: 0.002229812792954773\n",
      "Activation: tanh\n",
      "Output Activation: None\n",
      "Dropout rate: 0.06544291334266573\n",
      "Optimizer: adam\n",
      "Validation MSE: 0.00446099229156971\n",
      "Validation MSE: 0.0029388167895376682\n",
      "Validation MSE: 0.0060577006079256535\n",
      "Validation MSE: 0.0026130713522434235\n",
      "Validation MSE: 0.0040152897126972675\n",
      "Validation MSE: 0.0035839825868606567\n",
      "Validation MSE: 0.00368092255666852\n",
      "Validation MSE: 0.0037510639522224665\n",
      "Validation MSE: 0.00400942238047719\n",
      "Validation MSE: 0.0030088212806731462\n",
      "Avg Validation MSE: 0.0038120083045214415\n",
      "-----------------------------------------------------------------------------------\n",
      "Testing Parameters: \n",
      "Layer One Units: 12\n",
      "Layer Two Units: 7\n",
      "Layer Three Units: 3\n",
      "Learning Rate: 0.00010039420841912402\n",
      "Activation: relu\n",
      "Output Activation: sigmoid\n",
      "Dropout rate: 0.021908637520198507\n",
      "Optimizer: adam\n",
      "Validation MSE: 0.0037495370488613844\n",
      "Validation MSE: 0.002999186050146818\n",
      "Validation MSE: 0.0037061269395053387\n",
      "Validation MSE: 0.0021493129897862673\n",
      "Validation MSE: 0.0029167181346565485\n",
      "Validation MSE: 0.0028119953349232674\n",
      "Validation MSE: 0.003024233737960458\n",
      "Validation MSE: 0.0034531045239418745\n",
      "Validation MSE: 0.006177626550197601\n",
      "Validation MSE: 0.0026568856555968523\n",
      "Avg Validation MSE: 0.0033644724171608686\n"
     ]
    }
   ],
   "source": [
    "three_opt_results = gp_minimize(objective_three_layer, SPACE_THREE_LAYER, n_calls=20, random_state=0)"
   ]
  },
  {
   "cell_type": "code",
   "execution_count": 74,
   "id": "7e02cdde-70fc-4cde-86f9-f75adc432ce8",
   "metadata": {},
   "outputs": [],
   "source": [
    "dump(three_opt_results, 'tuning/three_opt_results.pkl')"
   ]
  },
  {
   "cell_type": "code",
   "execution_count": 75,
   "id": "5e6006a2-0251-4659-b6e7-12b0e479ac2d",
   "metadata": {},
   "outputs": [],
   "source": [
    "three_opt_loaded = load('tuning/three_opt_results.pkl')"
   ]
  },
  {
   "cell_type": "code",
   "execution_count": 76,
   "id": "8c433483-308d-4ebb-a0e0-676b66a5eab8",
   "metadata": {},
   "outputs": [
    {
     "name": "stdout",
     "output_type": "stream",
     "text": [
      "\n",
      "    Best Avg. Val Acc: 0.0031\n",
      "    Best Parameters:\n",
      "    - Dense Layer 1: 10\n",
      "    - Dense Layer 2: 5\n",
      "    - Dense Layer 3: 3\n",
      "    - Dropout Rate: 0.0748374335918416\n",
      "    - Activation: selu\n",
      "    - Out. Act.: sigmoid\n",
      "    - Learning Rate: 0.051026458440329624\n",
      "    - Optimizer: adam\n",
      "    \n",
      "\n"
     ]
    }
   ],
   "source": [
    "print(f\"\"\"\n",
    "    Best Avg. Val Acc: {three_opt_loaded.fun:.4f}\n",
    "    Best Parameters:\n",
    "    - Dense Layer 1: {three_opt_loaded.x[0]}\n",
    "    - Dense Layer 2: {three_opt_loaded.x[1]}\n",
    "    - Dense Layer 3: {three_opt_loaded.x[2]}\n",
    "    - Dropout Rate: {three_opt_loaded.x[3]}\n",
    "    - Activation: {three_opt_loaded.x[4]}\n",
    "    - Out. Act.: {three_opt_loaded.x[5]}\n",
    "    - Learning Rate: {three_opt_loaded.x[6]}\n",
    "    - Optimizer: {three_opt_loaded.x[7]}\n",
    "    \n",
    "\"\"\")"
   ]
  },
  {
   "cell_type": "markdown",
   "id": "c0583110-4649-47e7-903e-a49c0624bb19",
   "metadata": {},
   "source": [
    "### Evaluating Hyper-Parameter Tuning"
   ]
  },
  {
   "cell_type": "code",
   "execution_count": 77,
   "id": "f53e9a97-0812-4901-aebd-b643c2aff2ee",
   "metadata": {},
   "outputs": [
    {
     "data": {
      "text/plain": [
       "<AxesSubplot:title={'center':'Convergence plot'}, xlabel='Number of calls $n$', ylabel='$\\\\min f(x)$ after $n$ calls'>"
      ]
     },
     "execution_count": 77,
     "metadata": {},
     "output_type": "execute_result"
    },
    {
     "data": {
      "image/png": "[encoded data removed]",
      "text/plain": [
       "<Figure size 432x288 with 1 Axes>"
      ]
     },
     "metadata": {
      "needs_background": "light"
     },
     "output_type": "display_data"
    }
   ],
   "source": [
    "plot_convergence(one_opt_loaded)"
   ]
  },
  {
   "cell_type": "code",
   "execution_count": 78,
   "id": "1df9a994-9284-49eb-b626-1f88e2a62422",
   "metadata": {},
   "outputs": [
    {
     "data": {
      "text/plain": [
       "<AxesSubplot:title={'center':'Convergence plot'}, xlabel='Number of calls $n$', ylabel='$\\\\min f(x)$ after $n$ calls'>"
      ]
     },
     "execution_count": 78,
     "metadata": {},
     "output_type": "execute_result"
    },
    {
     "data": {
      "image/png": "[encoded data removed]",
      "text/plain": [
       "<Figure size 432x288 with 1 Axes>"
      ]
     },
     "metadata": {
      "needs_background": "light"
     },
     "output_type": "display_data"
    }
   ],
   "source": [
    "plot_convergence(two_opt_loaded)"
   ]
  },
  {
   "cell_type": "code",
   "execution_count": 79,
   "id": "c1473bf0-7f7b-42cb-8fb1-648856e0cf93",
   "metadata": {},
   "outputs": [
    {
     "data": {
      "text/plain": [
       "<AxesSubplot:title={'center':'Convergence plot'}, xlabel='Number of calls $n$', ylabel='$\\\\min f(x)$ after $n$ calls'>"
      ]
     },
     "execution_count": 79,
     "metadata": {},
     "output_type": "execute_result"
    },
    {
     "data": {
      "image/png": "[encoded data removed]",
      "text/plain": [
       "<Figure size 432x288 with 1 Axes>"
      ]
     },
     "metadata": {
      "needs_background": "light"
     },
     "output_type": "display_data"
    }
   ],
   "source": [
    "plot_convergence(three_opt_loaded)"
   ]
  },
  {
   "cell_type": "markdown",
   "id": "55c19dc7-adad-4f18-ba82-b70882e38423",
   "metadata": {},
   "source": [
    "# Model Performance & Evaluation\n",
    "\n",
    "Evaluate the $R^2$, MSE, and other metrics for the final tuned model"
   ]
  },
  {
   "cell_type": "markdown",
   "id": "6c1683c9-1867-4cc9-8fae-984d965f90b1",
   "metadata": {},
   "source": [
    "### Build Model with Best Parameters from Tuning"
   ]
  },
  {
   "cell_type": "code",
   "execution_count": 83,
   "id": "bf1f1c98-5c76-4010-a24b-c3b724a05445",
   "metadata": {},
   "outputs": [
    {
     "data": {
      "text/plain": [
       "[12, 0.4263143088704164, 'selu', 'sigmoid', 0.00015736515311680008, 'adam']"
      ]
     },
     "execution_count": 83,
     "metadata": {},
     "output_type": "execute_result"
    }
   ],
   "source": [
    "one_opt_loaded.x"
   ]
  },
  {
   "cell_type": "code",
   "execution_count": 85,
   "id": "5013395e-fd0e-475a-b7a5-485747bf3bc1",
   "metadata": {},
   "outputs": [],
   "source": [
    "tuned_model = build_model(\n",
    "    n_units=[12],\n",
    "    n_layers=1,\n",
    "    dropout_rate=.4263143088704164,\n",
    "    activation='selu',\n",
    "    output_activation='sigmoid',\n",
    "    learning_rate=.00015736515311680008,\n",
    "    optimizer='adam'\n",
    ")"
   ]
  },
  {
   "cell_type": "code",
   "execution_count": 86,
   "id": "4b706e75-04df-41e5-a87c-4faee65bc2d4",
   "metadata": {},
   "outputs": [
    {
     "name": "stdout",
     "output_type": "stream",
     "text": [
      "Model: \"sequential_1351\"\n",
      "_________________________________________________________________\n",
      "Layer (type)                 Output Shape              Param #   \n",
      "=================================================================\n",
      "hidden_layer_0 (Dense)       (None, 12)                168       \n",
      "_________________________________________________________________\n",
      "output_layer (Dense)         (None, 1)                 13        \n",
      "=================================================================\n",
      "Total params: 181\n",
      "Trainable params: 181\n",
      "Non-trainable params: 0\n",
      "_________________________________________________________________\n"
     ]
    }
   ],
   "source": [
    "tuned_model.summary()"
   ]
  },
  {
   "cell_type": "code",
   "execution_count": 89,
   "id": "298cbabc-7bdd-4df9-b85e-adfa3ea219be",
   "metadata": {
    "collapsed": true,
    "jupyter": {
     "outputs_hidden": true
    },
    "tags": []
   },
   "outputs": [
    {
     "name": "stdout",
     "output_type": "stream",
     "text": [
      "Train on 990 samples, validate on 111 samples\n",
      "Epoch 1/30\n",
      "990/990 [==============================] - 1s 826us/sample - loss: 0.0595 - mean_squared_error: 0.0595 - val_loss: 0.0082 - val_mean_squared_error: 0.0082\n",
      "Epoch 2/30\n",
      "990/990 [==============================] - 0s 95us/sample - loss: 0.0057 - mean_squared_error: 0.0057 - val_loss: 0.0038 - val_mean_squared_error: 0.0038\n",
      "Epoch 3/30\n",
      "990/990 [==============================] - 0s 94us/sample - loss: 0.0048 - mean_squared_error: 0.0048 - val_loss: 0.0038 - val_mean_squared_error: 0.0038\n",
      "Epoch 4/30\n",
      "990/990 [==============================] - 0s 98us/sample - loss: 0.0047 - mean_squared_error: 0.0047 - val_loss: 0.0037 - val_mean_squared_error: 0.0037\n",
      "Epoch 5/30\n",
      "990/990 [==============================] - 0s 117us/sample - loss: 0.0047 - mean_squared_error: 0.0047 - val_loss: 0.0036 - val_mean_squared_error: 0.0036\n",
      "Epoch 6/30\n",
      "990/990 [==============================] - 0s 113us/sample - loss: 0.0046 - mean_squared_error: 0.0046 - val_loss: 0.0036 - val_mean_squared_error: 0.0036\n",
      "Epoch 7/30\n",
      "990/990 [==============================] - 0s 120us/sample - loss: 0.0046 - mean_squared_error: 0.0046 - val_loss: 0.0036 - val_mean_squared_error: 0.0036\n",
      "Epoch 8/30\n",
      "990/990 [==============================] - 0s 127us/sample - loss: 0.0045 - mean_squared_error: 0.0045 - val_loss: 0.0037 - val_mean_squared_error: 0.0037\n",
      "Epoch 9/30\n",
      "990/990 [==============================] - 0s 122us/sample - loss: 0.0044 - mean_squared_error: 0.0044 - val_loss: 0.0035 - val_mean_squared_error: 0.0035\n",
      "Epoch 10/30\n",
      "990/990 [==============================] - 0s 121us/sample - loss: 0.0044 - mean_squared_error: 0.0044 - val_loss: 0.0036 - val_mean_squared_error: 0.0036\n",
      "Epoch 11/30\n",
      "990/990 [==============================] - 0s 101us/sample - loss: 0.0043 - mean_squared_error: 0.0043 - val_loss: 0.0035 - val_mean_squared_error: 0.0035\n",
      "Epoch 12/30\n",
      "990/990 [==============================] - 0s 96us/sample - loss: 0.0043 - mean_squared_error: 0.0043 - val_loss: 0.0034 - val_mean_squared_error: 0.0034\n",
      "Epoch 13/30\n",
      "990/990 [==============================] - 0s 103us/sample - loss: 0.0042 - mean_squared_error: 0.0042 - val_loss: 0.0034 - val_mean_squared_error: 0.0034\n",
      "Epoch 14/30\n",
      "990/990 [==============================] - 0s 107us/sample - loss: 0.0042 - mean_squared_error: 0.0042 - val_loss: 0.0037 - val_mean_squared_error: 0.0037\n",
      "Epoch 15/30\n",
      "990/990 [==============================] - 0s 111us/sample - loss: 0.0041 - mean_squared_error: 0.0041 - val_loss: 0.0034 - val_mean_squared_error: 0.0034\n",
      "Epoch 16/30\n",
      "990/990 [==============================] - 0s 111us/sample - loss: 0.0040 - mean_squared_error: 0.0040 - val_loss: 0.0032 - val_mean_squared_error: 0.0032\n",
      "Epoch 17/30\n",
      "990/990 [==============================] - 0s 103us/sample - loss: 0.0040 - mean_squared_error: 0.0040 - val_loss: 0.0032 - val_mean_squared_error: 0.0032\n",
      "Epoch 18/30\n",
      "990/990 [==============================] - 0s 95us/sample - loss: 0.0039 - mean_squared_error: 0.0039 - val_loss: 0.0032 - val_mean_squared_error: 0.0032\n",
      "Epoch 19/30\n",
      "990/990 [==============================] - 0s 89us/sample - loss: 0.0039 - mean_squared_error: 0.0039 - val_loss: 0.0033 - val_mean_squared_error: 0.0033\n",
      "Epoch 20/30\n",
      "990/990 [==============================] - 0s 90us/sample - loss: 0.0038 - mean_squared_error: 0.0038 - val_loss: 0.0031 - val_mean_squared_error: 0.0031\n",
      "Epoch 21/30\n",
      "990/990 [==============================] - 0s 91us/sample - loss: 0.0038 - mean_squared_error: 0.0038 - val_loss: 0.0032 - val_mean_squared_error: 0.0032\n",
      "Epoch 22/30\n",
      "990/990 [==============================] - 0s 87us/sample - loss: 0.0037 - mean_squared_error: 0.0037 - val_loss: 0.0034 - val_mean_squared_error: 0.0034\n",
      "Epoch 23/30\n",
      "990/990 [==============================] - 0s 90us/sample - loss: 0.0037 - mean_squared_error: 0.0037 - val_loss: 0.0032 - val_mean_squared_error: 0.0032\n",
      "Epoch 24/30\n",
      "990/990 [==============================] - 0s 91us/sample - loss: 0.0036 - mean_squared_error: 0.0036 - val_loss: 0.0030 - val_mean_squared_error: 0.0030\n",
      "Epoch 25/30\n",
      "990/990 [==============================] - 0s 88us/sample - loss: 0.0036 - mean_squared_error: 0.0036 - val_loss: 0.0031 - val_mean_squared_error: 0.0031\n",
      "Epoch 26/30\n",
      "990/990 [==============================] - 0s 95us/sample - loss: 0.0035 - mean_squared_error: 0.0035 - val_loss: 0.0031 - val_mean_squared_error: 0.0031\n",
      "Epoch 27/30\n",
      "990/990 [==============================] - 0s 99us/sample - loss: 0.0035 - mean_squared_error: 0.0035 - val_loss: 0.0035 - val_mean_squared_error: 0.0035\n",
      "Epoch 28/30\n",
      "990/990 [==============================] - 0s 98us/sample - loss: 0.0035 - mean_squared_error: 0.0035 - val_loss: 0.0031 - val_mean_squared_error: 0.0031\n",
      "Epoch 29/30\n",
      "990/990 [==============================] - 0s 114us/sample - loss: 0.0034 - mean_squared_error: 0.0034 - val_loss: 0.0029 - val_mean_squared_error: 0.0029\n",
      "Epoch 30/30\n",
      "990/990 [==============================] - 0s 109us/sample - loss: 0.0034 - mean_squared_error: 0.0034 - val_loss: 0.0028 - val_mean_squared_error: 0.0028\n"
     ]
    },
    {
     "data": {
      "text/plain": [
       "<tensorflow.python.keras.callbacks.History at 0x7fb111084a90>"
      ]
     },
     "execution_count": 89,
     "metadata": {},
     "output_type": "execute_result"
    }
   ],
   "source": [
    "tuned_model.fit(x_train_full, y_train_full, epochs=30, validation_split=.1, callbacks=CALLBACKS, verbose=1)"
   ]
  },
  {
   "cell_type": "code",
   "execution_count": 90,
   "id": "1c408d95-0e74-4276-a15c-b74a6198689b",
   "metadata": {},
   "outputs": [],
   "source": [
    "predictions = tuned_model.predict(x_test)"
   ]
  },
  {
   "cell_type": "code",
   "execution_count": 91,
   "id": "3d44ce2f-5aae-43e9-a37f-3594eac8ea45",
   "metadata": {},
   "outputs": [
    {
     "data": {
      "text/plain": [
       "0.004855598843200306"
      ]
     },
     "execution_count": 91,
     "metadata": {},
     "output_type": "execute_result"
    }
   ],
   "source": [
    "mean_squared_error(y_test, predictions)"
   ]
  },
  {
   "cell_type": "code",
   "execution_count": 109,
   "id": "752286e1-26e1-4122-a3d2-13412776f2e2",
   "metadata": {},
   "outputs": [
    {
     "data": {
      "text/plain": [
       "0.16042788740454816"
      ]
     },
     "execution_count": 109,
     "metadata": {},
     "output_type": "execute_result"
    }
   ],
   "source": [
    "r2_score(y_test, predictions)"
   ]
  },
  {
   "cell_type": "code",
   "execution_count": 99,
   "id": "36f099a3-d51c-489f-bc63-7c785b410f1f",
   "metadata": {},
   "outputs": [],
   "source": [
    "y_test_g = [ x[0] for x in y_test ] \n",
    "predictions_g = np.array([ x[0] for x in predictions ])"
   ]
  },
  {
   "cell_type": "code",
   "execution_count": 112,
   "id": "d3f11d65-b93d-407e-bf47-a2bb646a9949",
   "metadata": {},
   "outputs": [
    {
     "data": {
      "text/plain": [
       "[Text(0.5, 0, 'Actual Value'),\n",
       " Text(0, 0.5, 'Predicted Value'),\n",
       " Text(0.5, 1.0, 'Actual vs Predicted')]"
      ]
     },
     "execution_count": 112,
     "metadata": {},
     "output_type": "execute_result"
    },
    {
     "data": {
      "image/png": "[encoded data removed]",
      "text/plain": [
       "<Figure size 432x288 with 1 Axes>"
      ]
     },
     "metadata": {
      "needs_background": "light"
     },
     "output_type": "display_data"
    }
   ],
   "source": [
    "ax = sns.scatterplot(x=y_test_g, y=predictions_g)\n",
    "ax.set(xlabel='Actual Value', ylabel='Predicted Value', title='Actual vs Predicted')"
   ]
  },
  {
   "cell_type": "code",
   "execution_count": 101,
   "id": "4c244c9c-f5ba-4bd4-a1af-3f405448f381",
   "metadata": {},
   "outputs": [],
   "source": [
    "errors = y_test_g - predictions_g"
   ]
  },
  {
   "cell_type": "code",
   "execution_count": 105,
   "id": "ca000949-3432-4be9-8889-9e750c4cf950",
   "metadata": {},
   "outputs": [
    {
     "data": {
      "text/plain": [
       "[Text(0.5, 0, 'Error'), Text(0.5, 1.0, 'Binned Error Counts')]"
      ]
     },
     "execution_count": 105,
     "metadata": {},
     "output_type": "execute_result"
    },
    {
     "data": {
      "image/png": "[encoded data removed]",
      "text/plain": [
       "<Figure size 432x288 with 1 Axes>"
      ]
     },
     "metadata": {
      "needs_background": "light"
     },
     "output_type": "display_data"
    }
   ],
   "source": [
    "ax = sns.histplot(data=errors, bins=10)\n",
    "ax.set(xlabel='Error', title='Binned Error Counts')"
   ]
  },
  {
   "cell_type": "code",
   "execution_count": null,
   "id": "7bda91b6-0f2f-4c2b-ae31-b568e6790247",
   "metadata": {},
   "outputs": [],
   "source": []
  }
 ],
 "metadata": {
  "kernelspec": {
   "display_name": "Python 3 (ipykernel)",
   "language": "python",
   "name": "python3"
  },
  "language_info": {
   "codemirror_mode": {
    "name": "ipython",
    "version": 3
   },
   "file_extension": ".py",
   "mimetype": "text/x-python",
   "name": "python",
   "nbconvert_exporter": "python",
   "pygments_lexer": "ipython3",
   "version": "3.7.11"
  }
 },
 "nbformat": 4,
 "nbformat_minor": 5
}
