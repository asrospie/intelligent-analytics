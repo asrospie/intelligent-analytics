{
 "cells": [
  {
   "cell_type": "code",
   "execution_count": 50,
   "id": "27eafdd3-3aab-4594-9c53-181aa4a7fcc0",
   "metadata": {},
   "outputs": [],
   "source": [
    "import tensorflow as tf\n",
    "from tensorflow import keras\n",
    "from sklearn.preprocessing import OneHotEncoder\n",
    "from sklearn.model_selection import LeaveOneOut\n",
    "from sklearn.metrics import accuracy_score, f1_score\n",
    "from sklearn.model_selection import RandomizedSearchCV, cross_val_score, KFold\n",
    "from sklearn import model_selection\n",
    "from sklearn import metrics\n",
    "from skopt import dump, load\n",
    "from scipy.stats import reciprocal\n",
    "from skopt import gp_minimize\n",
    "import skopt\n",
    "import numpy as np\n",
    "import pandas as pd\n",
    "import keras_tuner as kt\n",
    "from sklearn import metrics\n",
    "import datetime\n",
    "import re\n",
    "import os\n",
    "import seaborn as sns\n",
    "import matplotlib.pyplot as plt"
   ]
  },
  {
   "cell_type": "markdown",
   "id": "fb50cfb5-150e-4f4b-973c-e9cae66fa227",
   "metadata": {},
   "source": [
    "# Load Data from Keras"
   ]
  },
  {
   "cell_type": "code",
   "execution_count": 17,
   "id": "f9c77953-7ca8-4c9c-9364-2dc1184ea93d",
   "metadata": {},
   "outputs": [],
   "source": [
    "fashion_mnist = keras.datasets.fashion_mnist\n",
    "(x_train_full, y_train_full), (x_test, y_test) = fashion_mnist.load_data()"
   ]
  },
  {
   "cell_type": "code",
   "execution_count": 18,
   "id": "b6aac7dc-a600-43d7-91c2-519fe53b3d2a",
   "metadata": {},
   "outputs": [
    {
     "name": "stdout",
     "output_type": "stream",
     "text": [
      "Train Shape: (60000, 28, 28) (60000,)\n",
      "Test Shape: (10000, 28, 28) (10000,)\n"
     ]
    }
   ],
   "source": [
    "print(f'Train Shape: {x_train_full.shape} {y_train_full.shape}')\n",
    "print(f'Test Shape: {x_test.shape} {y_test.shape}')"
   ]
  },
  {
   "cell_type": "markdown",
   "id": "63c92609-8e21-451f-ae8e-58e131f00bd2",
   "metadata": {},
   "source": [
    "# Preprocess Data"
   ]
  },
  {
   "cell_type": "code",
   "execution_count": 19,
   "id": "25521475-b4d1-40b4-b880-908bf5ae33df",
   "metadata": {},
   "outputs": [],
   "source": [
    "x_train_full = x_train_full / 255.0\n",
    "x_test = x_test / 255.0\n",
    "x_valid, x_train = x_train_full[:5000], x_train_full[5000:]\n",
    "y_valid, y_train = y_train_full[:5000], y_train_full[5000:]"
   ]
  },
  {
   "cell_type": "markdown",
   "id": "306f2101-2ea6-4c97-94d4-57c437e16be6",
   "metadata": {},
   "source": [
    "# Building and Testing Simple Model"
   ]
  },
  {
   "cell_type": "code",
   "execution_count": 20,
   "id": "77586e20-a60c-446c-8027-e2af687cfc5f",
   "metadata": {},
   "outputs": [],
   "source": [
    "def build_simple_model():\n",
    "    model = keras.models.Sequential()\n",
    "    \n",
    "    # Input Layer\n",
    "    model.add(keras.layers.Flatten(input_shape=(28, 28), name='input_layer'))\n",
    "    \n",
    "    # Hidden Layers\n",
    "    model.add(keras.layers.Dense(units=300, activation='relu', name='hidden_layer_0'))\n",
    "    model.add(keras.layers.Dense(units=100, activation='relu', name='hidden_layer_1'))\n",
    "    \n",
    "    # Output Layer\n",
    "    model.add(keras.layers.Dense(units=10, activation='softmax', name='output_layer'))\n",
    "    \n",
    "    model.compile(\n",
    "        loss='sparse_categorical_crossentropy',\n",
    "        optimizer='sgd',\n",
    "        metrics=['accuracy']\n",
    "    )\n",
    "    \n",
    "    return model"
   ]
  },
  {
   "cell_type": "code",
   "execution_count": 21,
   "id": "6a3eef7a-11ab-43cb-9663-ccdfac6b7de9",
   "metadata": {},
   "outputs": [],
   "source": [
    "sm_model = build_simple_model()"
   ]
  },
  {
   "cell_type": "code",
   "execution_count": 22,
   "id": "6ba695a2-6def-4381-8854-3cb9f224c9a9",
   "metadata": {
    "tags": []
   },
   "outputs": [
    {
     "name": "stdout",
     "output_type": "stream",
     "text": [
      "Train on 60000 samples\n",
      "Epoch 1/30\n",
      "60000/60000 [==============================] - 6s 100us/sample - loss: 0.6884 - accuracy: 0.7721\n",
      "Epoch 2/30\n",
      "60000/60000 [==============================] - 6s 98us/sample - loss: 0.4791 - accuracy: 0.8320\n",
      "Epoch 3/30\n",
      "60000/60000 [==============================] - 6s 104us/sample - loss: 0.4363 - accuracy: 0.8474\n",
      "Epoch 4/30\n",
      "60000/60000 [==============================] - 6s 103us/sample - loss: 0.4102 - accuracy: 0.8565\n",
      "Epoch 5/30\n",
      "60000/60000 [==============================] - 7s 109us/sample - loss: 0.3907 - accuracy: 0.8634\n",
      "Epoch 6/30\n",
      "60000/60000 [==============================] - 7s 111us/sample - loss: 0.3754 - accuracy: 0.8673\n",
      "Epoch 7/30\n",
      "60000/60000 [==============================] - 6s 102us/sample - loss: 0.3623 - accuracy: 0.8722\n",
      "Epoch 8/30\n",
      "60000/60000 [==============================] - 7s 108us/sample - loss: 0.3501 - accuracy: 0.8753\n",
      "Epoch 9/30\n",
      "60000/60000 [==============================] - 7s 116us/sample - loss: 0.3402 - accuracy: 0.8785\n",
      "Epoch 10/30\n",
      "60000/60000 [==============================] - 6s 107us/sample - loss: 0.3300 - accuracy: 0.8819\n",
      "Epoch 11/30\n",
      "60000/60000 [==============================] - 6s 107us/sample - loss: 0.3215 - accuracy: 0.8866\n",
      "Epoch 12/30\n",
      "60000/60000 [==============================] - 6s 101us/sample - loss: 0.3135 - accuracy: 0.8885\n",
      "Epoch 13/30\n",
      "60000/60000 [==============================] - 6s 100us/sample - loss: 0.3057 - accuracy: 0.8902\n",
      "Epoch 14/30\n",
      "60000/60000 [==============================] - 6s 101us/sample - loss: 0.2986 - accuracy: 0.8939\n",
      "Epoch 15/30\n",
      "60000/60000 [==============================] - 6s 97us/sample - loss: 0.2932 - accuracy: 0.8952\n",
      "Epoch 16/30\n",
      "60000/60000 [==============================] - 6s 97us/sample - loss: 0.2866 - accuracy: 0.8969\n",
      "Epoch 17/30\n",
      "60000/60000 [==============================] - 6s 95us/sample - loss: 0.2804 - accuracy: 0.9003\n",
      "Epoch 18/30\n",
      "60000/60000 [==============================] - 6s 96us/sample - loss: 0.2749 - accuracy: 0.9015\n",
      "Epoch 19/30\n",
      "60000/60000 [==============================] - 6s 94us/sample - loss: 0.2702 - accuracy: 0.9039\n",
      "Epoch 20/30\n",
      "60000/60000 [==============================] - 6s 98us/sample - loss: 0.2658 - accuracy: 0.9030\n",
      "Epoch 21/30\n",
      "60000/60000 [==============================] - 6s 95us/sample - loss: 0.2604 - accuracy: 0.9058\n",
      "Epoch 22/30\n",
      "60000/60000 [==============================] - 6s 98us/sample - loss: 0.2567 - accuracy: 0.9074\n",
      "Epoch 23/30\n",
      "60000/60000 [==============================] - 6s 97us/sample - loss: 0.2511 - accuracy: 0.9089\n",
      "Epoch 24/30\n",
      "60000/60000 [==============================] - 6s 102us/sample - loss: 0.2470 - accuracy: 0.9113\n",
      "Epoch 25/30\n",
      "60000/60000 [==============================] - 6s 100us/sample - loss: 0.2423 - accuracy: 0.9123\n",
      "Epoch 26/30\n",
      "60000/60000 [==============================] - 6s 100us/sample - loss: 0.2397 - accuracy: 0.9129\n",
      "Epoch 27/30\n",
      "60000/60000 [==============================] - 6s 99us/sample - loss: 0.2350 - accuracy: 0.9144\n",
      "Epoch 28/30\n",
      "60000/60000 [==============================] - 6s 94us/sample - loss: 0.2312 - accuracy: 0.9170\n",
      "Epoch 29/30\n",
      "60000/60000 [==============================] - 6s 104us/sample - loss: 0.2271 - accuracy: 0.9185\n",
      "Epoch 30/30\n",
      "60000/60000 [==============================] - 6s 93us/sample - loss: 0.2242 - accuracy: 0.9196\n"
     ]
    }
   ],
   "source": [
    "history = sm_model.fit(x_train_full, y_train_full, epochs=30)"
   ]
  },
  {
   "cell_type": "code",
   "execution_count": 34,
   "id": "e2d17c92-15bc-486f-a804-954fac25a186",
   "metadata": {},
   "outputs": [
    {
     "data": {
      "image/png": "[encoded data removed]",
      "text/plain": [
       "<Figure size 576x360 with 1 Axes>"
      ]
     },
     "metadata": {
      "needs_background": "light"
     },
     "output_type": "display_data"
    }
   ],
   "source": [
    "pd.DataFrame(history.history).plot(figsize=(8, 5))\n",
    "plt.grid(True)\n",
    "plt.gca().set_ylim(0, 1)\n",
    "plt.xlabel('Epoch')\n",
    "plt.ylabel('Accuracy')\n",
    "plt.title('Simple Model Accuracy')\n",
    "plt.show()"
   ]
  },
  {
   "cell_type": "code",
   "execution_count": 35,
   "id": "cc4887c7-be2f-44c7-ae48-a8a54be99446",
   "metadata": {},
   "outputs": [
    {
     "data": {
      "text/plain": [
       "0.8848"
      ]
     },
     "execution_count": 35,
     "metadata": {},
     "output_type": "execute_result"
    }
   ],
   "source": [
    "accuracy_score(sm_model.predict_classes(x_test), y_test)"
   ]
  },
  {
   "cell_type": "code",
   "execution_count": 11,
   "id": "34425448-164a-4493-a850-37f55ca6ec0c",
   "metadata": {},
   "outputs": [
    {
     "name": "stdout",
     "output_type": "stream",
     "text": [
      "WARNING:tensorflow:From /Users/alecrospierski/opt/anaconda3/envs/tensors-are-fun/lib/python3.7/site-packages/tensorflow_core/python/ops/resource_variable_ops.py:1781: calling BaseResourceVariable.__init__ (from tensorflow.python.ops.resource_variable_ops) with constraint is deprecated and will be removed in a future version.\n",
      "Instructions for updating:\n",
      "If using Keras pass *_constraint arguments to layers.\n",
      "INFO:tensorflow:Assets written to: models/simple_model/assets\n"
     ]
    },
    {
     "name": "stderr",
     "output_type": "stream",
     "text": [
      "2022-02-28 22:40:14.118877: W tensorflow/python/util/util.cc:299] Sets are not currently considered sequences, but this may change in the future, so consider avoiding using them.\n"
     ]
    }
   ],
   "source": [
    "# Save simple model\n",
    "sm_model.save('models/simple_model')"
   ]
  },
  {
   "cell_type": "markdown",
   "id": "fd2d7ae7-cd2f-42bc-aafc-4f60666a7bf7",
   "metadata": {},
   "source": [
    "# Hyper Parameter Tuning with SciKit Optimize"
   ]
  },
  {
   "cell_type": "code",
   "execution_count": 36,
   "id": "3816b9d2-33b5-40d3-867c-497285eab0c8",
   "metadata": {},
   "outputs": [],
   "source": [
    "def build_model(n_units_one, n_units_two, learning_rate, activation='relu', dropout_rate=.5):\n",
    "    model = keras.models.Sequential()\n",
    "    \n",
    "    # Input Layer\n",
    "    model.add(keras.layers.Flatten(input_shape=(28, 28), name='input_layer'))\n",
    "    \n",
    "    \n",
    "    # Hidden Layers\n",
    "    model.add(keras.layers.Dense(\n",
    "        units=n_units_one,\n",
    "        activation=activation,\n",
    "        name=f'hidden_layer_{0}'\n",
    "    ))\n",
    "    \n",
    "    model.add(keras.layers.Dense(\n",
    "        units=n_units_two,\n",
    "        activation=activation,\n",
    "        name=f'hidden_layer_{1}'\n",
    "    ))\n",
    "    \n",
    "    # Dropout layer\n",
    "\n",
    "    model.add(keras.layers.Dropout(rate=dropout_rate))\n",
    "    \n",
    "    # Output Layer\n",
    "    model.add(keras.layers.Dense(units=10, activation='softmax', name='output_layer'))\n",
    "    \n",
    "    model.compile(\n",
    "        loss='sparse_categorical_crossentropy',\n",
    "        optimizer='adam',\n",
    "        learning_rate=learning_rate,\n",
    "        metrics=['accuracy']\n",
    "    )\n",
    "    \n",
    "    return model"
   ]
  },
  {
   "cell_type": "code",
   "execution_count": 7,
   "id": "195ce951-bb1f-4539-9edc-9a336fdb266c",
   "metadata": {},
   "outputs": [],
   "source": [
    "num_features = x_train_full.shape[1]\n",
    "num_classes = 15\n",
    "STATIC_PARAMS = { num_features, num_classes }\n",
    "SPACE = [\n",
    "    skopt.space.Integer(100, 700, name='n_units_one'),\n",
    "    skopt.space.Integer(50, 500, name='n_units_two'),\n",
    "    skopt.space.Real(0.0, .5, name='dropout_rate'),\n",
    "    skopt.space.Real(1e-4, .1, prior='log-uniform', name='learning_rate')\n",
    "]\n",
    "CALLBACKS = [keras.callbacks.EarlyStopping(monitor='val_accuracy', patience=5)]"
   ]
  },
  {
   "cell_type": "code",
   "execution_count": 37,
   "id": "3986612e-5b1b-4873-9953-7faeee04add7",
   "metadata": {},
   "outputs": [],
   "source": [
    "@skopt.utils.use_named_args(SPACE)\n",
    "def objective(**params):\n",
    "    print('-----------------------------------------------------------------------------------')\n",
    "    print('Testing Parameters: ')\n",
    "    print('Layer One: {} :: Layer Two {}'.format(params['n_units_one'], params['n_units_two']))\n",
    "    print('Learning Rate: {} :: Dropout Rate: {}'.format(params['learning_rate'], params['dropout_rate']))\n",
    "    \n",
    "    valid_acc_scores = []\n",
    "    cv = KFold(5)\n",
    "    for train_idx, test_idx in cv.split(x_train_full):\n",
    "        # Get train valid splits\n",
    "        x_train, x_valid = x_train_full[train_idx], x_train_full[test_idx]\n",
    "        y_train, y_valid = y_train_full[train_idx], y_train_full[test_idx]\n",
    "        \n",
    "        # fit model\n",
    "        model = build_model(\n",
    "            params['n_units_one'],\n",
    "            params['n_units_two'],\n",
    "            params['learning_rate'],\n",
    "            dropout_rate=params['dropout_rate']\n",
    "        )\n",
    "        model.fit(x_train, y_train, epochs=10, validation_data=(x_valid, y_valid), callbacks=CALLBACKS, verbose=0)\n",
    "        trial_score = model.evaluate(x_valid, y_valid, verbose=0)[1]\n",
    "        print(f'Validation Accuracy: {trial_score}')\n",
    "        valid_acc_scores.append(trial_score)\n",
    "    return -np.mean(valid_acc_scores)"
   ]
  },
  {
   "cell_type": "code",
   "execution_count": 13,
   "id": "3e24c3b8-192d-4999-96cf-ee9b920da623",
   "metadata": {
    "tags": []
   },
   "outputs": [
    {
     "name": "stdout",
     "output_type": "stream",
     "text": [
      "-----------------------------------------------------------------------------------\n",
      "Testing Parameters: \n",
      "Layer One: 698 :: Layer Two 470\n",
      "Learning Rate: 0.09933940306516521 :: Dropout Rate: 0.06406222396467838\n",
      "Validation Accuracy: 0.8933333158493042\n",
      "Validation Accuracy: 0.890749990940094\n",
      "Validation Accuracy: 0.8956666588783264\n",
      "Validation Accuracy: 0.9003333449363708\n",
      "Validation Accuracy: 0.8897500038146973\n",
      "-----------------------------------------------------------------------------------\n",
      "Testing Parameters: \n",
      "Layer One: 242 :: Layer Two 228\n",
      "Learning Rate: 0.010214993871440807 :: Dropout Rate: 0.19395537058100376\n",
      "Validation Accuracy: 0.890666663646698\n",
      "Validation Accuracy: 0.8842499852180481\n",
      "Validation Accuracy: 0.89041668176651\n",
      "Validation Accuracy: 0.8918333053588867\n",
      "Validation Accuracy: 0.8834999799728394\n",
      "-----------------------------------------------------------------------------------\n",
      "Testing Parameters: \n",
      "Layer One: 661 :: Layer Two 431\n",
      "Learning Rate: 0.0037466616820236694 :: Dropout Rate: 0.1566367584661376\n",
      "Validation Accuracy: 0.8864166736602783\n",
      "Validation Accuracy: 0.8877500295639038\n",
      "Validation Accuracy: 0.89041668176651\n",
      "Validation Accuracy: 0.8960000276565552\n",
      "Validation Accuracy: 0.8886666893959045\n",
      "-----------------------------------------------------------------------------------\n",
      "Testing Parameters: \n",
      "Layer One: 366 :: Layer Two 153\n",
      "Learning Rate: 0.05519326346081447 :: Dropout Rate: 0.26720695447350856\n",
      "Validation Accuracy: 0.8786666393280029\n",
      "Validation Accuracy: 0.8861666917800903\n",
      "Validation Accuracy: 0.8872500061988831\n",
      "Validation Accuracy: 0.8878333568572998\n",
      "Validation Accuracy: 0.8878333568572998\n",
      "-----------------------------------------------------------------------------------\n",
      "Testing Parameters: \n",
      "Layer One: 700 :: Layer Two 500\n",
      "Learning Rate: 0.0001 :: Dropout Rate: 0.0\n",
      "Validation Accuracy: 0.8889999985694885\n",
      "Validation Accuracy: 0.8832499980926514\n",
      "Validation Accuracy: 0.8925833106040955\n",
      "Validation Accuracy: 0.8737499713897705\n",
      "Validation Accuracy: 0.893583357334137\n",
      "-----------------------------------------------------------------------------------\n",
      "Testing Parameters: \n",
      "Layer One: 508 :: Layer Two 54\n",
      "Learning Rate: 0.00010596544762798032 :: Dropout Rate: 0.3486361814789466\n",
      "Validation Accuracy: 0.8834999799728394\n",
      "Validation Accuracy: 0.8865833282470703\n",
      "Validation Accuracy: 0.8899999856948853\n",
      "Validation Accuracy: 0.8888333439826965\n",
      "Validation Accuracy: 0.8871666789054871\n",
      "-----------------------------------------------------------------------------------\n",
      "Testing Parameters: \n",
      "Layer One: 380 :: Layer Two 358\n",
      "Learning Rate: 0.09572269442527573 :: Dropout Rate: 0.020769293801833014\n",
      "Validation Accuracy: 0.8865833282470703\n",
      "Validation Accuracy: 0.8828333616256714\n",
      "Validation Accuracy: 0.8948333263397217\n",
      "Validation Accuracy: 0.8915833234786987\n",
      "Validation Accuracy: 0.8896666765213013\n",
      "-----------------------------------------------------------------------------------\n",
      "Testing Parameters: \n",
      "Layer One: 578 :: Layer Two 500\n",
      "Learning Rate: 0.1 :: Dropout Rate: 0.4821134773367651\n",
      "Validation Accuracy: 0.890999972820282\n",
      "Validation Accuracy: 0.8834166526794434\n",
      "Validation Accuracy: 0.8934999704360962\n",
      "Validation Accuracy: 0.8924999833106995\n",
      "Validation Accuracy: 0.8849999904632568\n",
      "-----------------------------------------------------------------------------------\n",
      "Testing Parameters: \n",
      "Layer One: 692 :: Layer Two 340\n",
      "Learning Rate: 0.08037327750309595 :: Dropout Rate: 0.127614156092095\n",
      "Validation Accuracy: 0.8987500071525574\n",
      "Validation Accuracy: 0.8897500038146973\n",
      "Validation Accuracy: 0.8849166631698608\n",
      "Validation Accuracy: 0.890916645526886\n",
      "Validation Accuracy: 0.8897500038146973\n",
      "-----------------------------------------------------------------------------------\n",
      "Testing Parameters: \n",
      "Layer One: 158 :: Layer Two 496\n",
      "Learning Rate: 0.0002146747226243406 :: Dropout Rate: 0.49217293683253616\n",
      "Validation Accuracy: 0.8900833129882812\n",
      "Validation Accuracy: 0.8804166913032532\n",
      "Validation Accuracy: 0.8863333463668823\n",
      "Validation Accuracy: 0.8882499933242798\n",
      "Validation Accuracy: 0.8834166526794434\n",
      "-----------------------------------------------------------------------------------\n",
      "Testing Parameters: \n",
      "Layer One: 138 :: Layer Two 137\n",
      "Learning Rate: 0.00018298426507411017 :: Dropout Rate: 0.0017986335910791245\n",
      "Validation Accuracy: 0.8850833177566528\n",
      "Validation Accuracy: 0.8848333358764648\n",
      "Validation Accuracy: 0.8855833411216736\n",
      "Validation Accuracy: 0.8922500014305115\n",
      "Validation Accuracy: 0.887499988079071\n",
      "-----------------------------------------------------------------------------------\n",
      "Testing Parameters: \n",
      "Layer One: 371 :: Layer Two 196\n",
      "Learning Rate: 0.00011193726871994119 :: Dropout Rate: 0.08510555082313533\n",
      "Validation Accuracy: 0.8864166736602783\n",
      "Validation Accuracy: 0.8812500238418579\n",
      "Validation Accuracy: 0.8977500200271606\n",
      "Validation Accuracy: 0.8887500166893005\n",
      "Validation Accuracy: 0.8840000033378601\n",
      "-----------------------------------------------------------------------------------\n",
      "Testing Parameters: \n",
      "Layer One: 224 :: Layer Two 458\n",
      "Learning Rate: 0.09839792945419631 :: Dropout Rate: 0.39173620256818475\n",
      "Validation Accuracy: 0.890333354473114\n",
      "Validation Accuracy: 0.8852499723434448\n",
      "Validation Accuracy: 0.8839166760444641\n",
      "Validation Accuracy: 0.887499988079071\n",
      "Validation Accuracy: 0.8884999752044678\n",
      "-----------------------------------------------------------------------------------\n",
      "Testing Parameters: \n",
      "Layer One: 246 :: Layer Two 201\n",
      "Learning Rate: 0.007236510391563027 :: Dropout Rate: 0.08184301834608439\n",
      "Validation Accuracy: 0.890749990940094\n",
      "Validation Accuracy: 0.8851666450500488\n",
      "Validation Accuracy: 0.8955833315849304\n",
      "Validation Accuracy: 0.8980833292007446\n",
      "Validation Accuracy: 0.890916645526886\n",
      "-----------------------------------------------------------------------------------\n",
      "Testing Parameters: \n",
      "Layer One: 334 :: Layer Two 69\n",
      "Learning Rate: 0.1 :: Dropout Rate: 0.08369488733459989\n",
      "Validation Accuracy: 0.8949166536331177\n",
      "Validation Accuracy: 0.8879166841506958\n",
      "Validation Accuracy: 0.8924999833106995\n",
      "Validation Accuracy: 0.8952500224113464\n",
      "Validation Accuracy: 0.8803333044052124\n"
     ]
    }
   ],
   "source": [
    "results_gp = gp_minimize(objective, SPACE, n_calls=15, n_random_starts=4, random_state=1)"
   ]
  },
  {
   "cell_type": "code",
   "execution_count": 14,
   "id": "e78d4e2c-137e-4588-aa3c-77c6aa1e7427",
   "metadata": {},
   "outputs": [],
   "source": [
    "dump(results_gp, 'tuning/skopt_results')"
   ]
  },
  {
   "cell_type": "markdown",
   "id": "0ddcbe45-d47e-4216-9298-c2b3c45335da",
   "metadata": {},
   "source": [
    "# Model Evaluation"
   ]
  },
  {
   "cell_type": "code",
   "execution_count": 28,
   "id": "e9a279b3-e506-4668-a5a9-67f9fbff4aa7",
   "metadata": {},
   "outputs": [],
   "source": [
    "res_loaded = load('tuning/skopt_results')"
   ]
  },
  {
   "cell_type": "markdown",
   "id": "d4c7181c-9d9f-44a2-9b1c-c4055fd989f1",
   "metadata": {},
   "source": [
    "### Best Parameters from Bayesian Cross Validation HP Tuning"
   ]
  },
  {
   "cell_type": "code",
   "execution_count": 31,
   "id": "abe3ade8-7ed7-4866-a700-67ba6c6c1115",
   "metadata": {},
   "outputs": [
    {
     "name": "stdout",
     "output_type": "stream",
     "text": [
      "\n",
      "    Best Avg. Val Acc: 0.8940\n",
      "    Best Parameters:\n",
      "    - Dense Layer 1: 698\n",
      "    - Dense Layer 2: 470\n",
      "    - Learning Rate: 0.06406222396467838\n",
      "    - Dropout Rate: 0.09933940306516521\n",
      "\n"
     ]
    }
   ],
   "source": [
    "print(f\"\"\"\n",
    "    Best Avg. Val Acc: {-res_loaded.fun:.4f}\n",
    "    Best Parameters:\n",
    "    - Dense Layer 1: {res_loaded.x[0]}\n",
    "    - Dense Layer 2: {res_loaded.x[1]}\n",
    "    - Learning Rate: {res_loaded.x[2]}\n",
    "    - Dropout Rate: {res_loaded.x[3]}\n",
    "\"\"\")"
   ]
  },
  {
   "cell_type": "code",
   "execution_count": 32,
   "id": "632a4835-6761-42cd-b488-ad8fda39e4e7",
   "metadata": {},
   "outputs": [
    {
     "data": {
      "text/plain": [
       "<AxesSubplot:title={'center':'Convergence plot'}, xlabel='Number of calls $n$', ylabel='$\\\\min f(x)$ after $n$ calls'>"
      ]
     },
     "execution_count": 32,
     "metadata": {},
     "output_type": "execute_result"
    },
    {
     "data": {
      "image/png": "[encoded data removed]",
      "text/plain": [
       "<Figure size 432x288 with 1 Axes>"
      ]
     },
     "metadata": {
      "needs_background": "light"
     },
     "output_type": "display_data"
    }
   ],
   "source": [
    "from skopt.plots import plot_convergence\n",
    "plot_convergence(res_loaded)"
   ]
  },
  {
   "cell_type": "code",
   "execution_count": 43,
   "id": "4838aa20-8918-4b2e-bda4-912e60e3b94f",
   "metadata": {},
   "outputs": [],
   "source": [
    "n_units_one, n_units_two, learning_rate, dropout_rate = res_loaded.x[0], res_loaded.x[1], res_loaded.x[2], res_loaded.x[3]\n",
    "\n",
    "tuned_model = build_model(n_units_one, n_units_two, learning_rate, dropout_rate=dropout_rate) "
   ]
  },
  {
   "cell_type": "code",
   "execution_count": 44,
   "id": "fa5d1d3b-227a-4c95-ae24-768b7b7a9064",
   "metadata": {},
   "outputs": [
    {
     "name": "stdout",
     "output_type": "stream",
     "text": [
      "Train on 48000 samples, validate on 12000 samples\n",
      "Epoch 1/20\n",
      "48000/48000 [==============================] - 17s 353us/sample - loss: 0.4885 - accuracy: 0.8232 - val_loss: 0.3963 - val_accuracy: 0.8490\n",
      "Epoch 2/20\n",
      "48000/48000 [==============================] - 16s 334us/sample - loss: 0.3693 - accuracy: 0.8652 - val_loss: 0.3656 - val_accuracy: 0.8643\n",
      "Epoch 3/20\n",
      "48000/48000 [==============================] - 19s 397us/sample - loss: 0.3285 - accuracy: 0.8777 - val_loss: 0.3668 - val_accuracy: 0.8665\n",
      "Epoch 4/20\n",
      "48000/48000 [==============================] - 17s 350us/sample - loss: 0.3075 - accuracy: 0.8847 - val_loss: 0.3253 - val_accuracy: 0.8820\n",
      "Epoch 5/20\n",
      "48000/48000 [==============================] - 20s 409us/sample - loss: 0.2866 - accuracy: 0.8925 - val_loss: 0.3169 - val_accuracy: 0.8872\n",
      "Epoch 6/20\n",
      "48000/48000 [==============================] - 17s 359us/sample - loss: 0.2739 - accuracy: 0.8978 - val_loss: 0.3346 - val_accuracy: 0.8860\n",
      "Epoch 7/20\n",
      "48000/48000 [==============================] - 17s 354us/sample - loss: 0.2570 - accuracy: 0.9015 - val_loss: 0.3505 - val_accuracy: 0.8788\n",
      "Epoch 8/20\n",
      "48000/48000 [==============================] - 19s 390us/sample - loss: 0.2472 - accuracy: 0.9064 - val_loss: 0.3168 - val_accuracy: 0.8891\n",
      "Epoch 9/20\n",
      "48000/48000 [==============================] - 17s 355us/sample - loss: 0.2385 - accuracy: 0.9089 - val_loss: 0.3354 - val_accuracy: 0.8835\n",
      "Epoch 10/20\n",
      "48000/48000 [==============================] - 18s 379us/sample - loss: 0.2277 - accuracy: 0.9130 - val_loss: 0.3077 - val_accuracy: 0.8932\n",
      "Epoch 11/20\n",
      "48000/48000 [==============================] - 16s 335us/sample - loss: 0.2164 - accuracy: 0.9184 - val_loss: 0.3227 - val_accuracy: 0.8908\n",
      "Epoch 12/20\n",
      "48000/48000 [==============================] - 16s 334us/sample - loss: 0.2133 - accuracy: 0.9194 - val_loss: 0.3297 - val_accuracy: 0.8938\n",
      "Epoch 13/20\n",
      "48000/48000 [==============================] - 18s 379us/sample - loss: 0.2008 - accuracy: 0.9236 - val_loss: 0.3531 - val_accuracy: 0.8842\n",
      "Epoch 14/20\n",
      "48000/48000 [==============================] - 16s 330us/sample - loss: 0.1981 - accuracy: 0.9253 - val_loss: 0.3267 - val_accuracy: 0.8981\n",
      "Epoch 15/20\n",
      "48000/48000 [==============================] - 17s 350us/sample - loss: 0.1901 - accuracy: 0.9269 - val_loss: 0.3498 - val_accuracy: 0.8934\n",
      "Epoch 16/20\n",
      "48000/48000 [==============================] - 18s 380us/sample - loss: 0.1811 - accuracy: 0.9300 - val_loss: 0.3708 - val_accuracy: 0.8912\n",
      "Epoch 17/20\n",
      "48000/48000 [==============================] - 16s 335us/sample - loss: 0.1809 - accuracy: 0.9308 - val_loss: 0.3604 - val_accuracy: 0.8928\n",
      "Epoch 18/20\n",
      "48000/48000 [==============================] - 18s 368us/sample - loss: 0.1739 - accuracy: 0.9344 - val_loss: 0.3699 - val_accuracy: 0.8879\n",
      "Epoch 19/20\n",
      "48000/48000 [==============================] - 17s 356us/sample - loss: 0.1699 - accuracy: 0.9344 - val_loss: 0.3784 - val_accuracy: 0.8966\n"
     ]
    }
   ],
   "source": [
    "history = tuned_model.fit(x_train_full, y_train_full, epochs=20, validation_split=.2, callbacks=CALLBACKS)"
   ]
  },
  {
   "cell_type": "code",
   "execution_count": 48,
   "id": "d57dbffe-17ac-4164-9afa-d5a2a9cfb8a8",
   "metadata": {},
   "outputs": [
    {
     "name": "stdout",
     "output_type": "stream",
     "text": [
      "WARNING:tensorflow:From /Users/alecrospierski/opt/anaconda3/envs/tensors-are-fun/lib/python3.7/site-packages/tensorflow_core/python/ops/resource_variable_ops.py:1781: calling BaseResourceVariable.__init__ (from tensorflow.python.ops.resource_variable_ops) with constraint is deprecated and will be removed in a future version.\n",
      "Instructions for updating:\n",
      "If using Keras pass *_constraint arguments to layers.\n"
     ]
    },
    {
     "name": "stderr",
     "output_type": "stream",
     "text": [
      "2022-03-02 21:30:34.169889: W tensorflow/python/util/util.cc:299] Sets are not currently considered sequences, but this may change in the future, so consider avoiding using them.\n"
     ]
    },
    {
     "name": "stdout",
     "output_type": "stream",
     "text": [
      "INFO:tensorflow:Assets written to: models/tuned_fashion_mnist/assets\n"
     ]
    },
    {
     "data": {
      "text/plain": [
       "0.8911"
      ]
     },
     "execution_count": 48,
     "metadata": {},
     "output_type": "execute_result"
    }
   ],
   "source": [
    "tuned_model.save('models/tuned_fashion_mnist')\n",
    "accuracy_score(tuned_model.predict_classes(x_test), y_test)"
   ]
  },
  {
   "cell_type": "code",
   "execution_count": 47,
   "id": "d0329490-660a-4d81-b5e6-6954da112557",
   "metadata": {},
   "outputs": [
    {
     "data": {
      "image/png": "[encoded data removed]",
      "text/plain": [
       "<Figure size 432x288 with 2 Axes>"
      ]
     },
     "metadata": {
      "needs_background": "light"
     },
     "output_type": "display_data"
    }
   ],
   "source": [
    "# This function is from the TensorFlow and SKOpt example given as an example\n",
    "# Link to reference: https://canvas.wayne.edu/courses/161741/files/11567480/download?wrap=1\n",
    "def plot_metrics(history):\n",
    "  metrics =  ['loss', 'accuracy']\n",
    "  for n, metric in enumerate(metrics):\n",
    "    name = metric.replace(\"_\",\" \").capitalize()\n",
    "    plt.subplot(1,2,n+1)\n",
    "    plt.tight_layout()\n",
    "    plt.plot(history.epoch,  history.history[metric], color=colors[0], label='Train')\n",
    "    plt.plot(history.epoch, history.history['val_'+metric],\n",
    "             color=colors[0], linestyle=\"--\", label='Val')\n",
    "    plt.xlabel('Epoch')\n",
    "    plt.ylabel(name)\n",
    "    plt.legend()\n",
    "colors = plt.rcParams['axes.prop_cycle'].by_key()['color']\n",
    "plot_metrics(history)"
   ]
  },
  {
   "cell_type": "code",
   "execution_count": 51,
   "id": "7ad2d4da-a00a-493c-9f37-9fd3841d3498",
   "metadata": {},
   "outputs": [
    {
     "data": {
      "text/plain": [
       "Text(0.5, 69.0, 'Actual Labels')"
      ]
     },
     "execution_count": 51,
     "metadata": {},
     "output_type": "execute_result"
    },
    {
     "data": {
      "image/png": "[encoded data removed]",
      "text/plain": [
       "<Figure size 720x720 with 2 Axes>"
      ]
     },
     "metadata": {
      "needs_background": "light"
     },
     "output_type": "display_data"
    }
   ],
   "source": [
    "predicted = tuned_model.predict_classes(x_test)\n",
    "cm = metrics.confusion_matrix(y_test, predicted)\n",
    "plt.figure(figsize=(10,10))\n",
    "sns.heatmap(cm, annot=True, fmt='d')\n",
    "plt.title('Fashion MNIST Confusion Matrix')\n",
    "plt.ylabel('Predicted Labels')\n",
    "plt.xlabel('Actual Labels')"
   ]
  },
  {
   "cell_type": "code",
   "execution_count": 55,
   "id": "e43a3011-3005-47d9-8db2-4f82640f0275",
   "metadata": {},
   "outputs": [
    {
     "name": "stdout",
     "output_type": "stream",
     "text": [
      "T-shirt/top (0) : 0.8526211671612265\n",
      "Trouser (1) : 0.9808274470232089\n",
      "Pullover (2) : 0.8075772681954139\n",
      "Dress (3) : 0.8926380368098159\n",
      "Coat (4) : 0.8006103763987793\n",
      "Sandal (5) : 0.9713135379969804\n",
      "Shirt (6) : 0.7192552670259676\n",
      "Sneaker (7) : 0.9553128103277061\n",
      "Bag (8) : 0.9698169223156853\n",
      "Ankle Boot (9) : 0.9635910224438902\n"
     ]
    }
   ],
   "source": [
    "mapper = {\n",
    "    0: 'T-shirt/top',\n",
    "    1: 'Trouser',\n",
    "    2: 'Pullover',\n",
    "    3: 'Dress',\n",
    "    4: 'Coat', \n",
    "    5: 'Sandal',\n",
    "    6: 'Shirt',\n",
    "    7: 'Sneaker',\n",
    "    8: 'Bag',\n",
    "    9: 'Ankle Boot'\n",
    "}\n",
    "for i, val in enumerate(f1_score(y_test, predicted, average=None)):\n",
    "    print(f'{mapper[i]} ({i}) : {val}')"
   ]
  },
  {
   "cell_type": "code",
   "execution_count": null,
   "id": "78303199-1356-49d3-b38d-d391e03f9fb9",
   "metadata": {},
   "outputs": [],
   "source": []
  }
 ],
 "metadata": {
  "kernelspec": {
   "display_name": "Python 3 (ipykernel)",
   "language": "python",
   "name": "python3"
  },
  "language_info": {
   "codemirror_mode": {
    "name": "ipython",
    "version": 3
   },
   "file_extension": ".py",
   "mimetype": "text/x-python",
   "name": "python",
   "nbconvert_exporter": "python",
   "pygments_lexer": "ipython3",
   "version": "3.7.11"
  }
 },
 "nbformat": 4,
 "nbformat_minor": 5
}
