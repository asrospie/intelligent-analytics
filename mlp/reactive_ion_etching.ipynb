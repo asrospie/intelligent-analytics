{
 "cells": [
  {
   "cell_type": "code",
   "execution_count": 82,
   "metadata": {
    "tags": []
   },
   "outputs": [],
   "source": [
    "import tensorflow as tf\n",
    "from tensorflow import keras\n",
    "from sklearn.preprocessing import MaxAbsScaler\n",
    "from sklearn.model_selection import LeaveOneOut\n",
    "import numpy as np\n",
    "import pandas as pd\n",
    "import keras_tuner as kt\n",
    "from sklearn import metrics\n",
    "import datetime\n",
    "import re\n",
    "import os\n",
    "import seaborn as sns"
   ]
  },
  {
   "cell_type": "markdown",
   "metadata": {
    "pycharm": {
     "name": "#%% md\n"
    }
   },
   "source": [
    "# Load the Data and Inspect It"
   ]
  },
  {
   "cell_type": "code",
   "execution_count": 66,
   "metadata": {
    "collapsed": false,
    "jupyter": {
     "outputs_hidden": false
    },
    "pycharm": {
     "name": "#%%\n"
    }
   },
   "outputs": [],
   "source": [
    "data = pd.read_excel('./etching.xlsx')"
   ]
  },
  {
   "cell_type": "code",
   "execution_count": 67,
   "metadata": {
    "collapsed": false,
    "jupyter": {
     "outputs_hidden": false
    },
    "pycharm": {
     "name": "#%%\n"
    }
   },
   "outputs": [
    {
     "data": {
      "text/plain": [
       "Index(['Pressure', 'RF Power', 'Electrode Gap', 'CCL_4 Flow', 'HE Flow',\n",
       "       'O2 Flow', 'Etch Rate -Rp A/min', 'Etch Uniformity',\n",
       "       'Oxide Selectivity - Sox', 'Photoresist Selectivity - Sph'],\n",
       "      dtype='object')"
      ]
     },
     "execution_count": 67,
     "metadata": {},
     "output_type": "execute_result"
    }
   ],
   "source": [
    "data.columns"
   ]
  },
  {
   "cell_type": "markdown",
   "metadata": {
    "pycharm": {
     "name": "#%% md\n"
    }
   },
   "source": [
    "# Split into Input / Output"
   ]
  },
  {
   "cell_type": "code",
   "execution_count": 68,
   "metadata": {
    "collapsed": false,
    "jupyter": {
     "outputs_hidden": false
    },
    "pycharm": {
     "name": "#%%\n"
    }
   },
   "outputs": [],
   "source": [
    "x_full_df = data[['Pressure', 'RF Power', 'Electrode Gap', 'CCL_4 Flow', 'HE Flow', 'O2 Flow']].astype(float)\n",
    "y_full_df = data[['Etch Rate -Rp A/min', 'Etch Uniformity', 'Oxide Selectivity - Sox', 'Photoresist Selectivity - Sph']].astype(float)"
   ]
  },
  {
   "cell_type": "code",
   "execution_count": 69,
   "metadata": {
    "collapsed": false,
    "jupyter": {
     "outputs_hidden": false
    },
    "pycharm": {
     "name": "#%%\n"
    }
   },
   "outputs": [],
   "source": [
    "x_full = x_full_df.to_numpy()\n",
    "y_full = y_full_df.to_numpy()"
   ]
  },
  {
   "cell_type": "code",
   "execution_count": 70,
   "metadata": {
    "collapsed": false,
    "jupyter": {
     "outputs_hidden": false
    },
    "pycharm": {
     "name": "#%%\n"
    }
   },
   "outputs": [],
   "source": [
    "x_scaler = MaxAbsScaler().fit(x_full)\n",
    "y_scaler = MaxAbsScaler().fit(y_full)\n",
    "x_scaled_full = x_scaler.transform(x_full)\n",
    "y_scaled_full = y_scaler.transform(y_full)"
   ]
  },
  {
   "cell_type": "code",
   "execution_count": 17,
   "metadata": {
    "collapsed": false,
    "jupyter": {
     "outputs_hidden": false
    },
    "pycharm": {
     "name": "#%%\n"
    }
   },
   "outputs": [],
   "source": [
    "# Model builder independent of keras tuner\n",
    "def build_model(n_units, n_layers, activation, learning_rate, uses_validation=False):\n",
    "    model = keras.models.Sequential()\n",
    "    \n",
    "    # Input Layer\n",
    "    model.add(keras.layers.InputLayer(input_shape=(6,), name='input_layer'))\n",
    "              \n",
    "    # Hidden Layers\n",
    "    for i in range(n_layers):\n",
    "        model.add(keras.layers.Dense(units=n_units, activation=activation, name=f'hidden_layer_{i}'))\n",
    "        \n",
    "    # Output Layer\n",
    "    model.add(keras.layers.Dense(units=4, name='output_layer'))\n",
    "    \n",
    "    metric = 'val_mean_squared_error' if uses_validation else 'mean_squared_error'\n",
    "    \n",
    "    model.compile(\n",
    "        optimizer='adam',\n",
    "        learning_rate=learning_rate,\n",
    "        loss='mean_squared_error',\n",
    "        metrics=[metric]\n",
    "    )\n",
    "    \n",
    "    return model"
   ]
  },
  {
   "cell_type": "code",
   "execution_count": 18,
   "metadata": {},
   "outputs": [],
   "source": [
    "# Model builder with hypertuning\n",
    "def tune_and_build_model(hp):\n",
    "    n_units = hp.Int('units', min_value=32, max_value=512, step=32)\n",
    "\n",
    "    activation = hp.Choice('activation', ['relu', 'tanh'])\n",
    "\n",
    "    n_layers = hp.Int('layers', min_value=1, max_value=5, step=1)\n",
    "\n",
    "    learning_rate = hp.Float('learning_rate', min_value=1e-4, max_value=.1, sampling='log')\n",
    "\n",
    "    model = build_model(n_units, n_layers, activation, learning_rate)\n",
    "\n",
    "    return model"
   ]
  },
  {
   "cell_type": "code",
   "execution_count": 19,
   "metadata": {},
   "outputs": [],
   "source": [
    "# Tune with random search\n",
    "tuner = kt.RandomSearch(\n",
    "    hypermodel=tune_and_build_model,\n",
    "    objective='mean_squared_error',\n",
    "    max_trials=20,\n",
    "    executions_per_trial=5,\n",
    "    overwrite=True,\n",
    "    directory='tuning',\n",
    "    project_name='etch'\n",
    ")"
   ]
  },
  {
   "cell_type": "code",
   "execution_count": 21,
   "metadata": {},
   "outputs": [
    {
     "name": "stdout",
     "output_type": "stream",
     "text": [
      "Trial 21 Complete [00h 00m 06s]\n",
      "mean_squared_error: 0.010960434563457966\n",
      "\n",
      "Best mean_squared_error So Far: 0.010960434563457966\n",
      "Total elapsed time: 00h 02m 34s\n",
      "INFO:tensorflow:Oracle triggered exit\n"
     ]
    }
   ],
   "source": [
    "# Search using all data\n",
    "tuner.search(x_scaled_full, y_scaled_full, epochs=30)"
   ]
  },
  {
   "cell_type": "code",
   "execution_count": 22,
   "metadata": {
    "collapsed": true,
    "jupyter": {
     "outputs_hidden": true
    },
    "tags": []
   },
   "outputs": [
    {
     "name": "stdout",
     "output_type": "stream",
     "text": [
      "Results summary\n",
      "Results in tuning/etch\n",
      "Showing 10 best trials\n",
      "Objective(name='mean_squared_error', direction='min')\n",
      "Trial summary\n",
      "Hyperparameters:\n",
      "units: 448\n",
      "activation: relu\n",
      "layers: 2\n",
      "learning_rate: 0.0003623121067522334\n",
      "Score: 0.010960434563457966\n",
      "Trial summary\n",
      "Hyperparameters:\n",
      "units: 288\n",
      "activation: relu\n",
      "layers: 4\n",
      "learning_rate: 0.007542559908664484\n",
      "Score: 0.011692138388752937\n",
      "Trial summary\n",
      "Hyperparameters:\n",
      "units: 320\n",
      "activation: relu\n",
      "layers: 2\n",
      "learning_rate: 0.004097039233087892\n",
      "Score: 0.012224553152918816\n",
      "Trial summary\n",
      "Hyperparameters:\n",
      "units: 160\n",
      "activation: tanh\n",
      "layers: 3\n",
      "learning_rate: 0.013561752870711794\n",
      "Score: 0.012235557660460472\n",
      "Trial summary\n",
      "Hyperparameters:\n",
      "units: 256\n",
      "activation: tanh\n",
      "layers: 3\n",
      "learning_rate: 0.0005031758666588903\n",
      "Score: 0.012296374887228012\n",
      "Trial summary\n",
      "Hyperparameters:\n",
      "units: 384\n",
      "activation: tanh\n",
      "layers: 2\n",
      "learning_rate: 0.00010531535298691188\n",
      "Score: 0.012359581887722015\n",
      "Trial summary\n",
      "Hyperparameters:\n",
      "units: 128\n",
      "activation: tanh\n",
      "layers: 2\n",
      "learning_rate: 0.00027439063786896805\n",
      "Score: 0.012393468990921974\n",
      "Trial summary\n",
      "Hyperparameters:\n",
      "units: 512\n",
      "activation: tanh\n",
      "layers: 4\n",
      "learning_rate: 0.009568993542115786\n",
      "Score: 0.01246967539191246\n",
      "Trial summary\n",
      "Hyperparameters:\n",
      "units: 384\n",
      "activation: tanh\n",
      "layers: 5\n",
      "learning_rate: 0.0007457885926334386\n",
      "Score: 0.012492276728153229\n",
      "Trial summary\n",
      "Hyperparameters:\n",
      "units: 96\n",
      "activation: tanh\n",
      "layers: 3\n",
      "learning_rate: 0.05771137432374587\n",
      "Score: 0.012501195073127747\n"
     ]
    }
   ],
   "source": [
    "tuner.results_summary()"
   ]
  },
  {
   "cell_type": "code",
   "execution_count": 24,
   "metadata": {},
   "outputs": [],
   "source": [
    "best_models = tuner.get_best_models(num_models=5)"
   ]
  },
  {
   "cell_type": "code",
   "execution_count": 42,
   "metadata": {
    "tags": []
   },
   "outputs": [
    {
     "name": "stdout",
     "output_type": "stream",
     "text": [
      "[0.00053864 0.00053662 0.00054612 0.00055255 0.00055304]\n"
     ]
    }
   ],
   "source": [
    "best_avg_mses = np.array([])\n",
    "for m in best_models:\n",
    "    m = best_models[0]\n",
    "    loo = LeaveOneOut()\n",
    "    avg_mse = 0\n",
    "    for train, valid in loo.split(x_scaled_full):\n",
    "        x_train, x_valid = x_scaled_full[train], x_scaled_full[valid]\n",
    "        y_train, y_valid = y_scaled_full[train], y_scaled_full[valid]\n",
    "\n",
    "        m.fit(x_train, y_train, epochs=30, verbose=0)\n",
    "        avg_mse += metrics.mean_squared_error(m.predict(x_valid), y_valid)\n",
    "\n",
    "    avg_mse /= (len(x_scaled_full))\n",
    "    best_avg_mses = np.append(best_avg_mses, avg_mse)\n",
    "print(best_avg_mses)"
   ]
  },
  {
   "cell_type": "code",
   "execution_count": 43,
   "metadata": {},
   "outputs": [
    {
     "name": "stdout",
     "output_type": "stream",
     "text": [
      "Best Model Index: 1 with an average validation MSE of 0.0005366190378035432\n"
     ]
    }
   ],
   "source": [
    "best_model_idx = np.argmin(best_avg_mses)\n",
    "print(f'Best Model Index: {best_model_idx} with an average validation MSE of {best_avg_mses[best_model_idx]}')"
   ]
  },
  {
   "cell_type": "code",
   "execution_count": 47,
   "metadata": {},
   "outputs": [],
   "source": [
    "# build final model\n",
    "best_hp = tuner.get_best_hyperparameters(num_trials=5)[best_model_idx]\n",
    "model = tune_and_build_model(best_hp)"
   ]
  },
  {
   "cell_type": "code",
   "execution_count": 48,
   "metadata": {},
   "outputs": [
    {
     "name": "stdout",
     "output_type": "stream",
     "text": [
      "Train on 53 samples\n",
      "Epoch 1/30\n",
      "53/53 [==============================] - 1s 12ms/sample - loss: 0.2843 - mean_squared_error: 0.2843\n",
      "Epoch 2/30\n",
      "53/53 [==============================] - 0s 227us/sample - loss: 0.1077 - mean_squared_error: 0.1077\n",
      "Epoch 3/30\n",
      "53/53 [==============================] - 0s 222us/sample - loss: 0.0313 - mean_squared_error: 0.0313\n",
      "Epoch 4/30\n",
      "53/53 [==============================] - 0s 224us/sample - loss: 0.0634 - mean_squared_error: 0.0634\n",
      "Epoch 5/30\n",
      "53/53 [==============================] - 0s 234us/sample - loss: 0.0358 - mean_squared_error: 0.0358\n",
      "Epoch 6/30\n",
      "53/53 [==============================] - 0s 226us/sample - loss: 0.0238 - mean_squared_error: 0.0238\n",
      "Epoch 7/30\n",
      "53/53 [==============================] - 0s 221us/sample - loss: 0.0321 - mean_squared_error: 0.0321\n",
      "Epoch 8/30\n",
      "53/53 [==============================] - 0s 223us/sample - loss: 0.0327 - mean_squared_error: 0.0327\n",
      "Epoch 9/30\n",
      "53/53 [==============================] - 0s 213us/sample - loss: 0.0250 - mean_squared_error: 0.0250\n",
      "Epoch 10/30\n",
      "53/53 [==============================] - 0s 232us/sample - loss: 0.0194 - mean_squared_error: 0.0194\n",
      "Epoch 11/30\n",
      "53/53 [==============================] - 0s 224us/sample - loss: 0.0215 - mean_squared_error: 0.0215\n",
      "Epoch 12/30\n",
      "53/53 [==============================] - 0s 218us/sample - loss: 0.0215 - mean_squared_error: 0.0215\n",
      "Epoch 13/30\n",
      "53/53 [==============================] - 0s 215us/sample - loss: 0.0179 - mean_squared_error: 0.0179\n",
      "Epoch 14/30\n",
      "53/53 [==============================] - 0s 233us/sample - loss: 0.0169 - mean_squared_error: 0.0169\n",
      "Epoch 15/30\n",
      "53/53 [==============================] - 0s 222us/sample - loss: 0.0172 - mean_squared_error: 0.0172\n",
      "Epoch 16/30\n",
      "53/53 [==============================] - 0s 221us/sample - loss: 0.0167 - mean_squared_error: 0.0167\n",
      "Epoch 17/30\n",
      "53/53 [==============================] - 0s 232us/sample - loss: 0.0156 - mean_squared_error: 0.0156\n",
      "Epoch 18/30\n",
      "53/53 [==============================] - 0s 228us/sample - loss: 0.0152 - mean_squared_error: 0.0152\n",
      "Epoch 19/30\n",
      "53/53 [==============================] - 0s 231us/sample - loss: 0.0150 - mean_squared_error: 0.0150\n",
      "Epoch 20/30\n",
      "53/53 [==============================] - 0s 219us/sample - loss: 0.0145 - mean_squared_error: 0.0145\n",
      "Epoch 21/30\n",
      "53/53 [==============================] - 0s 229us/sample - loss: 0.0141 - mean_squared_error: 0.0141\n",
      "Epoch 22/30\n",
      "53/53 [==============================] - 0s 220us/sample - loss: 0.0140 - mean_squared_error: 0.0140\n",
      "Epoch 23/30\n",
      "53/53 [==============================] - 0s 232us/sample - loss: 0.0136 - mean_squared_error: 0.0136\n",
      "Epoch 24/30\n",
      "53/53 [==============================] - 0s 217us/sample - loss: 0.0132 - mean_squared_error: 0.0132\n",
      "Epoch 25/30\n",
      "53/53 [==============================] - 0s 227us/sample - loss: 0.0128 - mean_squared_error: 0.0128\n",
      "Epoch 26/30\n",
      "53/53 [==============================] - 0s 222us/sample - loss: 0.0127 - mean_squared_error: 0.0127\n",
      "Epoch 27/30\n",
      "53/53 [==============================] - 0s 224us/sample - loss: 0.0126 - mean_squared_error: 0.0126\n",
      "Epoch 28/30\n",
      "53/53 [==============================] - 0s 220us/sample - loss: 0.0121 - mean_squared_error: 0.0121\n",
      "Epoch 29/30\n",
      "53/53 [==============================] - 0s 224us/sample - loss: 0.0119 - mean_squared_error: 0.0119\n",
      "Epoch 30/30\n",
      "53/53 [==============================] - 0s 225us/sample - loss: 0.0117 - mean_squared_error: 0.0117\n"
     ]
    },
    {
     "data": {
      "text/plain": [
       "<tensorflow.python.keras.callbacks.History at 0x7fd78c2c3350>"
      ]
     },
     "execution_count": 48,
     "metadata": {},
     "output_type": "execute_result"
    }
   ],
   "source": [
    "# Train model on all data\n",
    "model.fit(x_scaled_full, y_scaled_full, epochs=30)"
   ]
  },
  {
   "cell_type": "code",
   "execution_count": 54,
   "metadata": {},
   "outputs": [],
   "source": [
    "final_predictions = y_scaler.inverse_transform(model.predict(x_scaled_full))"
   ]
  },
  {
   "cell_type": "code",
   "execution_count": 55,
   "metadata": {},
   "outputs": [
    {
     "data": {
      "text/plain": [
       "48522.63239932316"
      ]
     },
     "execution_count": 55,
     "metadata": {},
     "output_type": "execute_result"
    }
   ],
   "source": [
    "metrics.mean_squared_error(final_predictions, y_full)"
   ]
  },
  {
   "cell_type": "code",
   "execution_count": 56,
   "metadata": {},
   "outputs": [
    {
     "data": {
      "text/plain": [
       "0.011455656944458725"
      ]
     },
     "execution_count": 56,
     "metadata": {},
     "output_type": "execute_result"
    }
   ],
   "source": [
    "metrics.mean_squared_error(model.predict(x_scaled_full), y_scaled_full)"
   ]
  },
  {
   "cell_type": "code",
   "execution_count": 77,
   "metadata": {},
   "outputs": [
    {
     "name": "stdout",
     "output_type": "stream",
     "text": [
      "INFO:tensorflow:Assets written to: etch_model_2022_02_15_20_46/assets\n"
     ]
    }
   ],
   "source": [
    "timestamp = re.sub(r'[-\\s+:\\.]', '_', str(datetime.datetime.now()))\n",
    "timestamp = timestamp[:len(timestamp) - 10]\n",
    "model.save(f'etch_model_{timestamp}')"
   ]
  },
  {
   "cell_type": "code",
   "execution_count": 78,
   "metadata": {},
   "outputs": [],
   "source": [
    "model = keras.models.load_model('./models/etch_model_2022_02_15_20_46')"
   ]
  },
  {
   "cell_type": "code",
   "execution_count": 81,
   "metadata": {},
   "outputs": [
    {
     "name": "stdout",
     "output_type": "stream",
     "text": [
      "etch_model_2022_02_15_20_46\n"
     ]
    },
    {
     "data": {
      "text/plain": [
       "0"
      ]
     },
     "execution_count": 81,
     "metadata": {},
     "output_type": "execute_result"
    }
   ],
   "source": [
    "os.system('ls models/')"
   ]
  },
  {
   "cell_type": "code",
   "execution_count": 89,
   "metadata": {},
   "outputs": [
    {
     "data": {
      "text/plain": [
       "Index(['Etch Rate -Rp A/min', 'Etch Uniformity', 'Oxide Selectivity - Sox',\n",
       "       'Photoresist Selectivity - Sph'],\n",
       "      dtype='object')"
      ]
     },
     "execution_count": 89,
     "metadata": {},
     "output_type": "execute_result"
    }
   ],
   "source": [
    "y_full_df.columns"
   ]
  },
  {
   "cell_type": "code",
   "execution_count": 96,
   "metadata": {},
   "outputs": [
    {
     "data": {
      "text/plain": [
       "<AxesSubplot:>"
      ]
     },
     "execution_count": 96,
     "metadata": {},
     "output_type": "execute_result"
    },
    {
     "data": {
      "image/png": "[encoded data removed]",
      "text/plain": [
       "<Figure size 432x288 with 1 Axes>"
      ]
     },
     "metadata": {
      "needs_background": "light"
     },
     "output_type": "display_data"
    }
   ],
   "source": [
    "etch_rate_target, uniformity_target, oxide_sel_target, pr_sel_target = y_full.T\n",
    "etch_rate_actual, uniformity_actual, oxide_sel_actual, pr_sel_actual = final_predictions.T\n",
    "sns.scatterplot(x=etch_rate_target, y=etch_rate_actual)"
   ]
  },
  {
   "cell_type": "code",
   "execution_count": 100,
   "metadata": {},
   "outputs": [
    {
     "data": {
      "text/plain": [
       "<AxesSubplot:>"
      ]
     },
     "execution_count": 100,
     "metadata": {},
     "output_type": "execute_result"
    },
    {
     "data": {
      "image/png": "[encoded data removed]",
      "text/plain": [
       "<Figure size 432x288 with 1 Axes>"
      ]
     },
     "metadata": {
      "needs_background": "light"
     },
     "output_type": "display_data"
    }
   ],
   "source": [
    "sns.scatterplot(x=uniformity_target, y=uniformity_actual)"
   ]
  },
  {
   "cell_type": "code",
   "execution_count": 98,
   "metadata": {},
   "outputs": [
    {
     "data": {
      "text/plain": [
       "<AxesSubplot:>"
      ]
     },
     "execution_count": 98,
     "metadata": {},
     "output_type": "execute_result"
    },
    {
     "data": {
      "image/png": "[encoded data removed]",
      "text/plain": [
       "<Figure size 432x288 with 1 Axes>"
      ]
     },
     "metadata": {
      "needs_background": "light"
     },
     "output_type": "display_data"
    }
   ],
   "source": [
    "sns.scatterplot(x=oxide_sel_target, y=oxide_sel_actual)"
   ]
  },
  {
   "cell_type": "code",
   "execution_count": 99,
   "metadata": {},
   "outputs": [
    {
     "data": {
      "text/plain": [
       "<AxesSubplot:>"
      ]
     },
     "execution_count": 99,
     "metadata": {},
     "output_type": "execute_result"
    },
    {
     "data": {
      "image/png": "[encoded data removed]",
      "text/plain": [
       "<Figure size 432x288 with 1 Axes>"
      ]
     },
     "metadata": {
      "needs_background": "light"
     },
     "output_type": "display_data"
    }
   ],
   "source": [
    "sns.scatterplot(x=pr_sel_target, y=pr_sel_actual)"
   ]
  },
  {
   "cell_type": "code",
   "execution_count": null,
   "metadata": {},
   "outputs": [],
   "source": []
  }
 ],
 "metadata": {
  "kernelspec": {
   "display_name": "Python 3 (ipykernel)",
   "language": "python",
   "name": "python3"
  },
  "language_info": {
   "codemirror_mode": {
    "name": "ipython",
    "version": 3
   },
   "file_extension": ".py",
   "mimetype": "text/x-python",
   "name": "python",
   "nbconvert_exporter": "python",
   "pygments_lexer": "ipython3",
   "version": "3.7.11"
  }
 },
 "nbformat": 4,
 "nbformat_minor": 4
}
