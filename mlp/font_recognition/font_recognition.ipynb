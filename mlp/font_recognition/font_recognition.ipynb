{
 "cells": [
  {
   "cell_type": "code",
   "execution_count": 2,
   "metadata": {
    "tags": []
   },
   "outputs": [],
   "source": [
    "import tensorflow as tf\n",
    "from tensorflow import keras\n",
    "from sklearn.preprocessing import MaxAbsScaler, StandardScaler\n",
    "from sklearn.model_selection import LeaveOneOut\n",
    "from sklearn.model_selection import train_test_split, StratifiedKFold\n",
    "import numpy as np\n",
    "import pandas as pd\n",
    "import keras_tuner as kt\n",
    "from sklearn import metrics\n",
    "import datetime\n",
    "import re\n",
    "import os\n",
    "import seaborn as sns"
   ]
  },
  {
   "cell_type": "code",
   "execution_count": 3,
   "metadata": {},
   "outputs": [],
   "source": [
    "train_df = pd.read_excel('fonts_training.xlsx')\n",
    "test_df = pd.read_excel('fonts_test.xlsx')"
   ]
  },
  {
   "cell_type": "code",
   "execution_count": 4,
   "metadata": {},
   "outputs": [],
   "source": [
    "letters = ['A', 'B', 'C', 'D', 'E', 'F', 'G', 'H', 'I', 'J', 'K', 'L', 'M', 'N', 'O', 'P', 'Q', 'R', 'S', 'T', 'U', 'V', 'W', 'X', 'Y', 'Z']"
   ]
  },
  {
   "cell_type": "code",
   "execution_count": 5,
   "metadata": {},
   "outputs": [
    {
     "data": {
      "text/plain": [
       "Index(['Cat 1', 'Cat 2', 'Cat 3', 'Cat 4', 'Cat 5', 'Cat 6', 'Cat 7', 'Cat 8',\n",
       "       'Cat 9', 'Cat 10', 'Cat 11', 'Cat 12', 'Cat 13', 'Cat 14', 'A', 'B',\n",
       "       'C', 'D', 'E', 'F', 'G', 'H', 'I', 'J', 'K', 'L', 'M', 'N', 'O', 'P',\n",
       "       'Q', 'R', 'S', 'T', 'U', 'V', 'W', 'X', 'Y', 'Z'],\n",
       "      dtype='object')"
      ]
     },
     "execution_count": 5,
     "metadata": {},
     "output_type": "execute_result"
    }
   ],
   "source": [
    "train_df.columns"
   ]
  },
  {
   "cell_type": "code",
   "execution_count": 6,
   "metadata": {},
   "outputs": [],
   "source": [
    "x_train_full = train_df[['Cat 1', 'Cat 2', 'Cat 3', 'Cat 4', 'Cat 5', 'Cat 6', 'Cat 7', 'Cat 8',\n",
    "       'Cat 9', 'Cat 10', 'Cat 11', 'Cat 12', 'Cat 13', 'Cat 14']].to_numpy()\n",
    "y_train_full = train_df[['A', 'B',\n",
    "       'C', 'D', 'E', 'F', 'G', 'H', 'I', 'J', 'K', 'L', 'M', 'N', 'O', 'P',\n",
    "       'Q', 'R', 'S', 'T', 'U', 'V', 'W', 'X', 'Y', 'Z']].to_numpy()"
   ]
  },
  {
   "cell_type": "code",
   "execution_count": 7,
   "metadata": {},
   "outputs": [],
   "source": [
    "x_scaler = StandardScaler().fit(x_train_full)\n",
    "x_sc_train_full = x_scaler.transform(x_train_full)"
   ]
  },
  {
   "cell_type": "code",
   "execution_count": 8,
   "metadata": {},
   "outputs": [],
   "source": [
    "def custom_split(x, y):\n",
    "    jump = 4\n",
    "    jp_cnt = 0\n",
    "    counter = 0\n",
    "    valid_idx = []\n",
    "    \n",
    "    while counter < 78:\n",
    "        valid_idx.append(counter)\n",
    "        \n",
    "        counter += jump\n",
    "        \n",
    "        jp_cnt += 1\n",
    "        \n",
    "        if jp_cnt == 2 and jump == 4:\n",
    "            jump = 1\n",
    "        elif jump == 1:\n",
    "            jump = 4\n",
    "            jp_cnt = 0\n",
    "    \n",
    "    x_train, x_valid = [], []\n",
    "    y_train, y_valid = [], []\n",
    "    \n",
    "    for i in range(78):\n",
    "        if i in valid_idx:\n",
    "            x_valid.append(x[i])\n",
    "            y_valid.append(y[i])\n",
    "        else:\n",
    "            x_train.append(x[i])\n",
    "            y_train.append(y[i])\n",
    "            \n",
    "    return np.array(x_train), np.array(x_valid), np.array(y_train), np.array(y_valid)"
   ]
  },
  {
   "cell_type": "code",
   "execution_count": 9,
   "metadata": {},
   "outputs": [],
   "source": [
    "x_train, x_valid, y_train, y_valid = custom_split(x_sc_train_full, y_train_full)"
   ]
  },
  {
   "cell_type": "code",
   "execution_count": 10,
   "metadata": {},
   "outputs": [],
   "source": [
    "def build_model(n_units, n_layers, learning_rate, dropout=False):\n",
    "    model = keras.models.Sequential()\n",
    "    model.add(keras.layers.InputLayer(input_shape=(14,), name='input_layer'))\n",
    "    \n",
    "    for i in range(n_layers):\n",
    "        model.add(keras.layers.Dense(units=n_units, activation='relu', name=f'hidden_layer_{i}'))\n",
    "        \n",
    "    if dropout:\n",
    "        model.add(keras.layers.Dropout(rate=.5, name='dropout_layer'))\n",
    "        \n",
    "    model.add(keras.layers.Dense(units=26, activation='softmax', name='output_layer'))\n",
    "    \n",
    "    model.compile(\n",
    "        loss='categorical_crossentropy',\n",
    "        optimizer='adam',\n",
    "        learning_rate=learning_rate,\n",
    "        metrics=['accuracy']\n",
    "    )\n",
    "    \n",
    "    return model"
   ]
  },
  {
   "cell_type": "code",
   "execution_count": 14,
   "metadata": {},
   "outputs": [],
   "source": [
    "def tune_and_build_model(hp):\n",
    "    n_units = hp.Int('units', min_value=2, max_value=20, step=1)\n",
    "\n",
    "    n_layers = hp.Int('layers', min_value=1, max_value=6, step=1)\n",
    "\n",
    "    # dropout = hp.Boolean('dropout')\n",
    "\n",
    "    learning_rate = hp.Float('learning_rate', min_value=1e-4, max_value=.1, sampling='log')\n",
    "\n",
    "    # model = build_model(n_units, n_layers, learning_rate, dropout=dropout)\n",
    "    model = build_model(n_units, n_layers, learning_rate)\n",
    "\n",
    "    return model"
   ]
  },
  {
   "cell_type": "code",
   "execution_count": 15,
   "metadata": {},
   "outputs": [],
   "source": [
    "CALLBACKS = [keras.callbacks.EarlyStopping(monitor='val_accuracy', patience=5)]\n",
    "\n",
    "# tuner = kt.BayesianOptimization(\n",
    "#     hypermodel=tune_and_build_model,\n",
    "#     objective='val_accuracy',\n",
    "#     max_trials=20,\n",
    "#     overwrite=True,\n",
    "#     directory='tuning',\n",
    "#     project_name='fr_bayesian'\n",
    "# )\n",
    "\n",
    "tuner = kt.RandomSearch(\n",
    "    hypermodel=tune_and_build_model,\n",
    "    objective='val_accuracy',\n",
    "    max_trials=50,\n",
    "    executions_per_trial=1,\n",
    "    overwrite=True,\n",
    "    directory='tuning',\n",
    "    project_name='fr_random'\n",
    ")"
   ]
  },
  {
   "cell_type": "code",
   "execution_count": 16,
   "metadata": {},
   "outputs": [
    {
     "name": "stdout",
     "output_type": "stream",
     "text": [
      "Trial 50 Complete [00h 00m 10s]\n",
      "val_accuracy: 0.807692289352417\n",
      "\n",
      "Best val_accuracy So Far: 0.9230769276618958\n",
      "Total elapsed time: 00h 08m 16s\n",
      "INFO:tensorflow:Oracle triggered exit\n"
     ]
    }
   ],
   "source": [
    "tuner.search(x_train, y_train, epochs=200, validation_data=(x_valid, y_valid))"
   ]
  },
  {
   "cell_type": "code",
   "execution_count": 21,
   "metadata": {},
   "outputs": [],
   "source": [
    "best_hp = tuner.get_best_hyperparameters(num_trials=1)[0]\n",
    "model = tune_and_build_model(best_hp)"
   ]
  },
  {
   "cell_type": "code",
   "execution_count": 22,
   "metadata": {},
   "outputs": [
    {
     "name": "stdout",
     "output_type": "stream",
     "text": [
      "WARNING:tensorflow:From /Users/alecrospierski/opt/anaconda3/envs/tensors-are-fun/lib/python3.7/site-packages/tensorflow_core/python/ops/resource_variable_ops.py:1781: calling BaseResourceVariable.__init__ (from tensorflow.python.ops.resource_variable_ops) with constraint is deprecated and will be removed in a future version.\n",
      "Instructions for updating:\n",
      "If using Keras pass *_constraint arguments to layers.\n",
      "INFO:tensorflow:Assets written to: ./models/fr_22_02_16_17_16/assets\n"
     ]
    },
    {
     "name": "stderr",
     "output_type": "stream",
     "text": [
      "2022-02-23 17:16:34.214276: W tensorflow/python/util/util.cc:299] Sets are not currently considered sequences, but this may change in the future, so consider avoiding using them.\n"
     ]
    }
   ],
   "source": [
    "model.save('./models/fr_22_02_16_17_16')"
   ]
  },
  {
   "cell_type": "code",
   "execution_count": 23,
   "metadata": {},
   "outputs": [
    {
     "name": "stdout",
     "output_type": "stream",
     "text": [
      "Model: \"sequential_1\"\n",
      "_________________________________________________________________\n",
      "Layer (type)                 Output Shape              Param #   \n",
      "=================================================================\n",
      "hidden_layer_0 (Dense)       (None, 13)                195       \n",
      "_________________________________________________________________\n",
      "hidden_layer_1 (Dense)       (None, 13)                182       \n",
      "_________________________________________________________________\n",
      "hidden_layer_2 (Dense)       (None, 13)                182       \n",
      "_________________________________________________________________\n",
      "hidden_layer_3 (Dense)       (None, 13)                182       \n",
      "_________________________________________________________________\n",
      "output_layer (Dense)         (None, 26)                364       \n",
      "=================================================================\n",
      "Total params: 1,105\n",
      "Trainable params: 1,105\n",
      "Non-trainable params: 0\n",
      "_________________________________________________________________\n"
     ]
    }
   ],
   "source": [
    "model.summary()"
   ]
  },
  {
   "cell_type": "code",
   "execution_count": 24,
   "metadata": {},
   "outputs": [
    {
     "name": "stdout",
     "output_type": "stream",
     "text": [
      "Results summary\n",
      "Results in tuning/fr_random\n",
      "Showing 10 best trials\n",
      "Objective(name='val_accuracy', direction='max')\n",
      "Trial summary\n",
      "Hyperparameters:\n",
      "units: 13\n",
      "layers: 4\n",
      "learning_rate: 0.0014303730655063707\n",
      "Score: 0.9230769276618958\n",
      "Trial summary\n",
      "Hyperparameters:\n",
      "units: 15\n",
      "layers: 4\n",
      "learning_rate: 0.005026337341661121\n",
      "Score: 0.8461538553237915\n",
      "Trial summary\n",
      "Hyperparameters:\n",
      "units: 19\n",
      "layers: 2\n",
      "learning_rate: 0.0013425570956427056\n",
      "Score: 0.8461538553237915\n",
      "Trial summary\n",
      "Hyperparameters:\n",
      "units: 19\n",
      "layers: 3\n",
      "learning_rate: 0.0012078661593516366\n",
      "Score: 0.8461538553237915\n",
      "Trial summary\n",
      "Hyperparameters:\n",
      "units: 19\n",
      "layers: 2\n",
      "learning_rate: 0.004671621645754273\n",
      "Score: 0.8461538553237915\n",
      "Trial summary\n",
      "Hyperparameters:\n",
      "units: 19\n",
      "layers: 4\n",
      "learning_rate: 0.03779359776404598\n",
      "Score: 0.807692289352417\n",
      "Trial summary\n",
      "Hyperparameters:\n",
      "units: 18\n",
      "layers: 4\n",
      "learning_rate: 0.0002792819179347644\n",
      "Score: 0.807692289352417\n",
      "Trial summary\n",
      "Hyperparameters:\n",
      "units: 16\n",
      "layers: 4\n",
      "learning_rate: 0.0032123213571070538\n",
      "Score: 0.807692289352417\n",
      "Trial summary\n",
      "Hyperparameters:\n",
      "units: 12\n",
      "layers: 4\n",
      "learning_rate: 0.00025795680841983476\n",
      "Score: 0.807692289352417\n",
      "Trial summary\n",
      "Hyperparameters:\n",
      "units: 18\n",
      "layers: 2\n",
      "learning_rate: 0.0001454422919896591\n",
      "Score: 0.807692289352417\n"
     ]
    }
   ],
   "source": [
    "tuner.results_summary()"
   ]
  },
  {
   "cell_type": "code",
   "execution_count": null,
   "metadata": {},
   "outputs": [],
   "source": []
  }
 ],
 "metadata": {
  "kernelspec": {
   "display_name": "Python 3 (ipykernel)",
   "language": "python",
   "name": "python3"
  },
  "language_info": {
   "codemirror_mode": {
    "name": "ipython",
    "version": 3
   },
   "file_extension": ".py",
   "mimetype": "text/x-python",
   "name": "python",
   "nbconvert_exporter": "python",
   "pygments_lexer": "ipython3",
   "version": "3.7.11"
  }
 },
 "nbformat": 4,
 "nbformat_minor": 4
}
