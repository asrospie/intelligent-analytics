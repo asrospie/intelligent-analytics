{
 "cells": [
  {
   "cell_type": "code",
   "execution_count": 1,
   "id": "338dd1a5-a3d1-4066-bfb9-8040a8b6d6bb",
   "metadata": {},
   "outputs": [],
   "source": [
    "import tensorflow as tf\n",
    "from tensorflow import keras\n",
    "from sklearn.preprocessing import OneHotEncoder\n",
    "from sklearn.model_selection import LeaveOneOut\n",
    "from sklearn.metrics import mean_squared_error, mean_absolute_error\n",
    "from sklearn.model_selection import RandomizedSearchCV, cross_val_score, KFold\n",
    "from sklearn.preprocessing import MinMaxScaler\n",
    "from sklearn import model_selection\n",
    "from sklearn import metrics\n",
    "from skopt import dump, load\n",
    "from scipy.stats import reciprocal\n",
    "import skopt\n",
    "import numpy as np\n",
    "import pandas as pd\n",
    "import keras_tuner as kt\n",
    "from sklearn import metrics\n",
    "import datetime\n",
    "import re\n",
    "import os\n",
    "import seaborn as sns\n",
    "import matplotlib.pyplot as plt"
   ]
  },
  {
   "cell_type": "markdown",
   "id": "d79e03ed-5891-442c-b2c9-6b8f046ec575",
   "metadata": {},
   "source": [
    "# Load Data from Sources"
   ]
  },
  {
   "cell_type": "markdown",
   "id": "9c34d8af-1834-4582-9f1a-ad8d122b3ca4",
   "metadata": {},
   "source": [
    "# Data Pre-Processing"
   ]
  },
  {
   "cell_type": "markdown",
   "id": "d45ef771-9a64-4332-b9f5-28eccb098f28",
   "metadata": {},
   "source": [
    "# Simple Model Build"
   ]
  },
  {
   "cell_type": "markdown",
   "id": "db17793d-41df-416c-8c87-1ae91e206e8e",
   "metadata": {},
   "source": [
    "# Impact of Initialization\n",
    "\n",
    "Look for the differences in the simple model using different starting values for synaptic weights."
   ]
  },
  {
   "cell_type": "markdown",
   "id": "dde579ff-c7f2-4fa7-a006-605ba081d18b",
   "metadata": {},
   "source": [
    "# Impact of Learning Algorithm\n",
    "\n",
    "Impact of learning algorithm on training time, MSE, and complexity."
   ]
  },
  {
   "cell_type": "markdown",
   "id": "0aa0d58b-ff6a-4124-8a2d-81e10785d322",
   "metadata": {},
   "source": [
    "# Hyper-Parameter Tuning using SKOPT\n",
    "\n",
    "Hyper-Parameter Tuning for the following values:\n",
    "- Number of layers\n",
    "- Number of neurons in each layer\n",
    "- Learning algorithm (?)\n",
    "- Learning rate\n",
    "- Dropout rate\n",
    "- L1, L2, L1_L2 regularization"
   ]
  },
  {
   "cell_type": "markdown",
   "id": "23a4ec08-e9f4-4a46-8d06-a689aa94ba8f",
   "metadata": {},
   "source": [
    "# Model Performance & Evaluation\n",
    "\n",
    "Evaluate the $R^2$, MSE, MAE, and other metrics for the final tuned model"
   ]
  },
  {
   "cell_type": "code",
   "execution_count": null,
   "id": "f7eab8ae-82ad-47eb-821c-57a62410e597",
   "metadata": {},
   "outputs": [],
   "source": []
  }
 ],
 "metadata": {
  "kernelspec": {
   "display_name": "Python 3 (ipykernel)",
   "language": "python",
   "name": "python3"
  },
  "language_info": {
   "codemirror_mode": {
    "name": "ipython",
    "version": 3
   },
   "file_extension": ".py",
   "mimetype": "text/x-python",
   "name": "python",
   "nbconvert_exporter": "python",
   "pygments_lexer": "ipython3",
   "version": "3.7.11"
  }
 },
 "nbformat": 4,
 "nbformat_minor": 5
}
