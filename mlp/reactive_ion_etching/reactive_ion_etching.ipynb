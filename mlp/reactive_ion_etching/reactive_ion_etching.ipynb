{
 "cells": [
  {
   "cell_type": "code",
   "execution_count": 2,
   "metadata": {
    "tags": []
   },
   "outputs": [],
   "source": [
    "import tensorflow as tf\n",
    "from tensorflow import keras\n",
    "from sklearn.preprocessing import MaxAbsScaler\n",
    "from sklearn.model_selection import LeaveOneOut\n",
    "import numpy as np\n",
    "import pandas as pd\n",
    "import keras_tuner as kt\n",
    "from sklearn import metrics\n",
    "import datetime\n",
    "import re\n",
    "import os\n",
    "import seaborn as sns"
   ]
  },
  {
   "cell_type": "markdown",
   "metadata": {
    "pycharm": {
     "name": "#%% md\n"
    }
   },
   "source": [
    "# Load the Data and Inspect It"
   ]
  },
  {
   "cell_type": "code",
   "execution_count": 3,
   "metadata": {
    "collapsed": false,
    "jupyter": {
     "outputs_hidden": false
    },
    "pycharm": {
     "name": "#%%\n"
    }
   },
   "outputs": [],
   "source": [
    "data = pd.read_excel('./etching.xlsx')"
   ]
  },
  {
   "cell_type": "code",
   "execution_count": 4,
   "metadata": {
    "collapsed": false,
    "jupyter": {
     "outputs_hidden": false
    },
    "pycharm": {
     "name": "#%%\n"
    }
   },
   "outputs": [
    {
     "data": {
      "text/plain": [
       "Index(['Pressure', 'RF Power', 'Electrode Gap', 'CCL_4 Flow', 'HE Flow',\n",
       "       'O2 Flow', 'Etch Rate -Rp A/min', 'Etch Uniformity',\n",
       "       'Oxide Selectivity - Sox', 'Photoresist Selectivity - Sph'],\n",
       "      dtype='object')"
      ]
     },
     "execution_count": 4,
     "metadata": {},
     "output_type": "execute_result"
    }
   ],
   "source": [
    "data.columns"
   ]
  },
  {
   "cell_type": "markdown",
   "metadata": {
    "pycharm": {
     "name": "#%% md\n"
    }
   },
   "source": [
    "# Split into Input / Output"
   ]
  },
  {
   "cell_type": "code",
   "execution_count": 5,
   "metadata": {
    "collapsed": false,
    "jupyter": {
     "outputs_hidden": false
    },
    "pycharm": {
     "name": "#%%\n"
    }
   },
   "outputs": [],
   "source": [
    "x_full_df = data[['Pressure', 'RF Power', 'Electrode Gap', 'CCL_4 Flow', 'HE Flow', 'O2 Flow']].astype(float)\n",
    "y_full_df = data[['Etch Rate -Rp A/min', 'Etch Uniformity', 'Oxide Selectivity - Sox', 'Photoresist Selectivity - Sph']].astype(float)"
   ]
  },
  {
   "cell_type": "code",
   "execution_count": 6,
   "metadata": {
    "collapsed": false,
    "jupyter": {
     "outputs_hidden": false
    },
    "pycharm": {
     "name": "#%%\n"
    }
   },
   "outputs": [],
   "source": [
    "x_full = x_full_df.to_numpy()\n",
    "y_full = y_full_df.to_numpy()"
   ]
  },
  {
   "cell_type": "code",
   "execution_count": 7,
   "metadata": {
    "collapsed": false,
    "jupyter": {
     "outputs_hidden": false
    },
    "pycharm": {
     "name": "#%%\n"
    }
   },
   "outputs": [],
   "source": [
    "x_scaler = MaxAbsScaler().fit(x_full)\n",
    "y_scaler = MaxAbsScaler().fit(y_full)\n",
    "x_scaled_full = x_scaler.transform(x_full)\n",
    "y_scaled_full = y_scaler.transform(y_full)"
   ]
  },
  {
   "cell_type": "code",
   "execution_count": 8,
   "metadata": {
    "collapsed": false,
    "jupyter": {
     "outputs_hidden": false
    },
    "pycharm": {
     "name": "#%%\n"
    }
   },
   "outputs": [],
   "source": [
    "# Model builder independent of keras tuner\n",
    "def build_model(n_units, n_layers, learning_rate):\n",
    "    model = keras.models.Sequential()\n",
    "    \n",
    "    # Input Layer\n",
    "    model.add(keras.layers.InputLayer(input_shape=(6,), name='input_layer'))\n",
    "              \n",
    "    # Hidden Layers\n",
    "    for i in range(n_layers):\n",
    "        model.add(keras.layers.Dense(units=n_units, activation='relu', name=f'hidden_layer_{i}'))\n",
    "        \n",
    "    model.add(keras.layers.Dropout(rate=.2))\n",
    "    \n",
    "    # Output Layer\n",
    "    model.add(keras.layers.Dense(units=4, name='output_layer'))\n",
    "    \n",
    "    model.compile(\n",
    "        optimizer='adam',\n",
    "        learning_rate=learning_rate,\n",
    "        loss='mean_squared_error',\n",
    "        metrics=['mean_squared_error']\n",
    "    )\n",
    "    \n",
    "    return model"
   ]
  },
  {
   "cell_type": "code",
   "execution_count": 9,
   "metadata": {},
   "outputs": [],
   "source": [
    "# Model builder with hypertuning\n",
    "def tune_and_build_model(hp):\n",
    "    n_units = hp.Int('units', min_value=4, max_value=6, step=1)\n",
    "\n",
    "    # activation = hp.Choice('activation', ['relu'])\n",
    "\n",
    "    n_layers = hp.Int('layers', min_value=1, max_value=5, step=1)\n",
    "\n",
    "    learning_rate = hp.Float('learning_rate', min_value=1e-4, max_value=.1, sampling='log')\n",
    "\n",
    "    model = build_model(n_units, n_layers, learning_rate)\n",
    "\n",
    "    return model"
   ]
  },
  {
   "cell_type": "code",
   "execution_count": 10,
   "metadata": {},
   "outputs": [
    {
     "name": "stderr",
     "output_type": "stream",
     "text": [
      "2022-02-23 12:14:23.942228: I tensorflow/core/platform/cpu_feature_guard.cc:145] This TensorFlow binary is optimized with Intel(R) MKL-DNN to use the following CPU instructions in performance critical operations:  SSE4.1 SSE4.2 AVX AVX2 FMA\n",
      "To enable them in non-MKL-DNN operations, rebuild TensorFlow with the appropriate compiler flags.\n",
      "2022-02-23 12:14:23.942707: I tensorflow/core/common_runtime/process_util.cc:115] Creating new thread pool with default inter op setting: 12. Tune using inter_op_parallelism_threads for best performance.\n"
     ]
    }
   ],
   "source": [
    "# Tune with random search\n",
    "# tuner = kt.RandomSearch(\n",
    "#     hypermodel=tune_and_build_model,\n",
    "#     objective='mean_squared_error',\n",
    "#     max_trials=30,\n",
    "#     executions_per_trial=1,\n",
    "#     overwrite=True,\n",
    "#     directory='tuning',\n",
    "#     project_name='etch'\n",
    "# )\n",
    "\n",
    "tuner = kt.BayesianOptimization(\n",
    "    hypermodel=tune_and_build_model,\n",
    "    objective='mean_squared_error',\n",
    "    max_trials=20,\n",
    "    overwrite=True,\n",
    "    directory='tuning',\n",
    "    project_name='em_bayesian'\n",
    ")"
   ]
  },
  {
   "cell_type": "code",
   "execution_count": 11,
   "metadata": {},
   "outputs": [
    {
     "name": "stdout",
     "output_type": "stream",
     "text": [
      "\n",
      "Search: Running Trial #1\n",
      "\n",
      "Hyperparameter    |Value             |Best Value So Far \n",
      "units             |5                 |?                 \n",
      "layers            |4                 |?                 \n",
      "learning_rate     |0.040778          |?                 \n",
      "\n",
      "Train on 53 samples\n",
      "Epoch 1/200\n",
      "32/53 [=================>............] - ETA: 0s - loss: 0.1762 - mean_squared_error: 0.1762WARNING:tensorflow:Can save best model only with val_accuracy available, skipping.\n",
      "53/53 [==============================] - 1s 16ms/sample - loss: 0.1921 - mean_squared_error: 0.1921\n",
      "Epoch 2/200\n",
      "32/53 [=================>............] - ETA: 0s - loss: 0.1987 - mean_squared_error: 0.1987WARNING:tensorflow:Can save best model only with val_accuracy available, skipping.\n",
      "53/53 [==============================] - 0s 111us/sample - loss: 0.1911 - mean_squared_error: 0.1911\n",
      "Epoch 3/200\n",
      "32/53 [=================>............] - ETA: 0s - loss: 0.1846 - mean_squared_error: 0.1846WARNING:tensorflow:Can save best model only with val_accuracy available, skipping.\n",
      "53/53 [==============================] - 0s 123us/sample - loss: 0.1917 - mean_squared_error: 0.1917\n",
      "Epoch 4/200\n",
      "32/53 [=================>............] - ETA: 0s - loss: 0.1666 - mean_squared_error: 0.1666WARNING:tensorflow:Can save best model only with val_accuracy available, skipping.\n",
      "53/53 [==============================] - 0s 130us/sample - loss: 0.1777 - mean_squared_error: 0.1777\n",
      "Epoch 5/200\n",
      "32/53 [=================>............] - ETA: 0s - loss: 0.1946 - mean_squared_error: 0.1946WARNING:tensorflow:Can save best model only with val_accuracy available, skipping.\n",
      "53/53 [==============================] - 0s 128us/sample - loss: 0.1816 - mean_squared_error: 0.1816\n",
      "Epoch 6/200\n",
      "32/53 [=================>............] - ETA: 0s - loss: 0.1577 - mean_squared_error: 0.1577WARNING:tensorflow:Can save best model only with val_accuracy available, skipping.\n",
      "53/53 [==============================] - 0s 147us/sample - loss: 0.1603 - mean_squared_error: 0.1603\n",
      "Epoch 7/200\n",
      "32/53 [=================>............] - ETA: 0s - loss: 0.1661 - mean_squared_error: 0.1661WARNING:tensorflow:Can save best model only with val_accuracy available, skipping.\n",
      "53/53 [==============================] - 0s 136us/sample - loss: 0.1719 - mean_squared_error: 0.1719\n",
      "Epoch 8/200\n",
      "32/53 [=================>............] - ETA: 0s - loss: 0.1423 - mean_squared_error: 0.1423WARNING:tensorflow:Can save best model only with val_accuracy available, skipping.\n",
      "53/53 [==============================] - 0s 154us/sample - loss: 0.1380 - mean_squared_error: 0.1380\n",
      "Epoch 9/200\n",
      "32/53 [=================>............] - ETA: 0s - loss: 0.1233 - mean_squared_error: 0.1233WARNING:tensorflow:Can save best model only with val_accuracy available, skipping.\n",
      "53/53 [==============================] - 0s 173us/sample - loss: 0.1372 - mean_squared_error: 0.1372\n",
      "Epoch 10/200\n",
      "32/53 [=================>............] - ETA: 0s - loss: 0.1673 - mean_squared_error: 0.1673WARNING:tensorflow:Can save best model only with val_accuracy available, skipping.\n",
      "53/53 [==============================] - 0s 142us/sample - loss: 0.1446 - mean_squared_error: 0.1446\n",
      "Epoch 11/200\n",
      "32/53 [=================>............] - ETA: 0s - loss: 0.1333 - mean_squared_error: 0.1333WARNING:tensorflow:Can save best model only with val_accuracy available, skipping.\n",
      "53/53 [==============================] - 0s 156us/sample - loss: 0.1239 - mean_squared_error: 0.1239\n",
      "Epoch 12/200\n",
      "32/53 [=================>............] - ETA: 0s - loss: 0.1365 - mean_squared_error: 0.1365WARNING:tensorflow:Can save best model only with val_accuracy available, skipping.\n",
      "53/53 [==============================] - 0s 144us/sample - loss: 0.1305 - mean_squared_error: 0.1305\n",
      "Epoch 13/200\n",
      "32/53 [=================>............] - ETA: 0s - loss: 0.1146 - mean_squared_error: 0.1146WARNING:tensorflow:Can save best model only with val_accuracy available, skipping.\n",
      "53/53 [==============================] - 0s 150us/sample - loss: 0.1147 - mean_squared_error: 0.1147\n",
      "Epoch 14/200\n",
      "32/53 [=================>............] - ETA: 0s - loss: 0.0972 - mean_squared_error: 0.0972WARNING:tensorflow:Can save best model only with val_accuracy available, skipping.\n",
      "53/53 [==============================] - 0s 143us/sample - loss: 0.0961 - mean_squared_error: 0.0961\n",
      "Epoch 15/200\n",
      "32/53 [=================>............] - ETA: 0s - loss: 0.0783 - mean_squared_error: 0.0783WARNING:tensorflow:Can save best model only with val_accuracy available, skipping.\n",
      "53/53 [==============================] - 0s 138us/sample - loss: 0.0940 - mean_squared_error: 0.0940\n",
      "Epoch 16/200\n",
      "32/53 [=================>............] - ETA: 0s - loss: 0.1177 - mean_squared_error: 0.1177WARNING:tensorflow:Can save best model only with val_accuracy available, skipping.\n",
      "53/53 [==============================] - 0s 148us/sample - loss: 0.1049 - mean_squared_error: 0.1049\n",
      "Epoch 17/200\n",
      "32/53 [=================>............] - ETA: 0s - loss: 0.0771 - mean_squared_error: 0.0771WARNING:tensorflow:Can save best model only with val_accuracy available, skipping.\n",
      "53/53 [==============================] - 0s 140us/sample - loss: 0.0900 - mean_squared_error: 0.0900\n",
      "Epoch 18/200\n",
      "32/53 [=================>............] - ETA: 0s - loss: 0.1094 - mean_squared_error: 0.1094WARNING:tensorflow:Can save best model only with val_accuracy available, skipping.\n",
      "53/53 [==============================] - 0s 144us/sample - loss: 0.1179 - mean_squared_error: 0.1179\n",
      "Epoch 19/200\n",
      "32/53 [=================>............] - ETA: 0s - loss: 0.0858 - mean_squared_error: 0.0858WARNING:tensorflow:Can save best model only with val_accuracy available, skipping.\n",
      "53/53 [==============================] - 0s 145us/sample - loss: 0.0801 - mean_squared_error: 0.0801\n",
      "Epoch 20/200\n",
      "32/53 [=================>............] - ETA: 0s - loss: 0.0859 - mean_squared_error: 0.0859WARNING:tensorflow:Can save best model only with val_accuracy available, skipping.\n",
      "53/53 [==============================] - 0s 144us/sample - loss: 0.0961 - mean_squared_error: 0.0961\n",
      "Epoch 21/200\n",
      "32/53 [=================>............] - ETA: 0s - loss: 0.1148 - mean_squared_error: 0.1148WARNING:tensorflow:Can save best model only with val_accuracy available, skipping.\n",
      "53/53 [==============================] - 0s 142us/sample - loss: 0.0983 - mean_squared_error: 0.0983\n",
      "Epoch 22/200\n",
      "32/53 [=================>............] - ETA: 0s - loss: 0.0671 - mean_squared_error: 0.0671WARNING:tensorflow:Can save best model only with val_accuracy available, skipping.\n",
      "53/53 [==============================] - 0s 132us/sample - loss: 0.0901 - mean_squared_error: 0.0901\n",
      "Epoch 23/200\n",
      "32/53 [=================>............] - ETA: 0s - loss: 0.0732 - mean_squared_error: 0.0732WARNING:tensorflow:Can save best model only with val_accuracy available, skipping.\n",
      "53/53 [==============================] - 0s 138us/sample - loss: 0.0691 - mean_squared_error: 0.0691\n",
      "Epoch 24/200\n",
      "32/53 [=================>............] - ETA: 0s - loss: 0.0747 - mean_squared_error: 0.0747WARNING:tensorflow:Can save best model only with val_accuracy available, skipping.\n",
      "53/53 [==============================] - 0s 135us/sample - loss: 0.0779 - mean_squared_error: 0.0779\n",
      "Epoch 25/200\n",
      "32/53 [=================>............] - ETA: 0s - loss: 0.0894 - mean_squared_error: 0.0894WARNING:tensorflow:Can save best model only with val_accuracy available, skipping.\n",
      "53/53 [==============================] - 0s 142us/sample - loss: 0.0983 - mean_squared_error: 0.0983\n",
      "Epoch 26/200\n",
      "32/53 [=================>............] - ETA: 0s - loss: 0.0672 - mean_squared_error: 0.0672WARNING:tensorflow:Can save best model only with val_accuracy available, skipping.\n",
      "53/53 [==============================] - 0s 138us/sample - loss: 0.0737 - mean_squared_error: 0.0737\n",
      "Epoch 27/200\n",
      "32/53 [=================>............] - ETA: 0s - loss: 0.0859 - mean_squared_error: 0.0859WARNING:tensorflow:Can save best model only with val_accuracy available, skipping.\n",
      "53/53 [==============================] - 0s 152us/sample - loss: 0.0929 - mean_squared_error: 0.0929\n",
      "Epoch 28/200\n",
      "32/53 [=================>............] - ETA: 0s - loss: 0.0635 - mean_squared_error: 0.0635WARNING:tensorflow:Can save best model only with val_accuracy available, skipping.\n",
      "53/53 [==============================] - 0s 143us/sample - loss: 0.0852 - mean_squared_error: 0.0852\n",
      "Epoch 29/200\n",
      "32/53 [=================>............] - ETA: 0s - loss: 0.0615 - mean_squared_error: 0.0615WARNING:tensorflow:Can save best model only with val_accuracy available, skipping.\n",
      "53/53 [==============================] - 0s 146us/sample - loss: 0.0782 - mean_squared_error: 0.0782\n",
      "Epoch 30/200\n",
      "32/53 [=================>............] - ETA: 0s - loss: 0.0980 - mean_squared_error: 0.0980WARNING:tensorflow:Can save best model only with val_accuracy available, skipping.\n",
      "53/53 [==============================] - 0s 124us/sample - loss: 0.0949 - mean_squared_error: 0.0949\n",
      "Epoch 31/200\n",
      "32/53 [=================>............] - ETA: 0s - loss: 0.0840 - mean_squared_error: 0.0840WARNING:tensorflow:Can save best model only with val_accuracy available, skipping.\n",
      "53/53 [==============================] - 0s 155us/sample - loss: 0.0829 - mean_squared_error: 0.0829\n",
      "Epoch 32/200\n",
      "32/53 [=================>............] - ETA: 0s - loss: 0.0770 - mean_squared_error: 0.0770WARNING:tensorflow:Can save best model only with val_accuracy available, skipping.\n",
      "53/53 [==============================] - 0s 131us/sample - loss: 0.0999 - mean_squared_error: 0.0999\n",
      "Epoch 33/200\n",
      "32/53 [=================>............] - ETA: 0s - loss: 0.0902 - mean_squared_error: 0.0902WARNING:tensorflow:Can save best model only with val_accuracy available, skipping.\n",
      "53/53 [==============================] - 0s 146us/sample - loss: 0.0792 - mean_squared_error: 0.0792\n",
      "Epoch 34/200\n",
      "32/53 [=================>............] - ETA: 0s - loss: 0.0806 - mean_squared_error: 0.0806WARNING:tensorflow:Can save best model only with val_accuracy available, skipping.\n",
      "53/53 [==============================] - 0s 132us/sample - loss: 0.0740 - mean_squared_error: 0.0740\n",
      "Epoch 35/200\n",
      "32/53 [=================>............] - ETA: 0s - loss: 0.0783 - mean_squared_error: 0.0783WARNING:tensorflow:Can save best model only with val_accuracy available, skipping.\n",
      "53/53 [==============================] - 0s 141us/sample - loss: 0.0762 - mean_squared_error: 0.0762\n",
      "Epoch 36/200\n",
      "32/53 [=================>............] - ETA: 0s - loss: 0.0739 - mean_squared_error: 0.0739WARNING:tensorflow:Can save best model only with val_accuracy available, skipping.\n",
      "53/53 [==============================] - 0s 129us/sample - loss: 0.0786 - mean_squared_error: 0.0786\n",
      "Epoch 37/200\n",
      "32/53 [=================>............] - ETA: 0s - loss: 0.0810 - mean_squared_error: 0.0810WARNING:tensorflow:Can save best model only with val_accuracy available, skipping.\n",
      "53/53 [==============================] - 0s 134us/sample - loss: 0.0756 - mean_squared_error: 0.0756\n",
      "Epoch 38/200\n",
      "32/53 [=================>............] - ETA: 0s - loss: 0.0841 - mean_squared_error: 0.0841WARNING:tensorflow:Can save best model only with val_accuracy available, skipping.\n",
      "53/53 [==============================] - 0s 129us/sample - loss: 0.0795 - mean_squared_error: 0.0795\n",
      "Epoch 39/200\n",
      "32/53 [=================>............] - ETA: 0s - loss: 0.1060 - mean_squared_error: 0.1060WARNING:tensorflow:Can save best model only with val_accuracy available, skipping.\n",
      "53/53 [==============================] - 0s 128us/sample - loss: 0.0992 - mean_squared_error: 0.0992\n",
      "Epoch 40/200\n",
      "32/53 [=================>............] - ETA: 0s - loss: 0.0707 - mean_squared_error: 0.0707WARNING:tensorflow:Can save best model only with val_accuracy available, skipping.\n",
      "53/53 [==============================] - 0s 139us/sample - loss: 0.0633 - mean_squared_error: 0.0633\n",
      "Epoch 41/200\n",
      "32/53 [=================>............] - ETA: 0s - loss: 0.0684 - mean_squared_error: 0.0684WARNING:tensorflow:Can save best model only with val_accuracy available, skipping.\n",
      "53/53 [==============================] - 0s 127us/sample - loss: 0.0699 - mean_squared_error: 0.0699\n",
      "Epoch 42/200\n",
      "32/53 [=================>............] - ETA: 0s - loss: 0.0673 - mean_squared_error: 0.0673WARNING:tensorflow:Can save best model only with val_accuracy available, skipping.\n",
      "53/53 [==============================] - 0s 144us/sample - loss: 0.0686 - mean_squared_error: 0.0686\n",
      "Epoch 43/200\n",
      "32/53 [=================>............] - ETA: 0s - loss: 0.0645 - mean_squared_error: 0.0645WARNING:tensorflow:Can save best model only with val_accuracy available, skipping.\n",
      "53/53 [==============================] - 0s 135us/sample - loss: 0.0516 - mean_squared_error: 0.0516\n",
      "Epoch 44/200\n",
      "32/53 [=================>............] - ETA: 0s - loss: 0.0695 - mean_squared_error: 0.0695WARNING:tensorflow:Can save best model only with val_accuracy available, skipping.\n",
      "53/53 [==============================] - 0s 141us/sample - loss: 0.0656 - mean_squared_error: 0.0656\n",
      "Epoch 45/200\n",
      "32/53 [=================>............] - ETA: 0s - loss: 0.0822 - mean_squared_error: 0.0822WARNING:tensorflow:Can save best model only with val_accuracy available, skipping.\n",
      "53/53 [==============================] - 0s 139us/sample - loss: 0.0729 - mean_squared_error: 0.0729\n",
      "Epoch 46/200\n",
      "32/53 [=================>............] - ETA: 0s - loss: 0.0753 - mean_squared_error: 0.0753WARNING:tensorflow:Can save best model only with val_accuracy available, skipping.\n",
      "53/53 [==============================] - 0s 138us/sample - loss: 0.0629 - mean_squared_error: 0.0629\n",
      "Epoch 47/200\n",
      "32/53 [=================>............] - ETA: 0s - loss: 0.0668 - mean_squared_error: 0.0668WARNING:tensorflow:Can save best model only with val_accuracy available, skipping.\n",
      "53/53 [==============================] - 0s 131us/sample - loss: 0.0672 - mean_squared_error: 0.0672\n",
      "Epoch 48/200\n",
      "32/53 [=================>............] - ETA: 0s - loss: 0.1064 - mean_squared_error: 0.1064WARNING:tensorflow:Can save best model only with val_accuracy available, skipping.\n",
      "53/53 [==============================] - 0s 141us/sample - loss: 0.0838 - mean_squared_error: 0.0838\n",
      "Epoch 49/200\n",
      "32/53 [=================>............] - ETA: 0s - loss: 0.0973 - mean_squared_error: 0.0973WARNING:tensorflow:Can save best model only with val_accuracy available, skipping.\n",
      "53/53 [==============================] - 0s 133us/sample - loss: 0.0903 - mean_squared_error: 0.0903\n",
      "Epoch 50/200\n",
      "32/53 [=================>............] - ETA: 0s - loss: 0.0720 - mean_squared_error: 0.0720WARNING:tensorflow:Can save best model only with val_accuracy available, skipping.\n",
      "53/53 [==============================] - 0s 144us/sample - loss: 0.0729 - mean_squared_error: 0.0729\n",
      "Epoch 51/200\n",
      "32/53 [=================>............] - ETA: 0s - loss: 0.0713 - mean_squared_error: 0.0713WARNING:tensorflow:Can save best model only with val_accuracy available, skipping.\n",
      "53/53 [==============================] - 0s 140us/sample - loss: 0.0749 - mean_squared_error: 0.0749\n",
      "Epoch 52/200\n",
      "32/53 [=================>............] - ETA: 0s - loss: 0.0740 - mean_squared_error: 0.0740WARNING:tensorflow:Can save best model only with val_accuracy available, skipping.\n",
      "53/53 [==============================] - 0s 150us/sample - loss: 0.0775 - mean_squared_error: 0.0775\n",
      "Epoch 53/200\n",
      "32/53 [=================>............] - ETA: 0s - loss: 0.0692 - mean_squared_error: 0.0692WARNING:tensorflow:Can save best model only with val_accuracy available, skipping.\n",
      "53/53 [==============================] - 0s 144us/sample - loss: 0.0744 - mean_squared_error: 0.0744\n",
      "Epoch 54/200\n",
      "32/53 [=================>............] - ETA: 0s - loss: 0.0767 - mean_squared_error: 0.0767WARNING:tensorflow:Can save best model only with val_accuracy available, skipping.\n",
      "53/53 [==============================] - 0s 153us/sample - loss: 0.0744 - mean_squared_error: 0.0744\n",
      "Epoch 55/200\n",
      "32/53 [=================>............] - ETA: 0s - loss: 0.0440 - mean_squared_error: 0.0440WARNING:tensorflow:Can save best model only with val_accuracy available, skipping.\n",
      "53/53 [==============================] - 0s 138us/sample - loss: 0.0667 - mean_squared_error: 0.0667\n",
      "Epoch 56/200\n",
      "32/53 [=================>............] - ETA: 0s - loss: 0.0883 - mean_squared_error: 0.0883WARNING:tensorflow:Can save best model only with val_accuracy available, skipping.\n",
      "53/53 [==============================] - 0s 148us/sample - loss: 0.0714 - mean_squared_error: 0.0714\n",
      "Epoch 57/200\n",
      "32/53 [=================>............] - ETA: 0s - loss: 0.0747 - mean_squared_error: 0.0747WARNING:tensorflow:Can save best model only with val_accuracy available, skipping.\n",
      "53/53 [==============================] - 0s 146us/sample - loss: 0.0631 - mean_squared_error: 0.0631\n",
      "Epoch 58/200\n",
      "32/53 [=================>............] - ETA: 0s - loss: 0.0760 - mean_squared_error: 0.0760WARNING:tensorflow:Can save best model only with val_accuracy available, skipping.\n",
      "53/53 [==============================] - 0s 169us/sample - loss: 0.0803 - mean_squared_error: 0.0803\n",
      "Epoch 59/200\n",
      "32/53 [=================>............] - ETA: 0s - loss: 0.0689 - mean_squared_error: 0.0689WARNING:tensorflow:Can save best model only with val_accuracy available, skipping.\n",
      "53/53 [==============================] - 0s 157us/sample - loss: 0.0694 - mean_squared_error: 0.0694\n",
      "Epoch 60/200\n",
      "32/53 [=================>............] - ETA: 0s - loss: 0.0626 - mean_squared_error: 0.0626WARNING:tensorflow:Can save best model only with val_accuracy available, skipping.\n",
      "53/53 [==============================] - 0s 160us/sample - loss: 0.0576 - mean_squared_error: 0.0576\n",
      "Epoch 61/200\n",
      "32/53 [=================>............] - ETA: 0s - loss: 0.0610 - mean_squared_error: 0.0610WARNING:tensorflow:Can save best model only with val_accuracy available, skipping.\n",
      "53/53 [==============================] - 0s 157us/sample - loss: 0.0663 - mean_squared_error: 0.0663\n",
      "Epoch 62/200\n",
      "32/53 [=================>............] - ETA: 0s - loss: 0.0471 - mean_squared_error: 0.0471WARNING:tensorflow:Can save best model only with val_accuracy available, skipping.\n",
      "53/53 [==============================] - 0s 166us/sample - loss: 0.0683 - mean_squared_error: 0.0683\n",
      "Epoch 63/200\n",
      "32/53 [=================>............] - ETA: 0s - loss: 0.0531 - mean_squared_error: 0.0531WARNING:tensorflow:Can save best model only with val_accuracy available, skipping.\n",
      "53/53 [==============================] - 0s 155us/sample - loss: 0.0490 - mean_squared_error: 0.0490\n",
      "Epoch 64/200\n",
      "32/53 [=================>............] - ETA: 0s - loss: 0.0746 - mean_squared_error: 0.0746WARNING:tensorflow:Can save best model only with val_accuracy available, skipping.\n",
      "53/53 [==============================] - 0s 160us/sample - loss: 0.0622 - mean_squared_error: 0.0622\n",
      "Epoch 65/200\n",
      "32/53 [=================>............] - ETA: 0s - loss: 0.0593 - mean_squared_error: 0.0593WARNING:tensorflow:Can save best model only with val_accuracy available, skipping.\n",
      "53/53 [==============================] - 0s 150us/sample - loss: 0.0466 - mean_squared_error: 0.0466\n",
      "Epoch 66/200\n",
      "32/53 [=================>............] - ETA: 0s - loss: 0.0358 - mean_squared_error: 0.0358WARNING:tensorflow:Can save best model only with val_accuracy available, skipping.\n",
      "53/53 [==============================] - 0s 159us/sample - loss: 0.0657 - mean_squared_error: 0.0657\n",
      "Epoch 67/200\n",
      "32/53 [=================>............] - ETA: 0s - loss: 0.0423 - mean_squared_error: 0.0423WARNING:tensorflow:Can save best model only with val_accuracy available, skipping.\n",
      "53/53 [==============================] - 0s 160us/sample - loss: 0.0416 - mean_squared_error: 0.0416\n",
      "Epoch 68/200\n",
      "32/53 [=================>............] - ETA: 0s - loss: 0.0626 - mean_squared_error: 0.0626WARNING:tensorflow:Can save best model only with val_accuracy available, skipping.\n",
      "53/53 [==============================] - 0s 149us/sample - loss: 0.0776 - mean_squared_error: 0.0776\n",
      "Epoch 69/200\n",
      "32/53 [=================>............] - ETA: 0s - loss: 0.0417 - mean_squared_error: 0.0417WARNING:tensorflow:Can save best model only with val_accuracy available, skipping.\n",
      "53/53 [==============================] - 0s 160us/sample - loss: 0.0399 - mean_squared_error: 0.0399\n",
      "Epoch 70/200\n",
      "32/53 [=================>............] - ETA: 0s - loss: 0.0633 - mean_squared_error: 0.0633WARNING:tensorflow:Can save best model only with val_accuracy available, skipping.\n",
      "53/53 [==============================] - 0s 162us/sample - loss: 0.0611 - mean_squared_error: 0.0611\n",
      "Epoch 71/200\n",
      "32/53 [=================>............] - ETA: 0s - loss: 0.0520 - mean_squared_error: 0.0520WARNING:tensorflow:Can save best model only with val_accuracy available, skipping.\n",
      "53/53 [==============================] - 0s 157us/sample - loss: 0.0622 - mean_squared_error: 0.0622\n",
      "Epoch 72/200\n",
      "32/53 [=================>............] - ETA: 0s - loss: 0.0769 - mean_squared_error: 0.0769WARNING:tensorflow:Can save best model only with val_accuracy available, skipping.\n",
      "53/53 [==============================] - 0s 153us/sample - loss: 0.0629 - mean_squared_error: 0.0629\n",
      "Epoch 73/200\n",
      "32/53 [=================>............] - ETA: 0s - loss: 0.0504 - mean_squared_error: 0.0504WARNING:tensorflow:Can save best model only with val_accuracy available, skipping.\n",
      "53/53 [==============================] - 0s 166us/sample - loss: 0.0556 - mean_squared_error: 0.0556\n",
      "Epoch 74/200\n",
      "32/53 [=================>............] - ETA: 0s - loss: 0.0568 - mean_squared_error: 0.0568WARNING:tensorflow:Can save best model only with val_accuracy available, skipping.\n",
      "53/53 [==============================] - 0s 156us/sample - loss: 0.0584 - mean_squared_error: 0.0584\n",
      "Epoch 75/200\n",
      "32/53 [=================>............] - ETA: 0s - loss: 0.0485 - mean_squared_error: 0.0485WARNING:tensorflow:Can save best model only with val_accuracy available, skipping.\n",
      "53/53 [==============================] - 0s 153us/sample - loss: 0.0471 - mean_squared_error: 0.0471\n",
      "Epoch 76/200\n",
      "32/53 [=================>............] - ETA: 0s - loss: 0.0368 - mean_squared_error: 0.0368WARNING:tensorflow:Can save best model only with val_accuracy available, skipping.\n",
      "53/53 [==============================] - 0s 158us/sample - loss: 0.0443 - mean_squared_error: 0.0443\n",
      "Epoch 77/200\n",
      "32/53 [=================>............] - ETA: 0s - loss: 0.0535 - mean_squared_error: 0.0535WARNING:tensorflow:Can save best model only with val_accuracy available, skipping.\n",
      "53/53 [==============================] - 0s 156us/sample - loss: 0.0518 - mean_squared_error: 0.0518\n",
      "Epoch 78/200\n",
      "32/53 [=================>............] - ETA: 0s - loss: 0.0671 - mean_squared_error: 0.0671WARNING:tensorflow:Can save best model only with val_accuracy available, skipping.\n",
      "53/53 [==============================] - 0s 166us/sample - loss: 0.0653 - mean_squared_error: 0.0653\n",
      "Epoch 79/200\n",
      "32/53 [=================>............] - ETA: 0s - loss: 0.0642 - mean_squared_error: 0.0642WARNING:tensorflow:Can save best model only with val_accuracy available, skipping.\n",
      "53/53 [==============================] - 0s 161us/sample - loss: 0.0620 - mean_squared_error: 0.0620\n",
      "Epoch 80/200\n",
      "32/53 [=================>............] - ETA: 0s - loss: 0.0597 - mean_squared_error: 0.0597WARNING:tensorflow:Can save best model only with val_accuracy available, skipping.\n",
      "53/53 [==============================] - 0s 164us/sample - loss: 0.0574 - mean_squared_error: 0.0574\n",
      "Epoch 81/200\n",
      "32/53 [=================>............] - ETA: 0s - loss: 0.0432 - mean_squared_error: 0.0432WARNING:tensorflow:Can save best model only with val_accuracy available, skipping.\n",
      "53/53 [==============================] - 0s 163us/sample - loss: 0.0504 - mean_squared_error: 0.0504\n",
      "Epoch 82/200\n",
      "32/53 [=================>............] - ETA: 0s - loss: 0.0470 - mean_squared_error: 0.0470WARNING:tensorflow:Can save best model only with val_accuracy available, skipping.\n",
      "53/53 [==============================] - 0s 155us/sample - loss: 0.0596 - mean_squared_error: 0.0596\n",
      "Epoch 83/200\n",
      "32/53 [=================>............] - ETA: 0s - loss: 0.0603 - mean_squared_error: 0.0603WARNING:tensorflow:Can save best model only with val_accuracy available, skipping.\n",
      "53/53 [==============================] - 0s 156us/sample - loss: 0.0587 - mean_squared_error: 0.0587\n",
      "Epoch 84/200\n",
      "32/53 [=================>............] - ETA: 0s - loss: 0.0630 - mean_squared_error: 0.0630WARNING:tensorflow:Can save best model only with val_accuracy available, skipping.\n",
      "53/53 [==============================] - 0s 157us/sample - loss: 0.0653 - mean_squared_error: 0.0653\n",
      "Epoch 85/200\n",
      "32/53 [=================>............] - ETA: 0s - loss: 0.0657 - mean_squared_error: 0.0657WARNING:tensorflow:Can save best model only with val_accuracy available, skipping.\n",
      "53/53 [==============================] - 0s 154us/sample - loss: 0.0505 - mean_squared_error: 0.0505\n",
      "Epoch 86/200\n",
      "32/53 [=================>............] - ETA: 0s - loss: 0.0401 - mean_squared_error: 0.0401WARNING:tensorflow:Can save best model only with val_accuracy available, skipping.\n",
      "53/53 [==============================] - 0s 164us/sample - loss: 0.0502 - mean_squared_error: 0.0502\n",
      "Epoch 87/200\n",
      "32/53 [=================>............] - ETA: 0s - loss: 0.0463 - mean_squared_error: 0.0463WARNING:tensorflow:Can save best model only with val_accuracy available, skipping.\n",
      "53/53 [==============================] - 0s 158us/sample - loss: 0.0507 - mean_squared_error: 0.0507\n",
      "Epoch 88/200\n",
      "32/53 [=================>............] - ETA: 0s - loss: 0.0501 - mean_squared_error: 0.0501WARNING:tensorflow:Can save best model only with val_accuracy available, skipping.\n",
      "53/53 [==============================] - 0s 157us/sample - loss: 0.0603 - mean_squared_error: 0.0603\n",
      "Epoch 89/200\n",
      "32/53 [=================>............] - ETA: 0s - loss: 0.0625 - mean_squared_error: 0.0625WARNING:tensorflow:Can save best model only with val_accuracy available, skipping.\n",
      "53/53 [==============================] - 0s 160us/sample - loss: 0.0598 - mean_squared_error: 0.0598\n",
      "Epoch 90/200\n",
      "32/53 [=================>............] - ETA: 0s - loss: 0.0880 - mean_squared_error: 0.0880WARNING:tensorflow:Can save best model only with val_accuracy available, skipping.\n",
      "53/53 [==============================] - 0s 158us/sample - loss: 0.0662 - mean_squared_error: 0.0662\n",
      "Epoch 91/200\n",
      "32/53 [=================>............] - ETA: 0s - loss: 0.0609 - mean_squared_error: 0.0609WARNING:tensorflow:Can save best model only with val_accuracy available, skipping.\n",
      "53/53 [==============================] - 0s 162us/sample - loss: 0.0564 - mean_squared_error: 0.0564\n",
      "Epoch 92/200\n",
      "32/53 [=================>............] - ETA: 0s - loss: 0.0715 - mean_squared_error: 0.0715WARNING:tensorflow:Can save best model only with val_accuracy available, skipping.\n",
      "53/53 [==============================] - 0s 160us/sample - loss: 0.0629 - mean_squared_error: 0.0629\n",
      "Epoch 93/200\n",
      "32/53 [=================>............] - ETA: 0s - loss: 0.0607 - mean_squared_error: 0.0607WARNING:tensorflow:Can save best model only with val_accuracy available, skipping.\n",
      "53/53 [==============================] - 0s 159us/sample - loss: 0.0581 - mean_squared_error: 0.0581\n",
      "Epoch 94/200\n",
      "32/53 [=================>............] - ETA: 0s - loss: 0.0885 - mean_squared_error: 0.0885WARNING:tensorflow:Can save best model only with val_accuracy available, skipping.\n",
      "53/53 [==============================] - 0s 157us/sample - loss: 0.0744 - mean_squared_error: 0.0744\n",
      "Epoch 95/200\n",
      "32/53 [=================>............] - ETA: 0s - loss: 0.0563 - mean_squared_error: 0.0563WARNING:tensorflow:Can save best model only with val_accuracy available, skipping.\n",
      "53/53 [==============================] - 0s 173us/sample - loss: 0.0583 - mean_squared_error: 0.0583\n",
      "Epoch 96/200\n",
      "32/53 [=================>............] - ETA: 0s - loss: 0.0440 - mean_squared_error: 0.0440WARNING:tensorflow:Can save best model only with val_accuracy available, skipping.\n",
      "53/53 [==============================] - 0s 155us/sample - loss: 0.0398 - mean_squared_error: 0.0398\n",
      "Epoch 97/200\n",
      "32/53 [=================>............] - ETA: 0s - loss: 0.0559 - mean_squared_error: 0.0559WARNING:tensorflow:Can save best model only with val_accuracy available, skipping.\n",
      "53/53 [==============================] - 0s 153us/sample - loss: 0.0531 - mean_squared_error: 0.0531\n",
      "Epoch 98/200\n",
      "32/53 [=================>............] - ETA: 0s - loss: 0.0628 - mean_squared_error: 0.0628WARNING:tensorflow:Can save best model only with val_accuracy available, skipping.\n",
      "53/53 [==============================] - 0s 157us/sample - loss: 0.0536 - mean_squared_error: 0.0536\n",
      "Epoch 99/200\n",
      "32/53 [=================>............] - ETA: 0s - loss: 0.0382 - mean_squared_error: 0.0382WARNING:tensorflow:Can save best model only with val_accuracy available, skipping.\n",
      "53/53 [==============================] - 0s 154us/sample - loss: 0.0491 - mean_squared_error: 0.0491\n",
      "Epoch 100/200\n",
      "32/53 [=================>............] - ETA: 0s - loss: 0.0679 - mean_squared_error: 0.0679WARNING:tensorflow:Can save best model only with val_accuracy available, skipping.\n",
      "53/53 [==============================] - 0s 155us/sample - loss: 0.0717 - mean_squared_error: 0.0717\n",
      "Epoch 101/200\n",
      "32/53 [=================>............] - ETA: 0s - loss: 0.0310 - mean_squared_error: 0.0310WARNING:tensorflow:Can save best model only with val_accuracy available, skipping.\n",
      "53/53 [==============================] - 0s 163us/sample - loss: 0.0425 - mean_squared_error: 0.0425\n",
      "Epoch 102/200\n",
      "32/53 [=================>............] - ETA: 0s - loss: 0.0617 - mean_squared_error: 0.0617WARNING:tensorflow:Can save best model only with val_accuracy available, skipping.\n",
      "53/53 [==============================] - 0s 161us/sample - loss: 0.0647 - mean_squared_error: 0.0647\n",
      "Epoch 103/200\n",
      "32/53 [=================>............] - ETA: 0s - loss: 0.0687 - mean_squared_error: 0.0687WARNING:tensorflow:Can save best model only with val_accuracy available, skipping.\n",
      "53/53 [==============================] - 0s 164us/sample - loss: 0.0524 - mean_squared_error: 0.0524\n",
      "Epoch 104/200\n",
      "32/53 [=================>............] - ETA: 0s - loss: 0.0348 - mean_squared_error: 0.0348WARNING:tensorflow:Can save best model only with val_accuracy available, skipping.\n",
      "53/53 [==============================] - 0s 164us/sample - loss: 0.0447 - mean_squared_error: 0.0447\n",
      "Epoch 105/200\n",
      "32/53 [=================>............] - ETA: 0s - loss: 0.0429 - mean_squared_error: 0.0429WARNING:tensorflow:Can save best model only with val_accuracy available, skipping.\n",
      "53/53 [==============================] - 0s 159us/sample - loss: 0.0427 - mean_squared_error: 0.0427\n",
      "Epoch 106/200\n",
      "32/53 [=================>............] - ETA: 0s - loss: 0.0535 - mean_squared_error: 0.0535WARNING:tensorflow:Can save best model only with val_accuracy available, skipping.\n",
      "53/53 [==============================] - 0s 153us/sample - loss: 0.0524 - mean_squared_error: 0.0524\n",
      "Epoch 107/200\n",
      "32/53 [=================>............] - ETA: 0s - loss: 0.0582 - mean_squared_error: 0.0582WARNING:tensorflow:Can save best model only with val_accuracy available, skipping.\n",
      "53/53 [==============================] - 0s 164us/sample - loss: 0.0556 - mean_squared_error: 0.0556\n",
      "Epoch 108/200\n",
      "32/53 [=================>............] - ETA: 0s - loss: 0.0420 - mean_squared_error: 0.0420WARNING:tensorflow:Can save best model only with val_accuracy available, skipping.\n",
      "53/53 [==============================] - 0s 160us/sample - loss: 0.0499 - mean_squared_error: 0.0499\n",
      "Epoch 109/200\n",
      "32/53 [=================>............] - ETA: 0s - loss: 0.0477 - mean_squared_error: 0.0477WARNING:tensorflow:Can save best model only with val_accuracy available, skipping.\n",
      "53/53 [==============================] - 0s 151us/sample - loss: 0.0485 - mean_squared_error: 0.0485\n",
      "Epoch 110/200\n",
      "32/53 [=================>............] - ETA: 0s - loss: 0.0486 - mean_squared_error: 0.0486WARNING:tensorflow:Can save best model only with val_accuracy available, skipping.\n",
      "53/53 [==============================] - 0s 156us/sample - loss: 0.0431 - mean_squared_error: 0.0431\n",
      "Epoch 111/200\n",
      "32/53 [=================>............] - ETA: 0s - loss: 0.0596 - mean_squared_error: 0.0596WARNING:tensorflow:Can save best model only with val_accuracy available, skipping.\n",
      "53/53 [==============================] - 0s 165us/sample - loss: 0.0488 - mean_squared_error: 0.0488\n",
      "Epoch 112/200\n",
      "32/53 [=================>............] - ETA: 0s - loss: 0.0494 - mean_squared_error: 0.0494WARNING:tensorflow:Can save best model only with val_accuracy available, skipping.\n",
      "53/53 [==============================] - 0s 153us/sample - loss: 0.0457 - mean_squared_error: 0.0457\n",
      "Epoch 113/200\n",
      "32/53 [=================>............] - ETA: 0s - loss: 0.0624 - mean_squared_error: 0.0624WARNING:tensorflow:Can save best model only with val_accuracy available, skipping.\n",
      "53/53 [==============================] - 0s 156us/sample - loss: 0.0503 - mean_squared_error: 0.0503\n",
      "Epoch 114/200\n",
      "32/53 [=================>............] - ETA: 0s - loss: 0.0602 - mean_squared_error: 0.0602WARNING:tensorflow:Can save best model only with val_accuracy available, skipping.\n",
      "53/53 [==============================] - 0s 161us/sample - loss: 0.0607 - mean_squared_error: 0.0607\n",
      "Epoch 115/200\n",
      "32/53 [=================>............] - ETA: 0s - loss: 0.0408 - mean_squared_error: 0.0408WARNING:tensorflow:Can save best model only with val_accuracy available, skipping.\n",
      "53/53 [==============================] - 0s 152us/sample - loss: 0.0507 - mean_squared_error: 0.0507\n",
      "Epoch 116/200\n",
      "32/53 [=================>............] - ETA: 0s - loss: 0.0467 - mean_squared_error: 0.0467WARNING:tensorflow:Can save best model only with val_accuracy available, skipping.\n",
      "53/53 [==============================] - 0s 154us/sample - loss: 0.0565 - mean_squared_error: 0.0565\n",
      "Epoch 117/200\n",
      "32/53 [=================>............] - ETA: 0s - loss: 0.0363 - mean_squared_error: 0.0363WARNING:tensorflow:Can save best model only with val_accuracy available, skipping.\n",
      "53/53 [==============================] - 0s 146us/sample - loss: 0.0392 - mean_squared_error: 0.0392\n",
      "Epoch 118/200\n",
      "32/53 [=================>............] - ETA: 0s - loss: 0.0287 - mean_squared_error: 0.0287WARNING:tensorflow:Can save best model only with val_accuracy available, skipping.\n",
      "53/53 [==============================] - 0s 172us/sample - loss: 0.0404 - mean_squared_error: 0.0404\n",
      "Epoch 119/200\n",
      "32/53 [=================>............] - ETA: 0s - loss: 0.0584 - mean_squared_error: 0.0584WARNING:tensorflow:Can save best model only with val_accuracy available, skipping.\n",
      "53/53 [==============================] - 0s 165us/sample - loss: 0.0519 - mean_squared_error: 0.0519\n",
      "Epoch 120/200\n",
      "32/53 [=================>............] - ETA: 0s - loss: 0.0378 - mean_squared_error: 0.0378WARNING:tensorflow:Can save best model only with val_accuracy available, skipping.\n",
      "53/53 [==============================] - 0s 150us/sample - loss: 0.0443 - mean_squared_error: 0.0443\n",
      "Epoch 121/200\n",
      "32/53 [=================>............] - ETA: 0s - loss: 0.0465 - mean_squared_error: 0.0465WARNING:tensorflow:Can save best model only with val_accuracy available, skipping.\n",
      "53/53 [==============================] - 0s 149us/sample - loss: 0.0486 - mean_squared_error: 0.0486\n",
      "Epoch 122/200\n",
      "32/53 [=================>............] - ETA: 0s - loss: 0.0503 - mean_squared_error: 0.0503WARNING:tensorflow:Can save best model only with val_accuracy available, skipping.\n",
      "53/53 [==============================] - 0s 172us/sample - loss: 0.0447 - mean_squared_error: 0.0447\n",
      "Epoch 123/200\n",
      "32/53 [=================>............] - ETA: 0s - loss: 0.0757 - mean_squared_error: 0.0757WARNING:tensorflow:Can save best model only with val_accuracy available, skipping.\n",
      "53/53 [==============================] - 0s 159us/sample - loss: 0.0655 - mean_squared_error: 0.0655\n",
      "Epoch 124/200\n",
      "32/53 [=================>............] - ETA: 0s - loss: 0.0492 - mean_squared_error: 0.0492WARNING:tensorflow:Can save best model only with val_accuracy available, skipping.\n",
      "53/53 [==============================] - 0s 149us/sample - loss: 0.0502 - mean_squared_error: 0.0502\n",
      "Epoch 125/200\n",
      "32/53 [=================>............] - ETA: 0s - loss: 0.0433 - mean_squared_error: 0.0433WARNING:tensorflow:Can save best model only with val_accuracy available, skipping.\n",
      "53/53 [==============================] - 0s 150us/sample - loss: 0.0467 - mean_squared_error: 0.0467\n",
      "Epoch 126/200\n",
      "32/53 [=================>............] - ETA: 0s - loss: 0.0582 - mean_squared_error: 0.0582WARNING:tensorflow:Can save best model only with val_accuracy available, skipping.\n",
      "53/53 [==============================] - 0s 149us/sample - loss: 0.0476 - mean_squared_error: 0.0476\n",
      "Epoch 127/200\n",
      "32/53 [=================>............] - ETA: 0s - loss: 0.0593 - mean_squared_error: 0.0593WARNING:tensorflow:Can save best model only with val_accuracy available, skipping.\n",
      "53/53 [==============================] - 0s 155us/sample - loss: 0.0553 - mean_squared_error: 0.0553\n",
      "Epoch 128/200\n",
      "32/53 [=================>............] - ETA: 0s - loss: 0.0334 - mean_squared_error: 0.0334WARNING:tensorflow:Can save best model only with val_accuracy available, skipping.\n",
      "53/53 [==============================] - 0s 155us/sample - loss: 0.0342 - mean_squared_error: 0.0342\n",
      "Epoch 129/200\n",
      "32/53 [=================>............] - ETA: 0s - loss: 0.0571 - mean_squared_error: 0.0571WARNING:tensorflow:Can save best model only with val_accuracy available, skipping.\n",
      "53/53 [==============================] - 0s 149us/sample - loss: 0.0520 - mean_squared_error: 0.0520\n",
      "Epoch 130/200\n",
      "32/53 [=================>............] - ETA: 0s - loss: 0.0463 - mean_squared_error: 0.0463WARNING:tensorflow:Can save best model only with val_accuracy available, skipping.\n",
      "53/53 [==============================] - 0s 147us/sample - loss: 0.0476 - mean_squared_error: 0.0476\n",
      "Epoch 131/200\n",
      "32/53 [=================>............] - ETA: 0s - loss: 0.0395 - mean_squared_error: 0.0395WARNING:tensorflow:Can save best model only with val_accuracy available, skipping.\n",
      "53/53 [==============================] - 0s 156us/sample - loss: 0.0416 - mean_squared_error: 0.0416\n",
      "Epoch 132/200\n",
      "32/53 [=================>............] - ETA: 0s - loss: 0.0503 - mean_squared_error: 0.0503WARNING:tensorflow:Can save best model only with val_accuracy available, skipping.\n",
      "53/53 [==============================] - 0s 142us/sample - loss: 0.0451 - mean_squared_error: 0.0451\n",
      "Epoch 133/200\n",
      "32/53 [=================>............] - ETA: 0s - loss: 0.0836 - mean_squared_error: 0.0836WARNING:tensorflow:Can save best model only with val_accuracy available, skipping.\n",
      "53/53 [==============================] - 0s 153us/sample - loss: 0.0711 - mean_squared_error: 0.0711\n",
      "Epoch 134/200\n",
      "32/53 [=================>............] - ETA: 0s - loss: 0.0506 - mean_squared_error: 0.0506WARNING:tensorflow:Can save best model only with val_accuracy available, skipping.\n",
      "53/53 [==============================] - 0s 153us/sample - loss: 0.0378 - mean_squared_error: 0.0378\n",
      "Epoch 135/200\n",
      "32/53 [=================>............] - ETA: 0s - loss: 0.0364 - mean_squared_error: 0.0364WARNING:tensorflow:Can save best model only with val_accuracy available, skipping.\n",
      "53/53 [==============================] - 0s 157us/sample - loss: 0.0343 - mean_squared_error: 0.0343\n",
      "Epoch 136/200\n",
      "32/53 [=================>............] - ETA: 0s - loss: 0.0333 - mean_squared_error: 0.0333WARNING:tensorflow:Can save best model only with val_accuracy available, skipping.\n",
      "53/53 [==============================] - 0s 156us/sample - loss: 0.0373 - mean_squared_error: 0.0373\n",
      "Epoch 137/200\n",
      "32/53 [=================>............] - ETA: 0s - loss: 0.0471 - mean_squared_error: 0.0471WARNING:tensorflow:Can save best model only with val_accuracy available, skipping.\n",
      "53/53 [==============================] - 0s 146us/sample - loss: 0.0453 - mean_squared_error: 0.0453\n",
      "Epoch 138/200\n",
      "32/53 [=================>............] - ETA: 0s - loss: 0.0521 - mean_squared_error: 0.0521WARNING:tensorflow:Can save best model only with val_accuracy available, skipping.\n",
      "53/53 [==============================] - 0s 156us/sample - loss: 0.0542 - mean_squared_error: 0.0542\n",
      "Epoch 139/200\n",
      "32/53 [=================>............] - ETA: 0s - loss: 0.0350 - mean_squared_error: 0.0350WARNING:tensorflow:Can save best model only with val_accuracy available, skipping.\n",
      "53/53 [==============================] - 0s 151us/sample - loss: 0.0422 - mean_squared_error: 0.0422\n",
      "Epoch 140/200\n",
      "32/53 [=================>............] - ETA: 0s - loss: 0.0363 - mean_squared_error: 0.0363WARNING:tensorflow:Can save best model only with val_accuracy available, skipping.\n",
      "53/53 [==============================] - 0s 161us/sample - loss: 0.0435 - mean_squared_error: 0.0435\n",
      "Epoch 141/200\n",
      "32/53 [=================>............] - ETA: 0s - loss: 0.0484 - mean_squared_error: 0.0484WARNING:tensorflow:Can save best model only with val_accuracy available, skipping.\n",
      "53/53 [==============================] - 0s 155us/sample - loss: 0.0549 - mean_squared_error: 0.0549\n",
      "Epoch 142/200\n",
      "32/53 [=================>............] - ETA: 0s - loss: 0.0401 - mean_squared_error: 0.0401WARNING:tensorflow:Can save best model only with val_accuracy available, skipping.\n",
      "53/53 [==============================] - 0s 159us/sample - loss: 0.0533 - mean_squared_error: 0.0533\n",
      "Epoch 143/200\n",
      "32/53 [=================>............] - ETA: 0s - loss: 0.0508 - mean_squared_error: 0.0508WARNING:tensorflow:Can save best model only with val_accuracy available, skipping.\n",
      "53/53 [==============================] - 0s 151us/sample - loss: 0.0445 - mean_squared_error: 0.0445\n",
      "Epoch 144/200\n",
      "32/53 [=================>............] - ETA: 0s - loss: 0.0474 - mean_squared_error: 0.0474WARNING:tensorflow:Can save best model only with val_accuracy available, skipping.\n",
      "53/53 [==============================] - 0s 169us/sample - loss: 0.0414 - mean_squared_error: 0.0414\n",
      "Epoch 145/200\n",
      "32/53 [=================>............] - ETA: 0s - loss: 0.0507 - mean_squared_error: 0.0507WARNING:tensorflow:Can save best model only with val_accuracy available, skipping.\n",
      "53/53 [==============================] - 0s 153us/sample - loss: 0.0468 - mean_squared_error: 0.0468\n",
      "Epoch 146/200\n",
      "32/53 [=================>............] - ETA: 0s - loss: 0.0361 - mean_squared_error: 0.0361WARNING:tensorflow:Can save best model only with val_accuracy available, skipping.\n",
      "53/53 [==============================] - 0s 151us/sample - loss: 0.0351 - mean_squared_error: 0.0351\n",
      "Epoch 147/200\n",
      "32/53 [=================>............] - ETA: 0s - loss: 0.0450 - mean_squared_error: 0.0450WARNING:tensorflow:Can save best model only with val_accuracy available, skipping.\n",
      "53/53 [==============================] - 0s 156us/sample - loss: 0.0468 - mean_squared_error: 0.0468\n",
      "Epoch 148/200\n",
      "32/53 [=================>............] - ETA: 0s - loss: 0.0559 - mean_squared_error: 0.0559WARNING:tensorflow:Can save best model only with val_accuracy available, skipping.\n",
      "53/53 [==============================] - 0s 152us/sample - loss: 0.0491 - mean_squared_error: 0.0491\n",
      "Epoch 149/200\n",
      "32/53 [=================>............] - ETA: 0s - loss: 0.0424 - mean_squared_error: 0.0424WARNING:tensorflow:Can save best model only with val_accuracy available, skipping.\n",
      "53/53 [==============================] - 0s 151us/sample - loss: 0.0474 - mean_squared_error: 0.0474\n",
      "Epoch 150/200\n",
      "32/53 [=================>............] - ETA: 0s - loss: 0.0352 - mean_squared_error: 0.0352WARNING:tensorflow:Can save best model only with val_accuracy available, skipping.\n",
      "53/53 [==============================] - 0s 148us/sample - loss: 0.0520 - mean_squared_error: 0.0520\n",
      "Epoch 151/200\n",
      "32/53 [=================>............] - ETA: 0s - loss: 0.0264 - mean_squared_error: 0.0264WARNING:tensorflow:Can save best model only with val_accuracy available, skipping.\n",
      "53/53 [==============================] - 0s 151us/sample - loss: 0.0432 - mean_squared_error: 0.0432\n",
      "Epoch 152/200\n",
      "32/53 [=================>............] - ETA: 0s - loss: 0.0313 - mean_squared_error: 0.0313WARNING:tensorflow:Can save best model only with val_accuracy available, skipping.\n",
      "53/53 [==============================] - 0s 145us/sample - loss: 0.0408 - mean_squared_error: 0.0408\n",
      "Epoch 153/200\n",
      "32/53 [=================>............] - ETA: 0s - loss: 0.0380 - mean_squared_error: 0.0380WARNING:tensorflow:Can save best model only with val_accuracy available, skipping.\n",
      "53/53 [==============================] - 0s 150us/sample - loss: 0.0335 - mean_squared_error: 0.0335\n",
      "Epoch 154/200\n",
      "32/53 [=================>............] - ETA: 0s - loss: 0.0309 - mean_squared_error: 0.0309WARNING:tensorflow:Can save best model only with val_accuracy available, skipping.\n",
      "53/53 [==============================] - 0s 153us/sample - loss: 0.0335 - mean_squared_error: 0.0335\n",
      "Epoch 155/200\n",
      "32/53 [=================>............] - ETA: 0s - loss: 0.0340 - mean_squared_error: 0.0340WARNING:tensorflow:Can save best model only with val_accuracy available, skipping.\n",
      "53/53 [==============================] - 0s 148us/sample - loss: 0.0515 - mean_squared_error: 0.0515\n",
      "Epoch 156/200\n",
      "32/53 [=================>............] - ETA: 0s - loss: 0.0397 - mean_squared_error: 0.0397WARNING:tensorflow:Can save best model only with val_accuracy available, skipping.\n",
      "53/53 [==============================] - 0s 155us/sample - loss: 0.0430 - mean_squared_error: 0.0430\n",
      "Epoch 157/200\n",
      "32/53 [=================>............] - ETA: 0s - loss: 0.0428 - mean_squared_error: 0.0428WARNING:tensorflow:Can save best model only with val_accuracy available, skipping.\n",
      "53/53 [==============================] - 0s 153us/sample - loss: 0.0402 - mean_squared_error: 0.0402\n",
      "Epoch 158/200\n",
      "32/53 [=================>............] - ETA: 0s - loss: 0.0736 - mean_squared_error: 0.0736WARNING:tensorflow:Can save best model only with val_accuracy available, skipping.\n",
      "53/53 [==============================] - 0s 151us/sample - loss: 0.0565 - mean_squared_error: 0.0565\n",
      "Epoch 159/200\n",
      "32/53 [=================>............] - ETA: 0s - loss: 0.0537 - mean_squared_error: 0.0537WARNING:tensorflow:Can save best model only with val_accuracy available, skipping.\n",
      "53/53 [==============================] - 0s 149us/sample - loss: 0.0499 - mean_squared_error: 0.0499\n",
      "Epoch 160/200\n",
      "32/53 [=================>............] - ETA: 0s - loss: 0.0389 - mean_squared_error: 0.0389WARNING:tensorflow:Can save best model only with val_accuracy available, skipping.\n",
      "53/53 [==============================] - 0s 159us/sample - loss: 0.0408 - mean_squared_error: 0.0408\n",
      "Epoch 161/200\n",
      "32/53 [=================>............] - ETA: 0s - loss: 0.0337 - mean_squared_error: 0.0337WARNING:tensorflow:Can save best model only with val_accuracy available, skipping.\n",
      "53/53 [==============================] - 0s 154us/sample - loss: 0.0383 - mean_squared_error: 0.0383\n",
      "Epoch 162/200\n",
      "32/53 [=================>............] - ETA: 0s - loss: 0.0420 - mean_squared_error: 0.0420WARNING:tensorflow:Can save best model only with val_accuracy available, skipping.\n",
      "53/53 [==============================] - 0s 148us/sample - loss: 0.0413 - mean_squared_error: 0.0413\n",
      "Epoch 163/200\n",
      "32/53 [=================>............] - ETA: 0s - loss: 0.0505 - mean_squared_error: 0.0505WARNING:tensorflow:Can save best model only with val_accuracy available, skipping.\n",
      "53/53 [==============================] - 0s 157us/sample - loss: 0.0486 - mean_squared_error: 0.0486\n",
      "Epoch 164/200\n",
      "32/53 [=================>............] - ETA: 0s - loss: 0.0457 - mean_squared_error: 0.0457WARNING:tensorflow:Can save best model only with val_accuracy available, skipping.\n",
      "53/53 [==============================] - 0s 146us/sample - loss: 0.0451 - mean_squared_error: 0.0451\n",
      "Epoch 165/200\n",
      "32/53 [=================>............] - ETA: 0s - loss: 0.0407 - mean_squared_error: 0.0407WARNING:tensorflow:Can save best model only with val_accuracy available, skipping.\n",
      "53/53 [==============================] - 0s 151us/sample - loss: 0.0436 - mean_squared_error: 0.0436\n",
      "Epoch 166/200\n",
      "32/53 [=================>............] - ETA: 0s - loss: 0.0356 - mean_squared_error: 0.0356WARNING:tensorflow:Can save best model only with val_accuracy available, skipping.\n",
      "53/53 [==============================] - 0s 140us/sample - loss: 0.0409 - mean_squared_error: 0.0409\n",
      "Epoch 167/200\n",
      "32/53 [=================>............] - ETA: 0s - loss: 0.0346 - mean_squared_error: 0.0346WARNING:tensorflow:Can save best model only with val_accuracy available, skipping.\n",
      "53/53 [==============================] - 0s 136us/sample - loss: 0.0352 - mean_squared_error: 0.0352\n",
      "Epoch 168/200\n",
      "32/53 [=================>............] - ETA: 0s - loss: 0.0397 - mean_squared_error: 0.0397WARNING:tensorflow:Can save best model only with val_accuracy available, skipping.\n",
      "53/53 [==============================] - 0s 146us/sample - loss: 0.0347 - mean_squared_error: 0.0347\n",
      "Epoch 169/200\n",
      "32/53 [=================>............] - ETA: 0s - loss: 0.0344 - mean_squared_error: 0.0344WARNING:tensorflow:Can save best model only with val_accuracy available, skipping.\n",
      "53/53 [==============================] - 0s 161us/sample - loss: 0.0450 - mean_squared_error: 0.0450\n",
      "Epoch 170/200\n",
      "32/53 [=================>............] - ETA: 0s - loss: 0.0461 - mean_squared_error: 0.0461WARNING:tensorflow:Can save best model only with val_accuracy available, skipping.\n",
      "53/53 [==============================] - 0s 153us/sample - loss: 0.0406 - mean_squared_error: 0.0406\n",
      "Epoch 171/200\n",
      "32/53 [=================>............] - ETA: 0s - loss: 0.0426 - mean_squared_error: 0.0426WARNING:tensorflow:Can save best model only with val_accuracy available, skipping.\n",
      "53/53 [==============================] - 0s 149us/sample - loss: 0.0494 - mean_squared_error: 0.0494\n",
      "Epoch 172/200\n",
      "32/53 [=================>............] - ETA: 0s - loss: 0.0331 - mean_squared_error: 0.0331WARNING:tensorflow:Can save best model only with val_accuracy available, skipping.\n",
      "53/53 [==============================] - 0s 150us/sample - loss: 0.0396 - mean_squared_error: 0.0396\n",
      "Epoch 173/200\n",
      "32/53 [=================>............] - ETA: 0s - loss: 0.0445 - mean_squared_error: 0.0445WARNING:tensorflow:Can save best model only with val_accuracy available, skipping.\n",
      "53/53 [==============================] - 0s 143us/sample - loss: 0.0401 - mean_squared_error: 0.0401\n",
      "Epoch 174/200\n",
      "32/53 [=================>............] - ETA: 0s - loss: 0.0330 - mean_squared_error: 0.0330WARNING:tensorflow:Can save best model only with val_accuracy available, skipping.\n",
      "53/53 [==============================] - 0s 151us/sample - loss: 0.0369 - mean_squared_error: 0.0369\n",
      "Epoch 175/200\n",
      "32/53 [=================>............] - ETA: 0s - loss: 0.0491 - mean_squared_error: 0.0491WARNING:tensorflow:Can save best model only with val_accuracy available, skipping.\n",
      "53/53 [==============================] - 0s 150us/sample - loss: 0.0495 - mean_squared_error: 0.0495\n",
      "Epoch 176/200\n",
      "32/53 [=================>............] - ETA: 0s - loss: 0.0592 - mean_squared_error: 0.0592WARNING:tensorflow:Can save best model only with val_accuracy available, skipping.\n",
      "53/53 [==============================] - 0s 149us/sample - loss: 0.0468 - mean_squared_error: 0.0468\n",
      "Epoch 177/200\n",
      "32/53 [=================>............] - ETA: 0s - loss: 0.0392 - mean_squared_error: 0.0392WARNING:tensorflow:Can save best model only with val_accuracy available, skipping.\n",
      "53/53 [==============================] - 0s 152us/sample - loss: 0.0438 - mean_squared_error: 0.0438\n",
      "Epoch 178/200\n",
      "32/53 [=================>............] - ETA: 0s - loss: 0.0446 - mean_squared_error: 0.0446WARNING:tensorflow:Can save best model only with val_accuracy available, skipping.\n",
      "53/53 [==============================] - 0s 138us/sample - loss: 0.0362 - mean_squared_error: 0.0362\n",
      "Epoch 179/200\n",
      "32/53 [=================>............] - ETA: 0s - loss: 0.0307 - mean_squared_error: 0.0307WARNING:tensorflow:Can save best model only with val_accuracy available, skipping.\n",
      "53/53 [==============================] - 0s 147us/sample - loss: 0.0354 - mean_squared_error: 0.0354\n",
      "Epoch 180/200\n",
      "32/53 [=================>............] - ETA: 0s - loss: 0.0346 - mean_squared_error: 0.0346WARNING:tensorflow:Can save best model only with val_accuracy available, skipping.\n",
      "53/53 [==============================] - 0s 151us/sample - loss: 0.0363 - mean_squared_error: 0.0363\n",
      "Epoch 181/200\n",
      "32/53 [=================>............] - ETA: 0s - loss: 0.0318 - mean_squared_error: 0.0318WARNING:tensorflow:Can save best model only with val_accuracy available, skipping.\n",
      "53/53 [==============================] - 0s 130us/sample - loss: 0.0313 - mean_squared_error: 0.0313\n",
      "Epoch 182/200\n",
      "32/53 [=================>............] - ETA: 0s - loss: 0.0291 - mean_squared_error: 0.0291WARNING:tensorflow:Can save best model only with val_accuracy available, skipping.\n",
      "53/53 [==============================] - 0s 134us/sample - loss: 0.0335 - mean_squared_error: 0.0335\n",
      "Epoch 183/200\n",
      "32/53 [=================>............] - ETA: 0s - loss: 0.0297 - mean_squared_error: 0.0297WARNING:tensorflow:Can save best model only with val_accuracy available, skipping.\n",
      "53/53 [==============================] - 0s 156us/sample - loss: 0.0373 - mean_squared_error: 0.0373\n",
      "Epoch 184/200\n",
      "32/53 [=================>............] - ETA: 0s - loss: 0.0332 - mean_squared_error: 0.0332WARNING:tensorflow:Can save best model only with val_accuracy available, skipping.\n",
      "53/53 [==============================] - 0s 145us/sample - loss: 0.0443 - mean_squared_error: 0.0443\n",
      "Epoch 185/200\n",
      "32/53 [=================>............] - ETA: 0s - loss: 0.0436 - mean_squared_error: 0.0436WARNING:tensorflow:Can save best model only with val_accuracy available, skipping.\n",
      "53/53 [==============================] - 0s 176us/sample - loss: 0.0367 - mean_squared_error: 0.0367\n",
      "Epoch 186/200\n",
      "32/53 [=================>............] - ETA: 0s - loss: 0.0295 - mean_squared_error: 0.0295WARNING:tensorflow:Can save best model only with val_accuracy available, skipping.\n",
      "53/53 [==============================] - 0s 148us/sample - loss: 0.0279 - mean_squared_error: 0.0279\n",
      "Epoch 187/200\n",
      "32/53 [=================>............] - ETA: 0s - loss: 0.0327 - mean_squared_error: 0.0327WARNING:tensorflow:Can save best model only with val_accuracy available, skipping.\n",
      "53/53 [==============================] - 0s 146us/sample - loss: 0.0338 - mean_squared_error: 0.0338\n",
      "Epoch 188/200\n",
      "32/53 [=================>............] - ETA: 0s - loss: 0.0344 - mean_squared_error: 0.0344WARNING:tensorflow:Can save best model only with val_accuracy available, skipping.\n",
      "53/53 [==============================] - 0s 141us/sample - loss: 0.0293 - mean_squared_error: 0.0293\n",
      "Epoch 189/200\n",
      "32/53 [=================>............] - ETA: 0s - loss: 0.0490 - mean_squared_error: 0.0490WARNING:tensorflow:Can save best model only with val_accuracy available, skipping.\n",
      "53/53 [==============================] - 0s 147us/sample - loss: 0.0544 - mean_squared_error: 0.0544\n",
      "Epoch 190/200\n",
      "32/53 [=================>............] - ETA: 0s - loss: 0.0410 - mean_squared_error: 0.0410WARNING:tensorflow:Can save best model only with val_accuracy available, skipping.\n",
      "53/53 [==============================] - 0s 139us/sample - loss: 0.0388 - mean_squared_error: 0.0388\n",
      "Epoch 191/200\n",
      "32/53 [=================>............] - ETA: 0s - loss: 0.0349 - mean_squared_error: 0.0349WARNING:tensorflow:Can save best model only with val_accuracy available, skipping.\n",
      "53/53 [==============================] - 0s 147us/sample - loss: 0.0326 - mean_squared_error: 0.0326\n",
      "Epoch 192/200\n",
      "32/53 [=================>............] - ETA: 0s - loss: 0.0423 - mean_squared_error: 0.0423WARNING:tensorflow:Can save best model only with val_accuracy available, skipping.\n",
      "53/53 [==============================] - 0s 138us/sample - loss: 0.0465 - mean_squared_error: 0.0465\n",
      "Epoch 193/200\n",
      "32/53 [=================>............] - ETA: 0s - loss: 0.0401 - mean_squared_error: 0.0401WARNING:tensorflow:Can save best model only with val_accuracy available, skipping.\n",
      "53/53 [==============================] - 0s 146us/sample - loss: 0.0398 - mean_squared_error: 0.0398\n",
      "Epoch 194/200\n",
      "32/53 [=================>............] - ETA: 0s - loss: 0.0346 - mean_squared_error: 0.0346WARNING:tensorflow:Can save best model only with val_accuracy available, skipping.\n",
      "53/53 [==============================] - 0s 136us/sample - loss: 0.0399 - mean_squared_error: 0.0399\n",
      "Epoch 195/200\n",
      "32/53 [=================>............] - ETA: 0s - loss: 0.0378 - mean_squared_error: 0.0378WARNING:tensorflow:Can save best model only with val_accuracy available, skipping.\n",
      "53/53 [==============================] - 0s 150us/sample - loss: 0.0380 - mean_squared_error: 0.0380\n",
      "Epoch 196/200\n",
      "32/53 [=================>............] - ETA: 0s - loss: 0.0474 - mean_squared_error: 0.0474WARNING:tensorflow:Can save best model only with val_accuracy available, skipping.\n",
      "53/53 [==============================] - 0s 151us/sample - loss: 0.0444 - mean_squared_error: 0.0444\n",
      "Epoch 197/200\n",
      "32/53 [=================>............] - ETA: 0s - loss: 0.0218 - mean_squared_error: 0.0218WARNING:tensorflow:Can save best model only with val_accuracy available, skipping.\n",
      "53/53 [==============================] - 0s 152us/sample - loss: 0.0258 - mean_squared_error: 0.0258\n",
      "Epoch 198/200\n",
      "32/53 [=================>............] - ETA: 0s - loss: 0.0357 - mean_squared_error: 0.0357WARNING:tensorflow:Can save best model only with val_accuracy available, skipping.\n",
      "53/53 [==============================] - 0s 151us/sample - loss: 0.0400 - mean_squared_error: 0.0400\n",
      "Epoch 199/200\n",
      "32/53 [=================>............] - ETA: 0s - loss: 0.0272 - mean_squared_error: 0.0272WARNING:tensorflow:Can save best model only with val_accuracy available, skipping.\n",
      "53/53 [==============================] - 0s 152us/sample - loss: 0.0324 - mean_squared_error: 0.0324\n",
      "Epoch 200/200\n",
      "32/53 [=================>............] - ETA: 0s - loss: 0.0391 - mean_squared_error: 0.0391WARNING:tensorflow:Can save best model only with val_accuracy available, skipping.\n",
      "53/53 [==============================] - 0s 155us/sample - loss: 0.0401 - mean_squared_error: 0.0401\n"
     ]
    },
    {
     "ename": "ValueError",
     "evalue": "Objective value missing in metrics reported to the Oracle, expected: ['val_accuracy'], found: dict_keys(['loss', 'mean_squared_error'])",
     "output_type": "error",
     "traceback": [
      "\u001b[0;31m---------------------------------------------------------------------------\u001b[0m",
      "\u001b[0;31mValueError\u001b[0m                                Traceback (most recent call last)",
      "\u001b[0;32m/var/folders/ky/k6jlc5_d3fbdb11_r0p2whr40000gn/T/ipykernel_80213/880447410.py\u001b[0m in \u001b[0;36m<module>\u001b[0;34m\u001b[0m\n\u001b[1;32m      1\u001b[0m \u001b[0;31m# Search using all data\u001b[0m\u001b[0;34m\u001b[0m\u001b[0;34m\u001b[0m\u001b[0;34m\u001b[0m\u001b[0m\n\u001b[0;32m----> 2\u001b[0;31m \u001b[0mtuner\u001b[0m\u001b[0;34m.\u001b[0m\u001b[0msearch\u001b[0m\u001b[0;34m(\u001b[0m\u001b[0mx_scaled_full\u001b[0m\u001b[0;34m,\u001b[0m \u001b[0my_scaled_full\u001b[0m\u001b[0;34m,\u001b[0m \u001b[0mepochs\u001b[0m\u001b[0;34m=\u001b[0m\u001b[0;36m200\u001b[0m\u001b[0;34m)\u001b[0m\u001b[0;34m\u001b[0m\u001b[0;34m\u001b[0m\u001b[0m\n\u001b[0m",
      "\u001b[0;32m~/opt/anaconda3/envs/tensors-are-fun/lib/python3.7/site-packages/keras_tuner/engine/base_tuner.py\u001b[0m in \u001b[0;36msearch\u001b[0;34m(self, *fit_args, **fit_kwargs)\u001b[0m\n\u001b[1;32m    193\u001b[0m                     \u001b[0mtrial\u001b[0m\u001b[0;34m.\u001b[0m\u001b[0mtrial_id\u001b[0m\u001b[0;34m,\u001b[0m\u001b[0;34m\u001b[0m\u001b[0;34m\u001b[0m\u001b[0m\n\u001b[1;32m    194\u001b[0m                     tuner_utils.convert_to_metrics_dict(\n\u001b[0;32m--> 195\u001b[0;31m                         \u001b[0mresults\u001b[0m\u001b[0;34m,\u001b[0m \u001b[0mself\u001b[0m\u001b[0;34m.\u001b[0m\u001b[0moracle\u001b[0m\u001b[0;34m.\u001b[0m\u001b[0mobjective\u001b[0m\u001b[0;34m\u001b[0m\u001b[0;34m\u001b[0m\u001b[0m\n\u001b[0m\u001b[1;32m    196\u001b[0m                     ),\n\u001b[1;32m    197\u001b[0m                 )\n",
      "\u001b[0;32m~/opt/anaconda3/envs/tensors-are-fun/lib/python3.7/site-packages/keras_tuner/engine/oracle.py\u001b[0m in \u001b[0;36mupdate_trial\u001b[0;34m(self, trial_id, metrics, step)\u001b[0m\n\u001b[1;32m    221\u001b[0m         \"\"\"\n\u001b[1;32m    222\u001b[0m         \u001b[0mtrial\u001b[0m \u001b[0;34m=\u001b[0m \u001b[0mself\u001b[0m\u001b[0;34m.\u001b[0m\u001b[0mtrials\u001b[0m\u001b[0;34m[\u001b[0m\u001b[0mtrial_id\u001b[0m\u001b[0;34m]\u001b[0m\u001b[0;34m\u001b[0m\u001b[0;34m\u001b[0m\u001b[0m\n\u001b[0;32m--> 223\u001b[0;31m         \u001b[0mself\u001b[0m\u001b[0;34m.\u001b[0m\u001b[0m_check_objective_found\u001b[0m\u001b[0;34m(\u001b[0m\u001b[0mmetrics\u001b[0m\u001b[0;34m)\u001b[0m\u001b[0;34m\u001b[0m\u001b[0;34m\u001b[0m\u001b[0m\n\u001b[0m\u001b[1;32m    224\u001b[0m         \u001b[0;32mfor\u001b[0m \u001b[0mmetric_name\u001b[0m\u001b[0;34m,\u001b[0m \u001b[0mmetric_value\u001b[0m \u001b[0;32min\u001b[0m \u001b[0mmetrics\u001b[0m\u001b[0;34m.\u001b[0m\u001b[0mitems\u001b[0m\u001b[0;34m(\u001b[0m\u001b[0;34m)\u001b[0m\u001b[0;34m:\u001b[0m\u001b[0;34m\u001b[0m\u001b[0;34m\u001b[0m\u001b[0m\n\u001b[1;32m    225\u001b[0m             \u001b[0;32mif\u001b[0m \u001b[0;32mnot\u001b[0m \u001b[0mtrial\u001b[0m\u001b[0;34m.\u001b[0m\u001b[0mmetrics\u001b[0m\u001b[0;34m.\u001b[0m\u001b[0mexists\u001b[0m\u001b[0;34m(\u001b[0m\u001b[0mmetric_name\u001b[0m\u001b[0;34m)\u001b[0m\u001b[0;34m:\u001b[0m\u001b[0;34m\u001b[0m\u001b[0;34m\u001b[0m\u001b[0m\n",
      "\u001b[0;32m~/opt/anaconda3/envs/tensors-are-fun/lib/python3.7/site-packages/keras_tuner/engine/oracle.py\u001b[0m in \u001b[0;36m_check_objective_found\u001b[0;34m(self, metrics)\u001b[0m\n\u001b[1;32m    404\u001b[0m                 \u001b[0;34m\"Objective value missing in metrics reported to the \"\u001b[0m\u001b[0;34m\u001b[0m\u001b[0;34m\u001b[0m\u001b[0m\n\u001b[1;32m    405\u001b[0m                 \"Oracle, expected: {}, found: {}\".format(\n\u001b[0;32m--> 406\u001b[0;31m                     \u001b[0mobjective_names\u001b[0m\u001b[0;34m,\u001b[0m \u001b[0mmetrics\u001b[0m\u001b[0;34m.\u001b[0m\u001b[0mkeys\u001b[0m\u001b[0;34m(\u001b[0m\u001b[0;34m)\u001b[0m\u001b[0;34m\u001b[0m\u001b[0;34m\u001b[0m\u001b[0m\n\u001b[0m\u001b[1;32m    407\u001b[0m                 )\n\u001b[1;32m    408\u001b[0m             )\n",
      "\u001b[0;31mValueError\u001b[0m: Objective value missing in metrics reported to the Oracle, expected: ['val_accuracy'], found: dict_keys(['loss', 'mean_squared_error'])"
     ]
    }
   ],
   "source": [
    "# Search using all data\n",
    "tuner.search(x_scaled_full, y_scaled_full, epochs=200)"
   ]
  },
  {
   "cell_type": "code",
   "execution_count": 22,
   "metadata": {
    "collapsed": true,
    "jupyter": {
     "outputs_hidden": true
    },
    "tags": []
   },
   "outputs": [
    {
     "name": "stdout",
     "output_type": "stream",
     "text": [
      "Results summary\n",
      "Results in tuning/etch\n",
      "Showing 10 best trials\n",
      "Objective(name='mean_squared_error', direction='min')\n",
      "Trial summary\n",
      "Hyperparameters:\n",
      "units: 448\n",
      "activation: relu\n",
      "layers: 2\n",
      "learning_rate: 0.0003623121067522334\n",
      "Score: 0.010960434563457966\n",
      "Trial summary\n",
      "Hyperparameters:\n",
      "units: 288\n",
      "activation: relu\n",
      "layers: 4\n",
      "learning_rate: 0.007542559908664484\n",
      "Score: 0.011692138388752937\n",
      "Trial summary\n",
      "Hyperparameters:\n",
      "units: 320\n",
      "activation: relu\n",
      "layers: 2\n",
      "learning_rate: 0.004097039233087892\n",
      "Score: 0.012224553152918816\n",
      "Trial summary\n",
      "Hyperparameters:\n",
      "units: 160\n",
      "activation: tanh\n",
      "layers: 3\n",
      "learning_rate: 0.013561752870711794\n",
      "Score: 0.012235557660460472\n",
      "Trial summary\n",
      "Hyperparameters:\n",
      "units: 256\n",
      "activation: tanh\n",
      "layers: 3\n",
      "learning_rate: 0.0005031758666588903\n",
      "Score: 0.012296374887228012\n",
      "Trial summary\n",
      "Hyperparameters:\n",
      "units: 384\n",
      "activation: tanh\n",
      "layers: 2\n",
      "learning_rate: 0.00010531535298691188\n",
      "Score: 0.012359581887722015\n",
      "Trial summary\n",
      "Hyperparameters:\n",
      "units: 128\n",
      "activation: tanh\n",
      "layers: 2\n",
      "learning_rate: 0.00027439063786896805\n",
      "Score: 0.012393468990921974\n",
      "Trial summary\n",
      "Hyperparameters:\n",
      "units: 512\n",
      "activation: tanh\n",
      "layers: 4\n",
      "learning_rate: 0.009568993542115786\n",
      "Score: 0.01246967539191246\n",
      "Trial summary\n",
      "Hyperparameters:\n",
      "units: 384\n",
      "activation: tanh\n",
      "layers: 5\n",
      "learning_rate: 0.0007457885926334386\n",
      "Score: 0.012492276728153229\n",
      "Trial summary\n",
      "Hyperparameters:\n",
      "units: 96\n",
      "activation: tanh\n",
      "layers: 3\n",
      "learning_rate: 0.05771137432374587\n",
      "Score: 0.012501195073127747\n"
     ]
    }
   ],
   "source": [
    "tuner.results_summary()"
   ]
  },
  {
   "cell_type": "code",
   "execution_count": 60,
   "metadata": {},
   "outputs": [],
   "source": [
    "best_models = tuner.get_best_models(num_models=5)"
   ]
  },
  {
   "cell_type": "code",
   "execution_count": 61,
   "metadata": {
    "tags": []
   },
   "outputs": [
    {
     "name": "stdout",
     "output_type": "stream",
     "text": [
      "WARNING:tensorflow:Unresolved object in checkpoint: (root).optimizer.iter\n",
      "WARNING:tensorflow:Unresolved object in checkpoint: (root).optimizer.beta_1\n",
      "WARNING:tensorflow:Unresolved object in checkpoint: (root).optimizer.beta_2\n",
      "WARNING:tensorflow:Unresolved object in checkpoint: (root).optimizer.decay\n",
      "WARNING:tensorflow:Unresolved object in checkpoint: (root).optimizer.learning_rate\n",
      "WARNING:tensorflow:A checkpoint was restored (e.g. tf.train.Checkpoint.restore or tf.keras.Model.load_weights) but not all checkpointed values were used. See above for specific issues. Use expect_partial() on the load status object, e.g. tf.train.Checkpoint.restore(...).expect_partial(), to silence these warnings, or use assert_consumed() to make the check explicit. See https://www.tensorflow.org/alpha/guide/checkpoints#loading_mechanics for details.\n",
      "WARNING:tensorflow:Unresolved object in checkpoint: (root).optimizer.iter\n",
      "WARNING:tensorflow:Unresolved object in checkpoint: (root).optimizer.beta_1\n",
      "WARNING:tensorflow:Unresolved object in checkpoint: (root).optimizer.beta_2\n",
      "WARNING:tensorflow:Unresolved object in checkpoint: (root).optimizer.decay\n",
      "WARNING:tensorflow:Unresolved object in checkpoint: (root).optimizer.learning_rate\n",
      "WARNING:tensorflow:A checkpoint was restored (e.g. tf.train.Checkpoint.restore or tf.keras.Model.load_weights) but not all checkpointed values were used. See above for specific issues. Use expect_partial() on the load status object, e.g. tf.train.Checkpoint.restore(...).expect_partial(), to silence these warnings, or use assert_consumed() to make the check explicit. See https://www.tensorflow.org/alpha/guide/checkpoints#loading_mechanics for details.\n",
      "WARNING:tensorflow:Unresolved object in checkpoint: (root).optimizer.iter\n",
      "WARNING:tensorflow:Unresolved object in checkpoint: (root).optimizer.beta_1\n",
      "WARNING:tensorflow:Unresolved object in checkpoint: (root).optimizer.beta_2\n",
      "WARNING:tensorflow:Unresolved object in checkpoint: (root).optimizer.decay\n",
      "WARNING:tensorflow:Unresolved object in checkpoint: (root).optimizer.learning_rate\n",
      "WARNING:tensorflow:A checkpoint was restored (e.g. tf.train.Checkpoint.restore or tf.keras.Model.load_weights) but not all checkpointed values were used. See above for specific issues. Use expect_partial() on the load status object, e.g. tf.train.Checkpoint.restore(...).expect_partial(), to silence these warnings, or use assert_consumed() to make the check explicit. See https://www.tensorflow.org/alpha/guide/checkpoints#loading_mechanics for details.\n",
      "WARNING:tensorflow:Unresolved object in checkpoint: (root).optimizer.iter\n",
      "WARNING:tensorflow:Unresolved object in checkpoint: (root).optimizer.beta_1\n",
      "WARNING:tensorflow:Unresolved object in checkpoint: (root).optimizer.beta_2\n",
      "WARNING:tensorflow:Unresolved object in checkpoint: (root).optimizer.decay\n",
      "WARNING:tensorflow:Unresolved object in checkpoint: (root).optimizer.learning_rate\n",
      "WARNING:tensorflow:A checkpoint was restored (e.g. tf.train.Checkpoint.restore or tf.keras.Model.load_weights) but not all checkpointed values were used. See above for specific issues. Use expect_partial() on the load status object, e.g. tf.train.Checkpoint.restore(...).expect_partial(), to silence these warnings, or use assert_consumed() to make the check explicit. See https://www.tensorflow.org/alpha/guide/checkpoints#loading_mechanics for details.\n",
      "[0.01299776 0.00970199 0.00687335 0.00655066 0.0061816 ]\n"
     ]
    }
   ],
   "source": [
    "best_avg_mses = np.array([])\n",
    "for m in best_models:\n",
    "    m = best_models[0]\n",
    "    loo = LeaveOneOut()\n",
    "    avg_mse = 0\n",
    "    for train, valid in loo.split(x_scaled_full):\n",
    "        x_train, x_valid = x_scaled_full[train], x_scaled_full[valid]\n",
    "        y_train, y_valid = y_scaled_full[train], y_scaled_full[valid]\n",
    "\n",
    "        m.fit(x_train, y_train, epochs=30, verbose=0)\n",
    "        avg_mse += metrics.mean_squared_error(m.predict(x_valid), y_valid)\n",
    "\n",
    "    avg_mse /= (len(x_scaled_full))\n",
    "    best_avg_mses = np.append(best_avg_mses, avg_mse)\n",
    "print(best_avg_mses)"
   ]
  },
  {
   "cell_type": "code",
   "execution_count": 62,
   "metadata": {},
   "outputs": [
    {
     "name": "stdout",
     "output_type": "stream",
     "text": [
      "Best Model Index: 4 with an average validation MSE of 0.0061815980655305644\n"
     ]
    }
   ],
   "source": [
    "best_model_idx = np.argmin(best_avg_mses)\n",
    "print(f'Best Model Index: {best_model_idx} with an average validation MSE of {best_avg_mses[best_model_idx]}')"
   ]
  },
  {
   "cell_type": "code",
   "execution_count": 63,
   "metadata": {},
   "outputs": [],
   "source": [
    "# build final model\n",
    "best_hp = tuner.get_best_hyperparameters(num_trials=5)[best_model_idx]\n",
    "model = tune_and_build_model(best_hp)"
   ]
  },
  {
   "cell_type": "code",
   "execution_count": 64,
   "metadata": {},
   "outputs": [
    {
     "data": {
      "text/plain": [
       "<tensorflow.python.keras.callbacks.History at 0x7fbf5a2b5310>"
      ]
     },
     "execution_count": 64,
     "metadata": {},
     "output_type": "execute_result"
    }
   ],
   "source": [
    "# Train model on all data\n",
    "model.fit(x_scaled_full, y_scaled_full, epochs=200, verbose=0)"
   ]
  },
  {
   "cell_type": "code",
   "execution_count": 65,
   "metadata": {},
   "outputs": [],
   "source": [
    "final_predictions = y_scaler.inverse_transform(model.predict(x_scaled_full))"
   ]
  },
  {
   "cell_type": "code",
   "execution_count": 66,
   "metadata": {},
   "outputs": [
    {
     "data": {
      "text/plain": [
       "106722.16591782843"
      ]
     },
     "execution_count": 66,
     "metadata": {},
     "output_type": "execute_result"
    }
   ],
   "source": [
    "metrics.mean_squared_error(final_predictions, y_full)"
   ]
  },
  {
   "cell_type": "code",
   "execution_count": 67,
   "metadata": {},
   "outputs": [
    {
     "data": {
      "text/plain": [
       "0.02069262383551686"
      ]
     },
     "execution_count": 67,
     "metadata": {},
     "output_type": "execute_result"
    }
   ],
   "source": [
    "metrics.mean_squared_error(model.predict(x_scaled_full), y_scaled_full)"
   ]
  },
  {
   "cell_type": "code",
   "execution_count": 68,
   "metadata": {},
   "outputs": [
    {
     "name": "stdout",
     "output_type": "stream",
     "text": [
      "INFO:tensorflow:Assets written to: models/etch_model_2022_02_22_16_30/assets\n"
     ]
    }
   ],
   "source": [
    "timestamp = re.sub(r'[-\\s+:\\.]', '_', str(datetime.datetime.now()))\n",
    "timestamp = timestamp[:len(timestamp) - 10]\n",
    "model.save(f'models/etch_model_{timestamp}')"
   ]
  },
  {
   "cell_type": "code",
   "execution_count": 69,
   "metadata": {},
   "outputs": [
    {
     "name": "stdout",
     "output_type": "stream",
     "text": [
      "em_bt_v0_1_2022_02_17_00_03\n",
      "em_rt_v0_1_2022_02_16_23_53\n",
      "etch_model_2022_02_22_16_11\n",
      "etch_model_2022_02_22_16_30\n"
     ]
    },
    {
     "data": {
      "text/plain": [
       "0"
      ]
     },
     "execution_count": 69,
     "metadata": {},
     "output_type": "execute_result"
    }
   ],
   "source": [
    "os.system('ls models/')"
   ]
  },
  {
   "cell_type": "code",
   "execution_count": 70,
   "metadata": {},
   "outputs": [],
   "source": [
    "model = keras.models.load_model('./models/etch_model_2022_02_22_16_30')"
   ]
  },
  {
   "cell_type": "code",
   "execution_count": 27,
   "metadata": {},
   "outputs": [
    {
     "data": {
      "text/plain": [
       "Index(['Etch Rate -Rp A/min', 'Etch Uniformity', 'Oxide Selectivity - Sox',\n",
       "       'Photoresist Selectivity - Sph'],\n",
       "      dtype='object')"
      ]
     },
     "execution_count": 27,
     "metadata": {},
     "output_type": "execute_result"
    }
   ],
   "source": [
    "y_full_df.columns"
   ]
  },
  {
   "cell_type": "code",
   "execution_count": 71,
   "metadata": {},
   "outputs": [
    {
     "data": {
      "text/plain": [
       "<AxesSubplot:>"
      ]
     },
     "execution_count": 71,
     "metadata": {},
     "output_type": "execute_result"
    },
    {
     "data": {
      "image/png": "[encoded data removed]",
      "text/plain": [
       "<Figure size 432x288 with 1 Axes>"
      ]
     },
     "metadata": {
      "needs_background": "light"
     },
     "output_type": "display_data"
    }
   ],
   "source": [
    "etch_rate_target, uniformity_target, oxide_sel_target, pr_sel_target = y_full.T\n",
    "etch_rate_actual, uniformity_actual, oxide_sel_actual, pr_sel_actual = final_predictions.T\n",
    "sns.scatterplot(x=etch_rate_target, y=etch_rate_actual)"
   ]
  },
  {
   "cell_type": "code",
   "execution_count": 72,
   "metadata": {},
   "outputs": [
    {
     "data": {
      "text/plain": [
       "<AxesSubplot:>"
      ]
     },
     "execution_count": 72,
     "metadata": {},
     "output_type": "execute_result"
    },
    {
     "data": {
      "image/png": "[encoded data removed]",
      "text/plain": [
       "<Figure size 432x288 with 1 Axes>"
      ]
     },
     "metadata": {
      "needs_background": "light"
     },
     "output_type": "display_data"
    }
   ],
   "source": [
    "sns.scatterplot(x=uniformity_target, y=uniformity_actual)"
   ]
  },
  {
   "cell_type": "code",
   "execution_count": 73,
   "metadata": {},
   "outputs": [
    {
     "data": {
      "text/plain": [
       "<AxesSubplot:>"
      ]
     },
     "execution_count": 73,
     "metadata": {},
     "output_type": "execute_result"
    },
    {
     "data": {
      "image/png": "[encoded data removed]",
      "text/plain": [
       "<Figure size 432x288 with 1 Axes>"
      ]
     },
     "metadata": {
      "needs_background": "light"
     },
     "output_type": "display_data"
    }
   ],
   "source": [
    "sns.scatterplot(x=oxide_sel_target, y=oxide_sel_actual)"
   ]
  },
  {
   "cell_type": "code",
   "execution_count": 74,
   "metadata": {},
   "outputs": [
    {
     "data": {
      "text/plain": [
       "<AxesSubplot:>"
      ]
     },
     "execution_count": 74,
     "metadata": {},
     "output_type": "execute_result"
    },
    {
     "data": {
      "image/png": "[encoded data removed]",
      "text/plain": [
       "<Figure size 432x288 with 1 Axes>"
      ]
     },
     "metadata": {
      "needs_background": "light"
     },
     "output_type": "display_data"
    }
   ],
   "source": [
    "sns.scatterplot(x=pr_sel_target, y=pr_sel_actual)"
   ]
  },
  {
   "cell_type": "code",
   "execution_count": null,
   "metadata": {},
   "outputs": [],
   "source": []
  }
 ],
 "metadata": {
  "kernelspec": {
   "display_name": "Python 3 (ipykernel)",
   "language": "python",
   "name": "python3"
  },
  "language_info": {
   "codemirror_mode": {
    "name": "ipython",
    "version": 3
   },
   "file_extension": ".py",
   "mimetype": "text/x-python",
   "name": "python",
   "nbconvert_exporter": "python",
   "pygments_lexer": "ipython3",
   "version": "3.7.11"
  }
 },
 "nbformat": 4,
 "nbformat_minor": 4
}
