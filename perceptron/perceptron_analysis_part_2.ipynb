{
 "cells": [
  {
   "cell_type": "code",
   "execution_count": 2,
   "metadata": {
    "collapsed": true
   },
   "outputs": [],
   "source": [
    "import numpy as np\n",
    "import matplotlib.pyplot as plt\n",
    "from sklearn.linear_model import Perceptron\n",
    "from sklearn.model_selection import train_test_split"
   ]
  },
  {
   "cell_type": "code",
   "execution_count": 3,
   "outputs": [],
   "source": [
    "# utility functions\n",
    "def create_uniform_dist(l, h, n=500):\n",
    "    uniform = np.random.uniform(l, h, (n, 2))\n",
    "    return uniform"
   ],
   "metadata": {
    "collapsed": false,
    "pycharm": {
     "name": "#%%\n"
    }
   }
  },
  {
   "cell_type": "code",
   "execution_count": 33,
   "outputs": [],
   "source": [
    "data = np.array([[0, 0], [0, 1], [1, 0], [1, 1]])\n",
    "y_and = np.array([0, 0, 0, 1])\n",
    "y_or = np.array([0, 1, 1, 1])\n",
    "y_xor = np.array([0, 1, 1, 0])\n",
    "comp_data = np.array([[0, 0], [0, 1]])\n",
    "y_comp = np.array([1, 0])\n",
    "x0, x1 = data.T"
   ],
   "metadata": {
    "collapsed": false,
    "pycharm": {
     "name": "#%%\n"
    }
   }
  },
  {
   "cell_type": "code",
   "execution_count": 18,
   "outputs": [
    {
     "name": "stdout",
     "output_type": "stream",
     "text": [
      "Coef: [[2. 2.]] :: Bias: [-2.]\n"
     ]
    }
   ],
   "source": [
    "p_and = Perceptron()\n",
    "p_and.fit(data, y_and)\n",
    "print(f'Coef: {p_and.coef_} :: Bias: {p_and.intercept_}')"
   ],
   "metadata": {
    "collapsed": false,
    "pycharm": {
     "name": "#%%\n"
    }
   }
  },
  {
   "cell_type": "code",
   "execution_count": 39,
   "outputs": [
    {
     "data": {
      "text/plain": "<Figure size 720x720 with 0 Axes>"
     },
     "metadata": {},
     "output_type": "display_data"
    }
   ],
   "source": [
    "fig = plt.figure()\n",
    "ax = fig.subplots(1)\n",
    "\n",
    "fig.set_figheight(10)\n",
    "fig.set_figwidth(10)\n",
    "\n",
    "w0_and = p_and.coef_[0][0]\n",
    "w1_and = p_and.coef_[0][1]\n",
    "bias_and = p_and.intercept_[0]\n",
    "x_and_line = np.linspace(0, 1)\n",
    "y_and_line = (-w0_and * x_and_line - bias_and) / w1_and\n",
    "\n",
    "ax.scatter([0, 0, 1], [0, 1, 0], color='red')\n",
    "ax.scatter([1], [1], color='blue')\n",
    "ax.plot(x_and_line, y_and_line, color='green')\n",
    "ax.set(title='AND Implementation')\n",
    "ax.legend(['Classifier', 'False', 'True'])\n",
    "# plt.show()\n",
    "plt.savefig('and_imp.png', bbox_inches='tight')\n",
    "plt.clf()"
   ],
   "metadata": {
    "collapsed": false,
    "pycharm": {
     "name": "#%%\n"
    }
   }
  },
  {
   "cell_type": "code",
   "execution_count": 34,
   "outputs": [
    {
     "name": "stdout",
     "output_type": "stream",
     "text": [
      "Coef: [[2. 2.]] :: Bias: [-1.]\n"
     ]
    }
   ],
   "source": [
    "p_or = Perceptron()\n",
    "p_or.fit(data, y_or)\n",
    "print(f'Coef: {p_or.coef_} :: Bias: {p_or.intercept_}')"
   ],
   "metadata": {
    "collapsed": false,
    "pycharm": {
     "name": "#%%\n"
    }
   }
  },
  {
   "cell_type": "code",
   "execution_count": 38,
   "outputs": [
    {
     "data": {
      "text/plain": "<Figure size 720x720 with 0 Axes>"
     },
     "metadata": {},
     "output_type": "display_data"
    }
   ],
   "source": [
    "fig = plt.figure()\n",
    "ax = fig.subplots(1)\n",
    "\n",
    "fig.set_figheight(10)\n",
    "fig.set_figwidth(10)\n",
    "\n",
    "w0_or = p_or.coef_[0][0]\n",
    "w1_or = p_or.coef_[0][1]\n",
    "bias_or = p_or.intercept_[0]\n",
    "x_or_line = np.linspace(0, .5)\n",
    "y_or_line = (-w0_or * x_or_line - bias_or) / w1_or\n",
    "\n",
    "ax.scatter([0], [0], color='red')\n",
    "ax.scatter([0, 1, 1], [1, 0, 1], color='blue')\n",
    "ax.plot(x_or_line, y_or_line, color='green')\n",
    "ax.set(title='OR Implementation')\n",
    "ax.legend(['Classifier', 'False', 'True'])\n",
    "# plt.show()\n",
    "plt.savefig('or_imp.png', bbox_inches='tight')\n",
    "plt.clf()"
   ],
   "metadata": {
    "collapsed": false,
    "pycharm": {
     "name": "#%%\n"
    }
   }
  },
  {
   "cell_type": "code",
   "execution_count": 22,
   "outputs": [
    {
     "name": "stdout",
     "output_type": "stream",
     "text": [
      "Coef: [[ 0. -2.]] :: Bias: [1.]\n"
     ]
    }
   ],
   "source": [
    "p_comp = Perceptron()\n",
    "p_comp.fit(comp_data, y_comp)\n",
    "print(f'Coef: {p_comp.coef_} :: Bias: {p_comp.intercept_}')"
   ],
   "metadata": {
    "collapsed": false,
    "pycharm": {
     "name": "#%%\n"
    }
   }
  },
  {
   "cell_type": "code",
   "execution_count": 40,
   "outputs": [
    {
     "data": {
      "text/plain": "<Figure size 720x720 with 0 Axes>"
     },
     "metadata": {},
     "output_type": "display_data"
    }
   ],
   "source": [
    "fig = plt.figure()\n",
    "ax = fig.subplots(1)\n",
    "\n",
    "fig.set_figheight(10)\n",
    "fig.set_figwidth(10)\n",
    "\n",
    "w0_comp = p_comp.coef_[0][0]\n",
    "w1_comp = p_comp.coef_[0][1]\n",
    "bias_comp = p_comp.intercept_[0]\n",
    "x_comp_line = np.linspace(-.5, .5)\n",
    "y_comp_line = (-w0_comp * x_comp_line - bias_comp) / w1_comp\n",
    "\n",
    "ax.scatter([0], [1], color='red')\n",
    "ax.scatter([0], [0], color='blue')\n",
    "ax.plot(x_comp_line, y_comp_line, color='green')\n",
    "ax.set(title='COMPLEMENT Implementation')\n",
    "ax.legend(['Classifier', 'False', 'True'])\n",
    "# plt.show()\n",
    "plt.savefig('comp_imp.png', bbox_inches='tight')\n",
    "plt.clf()"
   ],
   "metadata": {
    "collapsed": false,
    "pycharm": {
     "name": "#%%\n"
    }
   }
  },
  {
   "cell_type": "code",
   "execution_count": 48,
   "outputs": [
    {
     "name": "stdout",
     "output_type": "stream",
     "text": [
      "Coef: [[0. 0.]] :: Bias: [0.]\n"
     ]
    }
   ],
   "source": [
    "p_xor = Perceptron()\n",
    "p_xor.fit(data, y_xor)\n",
    "print(f'Coef: {p_xor.coef_} :: Bias: {p_xor.intercept_}')"
   ],
   "metadata": {
    "collapsed": false,
    "pycharm": {
     "name": "#%%\n"
    }
   }
  },
  {
   "cell_type": "code",
   "execution_count": 45,
   "outputs": [
    {
     "name": "stderr",
     "output_type": "stream",
     "text": [
      "<ipython-input-45-d2a2e2743622>:11: RuntimeWarning: invalid value encountered in true_divide\n",
      "  y_xor_line = (-w0_xor * x_xor_line - bias_xor) / w1_xor\n"
     ]
    },
    {
     "data": {
      "text/plain": "<Figure size 720x720 with 0 Axes>"
     },
     "metadata": {},
     "output_type": "display_data"
    }
   ],
   "source": [
    "fig = plt.figure()\n",
    "ax = fig.subplots(1)\n",
    "\n",
    "fig.set_figheight(10)\n",
    "fig.set_figwidth(10)\n",
    "\n",
    "w0_xor = p_xor.coef_[0][0]\n",
    "w1_xor = p_xor.coef_[0][1]\n",
    "bias_xor = p_xor.intercept_[0]\n",
    "x_xor_line = np.linspace(0, .5)\n",
    "y_xor_line = (-w0_xor * x_xor_line - bias_xor) / w1_xor\n",
    "\n",
    "ax.scatter([0, 1], [0, 1], color='red')\n",
    "ax.scatter([0, 1], [1, 0], color='blue')\n",
    "# ax.plot(x_xor_line, y_xor_line, color='green')\n",
    "ax.set(title='XOR Implementation')\n",
    "ax.legend(['False', 'True'])\n",
    "# plt.show()\n",
    "plt.savefig('xor_imp.png', bbox_inches='tight')\n",
    "plt.clf()"
   ],
   "metadata": {
    "collapsed": false,
    "pycharm": {
     "name": "#%%\n"
    }
   }
  },
  {
   "cell_type": "code",
   "execution_count": 42,
   "outputs": [
    {
     "data": {
      "text/plain": "<Figure size 2160x720 with 0 Axes>"
     },
     "metadata": {},
     "output_type": "display_data"
    }
   ],
   "source": [
    "fig = plt.figure()\n",
    "axa, axo, axc = fig.subplots(1, 3)\n",
    "\n",
    "fig.set_figheight(10)\n",
    "fig.set_figwidth(30)\n",
    "\n",
    "w0_and = p_and.coef_[0][0]\n",
    "w1_and = p_and.coef_[0][1]\n",
    "bias_and = p_and.intercept_[0]\n",
    "x_and_line = np.linspace(0, 1)\n",
    "y_and_line = (-w0_and * x_and_line - bias_and) / w1_and\n",
    "\n",
    "axa.scatter([0, 0, 1], [0, 1, 0], color='red')\n",
    "axa.scatter([1], [1], color='blue')\n",
    "axa.plot(x_and_line, y_and_line, color='green')\n",
    "axa.set(title='AND Implementation')\n",
    "axa.legend(['Classifier', 'False', 'True'])\n",
    "\n",
    "\n",
    "w0_or = p_or.coef_[0][0]\n",
    "w1_or = p_or.coef_[0][1]\n",
    "bias_or = p_or.intercept_[0]\n",
    "x_or_line = np.linspace(0, .5)\n",
    "y_or_line = (-w0_or * x_or_line - bias_or) / w1_or\n",
    "\n",
    "axo.scatter([0], [0], color='red')\n",
    "axo.scatter([0, 1, 1], [1, 0, 1], color='blue')\n",
    "axo.plot(x_or_line, y_or_line, color='green')\n",
    "axo.set(title='OR Implementation')\n",
    "axo.legend(['Classifier', 'False', 'True'])\n",
    "\n",
    "w0_comp = p_comp.coef_[0][0]\n",
    "w1_comp = p_comp.coef_[0][1]\n",
    "bias_comp = p_comp.intercept_[0]\n",
    "x_comp_line = np.linspace(-.5, .5)\n",
    "y_comp_line = (-w0_comp * x_comp_line - bias_comp) / w1_comp\n",
    "\n",
    "axc.scatter([0], [1], color='red')\n",
    "axc.scatter([0], [0], color='blue')\n",
    "axc.plot(x_comp_line, y_comp_line, color='green')\n",
    "axc.set(title='COMPLEMENT Implementation')\n",
    "axc.legend(['Classifier', 'False', 'True'])\n",
    "# plt.show()\n",
    "plt.savefig('all_imp.png', bbox_inches='tight')\n",
    "plt.clf()"
   ],
   "metadata": {
    "collapsed": false,
    "pycharm": {
     "name": "#%%\n"
    }
   }
  },
  {
   "cell_type": "code",
   "execution_count": null,
   "outputs": [],
   "source": [],
   "metadata": {
    "collapsed": false,
    "pycharm": {
     "name": "#%%\n"
    }
   }
  }
 ],
 "metadata": {
  "kernelspec": {
   "display_name": "Python 3",
   "language": "python",
   "name": "python3"
  },
  "language_info": {
   "codemirror_mode": {
    "name": "ipython",
    "version": 2
   },
   "file_extension": ".py",
   "mimetype": "text/x-python",
   "name": "python",
   "nbconvert_exporter": "python",
   "pygments_lexer": "ipython2",
   "version": "2.7.6"
  }
 },
 "nbformat": 4,
 "nbformat_minor": 0
}